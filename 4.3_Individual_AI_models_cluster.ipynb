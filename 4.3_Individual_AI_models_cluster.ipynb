{
  "cells": [
    {
      "cell_type": "code",
      "execution_count": 1,
      "metadata": {
        "id": "ewmmL1viCdZh"
      },
      "outputs": [],
      "source": [
        "import pandas as pd"
      ]
    },
    {
      "cell_type": "code",
      "source": [
        "from google.colab import drive\n",
        "drive.mount('/content/drive')"
      ],
      "metadata": {
        "colab": {
          "base_uri": "https://localhost:8080/"
        },
        "id": "vZHJf1XLG-1u",
        "outputId": "cf7ca274-1297-4bd9-cb5c-484e0d950e83"
      },
      "execution_count": 2,
      "outputs": [
        {
          "output_type": "stream",
          "name": "stdout",
          "text": [
            "Mounted at /content/drive\n"
          ]
        }
      ]
    },
    {
      "cell_type": "code",
      "execution_count": 3,
      "metadata": {
        "id": "uVe8Z3mPCdZi"
      },
      "outputs": [],
      "source": [
        "df = pd.read_csv(r\"/content/drive/MyDrive/3_total_with_clusters.csv\")\n",
        "df = df.drop('Unnamed: 0', axis=1)\n",
        "df_groups = df.groupby('house_cluster')"
      ]
    },
    {
      "cell_type": "markdown",
      "metadata": {
        "id": "UnM0kTqYCdZj"
      },
      "source": [
        "Cluster 0"
      ]
    },
    {
      "cell_type": "code",
      "execution_count": 4,
      "metadata": {
        "id": "pdlyDQkeCdZk"
      },
      "outputs": [],
      "source": [
        "cluster0 = df_groups.get_group(2)\n",
        "energy0 = cluster0.drop('house_cluster', axis=1)"
      ]
    },
    {
      "cell_type": "code",
      "execution_count": 5,
      "metadata": {
        "id": "SvczMS4nCdZk",
        "outputId": "9b47d3f4-4bec-4a00-ae15-d16ee7a02f03",
        "colab": {
          "base_uri": "https://localhost:8080/",
          "height": 237
        }
      },
      "outputs": [
        {
          "output_type": "execute_result",
          "data": {
            "text/plain": [
              "            LCLid\n",
              "day              \n",
              "2012-03-06      1\n",
              "2012-03-07      1\n",
              "2012-03-08      1\n",
              "2012-03-09      1\n",
              "2012-03-10      1"
            ],
            "text/html": [
              "\n",
              "  <div id=\"df-8b8cb624-1ed2-4011-b9d6-f172a6f99669\">\n",
              "    <div class=\"colab-df-container\">\n",
              "      <div>\n",
              "<style scoped>\n",
              "    .dataframe tbody tr th:only-of-type {\n",
              "        vertical-align: middle;\n",
              "    }\n",
              "\n",
              "    .dataframe tbody tr th {\n",
              "        vertical-align: top;\n",
              "    }\n",
              "\n",
              "    .dataframe thead th {\n",
              "        text-align: right;\n",
              "    }\n",
              "</style>\n",
              "<table border=\"1\" class=\"dataframe\">\n",
              "  <thead>\n",
              "    <tr style=\"text-align: right;\">\n",
              "      <th></th>\n",
              "      <th>LCLid</th>\n",
              "    </tr>\n",
              "    <tr>\n",
              "      <th>day</th>\n",
              "      <th></th>\n",
              "    </tr>\n",
              "  </thead>\n",
              "  <tbody>\n",
              "    <tr>\n",
              "      <th>2012-03-06</th>\n",
              "      <td>1</td>\n",
              "    </tr>\n",
              "    <tr>\n",
              "      <th>2012-03-07</th>\n",
              "      <td>1</td>\n",
              "    </tr>\n",
              "    <tr>\n",
              "      <th>2012-03-08</th>\n",
              "      <td>1</td>\n",
              "    </tr>\n",
              "    <tr>\n",
              "      <th>2012-03-09</th>\n",
              "      <td>1</td>\n",
              "    </tr>\n",
              "    <tr>\n",
              "      <th>2012-03-10</th>\n",
              "      <td>1</td>\n",
              "    </tr>\n",
              "  </tbody>\n",
              "</table>\n",
              "</div>\n",
              "      <button class=\"colab-df-convert\" onclick=\"convertToInteractive('df-8b8cb624-1ed2-4011-b9d6-f172a6f99669')\"\n",
              "              title=\"Convert this dataframe to an interactive table.\"\n",
              "              style=\"display:none;\">\n",
              "        \n",
              "  <svg xmlns=\"http://www.w3.org/2000/svg\" height=\"24px\"viewBox=\"0 0 24 24\"\n",
              "       width=\"24px\">\n",
              "    <path d=\"M0 0h24v24H0V0z\" fill=\"none\"/>\n",
              "    <path d=\"M18.56 5.44l.94 2.06.94-2.06 2.06-.94-2.06-.94-.94-2.06-.94 2.06-2.06.94zm-11 1L8.5 8.5l.94-2.06 2.06-.94-2.06-.94L8.5 2.5l-.94 2.06-2.06.94zm10 10l.94 2.06.94-2.06 2.06-.94-2.06-.94-.94-2.06-.94 2.06-2.06.94z\"/><path d=\"M17.41 7.96l-1.37-1.37c-.4-.4-.92-.59-1.43-.59-.52 0-1.04.2-1.43.59L10.3 9.45l-7.72 7.72c-.78.78-.78 2.05 0 2.83L4 21.41c.39.39.9.59 1.41.59.51 0 1.02-.2 1.41-.59l7.78-7.78 2.81-2.81c.8-.78.8-2.07 0-2.86zM5.41 20L4 18.59l7.72-7.72 1.47 1.35L5.41 20z\"/>\n",
              "  </svg>\n",
              "      </button>\n",
              "      \n",
              "  <style>\n",
              "    .colab-df-container {\n",
              "      display:flex;\n",
              "      flex-wrap:wrap;\n",
              "      gap: 12px;\n",
              "    }\n",
              "\n",
              "    .colab-df-convert {\n",
              "      background-color: #E8F0FE;\n",
              "      border: none;\n",
              "      border-radius: 50%;\n",
              "      cursor: pointer;\n",
              "      display: none;\n",
              "      fill: #1967D2;\n",
              "      height: 32px;\n",
              "      padding: 0 0 0 0;\n",
              "      width: 32px;\n",
              "    }\n",
              "\n",
              "    .colab-df-convert:hover {\n",
              "      background-color: #E2EBFA;\n",
              "      box-shadow: 0px 1px 2px rgba(60, 64, 67, 0.3), 0px 1px 3px 1px rgba(60, 64, 67, 0.15);\n",
              "      fill: #174EA6;\n",
              "    }\n",
              "\n",
              "    [theme=dark] .colab-df-convert {\n",
              "      background-color: #3B4455;\n",
              "      fill: #D2E3FC;\n",
              "    }\n",
              "\n",
              "    [theme=dark] .colab-df-convert:hover {\n",
              "      background-color: #434B5C;\n",
              "      box-shadow: 0px 1px 3px 1px rgba(0, 0, 0, 0.15);\n",
              "      filter: drop-shadow(0px 1px 2px rgba(0, 0, 0, 0.3));\n",
              "      fill: #FFFFFF;\n",
              "    }\n",
              "  </style>\n",
              "\n",
              "      <script>\n",
              "        const buttonEl =\n",
              "          document.querySelector('#df-8b8cb624-1ed2-4011-b9d6-f172a6f99669 button.colab-df-convert');\n",
              "        buttonEl.style.display =\n",
              "          google.colab.kernel.accessAllowed ? 'block' : 'none';\n",
              "\n",
              "        async function convertToInteractive(key) {\n",
              "          const element = document.querySelector('#df-8b8cb624-1ed2-4011-b9d6-f172a6f99669');\n",
              "          const dataTable =\n",
              "            await google.colab.kernel.invokeFunction('convertToInteractive',\n",
              "                                                     [key], {});\n",
              "          if (!dataTable) return;\n",
              "\n",
              "          const docLinkHtml = 'Like what you see? Visit the ' +\n",
              "            '<a target=\"_blank\" href=https://colab.research.google.com/notebooks/data_table.ipynb>data table notebook</a>'\n",
              "            + ' to learn more about interactive tables.';\n",
              "          element.innerHTML = '';\n",
              "          dataTable['output_type'] = 'display_data';\n",
              "          await google.colab.output.renderOutput(dataTable, element);\n",
              "          const docLink = document.createElement('div');\n",
              "          docLink.innerHTML = docLinkHtml;\n",
              "          element.appendChild(docLink);\n",
              "        }\n",
              "      </script>\n",
              "    </div>\n",
              "  </div>\n",
              "  "
            ]
          },
          "metadata": {},
          "execution_count": 5
        }
      ],
      "source": [
        "housecount0 = cluster0.groupby('day')[['LCLid']].nunique()\n",
        "# housecount0.get_group('2012-11-07')\n",
        "housecount0.head()"
      ]
    },
    {
      "cell_type": "code",
      "execution_count": 6,
      "metadata": {
        "id": "Vh1OcbMFCdZl",
        "outputId": "c323f958-d75b-4781-fb64-449e09388624",
        "colab": {
          "base_uri": "https://localhost:8080/",
          "height": 425
        }
      },
      "outputs": [
        {
          "output_type": "execute_result",
          "data": {
            "text/plain": [
              "<Axes: xlabel='day'>"
            ]
          },
          "metadata": {},
          "execution_count": 6
        },
        {
          "output_type": "display_data",
          "data": {
            "text/plain": [
              "<Figure size 3000x1000 with 1 Axes>"
            ],
            "image/png": "[encoded data removed]"
          },
          "metadata": {}
        }
      ],
      "source": [
        "housecount0.plot(figsize=(30,10))"
      ]
    },
    {
      "cell_type": "code",
      "execution_count": 7,
      "metadata": {
        "id": "SVaqTL6LCdZm",
        "outputId": "6d10b61b-745a-4a1c-8ff3-fccc269b099b",
        "colab": {
          "base_uri": "https://localhost:8080/"
        }
      },
      "outputs": [
        {
          "output_type": "execute_result",
          "data": {
            "text/plain": [
              "day               723\n",
              "energy_sum        723\n",
              "temperatureMax    723\n",
              "windSpeed         723\n",
              "humidity          723\n",
              "holiday_ind       723\n",
              "LCLid             723\n",
              "dtype: int64"
            ]
          },
          "metadata": {},
          "execution_count": 7
        }
      ],
      "source": [
        "# [['LCLid', 'energy_sum', 'temperatureMax', 'windSpeed', 'humidity', 'holiday_ind']]\n",
        "energy0 = cluster0.groupby('day')[['energy_sum', 'temperatureMax', 'windSpeed', 'humidity', 'holiday_ind']].sum()\n",
        "energy0 = energy0.merge(housecount0, on=['day'])\n",
        "energy0 = energy0.reset_index()\n",
        "energy0.count()"
      ]
    },
    {
      "cell_type": "code",
      "execution_count": 8,
      "metadata": {
        "id": "YcPsINvcCdZm"
      },
      "outputs": [],
      "source": [
        "energy0['day'] = pd.to_datetime(energy0['day'],format='%Y-%m-%d').dt.date"
      ]
    },
    {
      "cell_type": "code",
      "execution_count": 9,
      "metadata": {
        "id": "9eIvemqeCdZn",
        "outputId": "0760dacf-c607-4705-f75f-5a1ef9d796f2",
        "colab": {
          "base_uri": "https://localhost:8080/"
        }
      },
      "outputs": [
        {
          "output_type": "stream",
          "name": "stdout",
          "text": [
            "Starting Point of Data at Day Level 2012-03-06\n",
            "Ending Point of Data at Day Level 2014-02-28\n"
          ]
        }
      ],
      "source": [
        "energy0['avg_energy'] =  energy0['energy_sum']/energy0['LCLid']\n",
        "print(\"Starting Point of Data at Day Level\",min(energy0['day']))\n",
        "print(\"Ending Point of Data at Day Level\",max(energy0['day']))"
      ]
    },
    {
      "cell_type": "code",
      "execution_count": 10,
      "metadata": {
        "id": "UNW6bt7XCdZn",
        "outputId": "05a9b1e4-c3d5-4c7f-e9db-aee0b871ba77",
        "colab": {
          "base_uri": "https://localhost:8080/",
          "height": 423
        }
      },
      "outputs": [
        {
          "output_type": "execute_result",
          "data": {
            "text/plain": [
              "            day   energy_sum  temperatureMax  windSpeed  humidity  \\\n",
              "0    2012-03-06     1.054000            7.22       1.93      0.78   \n",
              "1    2012-03-07     2.470000           10.75       4.26      0.78   \n",
              "2    2012-03-08     6.165000           12.03       3.54      0.68   \n",
              "3    2012-03-09     6.056000           10.86       4.01      0.78   \n",
              "4    2012-03-10     6.603000           15.39       3.15      0.81   \n",
              "..          ...          ...             ...        ...       ...   \n",
              "718  2014-02-24  5708.765000        13162.75    4643.50    684.50   \n",
              "719  2014-02-25  5653.074998        10572.75    5263.25    721.50   \n",
              "720  2014-02-26  5638.622000        10443.25    3533.50    675.25   \n",
              "721  2014-02-27  5694.330998         9526.44    3825.36    683.76   \n",
              "722  2014-02-28    97.814000         6791.40    2069.76    794.64   \n",
              "\n",
              "     holiday_ind  LCLid  avg_energy  \n",
              "0              0      1    1.054000  \n",
              "1              0      1    2.470000  \n",
              "2              0      1    6.165000  \n",
              "3              0      1    6.056000  \n",
              "4              1      1    6.603000  \n",
              "..           ...    ...         ...  \n",
              "718            0    925    6.171638  \n",
              "719            0    925    6.111432  \n",
              "720            0    925    6.095808  \n",
              "721            0    924    6.162696  \n",
              "722            0    924    0.105859  \n",
              "\n",
              "[723 rows x 8 columns]"
            ],
            "text/html": [
              "\n",
              "  <div id=\"df-8e37752a-dc73-489a-932b-c81f2ac8597b\">\n",
              "    <div class=\"colab-df-container\">\n",
              "      <div>\n",
              "<style scoped>\n",
              "    .dataframe tbody tr th:only-of-type {\n",
              "        vertical-align: middle;\n",
              "    }\n",
              "\n",
              "    .dataframe tbody tr th {\n",
              "        vertical-align: top;\n",
              "    }\n",
              "\n",
              "    .dataframe thead th {\n",
              "        text-align: right;\n",
              "    }\n",
              "</style>\n",
              "<table border=\"1\" class=\"dataframe\">\n",
              "  <thead>\n",
              "    <tr style=\"text-align: right;\">\n",
              "      <th></th>\n",
              "      <th>day</th>\n",
              "      <th>energy_sum</th>\n",
              "      <th>temperatureMax</th>\n",
              "      <th>windSpeed</th>\n",
              "      <th>humidity</th>\n",
              "      <th>holiday_ind</th>\n",
              "      <th>LCLid</th>\n",
              "      <th>avg_energy</th>\n",
              "    </tr>\n",
              "  </thead>\n",
              "  <tbody>\n",
              "    <tr>\n",
              "      <th>0</th>\n",
              "      <td>2012-03-06</td>\n",
              "      <td>1.054000</td>\n",
              "      <td>7.22</td>\n",
              "      <td>1.93</td>\n",
              "      <td>0.78</td>\n",
              "      <td>0</td>\n",
              "      <td>1</td>\n",
              "      <td>1.054000</td>\n",
              "    </tr>\n",
              "    <tr>\n",
              "      <th>1</th>\n",
              "      <td>2012-03-07</td>\n",
              "      <td>2.470000</td>\n",
              "      <td>10.75</td>\n",
              "      <td>4.26</td>\n",
              "      <td>0.78</td>\n",
              "      <td>0</td>\n",
              "      <td>1</td>\n",
              "      <td>2.470000</td>\n",
              "    </tr>\n",
              "    <tr>\n",
              "      <th>2</th>\n",
              "      <td>2012-03-08</td>\n",
              "      <td>6.165000</td>\n",
              "      <td>12.03</td>\n",
              "      <td>3.54</td>\n",
              "      <td>0.68</td>\n",
              "      <td>0</td>\n",
              "      <td>1</td>\n",
              "      <td>6.165000</td>\n",
              "    </tr>\n",
              "    <tr>\n",
              "      <th>3</th>\n",
              "      <td>2012-03-09</td>\n",
              "      <td>6.056000</td>\n",
              "      <td>10.86</td>\n",
              "      <td>4.01</td>\n",
              "      <td>0.78</td>\n",
              "      <td>0</td>\n",
              "      <td>1</td>\n",
              "      <td>6.056000</td>\n",
              "    </tr>\n",
              "    <tr>\n",
              "      <th>4</th>\n",
              "      <td>2012-03-10</td>\n",
              "      <td>6.603000</td>\n",
              "      <td>15.39</td>\n",
              "      <td>3.15</td>\n",
              "      <td>0.81</td>\n",
              "      <td>1</td>\n",
              "      <td>1</td>\n",
              "      <td>6.603000</td>\n",
              "    </tr>\n",
              "    <tr>\n",
              "      <th>...</th>\n",
              "      <td>...</td>\n",
              "      <td>...</td>\n",
              "      <td>...</td>\n",
              "      <td>...</td>\n",
              "      <td>...</td>\n",
              "      <td>...</td>\n",
              "      <td>...</td>\n",
              "      <td>...</td>\n",
              "    </tr>\n",
              "    <tr>\n",
              "      <th>718</th>\n",
              "      <td>2014-02-24</td>\n",
              "      <td>5708.765000</td>\n",
              "      <td>13162.75</td>\n",
              "      <td>4643.50</td>\n",
              "      <td>684.50</td>\n",
              "      <td>0</td>\n",
              "      <td>925</td>\n",
              "      <td>6.171638</td>\n",
              "    </tr>\n",
              "    <tr>\n",
              "      <th>719</th>\n",
              "      <td>2014-02-25</td>\n",
              "      <td>5653.074998</td>\n",
              "      <td>10572.75</td>\n",
              "      <td>5263.25</td>\n",
              "      <td>721.50</td>\n",
              "      <td>0</td>\n",
              "      <td>925</td>\n",
              "      <td>6.111432</td>\n",
              "    </tr>\n",
              "    <tr>\n",
              "      <th>720</th>\n",
              "      <td>2014-02-26</td>\n",
              "      <td>5638.622000</td>\n",
              "      <td>10443.25</td>\n",
              "      <td>3533.50</td>\n",
              "      <td>675.25</td>\n",
              "      <td>0</td>\n",
              "      <td>925</td>\n",
              "      <td>6.095808</td>\n",
              "    </tr>\n",
              "    <tr>\n",
              "      <th>721</th>\n",
              "      <td>2014-02-27</td>\n",
              "      <td>5694.330998</td>\n",
              "      <td>9526.44</td>\n",
              "      <td>3825.36</td>\n",
              "      <td>683.76</td>\n",
              "      <td>0</td>\n",
              "      <td>924</td>\n",
              "      <td>6.162696</td>\n",
              "    </tr>\n",
              "    <tr>\n",
              "      <th>722</th>\n",
              "      <td>2014-02-28</td>\n",
              "      <td>97.814000</td>\n",
              "      <td>6791.40</td>\n",
              "      <td>2069.76</td>\n",
              "      <td>794.64</td>\n",
              "      <td>0</td>\n",
              "      <td>924</td>\n",
              "      <td>0.105859</td>\n",
              "    </tr>\n",
              "  </tbody>\n",
              "</table>\n",
              "<p>723 rows × 8 columns</p>\n",
              "</div>\n",
              "      <button class=\"colab-df-convert\" onclick=\"convertToInteractive('df-8e37752a-dc73-489a-932b-c81f2ac8597b')\"\n",
              "              title=\"Convert this dataframe to an interactive table.\"\n",
              "              style=\"display:none;\">\n",
              "        \n",
              "  <svg xmlns=\"http://www.w3.org/2000/svg\" height=\"24px\"viewBox=\"0 0 24 24\"\n",
              "       width=\"24px\">\n",
              "    <path d=\"M0 0h24v24H0V0z\" fill=\"none\"/>\n",
              "    <path d=\"M18.56 5.44l.94 2.06.94-2.06 2.06-.94-2.06-.94-.94-2.06-.94 2.06-2.06.94zm-11 1L8.5 8.5l.94-2.06 2.06-.94-2.06-.94L8.5 2.5l-.94 2.06-2.06.94zm10 10l.94 2.06.94-2.06 2.06-.94-2.06-.94-.94-2.06-.94 2.06-2.06.94z\"/><path d=\"M17.41 7.96l-1.37-1.37c-.4-.4-.92-.59-1.43-.59-.52 0-1.04.2-1.43.59L10.3 9.45l-7.72 7.72c-.78.78-.78 2.05 0 2.83L4 21.41c.39.39.9.59 1.41.59.51 0 1.02-.2 1.41-.59l7.78-7.78 2.81-2.81c.8-.78.8-2.07 0-2.86zM5.41 20L4 18.59l7.72-7.72 1.47 1.35L5.41 20z\"/>\n",
              "  </svg>\n",
              "      </button>\n",
              "      \n",
              "  <style>\n",
              "    .colab-df-container {\n",
              "      display:flex;\n",
              "      flex-wrap:wrap;\n",
              "      gap: 12px;\n",
              "    }\n",
              "\n",
              "    .colab-df-convert {\n",
              "      background-color: #E8F0FE;\n",
              "      border: none;\n",
              "      border-radius: 50%;\n",
              "      cursor: pointer;\n",
              "      display: none;\n",
              "      fill: #1967D2;\n",
              "      height: 32px;\n",
              "      padding: 0 0 0 0;\n",
              "      width: 32px;\n",
              "    }\n",
              "\n",
              "    .colab-df-convert:hover {\n",
              "      background-color: #E2EBFA;\n",
              "      box-shadow: 0px 1px 2px rgba(60, 64, 67, 0.3), 0px 1px 3px 1px rgba(60, 64, 67, 0.15);\n",
              "      fill: #174EA6;\n",
              "    }\n",
              "\n",
              "    [theme=dark] .colab-df-convert {\n",
              "      background-color: #3B4455;\n",
              "      fill: #D2E3FC;\n",
              "    }\n",
              "\n",
              "    [theme=dark] .colab-df-convert:hover {\n",
              "      background-color: #434B5C;\n",
              "      box-shadow: 0px 1px 3px 1px rgba(0, 0, 0, 0.15);\n",
              "      filter: drop-shadow(0px 1px 2px rgba(0, 0, 0, 0.3));\n",
              "      fill: #FFFFFF;\n",
              "    }\n",
              "  </style>\n",
              "\n",
              "      <script>\n",
              "        const buttonEl =\n",
              "          document.querySelector('#df-8e37752a-dc73-489a-932b-c81f2ac8597b button.colab-df-convert');\n",
              "        buttonEl.style.display =\n",
              "          google.colab.kernel.accessAllowed ? 'block' : 'none';\n",
              "\n",
              "        async function convertToInteractive(key) {\n",
              "          const element = document.querySelector('#df-8e37752a-dc73-489a-932b-c81f2ac8597b');\n",
              "          const dataTable =\n",
              "            await google.colab.kernel.invokeFunction('convertToInteractive',\n",
              "                                                     [key], {});\n",
              "          if (!dataTable) return;\n",
              "\n",
              "          const docLinkHtml = 'Like what you see? Visit the ' +\n",
              "            '<a target=\"_blank\" href=https://colab.research.google.com/notebooks/data_table.ipynb>data table notebook</a>'\n",
              "            + ' to learn more about interactive tables.';\n",
              "          element.innerHTML = '';\n",
              "          dataTable['output_type'] = 'display_data';\n",
              "          await google.colab.output.renderOutput(dataTable, element);\n",
              "          const docLink = document.createElement('div');\n",
              "          docLink.innerHTML = docLinkHtml;\n",
              "          element.appendChild(docLink);\n",
              "        }\n",
              "      </script>\n",
              "    </div>\n",
              "  </div>\n",
              "  "
            ]
          },
          "metadata": {},
          "execution_count": 10
        }
      ],
      "source": [
        "energy0"
      ]
    },
    {
      "cell_type": "code",
      "execution_count": 11,
      "metadata": {
        "id": "8T-ndWqiCdZn",
        "outputId": "c10b28fb-7b2c-42ff-b550-7c9e14d91eaa",
        "colab": {
          "base_uri": "https://localhost:8080/",
          "height": 300
        }
      },
      "outputs": [
        {
          "output_type": "execute_result",
          "data": {
            "text/plain": [
              "         energy_sum  temperatureMax    windSpeed     humidity  holiday_ind  \\\n",
              "count    723.000000      723.000000   723.000000   723.000000   723.000000   \n",
              "mean    5092.068155    12081.696736  3024.461314   654.317441   237.969571   \n",
              "std     1638.687775     6661.904788  1720.766391   207.518360   402.357270   \n",
              "min        1.054000      -55.620000     1.020000     0.680000     0.000000   \n",
              "25%     4881.283500     7416.000000  1811.905000   611.820000     0.000000   \n",
              "50%     5292.939000    11463.880000  3012.750000   713.790000     0.000000   \n",
              "75%     6098.952999    17036.155000  4050.990000   787.950000   667.000000   \n",
              "max    12236.374002    30002.400000  9222.960000  1223.640000  1854.000000   \n",
              "\n",
              "            LCLid  avg_energy  \n",
              "count  723.000000  723.000000  \n",
              "mean   838.699862    6.030216  \n",
              "std    240.454590    0.922070  \n",
              "min      1.000000    0.105859  \n",
              "25%    926.000000    5.422908  \n",
              "50%    927.000000    5.919488  \n",
              "75%    927.000000    6.609972  \n",
              "max    927.000000   14.613333  "
            ],
            "text/html": [
              "\n",
              "  <div id=\"df-d8a4b4c5-1c34-4992-b570-624dead7021e\">\n",
              "    <div class=\"colab-df-container\">\n",
              "      <div>\n",
              "<style scoped>\n",
              "    .dataframe tbody tr th:only-of-type {\n",
              "        vertical-align: middle;\n",
              "    }\n",
              "\n",
              "    .dataframe tbody tr th {\n",
              "        vertical-align: top;\n",
              "    }\n",
              "\n",
              "    .dataframe thead th {\n",
              "        text-align: right;\n",
              "    }\n",
              "</style>\n",
              "<table border=\"1\" class=\"dataframe\">\n",
              "  <thead>\n",
              "    <tr style=\"text-align: right;\">\n",
              "      <th></th>\n",
              "      <th>energy_sum</th>\n",
              "      <th>temperatureMax</th>\n",
              "      <th>windSpeed</th>\n",
              "      <th>humidity</th>\n",
              "      <th>holiday_ind</th>\n",
              "      <th>LCLid</th>\n",
              "      <th>avg_energy</th>\n",
              "    </tr>\n",
              "  </thead>\n",
              "  <tbody>\n",
              "    <tr>\n",
              "      <th>count</th>\n",
              "      <td>723.000000</td>\n",
              "      <td>723.000000</td>\n",
              "      <td>723.000000</td>\n",
              "      <td>723.000000</td>\n",
              "      <td>723.000000</td>\n",
              "      <td>723.000000</td>\n",
              "      <td>723.000000</td>\n",
              "    </tr>\n",
              "    <tr>\n",
              "      <th>mean</th>\n",
              "      <td>5092.068155</td>\n",
              "      <td>12081.696736</td>\n",
              "      <td>3024.461314</td>\n",
              "      <td>654.317441</td>\n",
              "      <td>237.969571</td>\n",
              "      <td>838.699862</td>\n",
              "      <td>6.030216</td>\n",
              "    </tr>\n",
              "    <tr>\n",
              "      <th>std</th>\n",
              "      <td>1638.687775</td>\n",
              "      <td>6661.904788</td>\n",
              "      <td>1720.766391</td>\n",
              "      <td>207.518360</td>\n",
              "      <td>402.357270</td>\n",
              "      <td>240.454590</td>\n",
              "      <td>0.922070</td>\n",
              "    </tr>\n",
              "    <tr>\n",
              "      <th>min</th>\n",
              "      <td>1.054000</td>\n",
              "      <td>-55.620000</td>\n",
              "      <td>1.020000</td>\n",
              "      <td>0.680000</td>\n",
              "      <td>0.000000</td>\n",
              "      <td>1.000000</td>\n",
              "      <td>0.105859</td>\n",
              "    </tr>\n",
              "    <tr>\n",
              "      <th>25%</th>\n",
              "      <td>4881.283500</td>\n",
              "      <td>7416.000000</td>\n",
              "      <td>1811.905000</td>\n",
              "      <td>611.820000</td>\n",
              "      <td>0.000000</td>\n",
              "      <td>926.000000</td>\n",
              "      <td>5.422908</td>\n",
              "    </tr>\n",
              "    <tr>\n",
              "      <th>50%</th>\n",
              "      <td>5292.939000</td>\n",
              "      <td>11463.880000</td>\n",
              "      <td>3012.750000</td>\n",
              "      <td>713.790000</td>\n",
              "      <td>0.000000</td>\n",
              "      <td>927.000000</td>\n",
              "      <td>5.919488</td>\n",
              "    </tr>\n",
              "    <tr>\n",
              "      <th>75%</th>\n",
              "      <td>6098.952999</td>\n",
              "      <td>17036.155000</td>\n",
              "      <td>4050.990000</td>\n",
              "      <td>787.950000</td>\n",
              "      <td>667.000000</td>\n",
              "      <td>927.000000</td>\n",
              "      <td>6.609972</td>\n",
              "    </tr>\n",
              "    <tr>\n",
              "      <th>max</th>\n",
              "      <td>12236.374002</td>\n",
              "      <td>30002.400000</td>\n",
              "      <td>9222.960000</td>\n",
              "      <td>1223.640000</td>\n",
              "      <td>1854.000000</td>\n",
              "      <td>927.000000</td>\n",
              "      <td>14.613333</td>\n",
              "    </tr>\n",
              "  </tbody>\n",
              "</table>\n",
              "</div>\n",
              "      <button class=\"colab-df-convert\" onclick=\"convertToInteractive('df-d8a4b4c5-1c34-4992-b570-624dead7021e')\"\n",
              "              title=\"Convert this dataframe to an interactive table.\"\n",
              "              style=\"display:none;\">\n",
              "        \n",
              "  <svg xmlns=\"http://www.w3.org/2000/svg\" height=\"24px\"viewBox=\"0 0 24 24\"\n",
              "       width=\"24px\">\n",
              "    <path d=\"M0 0h24v24H0V0z\" fill=\"none\"/>\n",
              "    <path d=\"M18.56 5.44l.94 2.06.94-2.06 2.06-.94-2.06-.94-.94-2.06-.94 2.06-2.06.94zm-11 1L8.5 8.5l.94-2.06 2.06-.94-2.06-.94L8.5 2.5l-.94 2.06-2.06.94zm10 10l.94 2.06.94-2.06 2.06-.94-2.06-.94-.94-2.06-.94 2.06-2.06.94z\"/><path d=\"M17.41 7.96l-1.37-1.37c-.4-.4-.92-.59-1.43-.59-.52 0-1.04.2-1.43.59L10.3 9.45l-7.72 7.72c-.78.78-.78 2.05 0 2.83L4 21.41c.39.39.9.59 1.41.59.51 0 1.02-.2 1.41-.59l7.78-7.78 2.81-2.81c.8-.78.8-2.07 0-2.86zM5.41 20L4 18.59l7.72-7.72 1.47 1.35L5.41 20z\"/>\n",
              "  </svg>\n",
              "      </button>\n",
              "      \n",
              "  <style>\n",
              "    .colab-df-container {\n",
              "      display:flex;\n",
              "      flex-wrap:wrap;\n",
              "      gap: 12px;\n",
              "    }\n",
              "\n",
              "    .colab-df-convert {\n",
              "      background-color: #E8F0FE;\n",
              "      border: none;\n",
              "      border-radius: 50%;\n",
              "      cursor: pointer;\n",
              "      display: none;\n",
              "      fill: #1967D2;\n",
              "      height: 32px;\n",
              "      padding: 0 0 0 0;\n",
              "      width: 32px;\n",
              "    }\n",
              "\n",
              "    .colab-df-convert:hover {\n",
              "      background-color: #E2EBFA;\n",
              "      box-shadow: 0px 1px 2px rgba(60, 64, 67, 0.3), 0px 1px 3px 1px rgba(60, 64, 67, 0.15);\n",
              "      fill: #174EA6;\n",
              "    }\n",
              "\n",
              "    [theme=dark] .colab-df-convert {\n",
              "      background-color: #3B4455;\n",
              "      fill: #D2E3FC;\n",
              "    }\n",
              "\n",
              "    [theme=dark] .colab-df-convert:hover {\n",
              "      background-color: #434B5C;\n",
              "      box-shadow: 0px 1px 3px 1px rgba(0, 0, 0, 0.15);\n",
              "      filter: drop-shadow(0px 1px 2px rgba(0, 0, 0, 0.3));\n",
              "      fill: #FFFFFF;\n",
              "    }\n",
              "  </style>\n",
              "\n",
              "      <script>\n",
              "        const buttonEl =\n",
              "          document.querySelector('#df-d8a4b4c5-1c34-4992-b570-624dead7021e button.colab-df-convert');\n",
              "        buttonEl.style.display =\n",
              "          google.colab.kernel.accessAllowed ? 'block' : 'none';\n",
              "\n",
              "        async function convertToInteractive(key) {\n",
              "          const element = document.querySelector('#df-d8a4b4c5-1c34-4992-b570-624dead7021e');\n",
              "          const dataTable =\n",
              "            await google.colab.kernel.invokeFunction('convertToInteractive',\n",
              "                                                     [key], {});\n",
              "          if (!dataTable) return;\n",
              "\n",
              "          const docLinkHtml = 'Like what you see? Visit the ' +\n",
              "            '<a target=\"_blank\" href=https://colab.research.google.com/notebooks/data_table.ipynb>data table notebook</a>'\n",
              "            + ' to learn more about interactive tables.';\n",
              "          element.innerHTML = '';\n",
              "          dataTable['output_type'] = 'display_data';\n",
              "          await google.colab.output.renderOutput(dataTable, element);\n",
              "          const docLink = document.createElement('div');\n",
              "          docLink.innerHTML = docLinkHtml;\n",
              "          element.appendChild(docLink);\n",
              "        }\n",
              "      </script>\n",
              "    </div>\n",
              "  </div>\n",
              "  "
            ]
          },
          "metadata": {},
          "execution_count": 11
        }
      ],
      "source": [
        "energy0.describe()"
      ]
    },
    {
      "cell_type": "code",
      "execution_count": 12,
      "metadata": {
        "id": "U6kF1Sc-CdZn"
      },
      "outputs": [],
      "source": [
        "# Weather clusters\n",
        "from sklearn.preprocessing import MinMaxScaler\n",
        "\n",
        "scaler0 = MinMaxScaler()\n",
        "weather_scaled0 = scaler0.fit_transform(energy0[['temperatureMax','humidity','windSpeed']])"
      ]
    },
    {
      "cell_type": "code",
      "execution_count": 13,
      "metadata": {
        "id": "CrsyzGSOCdZo",
        "outputId": "ec3c6927-fff3-449c-f645-0f682d9f2efd",
        "colab": {
          "base_uri": "https://localhost:8080/"
        }
      },
      "outputs": [
        {
          "output_type": "execute_result",
          "data": {
            "text/plain": [
              "array([[2.09062340e-03, 8.17688232e-05, 9.86777186e-05],\n",
              "       [2.20806294e-03, 8.17688232e-05, 3.51336053e-04],\n",
              "       [2.25064725e-03, 0.00000000e+00, 2.73261375e-04],\n",
              "       ...,\n",
              "       [3.49286813e-01, 5.51587951e-01, 3.83051722e-01],\n",
              "       [3.18785469e-01, 5.58546477e-01, 4.14700161e-01],\n",
              "       [2.27793447e-01, 6.49211749e-01, 2.24328070e-01]])"
            ]
          },
          "metadata": {},
          "execution_count": 13
        }
      ],
      "source": [
        "weather_scaled0"
      ]
    },
    {
      "cell_type": "code",
      "execution_count": 14,
      "metadata": {
        "id": "QHEc0oBWCdZo",
        "outputId": "32320d02-1a53-4870-e113-0ac4ab32b3f3",
        "colab": {
          "base_uri": "https://localhost:8080/",
          "height": 505
        }
      },
      "outputs": [
        {
          "output_type": "stream",
          "name": "stdout",
          "text": [
            "[KMeans(n_clusters=1, n_init='auto'), KMeans(n_clusters=2, n_init='auto'), KMeans(n_clusters=3, n_init='auto'), KMeans(n_clusters=4, n_init='auto'), KMeans(n_clusters=5, n_init='auto'), KMeans(n_clusters=6, n_init='auto'), KMeans(n_clusters=7, n_init='auto'), KMeans(n_init='auto'), KMeans(n_clusters=9, n_init='auto'), KMeans(n_clusters=10, n_init='auto'), KMeans(n_clusters=11, n_init='auto'), KMeans(n_clusters=12, n_init='auto'), KMeans(n_clusters=13, n_init='auto'), KMeans(n_clusters=14, n_init='auto'), KMeans(n_clusters=15, n_init='auto'), KMeans(n_clusters=16, n_init='auto'), KMeans(n_clusters=17, n_init='auto'), KMeans(n_clusters=18, n_init='auto'), KMeans(n_clusters=19, n_init='auto')]\n",
            "[-81.39304442668558, -50.74086103910048, -30.879086412764323, -21.975340784818936, -19.22074364605819, -15.827965454447302, -14.639502155063056, -13.104215620966963, -11.83709365469053, -11.199181100339503, -10.329975993800456, -9.041151103391073, -8.434571330913112, -8.885897655766199, -7.554398433873301, -7.50260718114726, -6.990775829610164, -6.608429386545962, -6.355001425792977]\n"
          ]
        },
        {
          "output_type": "display_data",
          "data": {
            "text/plain": [
              "<Figure size 640x480 with 1 Axes>"
            ],
            "image/png": "[encoded data removed]"
          },
          "metadata": {}
        }
      ],
      "source": [
        "from sklearn.cluster import KMeans\n",
        "import matplotlib.pyplot as plt\n",
        "\n",
        "\n",
        "Nc0 = range(1,20)\n",
        "kmeans0 = [KMeans(n_clusters=i, n_init='auto') for i in Nc0]\n",
        "print(kmeans0)\n",
        "\n",
        "score0 = [kmeans0[i].fit(weather_scaled0).score(weather_scaled0) for i in range(len(kmeans0))]\n",
        "print(score0)\n",
        "\n",
        "plt.plot(Nc0, score0)\n",
        "plt.xlabel('Number of Clusters')\n",
        "plt.ylabel('Score')\n",
        "plt.show()"
      ]
    },
    {
      "cell_type": "code",
      "execution_count": 15,
      "metadata": {
        "id": "_mpSRnWmCdZo",
        "outputId": "06544be5-35a2-4a1a-e56d-41c98e3e305f",
        "colab": {
          "base_uri": "https://localhost:8080/",
          "height": 206
        }
      },
      "outputs": [
        {
          "output_type": "execute_result",
          "data": {
            "text/plain": [
              "          day  energy_sum  temperatureMax  windSpeed  humidity  holiday_ind  \\\n",
              "0  2012-03-06       1.054            7.22       1.93      0.78            0   \n",
              "1  2012-03-07       2.470           10.75       4.26      0.78            0   \n",
              "2  2012-03-08       6.165           12.03       3.54      0.68            0   \n",
              "3  2012-03-09       6.056           10.86       4.01      0.78            0   \n",
              "4  2012-03-10       6.603           15.39       3.15      0.81            1   \n",
              "\n",
              "   LCLid  avg_energy  weather_cluster  \n",
              "0      1       1.054                1  \n",
              "1      1       2.470                1  \n",
              "2      1       6.165                1  \n",
              "3      1       6.056                1  \n",
              "4      1       6.603                1  "
            ],
            "text/html": [
              "\n",
              "  <div id=\"df-a9def78b-0d71-4984-b999-4a76bb81af80\">\n",
              "    <div class=\"colab-df-container\">\n",
              "      <div>\n",
              "<style scoped>\n",
              "    .dataframe tbody tr th:only-of-type {\n",
              "        vertical-align: middle;\n",
              "    }\n",
              "\n",
              "    .dataframe tbody tr th {\n",
              "        vertical-align: top;\n",
              "    }\n",
              "\n",
              "    .dataframe thead th {\n",
              "        text-align: right;\n",
              "    }\n",
              "</style>\n",
              "<table border=\"1\" class=\"dataframe\">\n",
              "  <thead>\n",
              "    <tr style=\"text-align: right;\">\n",
              "      <th></th>\n",
              "      <th>day</th>\n",
              "      <th>energy_sum</th>\n",
              "      <th>temperatureMax</th>\n",
              "      <th>windSpeed</th>\n",
              "      <th>humidity</th>\n",
              "      <th>holiday_ind</th>\n",
              "      <th>LCLid</th>\n",
              "      <th>avg_energy</th>\n",
              "      <th>weather_cluster</th>\n",
              "    </tr>\n",
              "  </thead>\n",
              "  <tbody>\n",
              "    <tr>\n",
              "      <th>0</th>\n",
              "      <td>2012-03-06</td>\n",
              "      <td>1.054</td>\n",
              "      <td>7.22</td>\n",
              "      <td>1.93</td>\n",
              "      <td>0.78</td>\n",
              "      <td>0</td>\n",
              "      <td>1</td>\n",
              "      <td>1.054</td>\n",
              "      <td>1</td>\n",
              "    </tr>\n",
              "    <tr>\n",
              "      <th>1</th>\n",
              "      <td>2012-03-07</td>\n",
              "      <td>2.470</td>\n",
              "      <td>10.75</td>\n",
              "      <td>4.26</td>\n",
              "      <td>0.78</td>\n",
              "      <td>0</td>\n",
              "      <td>1</td>\n",
              "      <td>2.470</td>\n",
              "      <td>1</td>\n",
              "    </tr>\n",
              "    <tr>\n",
              "      <th>2</th>\n",
              "      <td>2012-03-08</td>\n",
              "      <td>6.165</td>\n",
              "      <td>12.03</td>\n",
              "      <td>3.54</td>\n",
              "      <td>0.68</td>\n",
              "      <td>0</td>\n",
              "      <td>1</td>\n",
              "      <td>6.165</td>\n",
              "      <td>1</td>\n",
              "    </tr>\n",
              "    <tr>\n",
              "      <th>3</th>\n",
              "      <td>2012-03-09</td>\n",
              "      <td>6.056</td>\n",
              "      <td>10.86</td>\n",
              "      <td>4.01</td>\n",
              "      <td>0.78</td>\n",
              "      <td>0</td>\n",
              "      <td>1</td>\n",
              "      <td>6.056</td>\n",
              "      <td>1</td>\n",
              "    </tr>\n",
              "    <tr>\n",
              "      <th>4</th>\n",
              "      <td>2012-03-10</td>\n",
              "      <td>6.603</td>\n",
              "      <td>15.39</td>\n",
              "      <td>3.15</td>\n",
              "      <td>0.81</td>\n",
              "      <td>1</td>\n",
              "      <td>1</td>\n",
              "      <td>6.603</td>\n",
              "      <td>1</td>\n",
              "    </tr>\n",
              "  </tbody>\n",
              "</table>\n",
              "</div>\n",
              "      <button class=\"colab-df-convert\" onclick=\"convertToInteractive('df-a9def78b-0d71-4984-b999-4a76bb81af80')\"\n",
              "              title=\"Convert this dataframe to an interactive table.\"\n",
              "              style=\"display:none;\">\n",
              "        \n",
              "  <svg xmlns=\"http://www.w3.org/2000/svg\" height=\"24px\"viewBox=\"0 0 24 24\"\n",
              "       width=\"24px\">\n",
              "    <path d=\"M0 0h24v24H0V0z\" fill=\"none\"/>\n",
              "    <path d=\"M18.56 5.44l.94 2.06.94-2.06 2.06-.94-2.06-.94-.94-2.06-.94 2.06-2.06.94zm-11 1L8.5 8.5l.94-2.06 2.06-.94-2.06-.94L8.5 2.5l-.94 2.06-2.06.94zm10 10l.94 2.06.94-2.06 2.06-.94-2.06-.94-.94-2.06-.94 2.06-2.06.94z\"/><path d=\"M17.41 7.96l-1.37-1.37c-.4-.4-.92-.59-1.43-.59-.52 0-1.04.2-1.43.59L10.3 9.45l-7.72 7.72c-.78.78-.78 2.05 0 2.83L4 21.41c.39.39.9.59 1.41.59.51 0 1.02-.2 1.41-.59l7.78-7.78 2.81-2.81c.8-.78.8-2.07 0-2.86zM5.41 20L4 18.59l7.72-7.72 1.47 1.35L5.41 20z\"/>\n",
              "  </svg>\n",
              "      </button>\n",
              "      \n",
              "  <style>\n",
              "    .colab-df-container {\n",
              "      display:flex;\n",
              "      flex-wrap:wrap;\n",
              "      gap: 12px;\n",
              "    }\n",
              "\n",
              "    .colab-df-convert {\n",
              "      background-color: #E8F0FE;\n",
              "      border: none;\n",
              "      border-radius: 50%;\n",
              "      cursor: pointer;\n",
              "      display: none;\n",
              "      fill: #1967D2;\n",
              "      height: 32px;\n",
              "      padding: 0 0 0 0;\n",
              "      width: 32px;\n",
              "    }\n",
              "\n",
              "    .colab-df-convert:hover {\n",
              "      background-color: #E2EBFA;\n",
              "      box-shadow: 0px 1px 2px rgba(60, 64, 67, 0.3), 0px 1px 3px 1px rgba(60, 64, 67, 0.15);\n",
              "      fill: #174EA6;\n",
              "    }\n",
              "\n",
              "    [theme=dark] .colab-df-convert {\n",
              "      background-color: #3B4455;\n",
              "      fill: #D2E3FC;\n",
              "    }\n",
              "\n",
              "    [theme=dark] .colab-df-convert:hover {\n",
              "      background-color: #434B5C;\n",
              "      box-shadow: 0px 1px 3px 1px rgba(0, 0, 0, 0.15);\n",
              "      filter: drop-shadow(0px 1px 2px rgba(0, 0, 0, 0.3));\n",
              "      fill: #FFFFFF;\n",
              "    }\n",
              "  </style>\n",
              "\n",
              "      <script>\n",
              "        const buttonEl =\n",
              "          document.querySelector('#df-a9def78b-0d71-4984-b999-4a76bb81af80 button.colab-df-convert');\n",
              "        buttonEl.style.display =\n",
              "          google.colab.kernel.accessAllowed ? 'block' : 'none';\n",
              "\n",
              "        async function convertToInteractive(key) {\n",
              "          const element = document.querySelector('#df-a9def78b-0d71-4984-b999-4a76bb81af80');\n",
              "          const dataTable =\n",
              "            await google.colab.kernel.invokeFunction('convertToInteractive',\n",
              "                                                     [key], {});\n",
              "          if (!dataTable) return;\n",
              "\n",
              "          const docLinkHtml = 'Like what you see? Visit the ' +\n",
              "            '<a target=\"_blank\" href=https://colab.research.google.com/notebooks/data_table.ipynb>data table notebook</a>'\n",
              "            + ' to learn more about interactive tables.';\n",
              "          element.innerHTML = '';\n",
              "          dataTable['output_type'] = 'display_data';\n",
              "          await google.colab.output.renderOutput(dataTable, element);\n",
              "          const docLink = document.createElement('div');\n",
              "          docLink.innerHTML = docLinkHtml;\n",
              "          element.appendChild(docLink);\n",
              "        }\n",
              "      </script>\n",
              "    </div>\n",
              "  </div>\n",
              "  "
            ]
          },
          "metadata": {},
          "execution_count": 15
        }
      ],
      "source": [
        "kmeans0 = KMeans(n_clusters=3, max_iter=600, algorithm='lloyd', n_init='auto')\n",
        "kmeans0.fit(weather_scaled0)\n",
        "energy0['weather_cluster'] = kmeans0.labels_\n",
        "energy0.head()"
      ]
    },
    {
      "cell_type": "code",
      "execution_count": 16,
      "metadata": {
        "id": "cJhPm3lqCdZp"
      },
      "outputs": [],
      "source": [
        "# Model"
      ]
    },
    {
      "cell_type": "code",
      "execution_count": 17,
      "metadata": {
        "id": "plvyXucoCdZp"
      },
      "outputs": [],
      "source": [
        "import numpy as np\n",
        "\n",
        "np.random.seed(11)\n",
        "dataframe = energy0.loc[:,'avg_energy']\n",
        "dataset = dataframe.values\n",
        "dataset = dataset.astype('float32')"
      ]
    },
    {
      "cell_type": "code",
      "execution_count": 18,
      "metadata": {
        "id": "8MrW1U30CdZp"
      },
      "outputs": [],
      "source": [
        "def series_to_supervised(data, n_in=1, n_out=1, dropnan=True):\n",
        "    n_vars = 1\n",
        "    df = pd.DataFrame(data)\n",
        "    cols, names = list(), list()\n",
        "    # input sequence (t-n, ... t-1)\n",
        "    for i in range(n_in, 0, -1):\n",
        "        cols.append(df.shift(i))\n",
        "        names += [('var%d(t-%d)' % (j+1, i)) for j in range(n_vars)]\n",
        "    # forecast sequence (t, t+1, ... t+n)\n",
        "    for i in range(0, n_out):\n",
        "        cols.append(df.shift(-i))\n",
        "        if i == 0:\n",
        "            names += [('var%d(t)' % (j+1)) for j in range(n_vars)]\n",
        "        else:\n",
        "            names += [('var%d(t+%d)' % (j+1, i)) for j in range(n_vars)]\n",
        "    agg = pd.concat(cols, axis=1)\n",
        "    agg.columns = names\n",
        "    if dropnan:\n",
        "        agg.dropna(inplace=True)\n",
        "    return agg"
      ]
    },
    {
      "cell_type": "code",
      "execution_count": 19,
      "metadata": {
        "id": "OLAypdF8CdZp",
        "outputId": "7c8b5ad3-e630-4cb7-fa5b-528f41cecc01",
        "colab": {
          "base_uri": "https://localhost:8080/",
          "height": 206
        }
      },
      "outputs": [
        {
          "output_type": "execute_result",
          "data": {
            "text/plain": [
              "    var1(t-7)  var1(t-6)  var1(t-5)  var1(t-4)  var1(t-3)  var1(t-2)  \\\n",
              "7       1.054      2.470      6.165      6.056      6.603      4.672   \n",
              "8       2.470      6.165      6.056      6.603      4.672      3.200   \n",
              "9       6.165      6.056      6.603      4.672      3.200      4.427   \n",
              "10      6.056      6.603      4.672      3.200      4.427      3.096   \n",
              "11      6.603      4.672      3.200      4.427      3.096      3.224   \n",
              "\n",
              "    var1(t-1)  var1(t)  \n",
              "7       3.200    4.427  \n",
              "8       4.427    3.096  \n",
              "9       3.096    3.224  \n",
              "10      3.224    3.998  \n",
              "11      3.998    9.516  "
            ],
            "text/html": [
              "\n",
              "  <div id=\"df-8facd07f-0923-4793-8295-77c4d9695093\">\n",
              "    <div class=\"colab-df-container\">\n",
              "      <div>\n",
              "<style scoped>\n",
              "    .dataframe tbody tr th:only-of-type {\n",
              "        vertical-align: middle;\n",
              "    }\n",
              "\n",
              "    .dataframe tbody tr th {\n",
              "        vertical-align: top;\n",
              "    }\n",
              "\n",
              "    .dataframe thead th {\n",
              "        text-align: right;\n",
              "    }\n",
              "</style>\n",
              "<table border=\"1\" class=\"dataframe\">\n",
              "  <thead>\n",
              "    <tr style=\"text-align: right;\">\n",
              "      <th></th>\n",
              "      <th>var1(t-7)</th>\n",
              "      <th>var1(t-6)</th>\n",
              "      <th>var1(t-5)</th>\n",
              "      <th>var1(t-4)</th>\n",
              "      <th>var1(t-3)</th>\n",
              "      <th>var1(t-2)</th>\n",
              "      <th>var1(t-1)</th>\n",
              "      <th>var1(t)</th>\n",
              "    </tr>\n",
              "  </thead>\n",
              "  <tbody>\n",
              "    <tr>\n",
              "      <th>7</th>\n",
              "      <td>1.054</td>\n",
              "      <td>2.470</td>\n",
              "      <td>6.165</td>\n",
              "      <td>6.056</td>\n",
              "      <td>6.603</td>\n",
              "      <td>4.672</td>\n",
              "      <td>3.200</td>\n",
              "      <td>4.427</td>\n",
              "    </tr>\n",
              "    <tr>\n",
              "      <th>8</th>\n",
              "      <td>2.470</td>\n",
              "      <td>6.165</td>\n",
              "      <td>6.056</td>\n",
              "      <td>6.603</td>\n",
              "      <td>4.672</td>\n",
              "      <td>3.200</td>\n",
              "      <td>4.427</td>\n",
              "      <td>3.096</td>\n",
              "    </tr>\n",
              "    <tr>\n",
              "      <th>9</th>\n",
              "      <td>6.165</td>\n",
              "      <td>6.056</td>\n",
              "      <td>6.603</td>\n",
              "      <td>4.672</td>\n",
              "      <td>3.200</td>\n",
              "      <td>4.427</td>\n",
              "      <td>3.096</td>\n",
              "      <td>3.224</td>\n",
              "    </tr>\n",
              "    <tr>\n",
              "      <th>10</th>\n",
              "      <td>6.056</td>\n",
              "      <td>6.603</td>\n",
              "      <td>4.672</td>\n",
              "      <td>3.200</td>\n",
              "      <td>4.427</td>\n",
              "      <td>3.096</td>\n",
              "      <td>3.224</td>\n",
              "      <td>3.998</td>\n",
              "    </tr>\n",
              "    <tr>\n",
              "      <th>11</th>\n",
              "      <td>6.603</td>\n",
              "      <td>4.672</td>\n",
              "      <td>3.200</td>\n",
              "      <td>4.427</td>\n",
              "      <td>3.096</td>\n",
              "      <td>3.224</td>\n",
              "      <td>3.998</td>\n",
              "      <td>9.516</td>\n",
              "    </tr>\n",
              "  </tbody>\n",
              "</table>\n",
              "</div>\n",
              "      <button class=\"colab-df-convert\" onclick=\"convertToInteractive('df-8facd07f-0923-4793-8295-77c4d9695093')\"\n",
              "              title=\"Convert this dataframe to an interactive table.\"\n",
              "              style=\"display:none;\">\n",
              "        \n",
              "  <svg xmlns=\"http://www.w3.org/2000/svg\" height=\"24px\"viewBox=\"0 0 24 24\"\n",
              "       width=\"24px\">\n",
              "    <path d=\"M0 0h24v24H0V0z\" fill=\"none\"/>\n",
              "    <path d=\"M18.56 5.44l.94 2.06.94-2.06 2.06-.94-2.06-.94-.94-2.06-.94 2.06-2.06.94zm-11 1L8.5 8.5l.94-2.06 2.06-.94-2.06-.94L8.5 2.5l-.94 2.06-2.06.94zm10 10l.94 2.06.94-2.06 2.06-.94-2.06-.94-.94-2.06-.94 2.06-2.06.94z\"/><path d=\"M17.41 7.96l-1.37-1.37c-.4-.4-.92-.59-1.43-.59-.52 0-1.04.2-1.43.59L10.3 9.45l-7.72 7.72c-.78.78-.78 2.05 0 2.83L4 21.41c.39.39.9.59 1.41.59.51 0 1.02-.2 1.41-.59l7.78-7.78 2.81-2.81c.8-.78.8-2.07 0-2.86zM5.41 20L4 18.59l7.72-7.72 1.47 1.35L5.41 20z\"/>\n",
              "  </svg>\n",
              "      </button>\n",
              "      \n",
              "  <style>\n",
              "    .colab-df-container {\n",
              "      display:flex;\n",
              "      flex-wrap:wrap;\n",
              "      gap: 12px;\n",
              "    }\n",
              "\n",
              "    .colab-df-convert {\n",
              "      background-color: #E8F0FE;\n",
              "      border: none;\n",
              "      border-radius: 50%;\n",
              "      cursor: pointer;\n",
              "      display: none;\n",
              "      fill: #1967D2;\n",
              "      height: 32px;\n",
              "      padding: 0 0 0 0;\n",
              "      width: 32px;\n",
              "    }\n",
              "\n",
              "    .colab-df-convert:hover {\n",
              "      background-color: #E2EBFA;\n",
              "      box-shadow: 0px 1px 2px rgba(60, 64, 67, 0.3), 0px 1px 3px 1px rgba(60, 64, 67, 0.15);\n",
              "      fill: #174EA6;\n",
              "    }\n",
              "\n",
              "    [theme=dark] .colab-df-convert {\n",
              "      background-color: #3B4455;\n",
              "      fill: #D2E3FC;\n",
              "    }\n",
              "\n",
              "    [theme=dark] .colab-df-convert:hover {\n",
              "      background-color: #434B5C;\n",
              "      box-shadow: 0px 1px 3px 1px rgba(0, 0, 0, 0.15);\n",
              "      filter: drop-shadow(0px 1px 2px rgba(0, 0, 0, 0.3));\n",
              "      fill: #FFFFFF;\n",
              "    }\n",
              "  </style>\n",
              "\n",
              "      <script>\n",
              "        const buttonEl =\n",
              "          document.querySelector('#df-8facd07f-0923-4793-8295-77c4d9695093 button.colab-df-convert');\n",
              "        buttonEl.style.display =\n",
              "          google.colab.kernel.accessAllowed ? 'block' : 'none';\n",
              "\n",
              "        async function convertToInteractive(key) {\n",
              "          const element = document.querySelector('#df-8facd07f-0923-4793-8295-77c4d9695093');\n",
              "          const dataTable =\n",
              "            await google.colab.kernel.invokeFunction('convertToInteractive',\n",
              "                                                     [key], {});\n",
              "          if (!dataTable) return;\n",
              "\n",
              "          const docLinkHtml = 'Like what you see? Visit the ' +\n",
              "            '<a target=\"_blank\" href=https://colab.research.google.com/notebooks/data_table.ipynb>data table notebook</a>'\n",
              "            + ' to learn more about interactive tables.';\n",
              "          element.innerHTML = '';\n",
              "          dataTable['output_type'] = 'display_data';\n",
              "          await google.colab.output.renderOutput(dataTable, element);\n",
              "          const docLink = document.createElement('div');\n",
              "          docLink.innerHTML = docLinkHtml;\n",
              "          element.appendChild(docLink);\n",
              "        }\n",
              "      </script>\n",
              "    </div>\n",
              "  </div>\n",
              "  "
            ]
          },
          "metadata": {},
          "execution_count": 19
        }
      ],
      "source": [
        "reframed0 = series_to_supervised(dataset, 7,1)\n",
        "reframed0.head()"
      ]
    },
    {
      "cell_type": "code",
      "execution_count": 20,
      "metadata": {
        "id": "Dg7DACjXCdZq"
      },
      "outputs": [],
      "source": [
        "reframed0['weather_cluster'] = energy0['weather_cluster'].values[7:]\n",
        "reframed0['holiday_ind']= energy0['holiday_ind'].values[7:]"
      ]
    },
    {
      "cell_type": "code",
      "execution_count": 21,
      "metadata": {
        "id": "P65RHLvmCdZq"
      },
      "outputs": [],
      "source": [
        "reframed0 = reframed0.reindex(['weather_cluster', 'holiday_ind','var1(t-7)', 'var1(t-6)', 'var1(t-5)', 'var1(t-4)', 'var1(t-3)','var1(t-2)', 'var1(t-1)', 'var1(t)'], axis=1)\n",
        "reframed0 = reframed0.values"
      ]
    },
    {
      "cell_type": "code",
      "execution_count": 22,
      "metadata": {
        "id": "OqUDKPUUCdZq",
        "outputId": "52c0b0ad-0d93-4d47-c642-675dbd111451",
        "colab": {
          "base_uri": "https://localhost:8080/"
        }
      },
      "outputs": [
        {
          "output_type": "execute_result",
          "data": {
            "text/plain": [
              "144"
            ]
          },
          "metadata": {},
          "execution_count": 22
        }
      ],
      "source": [
        "n = int(0.2*(len(energy0)))\n",
        "n"
      ]
    },
    {
      "cell_type": "code",
      "execution_count": 23,
      "metadata": {
        "id": "1ScQM4wPCdZq"
      },
      "outputs": [],
      "source": [
        "# Normalisation\n",
        "scaler0 = MinMaxScaler(feature_range=(0, 1))\n",
        "reframed0 = scaler0.fit_transform(reframed0)"
      ]
    },
    {
      "cell_type": "code",
      "execution_count": 24,
      "metadata": {
        "id": "ZfCwjdU8CdZq"
      },
      "outputs": [],
      "source": [
        "train0 = reframed0[:(len(reframed0)-n), :]\n",
        "test0 = reframed0[(len(reframed0)-n):len(reframed0), :]"
      ]
    },
    {
      "cell_type": "code",
      "execution_count": 25,
      "metadata": {
        "id": "WkqqBgOTCdZq"
      },
      "outputs": [],
      "source": [
        "train_X0, train_y0 = train0[:, :-1], train0[:, -1]\n",
        "test_X0, test_y0 = test0[:, :-1], test0[:, -1]"
      ]
    },
    {
      "cell_type": "code",
      "execution_count": 26,
      "metadata": {
        "id": "mhh_d0Y1CdZr",
        "outputId": "ab9834a5-c6f3-4f82-9093-b2c9d1864409",
        "colab": {
          "base_uri": "https://localhost:8080/"
        }
      },
      "outputs": [
        {
          "output_type": "stream",
          "name": "stdout",
          "text": [
            "(572, 1, 9) (572,) (144, 1, 9) (144,)\n"
          ]
        }
      ],
      "source": [
        "train_X0 = train_X0.reshape((train_X0.shape[0], 1, train_X0.shape[1]))\n",
        "test_X0 = test_X0.reshape((test_X0.shape[0], 1, test_X0.shape[1]))\n",
        "print(train_X0.shape, train_y0.shape, test_X0.shape, test_y0.shape)"
      ]
    },
    {
      "cell_type": "code",
      "execution_count": 27,
      "metadata": {
        "id": "IikZXKZcCdZr"
      },
      "outputs": [],
      "source": [
        "from keras.models import Sequential\n",
        "from keras.layers import Dense, LSTM, Dropout\n",
        "from keras.regularizers import L2"
      ]
    },
    {
      "cell_type": "code",
      "execution_count": 28,
      "metadata": {
        "id": "Y-zLf4xvCdZr"
      },
      "outputs": [],
      "source": [
        "# # design network\n",
        "# model = Sequential()\n",
        "# model.add(LSTM(50, input_shape=(train_X0.shape[1], train_X0.shape[2]), return_sequences=True))\n",
        "# model.add(LSTM(50, return_sequences=True))\n",
        "# model.add(Dense(32, activation='relu'))\n",
        "# model.add(Dense(1))\n",
        "# model.compile(loss='mae', optimizer='rmsprop')\n",
        "\n",
        "# # fit network\n",
        "# history = model.fit(train_X0, train_y0, epochs=50, batch_size=72, verbose=2, shuffle=False, validation_data=(test_X0, test_y0))\n",
        "\n",
        "# # plot history\n",
        "# plt.plot(history.history['loss'], label='train')\n",
        "# plt.plot(history.history['val_loss'], label='test')\n",
        "# plt.legend()\n",
        "# plt.show()\n"
      ]
    },
    {
      "cell_type": "code",
      "execution_count": 29,
      "metadata": {
        "id": "d16KxSA_CdZr"
      },
      "outputs": [],
      "source": [
        "# # design network\n",
        "# model = Sequential()\n",
        "# model.add(LSTM(50, input_shape=(train_X0.shape[1], train_X0.shape[2]), return_sequences=True))\n",
        "# model.add(Dropout(0.2))\n",
        "# model.add(LSTM(50, return_sequences=True))\n",
        "# model.add(Dropout(0.2))\n",
        "# model.add(Dense(32, activation='relu', kernel_regularizer=L2(0.01)))\n",
        "# model.add(Dense(1))\n",
        "# model.compile(loss='mse', optimizer='adam')\n",
        "\n",
        "# # fit network\n",
        "# history = model.fit(train_X0, train_y0, epochs=100, batch_size=32, verbose=2, shuffle=False, validation_data=(test_X0, test_y0))\n",
        "\n",
        "# # plot history\n",
        "# plt.plot(history.history['loss'], label='train')\n",
        "# plt.plot(history.history['val_loss'], label='test')\n",
        "# plt.legend()\n",
        "# plt.show()"
      ]
    },
    {
      "cell_type": "code",
      "execution_count": 30,
      "metadata": {
        "id": "XkS9g49DCdZr",
        "outputId": "e68d1443-496f-4494-ff5b-4581ce9f67bd",
        "colab": {
          "base_uri": "https://localhost:8080/",
          "height": 1000
        }
      },
      "outputs": [
        {
          "output_type": "stream",
          "name": "stdout",
          "text": [
            "Epoch 1/100\n",
            "18/18 - 6s - loss: 0.1296 - val_loss: 0.0929 - 6s/epoch - 320ms/step\n",
            "Epoch 2/100\n",
            "18/18 - 0s - loss: 0.0441 - val_loss: 0.0047 - 92ms/epoch - 5ms/step\n",
            "Epoch 3/100\n",
            "18/18 - 0s - loss: 0.0059 - val_loss: 0.0040 - 94ms/epoch - 5ms/step\n",
            "Epoch 4/100\n",
            "18/18 - 0s - loss: 0.0030 - val_loss: 0.0016 - 101ms/epoch - 6ms/step\n",
            "Epoch 5/100\n",
            "18/18 - 0s - loss: 0.0028 - val_loss: 0.0018 - 91ms/epoch - 5ms/step\n",
            "Epoch 6/100\n",
            "18/18 - 0s - loss: 0.0026 - val_loss: 0.0015 - 107ms/epoch - 6ms/step\n",
            "Epoch 7/100\n",
            "18/18 - 0s - loss: 0.0025 - val_loss: 0.0015 - 88ms/epoch - 5ms/step\n",
            "Epoch 8/100\n",
            "18/18 - 0s - loss: 0.0022 - val_loss: 0.0015 - 101ms/epoch - 6ms/step\n",
            "Epoch 9/100\n",
            "18/18 - 0s - loss: 0.0023 - val_loss: 0.0016 - 90ms/epoch - 5ms/step\n",
            "Epoch 10/100\n",
            "18/18 - 0s - loss: 0.0024 - val_loss: 0.0015 - 87ms/epoch - 5ms/step\n",
            "Epoch 11/100\n",
            "18/18 - 0s - loss: 0.0022 - val_loss: 0.0015 - 92ms/epoch - 5ms/step\n",
            "Epoch 12/100\n",
            "18/18 - 0s - loss: 0.0023 - val_loss: 0.0014 - 88ms/epoch - 5ms/step\n",
            "Epoch 13/100\n",
            "18/18 - 0s - loss: 0.0022 - val_loss: 0.0014 - 88ms/epoch - 5ms/step\n",
            "Epoch 14/100\n",
            "18/18 - 0s - loss: 0.0022 - val_loss: 0.0014 - 99ms/epoch - 5ms/step\n",
            "Epoch 15/100\n",
            "18/18 - 0s - loss: 0.0023 - val_loss: 0.0014 - 90ms/epoch - 5ms/step\n",
            "Epoch 16/100\n",
            "18/18 - 0s - loss: 0.0022 - val_loss: 0.0014 - 92ms/epoch - 5ms/step\n",
            "Epoch 17/100\n",
            "18/18 - 0s - loss: 0.0022 - val_loss: 0.0014 - 113ms/epoch - 6ms/step\n",
            "Epoch 18/100\n",
            "18/18 - 0s - loss: 0.0021 - val_loss: 0.0014 - 103ms/epoch - 6ms/step\n",
            "Epoch 19/100\n",
            "18/18 - 0s - loss: 0.0023 - val_loss: 0.0014 - 111ms/epoch - 6ms/step\n",
            "Epoch 20/100\n",
            "18/18 - 0s - loss: 0.0023 - val_loss: 0.0015 - 89ms/epoch - 5ms/step\n",
            "Epoch 21/100\n",
            "18/18 - 0s - loss: 0.0020 - val_loss: 0.0015 - 89ms/epoch - 5ms/step\n",
            "Epoch 22/100\n",
            "18/18 - 0s - loss: 0.0021 - val_loss: 0.0014 - 102ms/epoch - 6ms/step\n",
            "Epoch 23/100\n",
            "18/18 - 0s - loss: 0.0022 - val_loss: 0.0015 - 95ms/epoch - 5ms/step\n",
            "Epoch 24/100\n",
            "18/18 - 0s - loss: 0.0022 - val_loss: 0.0014 - 101ms/epoch - 6ms/step\n",
            "Epoch 25/100\n",
            "18/18 - 0s - loss: 0.0023 - val_loss: 0.0014 - 109ms/epoch - 6ms/step\n",
            "Epoch 26/100\n",
            "18/18 - 0s - loss: 0.0021 - val_loss: 0.0015 - 105ms/epoch - 6ms/step\n",
            "Epoch 27/100\n",
            "18/18 - 0s - loss: 0.0022 - val_loss: 0.0015 - 90ms/epoch - 5ms/step\n",
            "Epoch 28/100\n",
            "18/18 - 0s - loss: 0.0022 - val_loss: 0.0014 - 99ms/epoch - 6ms/step\n",
            "Epoch 29/100\n",
            "18/18 - 0s - loss: 0.0022 - val_loss: 0.0014 - 118ms/epoch - 7ms/step\n",
            "Epoch 30/100\n",
            "18/18 - 0s - loss: 0.0021 - val_loss: 0.0015 - 89ms/epoch - 5ms/step\n",
            "Epoch 31/100\n",
            "18/18 - 0s - loss: 0.0020 - val_loss: 0.0015 - 87ms/epoch - 5ms/step\n",
            "Epoch 32/100\n",
            "18/18 - 0s - loss: 0.0020 - val_loss: 0.0015 - 89ms/epoch - 5ms/step\n",
            "Epoch 33/100\n",
            "18/18 - 0s - loss: 0.0020 - val_loss: 0.0015 - 97ms/epoch - 5ms/step\n",
            "Epoch 34/100\n",
            "18/18 - 0s - loss: 0.0021 - val_loss: 0.0015 - 103ms/epoch - 6ms/step\n",
            "Epoch 35/100\n",
            "18/18 - 0s - loss: 0.0021 - val_loss: 0.0015 - 90ms/epoch - 5ms/step\n",
            "Epoch 36/100\n",
            "18/18 - 0s - loss: 0.0022 - val_loss: 0.0015 - 89ms/epoch - 5ms/step\n",
            "Epoch 37/100\n",
            "18/18 - 0s - loss: 0.0021 - val_loss: 0.0014 - 100ms/epoch - 6ms/step\n",
            "Epoch 38/100\n",
            "18/18 - 0s - loss: 0.0021 - val_loss: 0.0015 - 86ms/epoch - 5ms/step\n",
            "Epoch 39/100\n",
            "18/18 - 0s - loss: 0.0022 - val_loss: 0.0015 - 95ms/epoch - 5ms/step\n",
            "Epoch 40/100\n",
            "18/18 - 0s - loss: 0.0021 - val_loss: 0.0014 - 92ms/epoch - 5ms/step\n",
            "Epoch 41/100\n",
            "18/18 - 0s - loss: 0.0020 - val_loss: 0.0015 - 95ms/epoch - 5ms/step\n",
            "Epoch 42/100\n",
            "18/18 - 0s - loss: 0.0021 - val_loss: 0.0015 - 89ms/epoch - 5ms/step\n",
            "Epoch 43/100\n",
            "18/18 - 0s - loss: 0.0022 - val_loss: 0.0015 - 90ms/epoch - 5ms/step\n",
            "Epoch 44/100\n",
            "18/18 - 0s - loss: 0.0022 - val_loss: 0.0015 - 100ms/epoch - 6ms/step\n",
            "Epoch 45/100\n",
            "18/18 - 0s - loss: 0.0021 - val_loss: 0.0016 - 95ms/epoch - 5ms/step\n",
            "Epoch 46/100\n",
            "18/18 - 0s - loss: 0.0021 - val_loss: 0.0015 - 107ms/epoch - 6ms/step\n",
            "Epoch 47/100\n",
            "18/18 - 0s - loss: 0.0021 - val_loss: 0.0015 - 96ms/epoch - 5ms/step\n",
            "Epoch 48/100\n",
            "18/18 - 0s - loss: 0.0021 - val_loss: 0.0014 - 102ms/epoch - 6ms/step\n",
            "Epoch 49/100\n",
            "18/18 - 0s - loss: 0.0021 - val_loss: 0.0015 - 105ms/epoch - 6ms/step\n",
            "Epoch 50/100\n",
            "18/18 - 0s - loss: 0.0020 - val_loss: 0.0015 - 92ms/epoch - 5ms/step\n",
            "Epoch 51/100\n",
            "18/18 - 0s - loss: 0.0020 - val_loss: 0.0014 - 91ms/epoch - 5ms/step\n",
            "Epoch 52/100\n",
            "18/18 - 0s - loss: 0.0023 - val_loss: 0.0014 - 88ms/epoch - 5ms/step\n",
            "Epoch 53/100\n",
            "18/18 - 0s - loss: 0.0022 - val_loss: 0.0015 - 91ms/epoch - 5ms/step\n",
            "Epoch 54/100\n",
            "18/18 - 0s - loss: 0.0021 - val_loss: 0.0015 - 86ms/epoch - 5ms/step\n",
            "Epoch 55/100\n",
            "18/18 - 0s - loss: 0.0021 - val_loss: 0.0015 - 90ms/epoch - 5ms/step\n",
            "Epoch 56/100\n",
            "18/18 - 0s - loss: 0.0019 - val_loss: 0.0015 - 86ms/epoch - 5ms/step\n",
            "Epoch 57/100\n",
            "18/18 - 0s - loss: 0.0022 - val_loss: 0.0015 - 104ms/epoch - 6ms/step\n",
            "Epoch 58/100\n",
            "18/18 - 0s - loss: 0.0020 - val_loss: 0.0015 - 113ms/epoch - 6ms/step\n",
            "Epoch 59/100\n",
            "18/18 - 0s - loss: 0.0020 - val_loss: 0.0015 - 87ms/epoch - 5ms/step\n",
            "Epoch 60/100\n",
            "18/18 - 0s - loss: 0.0021 - val_loss: 0.0015 - 97ms/epoch - 5ms/step\n",
            "Epoch 61/100\n",
            "18/18 - 0s - loss: 0.0021 - val_loss: 0.0015 - 101ms/epoch - 6ms/step\n",
            "Epoch 62/100\n",
            "18/18 - 0s - loss: 0.0020 - val_loss: 0.0015 - 89ms/epoch - 5ms/step\n",
            "Epoch 63/100\n",
            "18/18 - 0s - loss: 0.0020 - val_loss: 0.0015 - 87ms/epoch - 5ms/step\n",
            "Epoch 64/100\n",
            "18/18 - 0s - loss: 0.0020 - val_loss: 0.0014 - 88ms/epoch - 5ms/step\n",
            "Epoch 65/100\n",
            "18/18 - 0s - loss: 0.0019 - val_loss: 0.0014 - 105ms/epoch - 6ms/step\n",
            "Epoch 66/100\n",
            "18/18 - 0s - loss: 0.0021 - val_loss: 0.0015 - 125ms/epoch - 7ms/step\n",
            "Epoch 67/100\n",
            "18/18 - 0s - loss: 0.0020 - val_loss: 0.0016 - 114ms/epoch - 6ms/step\n",
            "Epoch 68/100\n",
            "18/18 - 0s - loss: 0.0021 - val_loss: 0.0014 - 92ms/epoch - 5ms/step\n",
            "Epoch 69/100\n",
            "18/18 - 0s - loss: 0.0020 - val_loss: 0.0014 - 88ms/epoch - 5ms/step\n",
            "Epoch 70/100\n",
            "18/18 - 0s - loss: 0.0020 - val_loss: 0.0014 - 109ms/epoch - 6ms/step\n",
            "Epoch 71/100\n",
            "18/18 - 0s - loss: 0.0020 - val_loss: 0.0015 - 110ms/epoch - 6ms/step\n",
            "Epoch 72/100\n",
            "18/18 - 0s - loss: 0.0019 - val_loss: 0.0015 - 128ms/epoch - 7ms/step\n",
            "Epoch 73/100\n",
            "18/18 - 0s - loss: 0.0020 - val_loss: 0.0014 - 133ms/epoch - 7ms/step\n",
            "Epoch 74/100\n",
            "18/18 - 0s - loss: 0.0020 - val_loss: 0.0015 - 128ms/epoch - 7ms/step\n",
            "Epoch 75/100\n",
            "18/18 - 0s - loss: 0.0020 - val_loss: 0.0015 - 132ms/epoch - 7ms/step\n",
            "Epoch 76/100\n",
            "18/18 - 0s - loss: 0.0020 - val_loss: 0.0015 - 208ms/epoch - 12ms/step\n",
            "Epoch 77/100\n",
            "18/18 - 0s - loss: 0.0020 - val_loss: 0.0014 - 156ms/epoch - 9ms/step\n",
            "Epoch 78/100\n",
            "18/18 - 0s - loss: 0.0019 - val_loss: 0.0014 - 151ms/epoch - 8ms/step\n",
            "Epoch 79/100\n",
            "18/18 - 0s - loss: 0.0020 - val_loss: 0.0015 - 162ms/epoch - 9ms/step\n",
            "Epoch 80/100\n",
            "18/18 - 0s - loss: 0.0019 - val_loss: 0.0015 - 195ms/epoch - 11ms/step\n",
            "Epoch 81/100\n",
            "18/18 - 0s - loss: 0.0020 - val_loss: 0.0015 - 144ms/epoch - 8ms/step\n",
            "Epoch 82/100\n",
            "18/18 - 0s - loss: 0.0019 - val_loss: 0.0015 - 122ms/epoch - 7ms/step\n",
            "Epoch 83/100\n",
            "18/18 - 0s - loss: 0.0020 - val_loss: 0.0014 - 131ms/epoch - 7ms/step\n",
            "Epoch 84/100\n",
            "18/18 - 0s - loss: 0.0020 - val_loss: 0.0014 - 141ms/epoch - 8ms/step\n",
            "Epoch 85/100\n",
            "18/18 - 0s - loss: 0.0020 - val_loss: 0.0015 - 126ms/epoch - 7ms/step\n",
            "Epoch 86/100\n",
            "18/18 - 0s - loss: 0.0020 - val_loss: 0.0014 - 128ms/epoch - 7ms/step\n",
            "Epoch 87/100\n",
            "18/18 - 0s - loss: 0.0020 - val_loss: 0.0014 - 130ms/epoch - 7ms/step\n",
            "Epoch 88/100\n",
            "18/18 - 0s - loss: 0.0020 - val_loss: 0.0014 - 131ms/epoch - 7ms/step\n",
            "Epoch 89/100\n",
            "18/18 - 0s - loss: 0.0020 - val_loss: 0.0014 - 133ms/epoch - 7ms/step\n",
            "Epoch 90/100\n",
            "18/18 - 0s - loss: 0.0020 - val_loss: 0.0015 - 149ms/epoch - 8ms/step\n",
            "Epoch 91/100\n",
            "18/18 - 0s - loss: 0.0019 - val_loss: 0.0014 - 149ms/epoch - 8ms/step\n",
            "Epoch 92/100\n",
            "18/18 - 0s - loss: 0.0020 - val_loss: 0.0014 - 129ms/epoch - 7ms/step\n",
            "Epoch 93/100\n",
            "18/18 - 0s - loss: 0.0019 - val_loss: 0.0015 - 123ms/epoch - 7ms/step\n",
            "Epoch 94/100\n",
            "18/18 - 0s - loss: 0.0019 - val_loss: 0.0015 - 134ms/epoch - 7ms/step\n",
            "Epoch 95/100\n",
            "18/18 - 0s - loss: 0.0019 - val_loss: 0.0014 - 126ms/epoch - 7ms/step\n",
            "Epoch 96/100\n",
            "18/18 - 0s - loss: 0.0019 - val_loss: 0.0014 - 143ms/epoch - 8ms/step\n",
            "Epoch 97/100\n",
            "18/18 - 0s - loss: 0.0019 - val_loss: 0.0015 - 137ms/epoch - 8ms/step\n",
            "Epoch 98/100\n",
            "18/18 - 0s - loss: 0.0019 - val_loss: 0.0015 - 130ms/epoch - 7ms/step\n",
            "Epoch 99/100\n",
            "18/18 - 0s - loss: 0.0019 - val_loss: 0.0014 - 139ms/epoch - 8ms/step\n",
            "Epoch 100/100\n",
            "18/18 - 0s - loss: 0.0019 - val_loss: 0.0014 - 150ms/epoch - 8ms/step\n"
          ]
        },
        {
          "output_type": "display_data",
          "data": {
            "text/plain": [
              "<Figure size 640x480 with 1 Axes>"
            ],
            "image/png": "[encoded data removed]"
          },
          "metadata": {}
        }
      ],
      "source": [
        "# design network\n",
        "model = Sequential()\n",
        "model.add(LSTM(50, input_shape=(train_X0.shape[1], train_X0.shape[2]), return_sequences=True))\n",
        "model.add(Dropout(0.2))\n",
        "model.add(LSTM(50))\n",
        "model.add(Dense(1))\n",
        "model.compile(loss='mse', optimizer='adam')\n",
        "\n",
        "# fit network\n",
        "history = model.fit(train_X0, train_y0, epochs=100, batch_size=32, verbose=2, shuffle=False, validation_data=(test_X0, test_y0))\n",
        "\n",
        "# plot history\n",
        "plt.plot(history.history['loss'], label='train')\n",
        "plt.plot(history.history['val_loss'], label='test')\n",
        "plt.legend()\n",
        "plt.show()"
      ]
    },
    {
      "cell_type": "code",
      "execution_count": 31,
      "metadata": {
        "id": "nzbS6AHRCdZs",
        "outputId": "98617e68-d4bd-42ea-f30e-c29f64de1719",
        "colab": {
          "base_uri": "https://localhost:8080/",
          "height": 503
        }
      },
      "outputs": [
        {
          "output_type": "stream",
          "name": "stdout",
          "text": [
            "5/5 [==============================] - 1s 3ms/step\n",
            "(144, 1) (144,)\n",
            "(144,) (144,)\n",
            "Test MAE: 0.014\n"
          ]
        },
        {
          "output_type": "display_data",
          "data": {
            "text/plain": [
              "<Figure size 640x480 with 1 Axes>"
            ],
            "image/png": "[encoded data removed]"
          },
          "metadata": {}
        }
      ],
      "source": [
        "# make predictions on test data\n",
        "from sklearn.metrics import mean_absolute_error\n",
        "\n",
        "\n",
        "y_pred = model.predict(test_X0)\n",
        "print(y_pred.shape, test_y0.shape)\n",
        "y_pred = y_pred.reshape(-1)\n",
        "test_y0 = test_y0.reshape(-1)\n",
        "print(y_pred.shape, test_y0.shape)\n",
        "# calculate MAE\n",
        "mae = mean_absolute_error(test_y0, y_pred)\n",
        "print('Test MAE: %.3f' % mae)\n",
        "\n",
        "# plot actual vs predicted values\n",
        "plt.plot(test_y0)\n",
        "plt.plot(y_pred)\n",
        "plt.legend(['Actual', 'Predicted'])\n",
        "plt.show()"
      ]
    },
    {
      "cell_type": "code",
      "execution_count": 32,
      "metadata": {
        "id": "ySTSIZQ8CdZs",
        "outputId": "3b1d8ff2-f7a1-4acd-fdda-dec284caa82b",
        "colab": {
          "base_uri": "https://localhost:8080/"
        }
      },
      "outputs": [
        {
          "output_type": "stream",
          "name": "stdout",
          "text": [
            "Test MSE: 0.001\n",
            "Test RMSE: 0.038\n"
          ]
        }
      ],
      "source": [
        "from sklearn.metrics import mean_squared_error\n",
        "\n",
        "# calculate MSE\n",
        "mse = mean_squared_error(test_y0, y_pred)\n",
        "print('Test MSE: %.3f' % mse)\n",
        "\n",
        "rmse = np.sqrt(mse)\n",
        "print('Test RMSE: %.3f' % rmse)"
      ]
    },
    {
      "cell_type": "code",
      "execution_count": 33,
      "metadata": {
        "id": "FWVU_U0uCdZs",
        "outputId": "bedca398-c1cf-42ea-aa1d-cfc15982d1ae",
        "colab": {
          "base_uri": "https://localhost:8080/"
        }
      },
      "outputs": [
        {
          "output_type": "stream",
          "name": "stdout",
          "text": [
            "0.32661667738483335\n"
          ]
        }
      ],
      "source": [
        "from sklearn.metrics import r2_score\n",
        "acc = r2_score(test_y0, y_pred)\n",
        "print(acc)"
      ]
    },
    {
      "cell_type": "markdown",
      "metadata": {
        "id": "kDKBQvzHCdZs"
      },
      "source": [
        "Cross Validation"
      ]
    },
    {
      "cell_type": "code",
      "execution_count": 34,
      "metadata": {
        "id": "BVeHU4JwCdZs",
        "outputId": "3b7b8e3e-20d0-493e-e170-9cc6561a3804",
        "colab": {
          "base_uri": "https://localhost:8080/",
          "height": 423
        }
      },
      "outputs": [
        {
          "output_type": "execute_result",
          "data": {
            "text/plain": [
              "           date  weather_cluster  holiday_ind  var1(t-7)  var1(t-6)  \\\n",
              "0    2012-03-06              0.5     0.000000   0.000000   0.002300   \n",
              "1    2012-03-07              0.5     0.000000   0.104430   0.305883   \n",
              "2    2012-03-08              0.5     0.000000   0.376936   0.296927   \n",
              "3    2012-03-09              0.5     0.000000   0.368897   0.341869   \n",
              "4    2012-03-10              0.5     0.000539   0.409238   0.183217   \n",
              "..          ...              ...          ...        ...        ...   \n",
              "711  2014-02-17              1.0     0.000000   0.397648   0.327280   \n",
              "712  2014-02-18              1.0     0.000000   0.396143   0.324331   \n",
              "713  2014-02-19              1.0     0.000000   0.393496   0.315167   \n",
              "714  2014-02-20              1.0     0.000000   0.385270   0.313659   \n",
              "715  2014-02-21              1.0     0.000000   0.383916   0.323435   \n",
              "\n",
              "     var1(t-5)  var1(t-4)  var1(t-3)  var1(t-2)  var1(t-1)   var1(t)  \n",
              "0     0.305883   0.296927   0.341869   0.183217   0.062277  0.297856  \n",
              "1     0.296927   0.341869   0.183217   0.062277   0.163088  0.206110  \n",
              "2     0.341869   0.183217   0.062277   0.163088   0.053733  0.214933  \n",
              "3     0.183217   0.062277   0.163088   0.053733   0.064249  0.268285  \n",
              "4     0.062277   0.163088   0.053733   0.064249   0.127841  0.648641  \n",
              "..         ...        ...        ...        ...        ...       ...  \n",
              "711   0.324331   0.315167   0.313659   0.323435   0.353628  0.418114  \n",
              "712   0.315167   0.313659   0.323435   0.353628   0.306428  0.413964  \n",
              "713   0.313659   0.323435   0.353628   0.306428   0.301482  0.412887  \n",
              "714   0.323435   0.353628   0.306428   0.301482   0.300198  0.417498  \n",
              "715   0.353628   0.306428   0.301482   0.300198   0.305693  0.000000  \n",
              "\n",
              "[716 rows x 11 columns]"
            ],
            "text/html": [
              "\n",
              "  <div id=\"df-440aecf7-c8ae-4eb1-9a69-41fd69dade6b\">\n",
              "    <div class=\"colab-df-container\">\n",
              "      <div>\n",
              "<style scoped>\n",
              "    .dataframe tbody tr th:only-of-type {\n",
              "        vertical-align: middle;\n",
              "    }\n",
              "\n",
              "    .dataframe tbody tr th {\n",
              "        vertical-align: top;\n",
              "    }\n",
              "\n",
              "    .dataframe thead th {\n",
              "        text-align: right;\n",
              "    }\n",
              "</style>\n",
              "<table border=\"1\" class=\"dataframe\">\n",
              "  <thead>\n",
              "    <tr style=\"text-align: right;\">\n",
              "      <th></th>\n",
              "      <th>date</th>\n",
              "      <th>weather_cluster</th>\n",
              "      <th>holiday_ind</th>\n",
              "      <th>var1(t-7)</th>\n",
              "      <th>var1(t-6)</th>\n",
              "      <th>var1(t-5)</th>\n",
              "      <th>var1(t-4)</th>\n",
              "      <th>var1(t-3)</th>\n",
              "      <th>var1(t-2)</th>\n",
              "      <th>var1(t-1)</th>\n",
              "      <th>var1(t)</th>\n",
              "    </tr>\n",
              "  </thead>\n",
              "  <tbody>\n",
              "    <tr>\n",
              "      <th>0</th>\n",
              "      <td>2012-03-06</td>\n",
              "      <td>0.5</td>\n",
              "      <td>0.000000</td>\n",
              "      <td>0.000000</td>\n",
              "      <td>0.002300</td>\n",
              "      <td>0.305883</td>\n",
              "      <td>0.296927</td>\n",
              "      <td>0.341869</td>\n",
              "      <td>0.183217</td>\n",
              "      <td>0.062277</td>\n",
              "      <td>0.297856</td>\n",
              "    </tr>\n",
              "    <tr>\n",
              "      <th>1</th>\n",
              "      <td>2012-03-07</td>\n",
              "      <td>0.5</td>\n",
              "      <td>0.000000</td>\n",
              "      <td>0.104430</td>\n",
              "      <td>0.305883</td>\n",
              "      <td>0.296927</td>\n",
              "      <td>0.341869</td>\n",
              "      <td>0.183217</td>\n",
              "      <td>0.062277</td>\n",
              "      <td>0.163088</td>\n",
              "      <td>0.206110</td>\n",
              "    </tr>\n",
              "    <tr>\n",
              "      <th>2</th>\n",
              "      <td>2012-03-08</td>\n",
              "      <td>0.5</td>\n",
              "      <td>0.000000</td>\n",
              "      <td>0.376936</td>\n",
              "      <td>0.296927</td>\n",
              "      <td>0.341869</td>\n",
              "      <td>0.183217</td>\n",
              "      <td>0.062277</td>\n",
              "      <td>0.163088</td>\n",
              "      <td>0.053733</td>\n",
              "      <td>0.214933</td>\n",
              "    </tr>\n",
              "    <tr>\n",
              "      <th>3</th>\n",
              "      <td>2012-03-09</td>\n",
              "      <td>0.5</td>\n",
              "      <td>0.000000</td>\n",
              "      <td>0.368897</td>\n",
              "      <td>0.341869</td>\n",
              "      <td>0.183217</td>\n",
              "      <td>0.062277</td>\n",
              "      <td>0.163088</td>\n",
              "      <td>0.053733</td>\n",
              "      <td>0.064249</td>\n",
              "      <td>0.268285</td>\n",
              "    </tr>\n",
              "    <tr>\n",
              "      <th>4</th>\n",
              "      <td>2012-03-10</td>\n",
              "      <td>0.5</td>\n",
              "      <td>0.000539</td>\n",
              "      <td>0.409238</td>\n",
              "      <td>0.183217</td>\n",
              "      <td>0.062277</td>\n",
              "      <td>0.163088</td>\n",
              "      <td>0.053733</td>\n",
              "      <td>0.064249</td>\n",
              "      <td>0.127841</td>\n",
              "      <td>0.648641</td>\n",
              "    </tr>\n",
              "    <tr>\n",
              "      <th>...</th>\n",
              "      <td>...</td>\n",
              "      <td>...</td>\n",
              "      <td>...</td>\n",
              "      <td>...</td>\n",
              "      <td>...</td>\n",
              "      <td>...</td>\n",
              "      <td>...</td>\n",
              "      <td>...</td>\n",
              "      <td>...</td>\n",
              "      <td>...</td>\n",
              "      <td>...</td>\n",
              "    </tr>\n",
              "    <tr>\n",
              "      <th>711</th>\n",
              "      <td>2014-02-17</td>\n",
              "      <td>1.0</td>\n",
              "      <td>0.000000</td>\n",
              "      <td>0.397648</td>\n",
              "      <td>0.327280</td>\n",
              "      <td>0.324331</td>\n",
              "      <td>0.315167</td>\n",
              "      <td>0.313659</td>\n",
              "      <td>0.323435</td>\n",
              "      <td>0.353628</td>\n",
              "      <td>0.418114</td>\n",
              "    </tr>\n",
              "    <tr>\n",
              "      <th>712</th>\n",
              "      <td>2014-02-18</td>\n",
              "      <td>1.0</td>\n",
              "      <td>0.000000</td>\n",
              "      <td>0.396143</td>\n",
              "      <td>0.324331</td>\n",
              "      <td>0.315167</td>\n",
              "      <td>0.313659</td>\n",
              "      <td>0.323435</td>\n",
              "      <td>0.353628</td>\n",
              "      <td>0.306428</td>\n",
              "      <td>0.413964</td>\n",
              "    </tr>\n",
              "    <tr>\n",
              "      <th>713</th>\n",
              "      <td>2014-02-19</td>\n",
              "      <td>1.0</td>\n",
              "      <td>0.000000</td>\n",
              "      <td>0.393496</td>\n",
              "      <td>0.315167</td>\n",
              "      <td>0.313659</td>\n",
              "      <td>0.323435</td>\n",
              "      <td>0.353628</td>\n",
              "      <td>0.306428</td>\n",
              "      <td>0.301482</td>\n",
              "      <td>0.412887</td>\n",
              "    </tr>\n",
              "    <tr>\n",
              "      <th>714</th>\n",
              "      <td>2014-02-20</td>\n",
              "      <td>1.0</td>\n",
              "      <td>0.000000</td>\n",
              "      <td>0.385270</td>\n",
              "      <td>0.313659</td>\n",
              "      <td>0.323435</td>\n",
              "      <td>0.353628</td>\n",
              "      <td>0.306428</td>\n",
              "      <td>0.301482</td>\n",
              "      <td>0.300198</td>\n",
              "      <td>0.417498</td>\n",
              "    </tr>\n",
              "    <tr>\n",
              "      <th>715</th>\n",
              "      <td>2014-02-21</td>\n",
              "      <td>1.0</td>\n",
              "      <td>0.000000</td>\n",
              "      <td>0.383916</td>\n",
              "      <td>0.323435</td>\n",
              "      <td>0.353628</td>\n",
              "      <td>0.306428</td>\n",
              "      <td>0.301482</td>\n",
              "      <td>0.300198</td>\n",
              "      <td>0.305693</td>\n",
              "      <td>0.000000</td>\n",
              "    </tr>\n",
              "  </tbody>\n",
              "</table>\n",
              "<p>716 rows × 11 columns</p>\n",
              "</div>\n",
              "      <button class=\"colab-df-convert\" onclick=\"convertToInteractive('df-440aecf7-c8ae-4eb1-9a69-41fd69dade6b')\"\n",
              "              title=\"Convert this dataframe to an interactive table.\"\n",
              "              style=\"display:none;\">\n",
              "        \n",
              "  <svg xmlns=\"http://www.w3.org/2000/svg\" height=\"24px\"viewBox=\"0 0 24 24\"\n",
              "       width=\"24px\">\n",
              "    <path d=\"M0 0h24v24H0V0z\" fill=\"none\"/>\n",
              "    <path d=\"M18.56 5.44l.94 2.06.94-2.06 2.06-.94-2.06-.94-.94-2.06-.94 2.06-2.06.94zm-11 1L8.5 8.5l.94-2.06 2.06-.94-2.06-.94L8.5 2.5l-.94 2.06-2.06.94zm10 10l.94 2.06.94-2.06 2.06-.94-2.06-.94-.94-2.06-.94 2.06-2.06.94z\"/><path d=\"M17.41 7.96l-1.37-1.37c-.4-.4-.92-.59-1.43-.59-.52 0-1.04.2-1.43.59L10.3 9.45l-7.72 7.72c-.78.78-.78 2.05 0 2.83L4 21.41c.39.39.9.59 1.41.59.51 0 1.02-.2 1.41-.59l7.78-7.78 2.81-2.81c.8-.78.8-2.07 0-2.86zM5.41 20L4 18.59l7.72-7.72 1.47 1.35L5.41 20z\"/>\n",
              "  </svg>\n",
              "      </button>\n",
              "      \n",
              "  <style>\n",
              "    .colab-df-container {\n",
              "      display:flex;\n",
              "      flex-wrap:wrap;\n",
              "      gap: 12px;\n",
              "    }\n",
              "\n",
              "    .colab-df-convert {\n",
              "      background-color: #E8F0FE;\n",
              "      border: none;\n",
              "      border-radius: 50%;\n",
              "      cursor: pointer;\n",
              "      display: none;\n",
              "      fill: #1967D2;\n",
              "      height: 32px;\n",
              "      padding: 0 0 0 0;\n",
              "      width: 32px;\n",
              "    }\n",
              "\n",
              "    .colab-df-convert:hover {\n",
              "      background-color: #E2EBFA;\n",
              "      box-shadow: 0px 1px 2px rgba(60, 64, 67, 0.3), 0px 1px 3px 1px rgba(60, 64, 67, 0.15);\n",
              "      fill: #174EA6;\n",
              "    }\n",
              "\n",
              "    [theme=dark] .colab-df-convert {\n",
              "      background-color: #3B4455;\n",
              "      fill: #D2E3FC;\n",
              "    }\n",
              "\n",
              "    [theme=dark] .colab-df-convert:hover {\n",
              "      background-color: #434B5C;\n",
              "      box-shadow: 0px 1px 3px 1px rgba(0, 0, 0, 0.15);\n",
              "      filter: drop-shadow(0px 1px 2px rgba(0, 0, 0, 0.3));\n",
              "      fill: #FFFFFF;\n",
              "    }\n",
              "  </style>\n",
              "\n",
              "      <script>\n",
              "        const buttonEl =\n",
              "          document.querySelector('#df-440aecf7-c8ae-4eb1-9a69-41fd69dade6b button.colab-df-convert');\n",
              "        buttonEl.style.display =\n",
              "          google.colab.kernel.accessAllowed ? 'block' : 'none';\n",
              "\n",
              "        async function convertToInteractive(key) {\n",
              "          const element = document.querySelector('#df-440aecf7-c8ae-4eb1-9a69-41fd69dade6b');\n",
              "          const dataTable =\n",
              "            await google.colab.kernel.invokeFunction('convertToInteractive',\n",
              "                                                     [key], {});\n",
              "          if (!dataTable) return;\n",
              "\n",
              "          const docLinkHtml = 'Like what you see? Visit the ' +\n",
              "            '<a target=\"_blank\" href=https://colab.research.google.com/notebooks/data_table.ipynb>data table notebook</a>'\n",
              "            + ' to learn more about interactive tables.';\n",
              "          element.innerHTML = '';\n",
              "          dataTable['output_type'] = 'display_data';\n",
              "          await google.colab.output.renderOutput(dataTable, element);\n",
              "          const docLink = document.createElement('div');\n",
              "          docLink.innerHTML = docLinkHtml;\n",
              "          element.appendChild(docLink);\n",
              "        }\n",
              "      </script>\n",
              "    </div>\n",
              "  </div>\n",
              "  "
            ]
          },
          "metadata": {},
          "execution_count": 34
        }
      ],
      "source": [
        "df_temp0 = pd.DataFrame(reframed0, columns = ['weather_cluster', 'holiday_ind','var1(t-7)', 'var1(t-6)', 'var1(t-5)', 'var1(t-4)', 'var1(t-3)','var1(t-2)', 'var1(t-1)', 'var1(t)'])\n",
        "df_temp0['date'] = energy0['day']\n",
        "df_temp0 = df_temp0[['date', 'weather_cluster', 'holiday_ind','var1(t-7)', 'var1(t-6)', 'var1(t-5)', 'var1(t-4)', 'var1(t-3)','var1(t-2)', 'var1(t-1)', 'var1(t)']]\n",
        "df_temp0"
      ]
    },
    {
      "cell_type": "code",
      "execution_count": 35,
      "metadata": {
        "id": "ukznk7eKCdZs"
      },
      "outputs": [],
      "source": [
        "X = df_temp0.iloc[:,:-1]\n",
        "y = df_temp0.iloc[:,-1]"
      ]
    },
    {
      "cell_type": "code",
      "execution_count": 36,
      "metadata": {
        "id": "-k68t8mtCdZt"
      },
      "outputs": [],
      "source": [
        "from sklearn.model_selection import GroupKFold\n",
        "\n",
        "# Assuming you have time series data X and target variable y, as well as a groups variable defining the groups\n",
        "# For example, groups could be the year or month of each data point\n",
        "\n",
        "# Define the number of folds and the groups for each data point\n",
        "n_splits = 5\n",
        "scores = []\n",
        "groups = X['date']\n",
        "\n",
        "# Define the grouped k-fold cross-validation object\n",
        "group_kfold = GroupKFold(n_splits=n_splits)"
      ]
    },
    {
      "cell_type": "code",
      "execution_count": 37,
      "metadata": {
        "id": "42K5MGu1CdZt",
        "outputId": "baa29e32-2a94-47c3-cc1a-599f595231dc",
        "colab": {
          "base_uri": "https://localhost:8080/",
          "height": 423
        }
      },
      "outputs": [
        {
          "output_type": "execute_result",
          "data": {
            "text/plain": [
              "     weather_cluster  holiday_ind  var1(t-7)  var1(t-6)  var1(t-5)  var1(t-4)  \\\n",
              "0                0.5     0.000000   0.000000   0.002300   0.305883   0.296927   \n",
              "1                0.5     0.000000   0.104430   0.305883   0.296927   0.341869   \n",
              "2                0.5     0.000000   0.376936   0.296927   0.341869   0.183217   \n",
              "3                0.5     0.000000   0.368897   0.341869   0.183217   0.062277   \n",
              "4                0.5     0.000539   0.409238   0.183217   0.062277   0.163088   \n",
              "..               ...          ...        ...        ...        ...        ...   \n",
              "711              1.0     0.000000   0.397648   0.327280   0.324331   0.315167   \n",
              "712              1.0     0.000000   0.396143   0.324331   0.315167   0.313659   \n",
              "713              1.0     0.000000   0.393496   0.315167   0.313659   0.323435   \n",
              "714              1.0     0.000000   0.385270   0.313659   0.323435   0.353628   \n",
              "715              1.0     0.000000   0.383916   0.323435   0.353628   0.306428   \n",
              "\n",
              "     var1(t-3)  var1(t-2)  var1(t-1)  \n",
              "0     0.341869   0.183217   0.062277  \n",
              "1     0.183217   0.062277   0.163088  \n",
              "2     0.062277   0.163088   0.053733  \n",
              "3     0.163088   0.053733   0.064249  \n",
              "4     0.053733   0.064249   0.127841  \n",
              "..         ...        ...        ...  \n",
              "711   0.313659   0.323435   0.353628  \n",
              "712   0.323435   0.353628   0.306428  \n",
              "713   0.353628   0.306428   0.301482  \n",
              "714   0.306428   0.301482   0.300198  \n",
              "715   0.301482   0.300198   0.305693  \n",
              "\n",
              "[716 rows x 9 columns]"
            ],
            "text/html": [
              "\n",
              "  <div id=\"df-d2d8f9aa-65c8-48d2-9419-8599e75592c7\">\n",
              "    <div class=\"colab-df-container\">\n",
              "      <div>\n",
              "<style scoped>\n",
              "    .dataframe tbody tr th:only-of-type {\n",
              "        vertical-align: middle;\n",
              "    }\n",
              "\n",
              "    .dataframe tbody tr th {\n",
              "        vertical-align: top;\n",
              "    }\n",
              "\n",
              "    .dataframe thead th {\n",
              "        text-align: right;\n",
              "    }\n",
              "</style>\n",
              "<table border=\"1\" class=\"dataframe\">\n",
              "  <thead>\n",
              "    <tr style=\"text-align: right;\">\n",
              "      <th></th>\n",
              "      <th>weather_cluster</th>\n",
              "      <th>holiday_ind</th>\n",
              "      <th>var1(t-7)</th>\n",
              "      <th>var1(t-6)</th>\n",
              "      <th>var1(t-5)</th>\n",
              "      <th>var1(t-4)</th>\n",
              "      <th>var1(t-3)</th>\n",
              "      <th>var1(t-2)</th>\n",
              "      <th>var1(t-1)</th>\n",
              "    </tr>\n",
              "  </thead>\n",
              "  <tbody>\n",
              "    <tr>\n",
              "      <th>0</th>\n",
              "      <td>0.5</td>\n",
              "      <td>0.000000</td>\n",
              "      <td>0.000000</td>\n",
              "      <td>0.002300</td>\n",
              "      <td>0.305883</td>\n",
              "      <td>0.296927</td>\n",
              "      <td>0.341869</td>\n",
              "      <td>0.183217</td>\n",
              "      <td>0.062277</td>\n",
              "    </tr>\n",
              "    <tr>\n",
              "      <th>1</th>\n",
              "      <td>0.5</td>\n",
              "      <td>0.000000</td>\n",
              "      <td>0.104430</td>\n",
              "      <td>0.305883</td>\n",
              "      <td>0.296927</td>\n",
              "      <td>0.341869</td>\n",
              "      <td>0.183217</td>\n",
              "      <td>0.062277</td>\n",
              "      <td>0.163088</td>\n",
              "    </tr>\n",
              "    <tr>\n",
              "      <th>2</th>\n",
              "      <td>0.5</td>\n",
              "      <td>0.000000</td>\n",
              "      <td>0.376936</td>\n",
              "      <td>0.296927</td>\n",
              "      <td>0.341869</td>\n",
              "      <td>0.183217</td>\n",
              "      <td>0.062277</td>\n",
              "      <td>0.163088</td>\n",
              "      <td>0.053733</td>\n",
              "    </tr>\n",
              "    <tr>\n",
              "      <th>3</th>\n",
              "      <td>0.5</td>\n",
              "      <td>0.000000</td>\n",
              "      <td>0.368897</td>\n",
              "      <td>0.341869</td>\n",
              "      <td>0.183217</td>\n",
              "      <td>0.062277</td>\n",
              "      <td>0.163088</td>\n",
              "      <td>0.053733</td>\n",
              "      <td>0.064249</td>\n",
              "    </tr>\n",
              "    <tr>\n",
              "      <th>4</th>\n",
              "      <td>0.5</td>\n",
              "      <td>0.000539</td>\n",
              "      <td>0.409238</td>\n",
              "      <td>0.183217</td>\n",
              "      <td>0.062277</td>\n",
              "      <td>0.163088</td>\n",
              "      <td>0.053733</td>\n",
              "      <td>0.064249</td>\n",
              "      <td>0.127841</td>\n",
              "    </tr>\n",
              "    <tr>\n",
              "      <th>...</th>\n",
              "      <td>...</td>\n",
              "      <td>...</td>\n",
              "      <td>...</td>\n",
              "      <td>...</td>\n",
              "      <td>...</td>\n",
              "      <td>...</td>\n",
              "      <td>...</td>\n",
              "      <td>...</td>\n",
              "      <td>...</td>\n",
              "    </tr>\n",
              "    <tr>\n",
              "      <th>711</th>\n",
              "      <td>1.0</td>\n",
              "      <td>0.000000</td>\n",
              "      <td>0.397648</td>\n",
              "      <td>0.327280</td>\n",
              "      <td>0.324331</td>\n",
              "      <td>0.315167</td>\n",
              "      <td>0.313659</td>\n",
              "      <td>0.323435</td>\n",
              "      <td>0.353628</td>\n",
              "    </tr>\n",
              "    <tr>\n",
              "      <th>712</th>\n",
              "      <td>1.0</td>\n",
              "      <td>0.000000</td>\n",
              "      <td>0.396143</td>\n",
              "      <td>0.324331</td>\n",
              "      <td>0.315167</td>\n",
              "      <td>0.313659</td>\n",
              "      <td>0.323435</td>\n",
              "      <td>0.353628</td>\n",
              "      <td>0.306428</td>\n",
              "    </tr>\n",
              "    <tr>\n",
              "      <th>713</th>\n",
              "      <td>1.0</td>\n",
              "      <td>0.000000</td>\n",
              "      <td>0.393496</td>\n",
              "      <td>0.315167</td>\n",
              "      <td>0.313659</td>\n",
              "      <td>0.323435</td>\n",
              "      <td>0.353628</td>\n",
              "      <td>0.306428</td>\n",
              "      <td>0.301482</td>\n",
              "    </tr>\n",
              "    <tr>\n",
              "      <th>714</th>\n",
              "      <td>1.0</td>\n",
              "      <td>0.000000</td>\n",
              "      <td>0.385270</td>\n",
              "      <td>0.313659</td>\n",
              "      <td>0.323435</td>\n",
              "      <td>0.353628</td>\n",
              "      <td>0.306428</td>\n",
              "      <td>0.301482</td>\n",
              "      <td>0.300198</td>\n",
              "    </tr>\n",
              "    <tr>\n",
              "      <th>715</th>\n",
              "      <td>1.0</td>\n",
              "      <td>0.000000</td>\n",
              "      <td>0.383916</td>\n",
              "      <td>0.323435</td>\n",
              "      <td>0.353628</td>\n",
              "      <td>0.306428</td>\n",
              "      <td>0.301482</td>\n",
              "      <td>0.300198</td>\n",
              "      <td>0.305693</td>\n",
              "    </tr>\n",
              "  </tbody>\n",
              "</table>\n",
              "<p>716 rows × 9 columns</p>\n",
              "</div>\n",
              "      <button class=\"colab-df-convert\" onclick=\"convertToInteractive('df-d2d8f9aa-65c8-48d2-9419-8599e75592c7')\"\n",
              "              title=\"Convert this dataframe to an interactive table.\"\n",
              "              style=\"display:none;\">\n",
              "        \n",
              "  <svg xmlns=\"http://www.w3.org/2000/svg\" height=\"24px\"viewBox=\"0 0 24 24\"\n",
              "       width=\"24px\">\n",
              "    <path d=\"M0 0h24v24H0V0z\" fill=\"none\"/>\n",
              "    <path d=\"M18.56 5.44l.94 2.06.94-2.06 2.06-.94-2.06-.94-.94-2.06-.94 2.06-2.06.94zm-11 1L8.5 8.5l.94-2.06 2.06-.94-2.06-.94L8.5 2.5l-.94 2.06-2.06.94zm10 10l.94 2.06.94-2.06 2.06-.94-2.06-.94-.94-2.06-.94 2.06-2.06.94z\"/><path d=\"M17.41 7.96l-1.37-1.37c-.4-.4-.92-.59-1.43-.59-.52 0-1.04.2-1.43.59L10.3 9.45l-7.72 7.72c-.78.78-.78 2.05 0 2.83L4 21.41c.39.39.9.59 1.41.59.51 0 1.02-.2 1.41-.59l7.78-7.78 2.81-2.81c.8-.78.8-2.07 0-2.86zM5.41 20L4 18.59l7.72-7.72 1.47 1.35L5.41 20z\"/>\n",
              "  </svg>\n",
              "      </button>\n",
              "      \n",
              "  <style>\n",
              "    .colab-df-container {\n",
              "      display:flex;\n",
              "      flex-wrap:wrap;\n",
              "      gap: 12px;\n",
              "    }\n",
              "\n",
              "    .colab-df-convert {\n",
              "      background-color: #E8F0FE;\n",
              "      border: none;\n",
              "      border-radius: 50%;\n",
              "      cursor: pointer;\n",
              "      display: none;\n",
              "      fill: #1967D2;\n",
              "      height: 32px;\n",
              "      padding: 0 0 0 0;\n",
              "      width: 32px;\n",
              "    }\n",
              "\n",
              "    .colab-df-convert:hover {\n",
              "      background-color: #E2EBFA;\n",
              "      box-shadow: 0px 1px 2px rgba(60, 64, 67, 0.3), 0px 1px 3px 1px rgba(60, 64, 67, 0.15);\n",
              "      fill: #174EA6;\n",
              "    }\n",
              "\n",
              "    [theme=dark] .colab-df-convert {\n",
              "      background-color: #3B4455;\n",
              "      fill: #D2E3FC;\n",
              "    }\n",
              "\n",
              "    [theme=dark] .colab-df-convert:hover {\n",
              "      background-color: #434B5C;\n",
              "      box-shadow: 0px 1px 3px 1px rgba(0, 0, 0, 0.15);\n",
              "      filter: drop-shadow(0px 1px 2px rgba(0, 0, 0, 0.3));\n",
              "      fill: #FFFFFF;\n",
              "    }\n",
              "  </style>\n",
              "\n",
              "      <script>\n",
              "        const buttonEl =\n",
              "          document.querySelector('#df-d2d8f9aa-65c8-48d2-9419-8599e75592c7 button.colab-df-convert');\n",
              "        buttonEl.style.display =\n",
              "          google.colab.kernel.accessAllowed ? 'block' : 'none';\n",
              "\n",
              "        async function convertToInteractive(key) {\n",
              "          const element = document.querySelector('#df-d2d8f9aa-65c8-48d2-9419-8599e75592c7');\n",
              "          const dataTable =\n",
              "            await google.colab.kernel.invokeFunction('convertToInteractive',\n",
              "                                                     [key], {});\n",
              "          if (!dataTable) return;\n",
              "\n",
              "          const docLinkHtml = 'Like what you see? Visit the ' +\n",
              "            '<a target=\"_blank\" href=https://colab.research.google.com/notebooks/data_table.ipynb>data table notebook</a>'\n",
              "            + ' to learn more about interactive tables.';\n",
              "          element.innerHTML = '';\n",
              "          dataTable['output_type'] = 'display_data';\n",
              "          await google.colab.output.renderOutput(dataTable, element);\n",
              "          const docLink = document.createElement('div');\n",
              "          docLink.innerHTML = docLinkHtml;\n",
              "          element.appendChild(docLink);\n",
              "        }\n",
              "      </script>\n",
              "    </div>\n",
              "  </div>\n",
              "  "
            ]
          },
          "metadata": {},
          "execution_count": 37
        }
      ],
      "source": [
        "X = X.drop(['date'], axis=1)\n",
        "X"
      ]
    },
    {
      "cell_type": "code",
      "execution_count": 38,
      "metadata": {
        "id": "ul6GZbOjCdZt",
        "outputId": "f17e3ca6-cb36-46bc-fada-522a46a1c382",
        "colab": {
          "base_uri": "https://localhost:8080/"
        }
      },
      "outputs": [
        {
          "output_type": "stream",
          "name": "stdout",
          "text": [
            "18/18 [==============================] - 0s 4ms/step - loss: 0.0017\n",
            "5/5 [==============================] - 0s 3ms/step - loss: 0.0019\n",
            "18/18 [==============================] - 0s 4ms/step - loss: 0.0021\n",
            "5/5 [==============================] - 0s 3ms/step - loss: 5.1389e-04\n",
            "18/18 [==============================] - 0s 4ms/step - loss: 0.0016\n",
            "5/5 [==============================] - 0s 3ms/step - loss: 0.0021\n",
            "18/18 [==============================] - 0s 4ms/step - loss: 0.0021\n",
            "5/5 [==============================] - 0s 5ms/step - loss: 4.0022e-04\n",
            "18/18 [==============================] - 0s 6ms/step - loss: 0.0014\n",
            "5/5 [==============================] - 0s 3ms/step - loss: 0.0031\n"
          ]
        }
      ],
      "source": [
        "# Loop through each fold and split the data into training and testing sets\n",
        "for train_index, test_index in group_kfold.split(X, y, groups):\n",
        "    X_train, X_test = X.iloc[train_index], X.iloc[test_index]\n",
        "    y_train, y_test = y.iloc[train_index], y.iloc[test_index]\n",
        "\n",
        "    # Converting to nparray\n",
        "    X_train = np.asarray(X_train).astype(np.float32)\n",
        "    X_test = np.asarray(X_test).astype(np.float32)\n",
        "    y_train = np.asarray(y_train).astype(np.float32)\n",
        "    y_test = np.asarray(y_test).astype(np.float32)\n",
        "\n",
        "    X_train = X_train.reshape((X_train.shape[0], 1, X_train.shape[1]))\n",
        "    X_test = X_test.reshape((X_test.shape[0], 1, X_test.shape[1]))\n",
        "    \n",
        "    # Train and evaluate the model on the training and testing sets\n",
        "    model.fit(X_train, y_train)\n",
        "    score = model.evaluate(X_test, y_test)\n",
        "    \n",
        "    # Store the performance score for this fold\n",
        "    scores.append(score)\n",
        "\n",
        "# Compute the average performance score over all the folds\n",
        "avg_score = sum(scores) / n_splits"
      ]
    },
    {
      "cell_type": "code",
      "execution_count": 39,
      "metadata": {
        "id": "c9PkycvACdZt",
        "outputId": "ee0aa107-4b7c-435b-b554-3d0d3f9262e0",
        "colab": {
          "base_uri": "https://localhost:8080/"
        }
      },
      "outputs": [
        {
          "output_type": "execute_result",
          "data": {
            "text/plain": [
              "['loss']"
            ]
          },
          "metadata": {},
          "execution_count": 39
        }
      ],
      "source": [
        "model.metrics_names"
      ]
    },
    {
      "cell_type": "code",
      "execution_count": 40,
      "metadata": {
        "id": "pcqcwjFdCdZt",
        "outputId": "55f81714-0bc7-4451-898d-7edc11c7c687",
        "colab": {
          "base_uri": "https://localhost:8080/"
        }
      },
      "outputs": [
        {
          "output_type": "execute_result",
          "data": {
            "text/plain": [
              "[0.0019140566000714898,\n",
              " 0.0005138884880580008,\n",
              " 0.002121152589097619,\n",
              " 0.00040021975291892886,\n",
              " 0.0031301777344197035]"
            ]
          },
          "metadata": {},
          "execution_count": 40
        }
      ],
      "source": [
        "scores"
      ]
    },
    {
      "cell_type": "code",
      "execution_count": 41,
      "metadata": {
        "id": "5eYEVmTyCdZu",
        "outputId": "6233cfc4-4183-4a06-ed3d-913ff404d507",
        "colab": {
          "base_uri": "https://localhost:8080/"
        }
      },
      "outputs": [
        {
          "output_type": "execute_result",
          "data": {
            "text/plain": [
              "0.0016158990329131484"
            ]
          },
          "metadata": {},
          "execution_count": 41
        }
      ],
      "source": [
        "avg_score"
      ]
    },
    {
      "cell_type": "code",
      "execution_count": 42,
      "metadata": {
        "id": "RMaITWM3CdZu"
      },
      "outputs": [],
      "source": [
        "# Interpretation:\n",
        "# We took 'loss' as the evaluation metric while training our model, so this cross validation score basically means the how well the model is performing on data that it hasn't seen during training. \n",
        "# Here, the less validation score indicates better performance of the model. \n",
        "# Higher validation score would mean overfitting on the training data."
      ]
    },
    {
      "cell_type": "markdown",
      "metadata": {
        "id": "c0Ir1X1aCdZu"
      },
      "source": [
        "Grid Search"
      ]
    },
    {
      "cell_type": "code",
      "execution_count": 43,
      "metadata": {
        "id": "DOjQcwoiCdZu"
      },
      "outputs": [],
      "source": [
        "def create_model(units=50, optimizer='adam'):\n",
        "    model = Sequential()\n",
        "    model.add(LSTM(units, input_shape=(train_X0.shape[1], train_X0.shape[2]), return_sequences=True))\n",
        "    model.add(Dropout(0.2))\n",
        "    model.add(LSTM(units))\n",
        "    model.add(Dense(1))\n",
        "    model.compile(loss='mse', optimizer='adam')\n",
        "    return model"
      ]
    },
    {
      "cell_type": "code",
      "execution_count": 44,
      "metadata": {
        "id": "CJcMvEKYCdZv",
        "outputId": "59004ecc-bdc5-40f7-a53d-e2e96142adef",
        "colab": {
          "base_uri": "https://localhost:8080/",
          "height": 430
        }
      },
      "outputs": [
        {
          "output_type": "display_data",
          "data": {
            "text/plain": [
              "<Figure size 640x480 with 1 Axes>"
            ],
            "image/png": "[encoded data removed]"
          },
          "metadata": {}
        }
      ],
      "source": [
        "# MODEL update after Grid Search (units = 128,64 and verbose = 0)\n",
        "\n",
        "# design network\n",
        "model = Sequential()\n",
        "model.add(LSTM(128, input_shape=(train_X0.shape[1], train_X0.shape[2]), return_sequences=True))\n",
        "model.add(Dropout(0.2))\n",
        "model.add(LSTM(64))\n",
        "model.add(Dense(1))\n",
        "model.compile(loss='mse', optimizer='adam')\n",
        "\n",
        "# fit network\n",
        "history = model.fit(train_X0, train_y0, epochs=100, batch_size=32, verbose=0, shuffle=False, validation_data=(test_X0, test_y0))\n",
        "\n",
        "# plot history\n",
        "plt.plot(history.history['loss'], label='train')\n",
        "plt.plot(history.history['val_loss'], label='test')\n",
        "plt.legend()\n",
        "plt.show()"
      ]
    },
    {
      "cell_type": "code",
      "execution_count": 45,
      "metadata": {
        "id": "kLSKWhZkCdZv",
        "outputId": "989c643d-2692-445e-915e-fe376ebc5a12",
        "colab": {
          "base_uri": "https://localhost:8080/",
          "height": 503
        }
      },
      "outputs": [
        {
          "output_type": "stream",
          "name": "stdout",
          "text": [
            "5/5 [==============================] - 1s 3ms/step\n",
            "(144, 1) (144,)\n",
            "(144,) (144,)\n",
            "Test MAE: 0.013\n"
          ]
        },
        {
          "output_type": "display_data",
          "data": {
            "text/plain": [
              "<Figure size 640x480 with 1 Axes>"
            ],
            "image/png": "[encoded data removed]"
          },
          "metadata": {}
        }
      ],
      "source": [
        "# make predictions on test data\n",
        "from sklearn.metrics import mean_absolute_error\n",
        "\n",
        "\n",
        "y_pred = model.predict(test_X0)\n",
        "print(y_pred.shape, test_y0.shape)\n",
        "y_pred = y_pred.reshape(-1)\n",
        "test_y0 = test_y0.reshape(-1)\n",
        "print(y_pred.shape, test_y0.shape)\n",
        "# calculate MAE\n",
        "mae = mean_absolute_error(test_y0, y_pred)\n",
        "print('Test MAE: %.3f' % mae)\n",
        "\n",
        "# plot actual vs predicted values\n",
        "plt.plot(test_y0)\n",
        "plt.plot(y_pred)\n",
        "plt.legend(['Actual', 'Predicted'])\n",
        "plt.show()"
      ]
    },
    {
      "cell_type": "code",
      "execution_count": 46,
      "metadata": {
        "id": "BzAO-Wv7CdZw",
        "outputId": "d3691201-28c3-410f-c775-0b097c0e7aff",
        "colab": {
          "base_uri": "https://localhost:8080/"
        }
      },
      "outputs": [
        {
          "output_type": "stream",
          "name": "stdout",
          "text": [
            "Test MSE: 0.001\n",
            "Test RMSE: 0.038\n"
          ]
        }
      ],
      "source": [
        "from sklearn.metrics import mean_squared_error\n",
        "\n",
        "# calculate MSE\n",
        "mse = mean_squared_error(test_y0, y_pred)\n",
        "print('Test MSE: %.3f' % mse)\n",
        "\n",
        "rmse = np.sqrt(mse)\n",
        "print('Test RMSE: %.3f' % rmse)"
      ]
    },
    {
      "cell_type": "code",
      "execution_count": 47,
      "metadata": {
        "id": "wm7oh-3iCdZw",
        "outputId": "63b7e1da-cd1d-43ea-df93-aa60ecc42572",
        "colab": {
          "base_uri": "https://localhost:8080/"
        }
      },
      "outputs": [
        {
          "output_type": "stream",
          "name": "stdout",
          "text": [
            "0.3236447955462918\n"
          ]
        }
      ],
      "source": [
        "from sklearn.metrics import r2_score\n",
        "acc = r2_score(test_y0, y_pred)\n",
        "print(acc)"
      ]
    }
  ],
  "metadata": {
    "kernelspec": {
      "display_name": "Python 3 (ipykernel)",
      "language": "python",
      "name": "python3"
    },
    "language_info": {
      "codemirror_mode": {
        "name": "ipython",
        "version": 3
      },
      "file_extension": ".py",
      "mimetype": "text/x-python",
      "name": "python",
      "nbconvert_exporter": "python",
      "pygments_lexer": "ipython3",
      "version": "3.8.10"
    },
    "colab": {
      "provenance": []
    }
  },
  "nbformat": 4,
  "nbformat_minor": 0
}