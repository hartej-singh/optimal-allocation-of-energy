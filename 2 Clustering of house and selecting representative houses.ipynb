{
 "cells": [
  {
   "cell_type": "code",
   "execution_count": 7,
   "metadata": {},
   "outputs": [],
   "source": [
    "import pandas as pd"
   ]
  },
  {
   "cell_type": "code",
   "execution_count": 8,
   "metadata": {},
   "outputs": [
    {
     "data": {
      "text/html": [
       "<div>\n",
       "<style scoped>\n",
       "    .dataframe tbody tr th:only-of-type {\n",
       "        vertical-align: middle;\n",
       "    }\n",
       "\n",
       "    .dataframe tbody tr th {\n",
       "        vertical-align: top;\n",
       "    }\n",
       "\n",
       "    .dataframe thead th {\n",
       "        text-align: right;\n",
       "    }\n",
       "</style>\n",
       "<table border=\"1\" class=\"dataframe\">\n",
       "  <thead>\n",
       "    <tr style=\"text-align: right;\">\n",
       "      <th></th>\n",
       "      <th>LCLid</th>\n",
       "      <th>energy_avg</th>\n",
       "      <th>temp_avg</th>\n",
       "      <th>windspeed_avg</th>\n",
       "      <th>humidity_avg</th>\n",
       "      <th>holiday_avg</th>\n",
       "    </tr>\n",
       "  </thead>\n",
       "  <tbody>\n",
       "    <tr>\n",
       "      <th>0</th>\n",
       "      <td>MAC000002</td>\n",
       "      <td>12.045565</td>\n",
       "      <td>12.906012</td>\n",
       "      <td>3.676151</td>\n",
       "      <td>0.786746</td>\n",
       "      <td>0.283730</td>\n",
       "    </tr>\n",
       "    <tr>\n",
       "      <th>1</th>\n",
       "      <td>MAC000003</td>\n",
       "      <td>19.041507</td>\n",
       "      <td>14.297000</td>\n",
       "      <td>3.542851</td>\n",
       "      <td>0.777027</td>\n",
       "      <td>0.283784</td>\n",
       "    </tr>\n",
       "    <tr>\n",
       "      <th>2</th>\n",
       "      <td>MAC000004</td>\n",
       "      <td>1.691726</td>\n",
       "      <td>14.465552</td>\n",
       "      <td>3.601755</td>\n",
       "      <td>0.778109</td>\n",
       "      <td>0.282905</td>\n",
       "    </tr>\n",
       "    <tr>\n",
       "      <th>3</th>\n",
       "      <td>MAC000005</td>\n",
       "      <td>4.564345</td>\n",
       "      <td>14.301994</td>\n",
       "      <td>3.617174</td>\n",
       "      <td>0.780063</td>\n",
       "      <td>0.284144</td>\n",
       "    </tr>\n",
       "    <tr>\n",
       "      <th>4</th>\n",
       "      <td>MAC000006</td>\n",
       "      <td>2.848296</td>\n",
       "      <td>14.030447</td>\n",
       "      <td>3.526439</td>\n",
       "      <td>0.777201</td>\n",
       "      <td>0.283837</td>\n",
       "    </tr>\n",
       "    <tr>\n",
       "      <th>...</th>\n",
       "      <td>...</td>\n",
       "      <td>...</td>\n",
       "      <td>...</td>\n",
       "      <td>...</td>\n",
       "      <td>...</td>\n",
       "      <td>...</td>\n",
       "    </tr>\n",
       "    <tr>\n",
       "      <th>5556</th>\n",
       "      <td>MAC005562</td>\n",
       "      <td>10.438841</td>\n",
       "      <td>14.462224</td>\n",
       "      <td>3.599138</td>\n",
       "      <td>0.778336</td>\n",
       "      <td>0.281392</td>\n",
       "    </tr>\n",
       "    <tr>\n",
       "      <th>5557</th>\n",
       "      <td>MAC005564</td>\n",
       "      <td>4.003516</td>\n",
       "      <td>13.748559</td>\n",
       "      <td>3.616215</td>\n",
       "      <td>0.782431</td>\n",
       "      <td>0.282986</td>\n",
       "    </tr>\n",
       "    <tr>\n",
       "      <th>5558</th>\n",
       "      <td>MAC005565</td>\n",
       "      <td>2.895000</td>\n",
       "      <td>14.683333</td>\n",
       "      <td>4.603333</td>\n",
       "      <td>0.846667</td>\n",
       "      <td>0.000000</td>\n",
       "    </tr>\n",
       "    <tr>\n",
       "      <th>5559</th>\n",
       "      <td>MAC005566</td>\n",
       "      <td>17.354778</td>\n",
       "      <td>12.931637</td>\n",
       "      <td>3.659864</td>\n",
       "      <td>0.787505</td>\n",
       "      <td>0.282651</td>\n",
       "    </tr>\n",
       "    <tr>\n",
       "      <th>5560</th>\n",
       "      <td>MAC005567</td>\n",
       "      <td>5.185957</td>\n",
       "      <td>13.341579</td>\n",
       "      <td>3.741190</td>\n",
       "      <td>0.775263</td>\n",
       "      <td>0.283753</td>\n",
       "    </tr>\n",
       "  </tbody>\n",
       "</table>\n",
       "<p>5561 rows × 6 columns</p>\n",
       "</div>"
      ],
      "text/plain": [
       "          LCLid  energy_avg   temp_avg  windspeed_avg  humidity_avg  \\\n",
       "0     MAC000002   12.045565  12.906012       3.676151      0.786746   \n",
       "1     MAC000003   19.041507  14.297000       3.542851      0.777027   \n",
       "2     MAC000004    1.691726  14.465552       3.601755      0.778109   \n",
       "3     MAC000005    4.564345  14.301994       3.617174      0.780063   \n",
       "4     MAC000006    2.848296  14.030447       3.526439      0.777201   \n",
       "...         ...         ...        ...            ...           ...   \n",
       "5556  MAC005562   10.438841  14.462224       3.599138      0.778336   \n",
       "5557  MAC005564    4.003516  13.748559       3.616215      0.782431   \n",
       "5558  MAC005565    2.895000  14.683333       4.603333      0.846667   \n",
       "5559  MAC005566   17.354778  12.931637       3.659864      0.787505   \n",
       "5560  MAC005567    5.185957  13.341579       3.741190      0.775263   \n",
       "\n",
       "      holiday_avg  \n",
       "0        0.283730  \n",
       "1        0.283784  \n",
       "2        0.282905  \n",
       "3        0.284144  \n",
       "4        0.283837  \n",
       "...           ...  \n",
       "5556     0.281392  \n",
       "5557     0.282986  \n",
       "5558     0.000000  \n",
       "5559     0.282651  \n",
       "5560     0.283753  \n",
       "\n",
       "[5561 rows x 6 columns]"
      ]
     },
     "execution_count": 8,
     "metadata": {},
     "output_type": "execute_result"
    }
   ],
   "source": [
    "house_avg = pd.read_csv(\"1_house_avg.csv\")\n",
    "house_avg"
   ]
  },
  {
   "cell_type": "markdown",
   "metadata": {},
   "source": [
    "Making clusters of houses"
   ]
  },
  {
   "cell_type": "code",
   "execution_count": 9,
   "metadata": {},
   "outputs": [],
   "source": [
    "from sklearn.preprocessing import MinMaxScaler"
   ]
  },
  {
   "cell_type": "code",
   "execution_count": 10,
   "metadata": {},
   "outputs": [],
   "source": [
    "scaler = MinMaxScaler()\n",
    "parameters_scaled = scaler.fit_transform(house_avg[['energy_avg','temp_avg', 'humidity_avg', 'windspeed_avg', 'holiday_avg']])"
   ]
  },
  {
   "cell_type": "code",
   "execution_count": 11,
   "metadata": {},
   "outputs": [
    {
     "data": {
      "text/plain": [
       "array([[0.11914321, 0.42431146, 0.37198585, 0.45406327, 0.85119048],\n",
       "       [0.18834037, 0.55373353, 0.29324223, 0.37557489, 0.85135135],\n",
       "       [0.01673294, 0.56941617, 0.3020078 , 0.41025805, 0.84871407],\n",
       "       ...,\n",
       "       [0.02863457, 0.58967924, 0.85746437, 1.        , 0.        ],\n",
       "       [0.17165686, 0.42669575, 0.37813401, 0.44447314, 0.84795322],\n",
       "       [0.05129452, 0.46483804, 0.27895132, 0.49235914, 0.85125858]])"
      ]
     },
     "execution_count": 11,
     "metadata": {},
     "output_type": "execute_result"
    }
   ],
   "source": [
    "parameters_scaled"
   ]
  },
  {
   "cell_type": "markdown",
   "metadata": {},
   "source": [
    "Elbow method"
   ]
  },
  {
   "cell_type": "code",
   "execution_count": 12,
   "metadata": {},
   "outputs": [],
   "source": [
    "from sklearn.cluster import KMeans\n",
    "from yellowbrick.cluster import KElbowVisualizer"
   ]
  },
  {
   "cell_type": "code",
   "execution_count": 13,
   "metadata": {},
   "outputs": [
    {
     "data": {
      "image/png": "[encoded data removed]",
      "text/plain": [
       "<Figure size 432x288 with 2 Axes>"
      ]
     },
     "metadata": {},
     "output_type": "display_data"
    },
    {
     "data": {
      "text/plain": [
       "<Axes: title={'center': 'Distortion Score Elbow for KMeans Clustering'}, xlabel='k', ylabel='distortion score'>"
      ]
     },
     "execution_count": 13,
     "metadata": {},
     "output_type": "execute_result"
    }
   ],
   "source": [
    "km = KMeans(random_state=42, n_init=10)\n",
    "visualizer = KElbowVisualizer(km, k=(1,10))\n",
    "visualizer.fit(parameters_scaled) \n",
    "visualizer.show() "
   ]
  },
  {
   "cell_type": "code",
   "execution_count": 14,
   "metadata": {},
   "outputs": [
    {
     "data": {
      "image/png": "[encoded data removed]",
      "text/plain": [
       "<Figure size 432x288 with 2 Axes>"
      ]
     },
     "metadata": {},
     "output_type": "display_data"
    },
    {
     "data": {
      "text/plain": [
       "<Axes: title={'center': 'Distortion Score Elbow for KMeans Clustering'}, xlabel='k', ylabel='distortion score'>"
      ]
     },
     "execution_count": 14,
     "metadata": {},
     "output_type": "execute_result"
    }
   ],
   "source": [
    "visualizer2 = KElbowVisualizer(km, k=(1,20))\n",
    "visualizer2.fit(parameters_scaled) \n",
    "visualizer2.show() "
   ]
  },
  {
   "cell_type": "code",
   "execution_count": 15,
   "metadata": {},
   "outputs": [
    {
     "data": {
      "text/plain": [
       "6"
      ]
     },
     "execution_count": 15,
     "metadata": {},
     "output_type": "execute_result"
    }
   ],
   "source": [
    "k = visualizer2.elbow_value_\n",
    "k"
   ]
  },
  {
   "cell_type": "markdown",
   "metadata": {},
   "source": [
    "Silhouette method"
   ]
  },
  {
   "cell_type": "code",
   "execution_count": 16,
   "metadata": {},
   "outputs": [
    {
     "name": "stderr",
     "output_type": "stream",
     "text": [
      "C:\\Users\\HARTE\\AppData\\Local\\Packages\\PythonSoftwareFoundation.Python.3.8_qbz5n2kfra8p0\\LocalCache\\local-packages\\Python38\\site-packages\\sklearn\\cluster\\_kmeans.py:870: FutureWarning: The default value of `n_init` will change from 10 to 'auto' in 1.4. Set the value of `n_init` explicitly to suppress the warning\n",
      "  warnings.warn(\n"
     ]
    },
    {
     "name": "stdout",
     "output_type": "stream",
     "text": [
      "0.42422794665307667\n"
     ]
    }
   ],
   "source": [
    "from sklearn.cluster import KMeans\n",
    "from sklearn.metrics import silhouette_score\n",
    "\n",
    "# Instantiate the KMeans models\n",
    "km = KMeans(n_clusters=k, random_state=42)\n",
    "\n",
    "# Fit the KMeans model\n",
    "km.fit_predict(parameters_scaled)\n",
    "\n",
    "# Calculate Silhoutte Score\n",
    "score = silhouette_score(parameters_scaled, km.labels_, metric='euclidean')\n",
    "\n",
    "# Print the score\n",
    "print(score)"
   ]
  },
  {
   "cell_type": "code",
   "execution_count": 17,
   "metadata": {},
   "outputs": [
    {
     "name": "stderr",
     "output_type": "stream",
     "text": [
      "C:\\Users\\HARTE\\AppData\\Local\\Packages\\PythonSoftwareFoundation.Python.3.8_qbz5n2kfra8p0\\LocalCache\\local-packages\\Python38\\site-packages\\sklearn\\cluster\\_kmeans.py:870: FutureWarning: The default value of `n_init` will change from 10 to 'auto' in 1.4. Set the value of `n_init` explicitly to suppress the warning\n",
      "  warnings.warn(\n"
     ]
    },
    {
     "data": {
      "text/html": [
       "<style>#sk-container-id-1 {color: black;background-color: white;}#sk-container-id-1 pre{padding: 0;}#sk-container-id-1 div.sk-toggleable {background-color: white;}#sk-container-id-1 label.sk-toggleable__label {cursor: pointer;display: block;width: 100%;margin-bottom: 0;padding: 0.3em;box-sizing: border-box;text-align: center;}#sk-container-id-1 label.sk-toggleable__label-arrow:before {content: \"▸\";float: left;margin-right: 0.25em;color: #696969;}#sk-container-id-1 label.sk-toggleable__label-arrow:hover:before {color: black;}#sk-container-id-1 div.sk-estimator:hover label.sk-toggleable__label-arrow:before {color: black;}#sk-container-id-1 div.sk-toggleable__content {max-height: 0;max-width: 0;overflow: hidden;text-align: left;background-color: #f0f8ff;}#sk-container-id-1 div.sk-toggleable__content pre {margin: 0.2em;color: black;border-radius: 0.25em;background-color: #f0f8ff;}#sk-container-id-1 input.sk-toggleable__control:checked~div.sk-toggleable__content {max-height: 200px;max-width: 100%;overflow: auto;}#sk-container-id-1 input.sk-toggleable__control:checked~label.sk-toggleable__label-arrow:before {content: \"▾\";}#sk-container-id-1 div.sk-estimator input.sk-toggleable__control:checked~label.sk-toggleable__label {background-color: #d4ebff;}#sk-container-id-1 div.sk-label input.sk-toggleable__control:checked~label.sk-toggleable__label {background-color: #d4ebff;}#sk-container-id-1 input.sk-hidden--visually {border: 0;clip: rect(1px 1px 1px 1px);clip: rect(1px, 1px, 1px, 1px);height: 1px;margin: -1px;overflow: hidden;padding: 0;position: absolute;width: 1px;}#sk-container-id-1 div.sk-estimator {font-family: monospace;background-color: #f0f8ff;border: 1px dotted black;border-radius: 0.25em;box-sizing: border-box;margin-bottom: 0.5em;}#sk-container-id-1 div.sk-estimator:hover {background-color: #d4ebff;}#sk-container-id-1 div.sk-parallel-item::after {content: \"\";width: 100%;border-bottom: 1px solid gray;flex-grow: 1;}#sk-container-id-1 div.sk-label:hover label.sk-toggleable__label {background-color: #d4ebff;}#sk-container-id-1 div.sk-serial::before {content: \"\";position: absolute;border-left: 1px solid gray;box-sizing: border-box;top: 0;bottom: 0;left: 50%;z-index: 0;}#sk-container-id-1 div.sk-serial {display: flex;flex-direction: column;align-items: center;background-color: white;padding-right: 0.2em;padding-left: 0.2em;position: relative;}#sk-container-id-1 div.sk-item {position: relative;z-index: 1;}#sk-container-id-1 div.sk-parallel {display: flex;align-items: stretch;justify-content: center;background-color: white;position: relative;}#sk-container-id-1 div.sk-item::before, #sk-container-id-1 div.sk-parallel-item::before {content: \"\";position: absolute;border-left: 1px solid gray;box-sizing: border-box;top: 0;bottom: 0;left: 50%;z-index: -1;}#sk-container-id-1 div.sk-parallel-item {display: flex;flex-direction: column;z-index: 1;position: relative;background-color: white;}#sk-container-id-1 div.sk-parallel-item:first-child::after {align-self: flex-end;width: 50%;}#sk-container-id-1 div.sk-parallel-item:last-child::after {align-self: flex-start;width: 50%;}#sk-container-id-1 div.sk-parallel-item:only-child::after {width: 0;}#sk-container-id-1 div.sk-dashed-wrapped {border: 1px dashed gray;margin: 0 0.4em 0.5em 0.4em;box-sizing: border-box;padding-bottom: 0.4em;background-color: white;}#sk-container-id-1 div.sk-label label {font-family: monospace;font-weight: bold;display: inline-block;line-height: 1.2em;}#sk-container-id-1 div.sk-label-container {text-align: center;}#sk-container-id-1 div.sk-container {/* jupyter's `normalize.less` sets `[hidden] { display: none; }` but bootstrap.min.css set `[hidden] { display: none !important; }` so we also need the `!important` here to be able to override the default hidden behavior on the sphinx rendered scikit-learn.org. See: https://github.com/scikit-learn/scikit-learn/issues/21755 */display: inline-block !important;position: relative;}#sk-container-id-1 div.sk-text-repr-fallback {display: none;}</style><div id=\"sk-container-id-1\" class=\"sk-top-container\"><div class=\"sk-text-repr-fallback\"><pre>SilhouetteVisualizer(ax=&lt;Axes: &gt;, colors=&#x27;yellowbrick&#x27;,\n",
       "                     estimator=KMeans(n_clusters=6, random_state=42))</pre><b>In a Jupyter environment, please rerun this cell to show the HTML representation or trust the notebook. <br />On GitHub, the HTML representation is unable to render, please try loading this page with nbviewer.org.</b></div><div class=\"sk-container\" hidden><div class=\"sk-item sk-dashed-wrapped\"><div class=\"sk-label-container\"><div class=\"sk-label sk-toggleable\"><input class=\"sk-toggleable__control sk-hidden--visually\" id=\"sk-estimator-id-1\" type=\"checkbox\" ><label for=\"sk-estimator-id-1\" class=\"sk-toggleable__label sk-toggleable__label-arrow\">SilhouetteVisualizer</label><div class=\"sk-toggleable__content\"><pre>SilhouetteVisualizer(ax=&lt;Axes: &gt;, colors=&#x27;yellowbrick&#x27;,\n",
       "                     estimator=KMeans(n_clusters=6, random_state=42))</pre></div></div></div><div class=\"sk-parallel\"><div class=\"sk-parallel-item\"><div class=\"sk-item\"><div class=\"sk-label-container\"><div class=\"sk-label sk-toggleable\"><input class=\"sk-toggleable__control sk-hidden--visually\" id=\"sk-estimator-id-2\" type=\"checkbox\" ><label for=\"sk-estimator-id-2\" class=\"sk-toggleable__label sk-toggleable__label-arrow\">estimator: KMeans</label><div class=\"sk-toggleable__content\"><pre>KMeans(n_clusters=6, random_state=42)</pre></div></div></div><div class=\"sk-serial\"><div class=\"sk-item\"><div class=\"sk-estimator sk-toggleable\"><input class=\"sk-toggleable__control sk-hidden--visually\" id=\"sk-estimator-id-3\" type=\"checkbox\" ><label for=\"sk-estimator-id-3\" class=\"sk-toggleable__label sk-toggleable__label-arrow\">KMeans</label><div class=\"sk-toggleable__content\"><pre>KMeans(n_clusters=6, random_state=42)</pre></div></div></div></div></div></div></div></div></div></div>"
      ],
      "text/plain": [
       "SilhouetteVisualizer(ax=<Axes: >, colors='yellowbrick',\n",
       "                     estimator=KMeans(n_clusters=6, random_state=42))"
      ]
     },
     "execution_count": 17,
     "metadata": {},
     "output_type": "execute_result"
    },
    {
     "data": {
      "image/png": "[encoded data removed]",
      "text/plain": [
       "<Figure size 432x288 with 1 Axes>"
      ]
     },
     "metadata": {
      "needs_background": "light"
     },
     "output_type": "display_data"
    }
   ],
   "source": [
    "from yellowbrick.cluster import SilhouetteVisualizer\n",
    "km = KMeans(n_clusters=k, random_state=42)\n",
    "    # q, mod = divmod(i, 2)\n",
    "    \n",
    "    #SilhouetteVisualizer instance with KMeans instance\n",
    "    #Fit the visualizer\n",
    "    \n",
    "visualizer = SilhouetteVisualizer(km, colors='yellowbrick')\n",
    "visualizer.fit(parameters_scaled)"
   ]
  },
  {
   "cell_type": "code",
   "execution_count": 18,
   "metadata": {},
   "outputs": [],
   "source": [
    "from matplotlib import pyplot as plt\n",
    "from sklearn.cluster import KMeans"
   ]
  },
  {
   "cell_type": "code",
   "execution_count": 19,
   "metadata": {},
   "outputs": [
    {
     "name": "stdout",
     "output_type": "stream",
     "text": [
      "[KMeans(n_clusters=1, n_init=10), KMeans(n_clusters=2, n_init=10), KMeans(n_clusters=3, n_init=10), KMeans(n_clusters=4, n_init=10), KMeans(n_clusters=5, n_init=10), KMeans(n_clusters=6, n_init=10)]\n",
      "[-70.91038237511427, -51.51143497197672, -37.4156748358438, -31.516048226672417, -26.9654830390965, -24.01084405538292]\n"
     ]
    },
    {
     "data": {
      "image/png": "[encoded data removed]",
      "text/plain": [
       "<Figure size 432x288 with 1 Axes>"
      ]
     },
     "metadata": {
      "needs_background": "light"
     },
     "output_type": "display_data"
    }
   ],
   "source": [
    "Nc = range(1,k+1)\n",
    "kmeans = [KMeans(n_init=10, n_clusters=i) for i in Nc]\n",
    "print(kmeans)\n",
    "\n",
    "score = [kmeans[i].fit(parameters_scaled).score(parameters_scaled) for i in range(len(kmeans))]\n",
    "print(score)\n",
    "\n",
    "plt.plot(Nc, score)\n",
    "plt.xlabel('Number of Clusters')\n",
    "plt.ylabel('Score')\n",
    "plt.show()"
   ]
  },
  {
   "cell_type": "code",
   "execution_count": 20,
   "metadata": {},
   "outputs": [
    {
     "data": {
      "text/plain": [
       "LCLid            5561\n",
       "energy_avg       5561\n",
       "temp_avg         1171\n",
       "windspeed_avg    1171\n",
       "humidity_avg     1145\n",
       "holiday_avg       651\n",
       "clusters            6\n",
       "dtype: int64"
      ]
     },
     "execution_count": 20,
     "metadata": {},
     "output_type": "execute_result"
    }
   ],
   "source": [
    "kmeans = KMeans(n_clusters=k, max_iter=600, algorithm='lloyd', n_init=10)\n",
    "kmeans.fit(parameters_scaled)\n",
    "house_avg['clusters'] = kmeans.labels_\n",
    "house_avg.nunique()"
   ]
  },
  {
   "cell_type": "code",
   "execution_count": 21,
   "metadata": {},
   "outputs": [
    {
     "data": {
      "image/png": "[encoded data removed]",
      "text/plain": [
       "<Figure size 1440x360 with 3 Axes>"
      ]
     },
     "metadata": {
      "needs_background": "light"
     },
     "output_type": "display_data"
    }
   ],
   "source": [
    "# Cluster Relationships with weather variables\n",
    "plt.figure(figsize=(20,5))\n",
    "plt.subplot(1, 3, 1)\n",
    "plt.scatter(house_avg['clusters'],house_avg['temp_avg'])\n",
    "plt.title('Weather Cluster vs. Temperature')\n",
    "plt.subplot(1, 3, 2)\n",
    "plt.scatter(house_avg['clusters'],house_avg['humidity_avg'])\n",
    "plt.title('Weather Cluster vs. Humidity')\n",
    "plt.subplot(1, 3, 3)\n",
    "plt.scatter(house_avg['clusters'],house_avg['windspeed_avg'])\n",
    "plt.title('Weather Cluster vs. WindSpeed')\n",
    "plt.show()"
   ]
  },
  {
   "cell_type": "code",
   "execution_count": 22,
   "metadata": {},
   "outputs": [
    {
     "data": {
      "text/html": [
       "<div>\n",
       "<style scoped>\n",
       "    .dataframe tbody tr th:only-of-type {\n",
       "        vertical-align: middle;\n",
       "    }\n",
       "\n",
       "    .dataframe tbody tr th {\n",
       "        vertical-align: top;\n",
       "    }\n",
       "\n",
       "    .dataframe thead th {\n",
       "        text-align: right;\n",
       "    }\n",
       "</style>\n",
       "<table border=\"1\" class=\"dataframe\">\n",
       "  <thead>\n",
       "    <tr style=\"text-align: right;\">\n",
       "      <th></th>\n",
       "      <th>LCLid</th>\n",
       "      <th>energy_avg</th>\n",
       "      <th>temp_avg</th>\n",
       "      <th>windspeed_avg</th>\n",
       "      <th>humidity_avg</th>\n",
       "      <th>holiday_avg</th>\n",
       "      <th>clusters</th>\n",
       "    </tr>\n",
       "  </thead>\n",
       "  <tbody>\n",
       "    <tr>\n",
       "      <th>0</th>\n",
       "      <td>MAC000002</td>\n",
       "      <td>12.045565</td>\n",
       "      <td>12.906012</td>\n",
       "      <td>3.676151</td>\n",
       "      <td>0.786746</td>\n",
       "      <td>0.283730</td>\n",
       "      <td>2</td>\n",
       "    </tr>\n",
       "    <tr>\n",
       "      <th>1</th>\n",
       "      <td>MAC000003</td>\n",
       "      <td>19.041507</td>\n",
       "      <td>14.297000</td>\n",
       "      <td>3.542851</td>\n",
       "      <td>0.777027</td>\n",
       "      <td>0.283784</td>\n",
       "      <td>3</td>\n",
       "    </tr>\n",
       "    <tr>\n",
       "      <th>2</th>\n",
       "      <td>MAC000004</td>\n",
       "      <td>1.691726</td>\n",
       "      <td>14.465552</td>\n",
       "      <td>3.601755</td>\n",
       "      <td>0.778109</td>\n",
       "      <td>0.282905</td>\n",
       "      <td>0</td>\n",
       "    </tr>\n",
       "    <tr>\n",
       "      <th>3</th>\n",
       "      <td>MAC000005</td>\n",
       "      <td>4.564345</td>\n",
       "      <td>14.301994</td>\n",
       "      <td>3.617174</td>\n",
       "      <td>0.780063</td>\n",
       "      <td>0.284144</td>\n",
       "      <td>0</td>\n",
       "    </tr>\n",
       "    <tr>\n",
       "      <th>4</th>\n",
       "      <td>MAC000006</td>\n",
       "      <td>2.848296</td>\n",
       "      <td>14.030447</td>\n",
       "      <td>3.526439</td>\n",
       "      <td>0.777201</td>\n",
       "      <td>0.283837</td>\n",
       "      <td>0</td>\n",
       "    </tr>\n",
       "    <tr>\n",
       "      <th>...</th>\n",
       "      <td>...</td>\n",
       "      <td>...</td>\n",
       "      <td>...</td>\n",
       "      <td>...</td>\n",
       "      <td>...</td>\n",
       "      <td>...</td>\n",
       "      <td>...</td>\n",
       "    </tr>\n",
       "    <tr>\n",
       "      <th>5556</th>\n",
       "      <td>MAC005562</td>\n",
       "      <td>10.438841</td>\n",
       "      <td>14.462224</td>\n",
       "      <td>3.599138</td>\n",
       "      <td>0.778336</td>\n",
       "      <td>0.281392</td>\n",
       "      <td>0</td>\n",
       "    </tr>\n",
       "    <tr>\n",
       "      <th>5557</th>\n",
       "      <td>MAC005564</td>\n",
       "      <td>4.003516</td>\n",
       "      <td>13.748559</td>\n",
       "      <td>3.616215</td>\n",
       "      <td>0.782431</td>\n",
       "      <td>0.282986</td>\n",
       "      <td>0</td>\n",
       "    </tr>\n",
       "    <tr>\n",
       "      <th>5558</th>\n",
       "      <td>MAC005565</td>\n",
       "      <td>2.895000</td>\n",
       "      <td>14.683333</td>\n",
       "      <td>4.603333</td>\n",
       "      <td>0.846667</td>\n",
       "      <td>0.000000</td>\n",
       "      <td>4</td>\n",
       "    </tr>\n",
       "    <tr>\n",
       "      <th>5559</th>\n",
       "      <td>MAC005566</td>\n",
       "      <td>17.354778</td>\n",
       "      <td>12.931637</td>\n",
       "      <td>3.659864</td>\n",
       "      <td>0.787505</td>\n",
       "      <td>0.282651</td>\n",
       "      <td>2</td>\n",
       "    </tr>\n",
       "    <tr>\n",
       "      <th>5560</th>\n",
       "      <td>MAC005567</td>\n",
       "      <td>5.185957</td>\n",
       "      <td>13.341579</td>\n",
       "      <td>3.741190</td>\n",
       "      <td>0.775263</td>\n",
       "      <td>0.283753</td>\n",
       "      <td>2</td>\n",
       "    </tr>\n",
       "  </tbody>\n",
       "</table>\n",
       "<p>5561 rows × 7 columns</p>\n",
       "</div>"
      ],
      "text/plain": [
       "          LCLid  energy_avg   temp_avg  windspeed_avg  humidity_avg  \\\n",
       "0     MAC000002   12.045565  12.906012       3.676151      0.786746   \n",
       "1     MAC000003   19.041507  14.297000       3.542851      0.777027   \n",
       "2     MAC000004    1.691726  14.465552       3.601755      0.778109   \n",
       "3     MAC000005    4.564345  14.301994       3.617174      0.780063   \n",
       "4     MAC000006    2.848296  14.030447       3.526439      0.777201   \n",
       "...         ...         ...        ...            ...           ...   \n",
       "5556  MAC005562   10.438841  14.462224       3.599138      0.778336   \n",
       "5557  MAC005564    4.003516  13.748559       3.616215      0.782431   \n",
       "5558  MAC005565    2.895000  14.683333       4.603333      0.846667   \n",
       "5559  MAC005566   17.354778  12.931637       3.659864      0.787505   \n",
       "5560  MAC005567    5.185957  13.341579       3.741190      0.775263   \n",
       "\n",
       "      holiday_avg  clusters  \n",
       "0        0.283730         2  \n",
       "1        0.283784         3  \n",
       "2        0.282905         0  \n",
       "3        0.284144         0  \n",
       "4        0.283837         0  \n",
       "...           ...       ...  \n",
       "5556     0.281392         0  \n",
       "5557     0.282986         0  \n",
       "5558     0.000000         4  \n",
       "5559     0.282651         2  \n",
       "5560     0.283753         2  \n",
       "\n",
       "[5561 rows x 7 columns]"
      ]
     },
     "execution_count": 22,
     "metadata": {},
     "output_type": "execute_result"
    }
   ],
   "source": [
    "house_avg"
   ]
  },
  {
   "cell_type": "code",
   "execution_count": 23,
   "metadata": {},
   "outputs": [
    {
     "data": {
      "text/html": [
       "<div>\n",
       "<style scoped>\n",
       "    .dataframe tbody tr th:only-of-type {\n",
       "        vertical-align: middle;\n",
       "    }\n",
       "\n",
       "    .dataframe tbody tr th {\n",
       "        vertical-align: top;\n",
       "    }\n",
       "\n",
       "    .dataframe thead th {\n",
       "        text-align: right;\n",
       "    }\n",
       "</style>\n",
       "<table border=\"1\" class=\"dataframe\">\n",
       "  <thead>\n",
       "    <tr style=\"text-align: right;\">\n",
       "      <th></th>\n",
       "      <th>LCLid</th>\n",
       "      <th>energy_avg</th>\n",
       "      <th>temp_avg</th>\n",
       "      <th>windspeed_avg</th>\n",
       "      <th>humidity_avg</th>\n",
       "      <th>holiday_avg</th>\n",
       "    </tr>\n",
       "    <tr>\n",
       "      <th>clusters</th>\n",
       "      <th></th>\n",
       "      <th></th>\n",
       "      <th></th>\n",
       "      <th></th>\n",
       "      <th></th>\n",
       "      <th></th>\n",
       "    </tr>\n",
       "  </thead>\n",
       "  <tbody>\n",
       "    <tr>\n",
       "      <th>0</th>\n",
       "      <td>MAC000004</td>\n",
       "      <td>1.691726</td>\n",
       "      <td>14.465552</td>\n",
       "      <td>3.601755</td>\n",
       "      <td>0.778109</td>\n",
       "      <td>0.282905</td>\n",
       "    </tr>\n",
       "    <tr>\n",
       "      <th>1</th>\n",
       "      <td>MAC000008</td>\n",
       "      <td>17.341466</td>\n",
       "      <td>15.490608</td>\n",
       "      <td>3.469337</td>\n",
       "      <td>0.769595</td>\n",
       "      <td>0.285451</td>\n",
       "    </tr>\n",
       "    <tr>\n",
       "      <th>2</th>\n",
       "      <td>MAC000002</td>\n",
       "      <td>12.045565</td>\n",
       "      <td>12.906012</td>\n",
       "      <td>3.676151</td>\n",
       "      <td>0.786746</td>\n",
       "      <td>0.283730</td>\n",
       "    </tr>\n",
       "    <tr>\n",
       "      <th>3</th>\n",
       "      <td>MAC000003</td>\n",
       "      <td>19.041507</td>\n",
       "      <td>14.297000</td>\n",
       "      <td>3.542851</td>\n",
       "      <td>0.777027</td>\n",
       "      <td>0.283784</td>\n",
       "    </tr>\n",
       "    <tr>\n",
       "      <th>4</th>\n",
       "      <td>MAC001477</td>\n",
       "      <td>16.242000</td>\n",
       "      <td>10.158906</td>\n",
       "      <td>4.227266</td>\n",
       "      <td>0.817109</td>\n",
       "      <td>0.273438</td>\n",
       "    </tr>\n",
       "    <tr>\n",
       "      <th>5</th>\n",
       "      <td>MAC000010</td>\n",
       "      <td>26.352492</td>\n",
       "      <td>12.983774</td>\n",
       "      <td>3.665747</td>\n",
       "      <td>0.788161</td>\n",
       "      <td>0.281609</td>\n",
       "    </tr>\n",
       "  </tbody>\n",
       "</table>\n",
       "</div>"
      ],
      "text/plain": [
       "              LCLid  energy_avg   temp_avg  windspeed_avg  humidity_avg  \\\n",
       "clusters                                                                  \n",
       "0         MAC000004    1.691726  14.465552       3.601755      0.778109   \n",
       "1         MAC000008   17.341466  15.490608       3.469337      0.769595   \n",
       "2         MAC000002   12.045565  12.906012       3.676151      0.786746   \n",
       "3         MAC000003   19.041507  14.297000       3.542851      0.777027   \n",
       "4         MAC001477   16.242000  10.158906       4.227266      0.817109   \n",
       "5         MAC000010   26.352492  12.983774       3.665747      0.788161   \n",
       "\n",
       "          holiday_avg  \n",
       "clusters               \n",
       "0            0.282905  \n",
       "1            0.285451  \n",
       "2            0.283730  \n",
       "3            0.283784  \n",
       "4            0.273438  \n",
       "5            0.281609  "
      ]
     },
     "execution_count": 23,
     "metadata": {},
     "output_type": "execute_result"
    }
   ],
   "source": [
    "groups = house_avg.groupby('clusters')\n",
    "groups.first()"
   ]
  },
  {
   "cell_type": "code",
   "execution_count": 24,
   "metadata": {},
   "outputs": [
    {
     "name": "stdout",
     "output_type": "stream",
     "text": [
      "0 2964\n",
      "1 184\n",
      "2 779\n",
      "3 1393\n",
      "4 21\n",
      "5 220\n",
      "Average group length = 926.8333333333334\n"
     ]
    }
   ],
   "source": [
    "group_lengths = []\n",
    "for i in range(k):\n",
    "    print(i, len(groups.get_group(i)))\n",
    "    group_lengths.append(len(groups.get_group(i)))\n",
    "print(\"Average group length =\", sum(group_lengths)/len(group_lengths))"
   ]
  },
  {
   "cell_type": "markdown",
   "metadata": {},
   "source": [
    "Finding the representative houses for clusters with more than average number of houses"
   ]
  },
  {
   "cell_type": "code",
   "execution_count": 25,
   "metadata": {},
   "outputs": [
    {
     "data": {
      "text/plain": [
       "array([[0.11914321, 0.42431146, 0.37198585, 0.45406327, 0.85119048],\n",
       "       [0.18834037, 0.55373353, 0.29324223, 0.37557489, 0.85135135],\n",
       "       [0.01673294, 0.56941617, 0.3020078 , 0.41025805, 0.84871407],\n",
       "       ...,\n",
       "       [0.02863457, 0.58967924, 0.85746437, 1.        , 0.        ],\n",
       "       [0.17165686, 0.42669575, 0.37813401, 0.44447314, 0.84795322],\n",
       "       [0.05129452, 0.46483804, 0.27895132, 0.49235914, 0.85125858]])"
      ]
     },
     "execution_count": 25,
     "metadata": {},
     "output_type": "execute_result"
    }
   ],
   "source": [
    "parameters_scaled"
   ]
  },
  {
   "cell_type": "code",
   "execution_count": 26,
   "metadata": {},
   "outputs": [
    {
     "data": {
      "text/html": [
       "<div>\n",
       "<style scoped>\n",
       "    .dataframe tbody tr th:only-of-type {\n",
       "        vertical-align: middle;\n",
       "    }\n",
       "\n",
       "    .dataframe tbody tr th {\n",
       "        vertical-align: top;\n",
       "    }\n",
       "\n",
       "    .dataframe thead th {\n",
       "        text-align: right;\n",
       "    }\n",
       "</style>\n",
       "<table border=\"1\" class=\"dataframe\">\n",
       "  <thead>\n",
       "    <tr style=\"text-align: right;\">\n",
       "      <th></th>\n",
       "      <th>dist</th>\n",
       "      <th>label</th>\n",
       "    </tr>\n",
       "  </thead>\n",
       "  <tbody>\n",
       "    <tr>\n",
       "      <th>0</th>\n",
       "      <td>0.020520</td>\n",
       "      <td>2</td>\n",
       "    </tr>\n",
       "    <tr>\n",
       "      <th>1</th>\n",
       "      <td>0.049889</td>\n",
       "      <td>3</td>\n",
       "    </tr>\n",
       "    <tr>\n",
       "      <th>2</th>\n",
       "      <td>0.048303</td>\n",
       "      <td>0</td>\n",
       "    </tr>\n",
       "    <tr>\n",
       "      <th>3</th>\n",
       "      <td>0.025519</td>\n",
       "      <td>0</td>\n",
       "    </tr>\n",
       "    <tr>\n",
       "      <th>4</th>\n",
       "      <td>0.054970</td>\n",
       "      <td>0</td>\n",
       "    </tr>\n",
       "    <tr>\n",
       "      <th>...</th>\n",
       "      <td>...</td>\n",
       "      <td>...</td>\n",
       "    </tr>\n",
       "    <tr>\n",
       "      <th>5556</th>\n",
       "      <td>0.047450</td>\n",
       "      <td>0</td>\n",
       "    </tr>\n",
       "    <tr>\n",
       "      <th>5557</th>\n",
       "      <td>0.063254</td>\n",
       "      <td>0</td>\n",
       "    </tr>\n",
       "    <tr>\n",
       "      <th>5558</th>\n",
       "      <td>1.071719</td>\n",
       "      <td>4</td>\n",
       "    </tr>\n",
       "    <tr>\n",
       "      <th>5559</th>\n",
       "      <td>0.068570</td>\n",
       "      <td>2</td>\n",
       "    </tr>\n",
       "    <tr>\n",
       "      <th>5560</th>\n",
       "      <td>0.124602</td>\n",
       "      <td>2</td>\n",
       "    </tr>\n",
       "  </tbody>\n",
       "</table>\n",
       "<p>5561 rows × 2 columns</p>\n",
       "</div>"
      ],
      "text/plain": [
       "          dist  label\n",
       "0     0.020520      2\n",
       "1     0.049889      3\n",
       "2     0.048303      0\n",
       "3     0.025519      0\n",
       "4     0.054970      0\n",
       "...        ...    ...\n",
       "5556  0.047450      0\n",
       "5557  0.063254      0\n",
       "5558  1.071719      4\n",
       "5559  0.068570      2\n",
       "5560  0.124602      2\n",
       "\n",
       "[5561 rows x 2 columns]"
      ]
     },
     "execution_count": 26,
     "metadata": {},
     "output_type": "execute_result"
    }
   ],
   "source": [
    "X_dist = kmeans.transform(parameters_scaled)\n",
    "\n",
    "df = pd.DataFrame(X_dist.min(axis=1), columns=['dist'])\n",
    "df['label'] = house_avg['clusters']\n",
    "\n",
    "df"
   ]
  },
  {
   "cell_type": "code",
   "execution_count": 27,
   "metadata": {},
   "outputs": [
    {
     "data": {
      "text/html": [
       "<div>\n",
       "<style scoped>\n",
       "    .dataframe tbody tr th:only-of-type {\n",
       "        vertical-align: middle;\n",
       "    }\n",
       "\n",
       "    .dataframe tbody tr th {\n",
       "        vertical-align: top;\n",
       "    }\n",
       "\n",
       "    .dataframe thead th {\n",
       "        text-align: right;\n",
       "    }\n",
       "</style>\n",
       "<table border=\"1\" class=\"dataframe\">\n",
       "  <thead>\n",
       "    <tr style=\"text-align: right;\">\n",
       "      <th></th>\n",
       "      <th>LCLid</th>\n",
       "      <th>energy_avg</th>\n",
       "      <th>temp_avg</th>\n",
       "      <th>windspeed_avg</th>\n",
       "      <th>humidity_avg</th>\n",
       "      <th>holiday_avg</th>\n",
       "      <th>clusters</th>\n",
       "      <th>min_dist</th>\n",
       "    </tr>\n",
       "  </thead>\n",
       "  <tbody>\n",
       "    <tr>\n",
       "      <th>0</th>\n",
       "      <td>MAC000002</td>\n",
       "      <td>12.045565</td>\n",
       "      <td>12.906012</td>\n",
       "      <td>3.676151</td>\n",
       "      <td>0.786746</td>\n",
       "      <td>0.283730</td>\n",
       "      <td>2</td>\n",
       "      <td>0.020520</td>\n",
       "    </tr>\n",
       "    <tr>\n",
       "      <th>1</th>\n",
       "      <td>MAC000003</td>\n",
       "      <td>19.041507</td>\n",
       "      <td>14.297000</td>\n",
       "      <td>3.542851</td>\n",
       "      <td>0.777027</td>\n",
       "      <td>0.283784</td>\n",
       "      <td>3</td>\n",
       "      <td>0.049889</td>\n",
       "    </tr>\n",
       "    <tr>\n",
       "      <th>2</th>\n",
       "      <td>MAC000004</td>\n",
       "      <td>1.691726</td>\n",
       "      <td>14.465552</td>\n",
       "      <td>3.601755</td>\n",
       "      <td>0.778109</td>\n",
       "      <td>0.282905</td>\n",
       "      <td>0</td>\n",
       "      <td>0.048303</td>\n",
       "    </tr>\n",
       "    <tr>\n",
       "      <th>3</th>\n",
       "      <td>MAC000005</td>\n",
       "      <td>4.564345</td>\n",
       "      <td>14.301994</td>\n",
       "      <td>3.617174</td>\n",
       "      <td>0.780063</td>\n",
       "      <td>0.284144</td>\n",
       "      <td>0</td>\n",
       "      <td>0.025519</td>\n",
       "    </tr>\n",
       "    <tr>\n",
       "      <th>4</th>\n",
       "      <td>MAC000006</td>\n",
       "      <td>2.848296</td>\n",
       "      <td>14.030447</td>\n",
       "      <td>3.526439</td>\n",
       "      <td>0.777201</td>\n",
       "      <td>0.283837</td>\n",
       "      <td>0</td>\n",
       "      <td>0.054970</td>\n",
       "    </tr>\n",
       "  </tbody>\n",
       "</table>\n",
       "</div>"
      ],
      "text/plain": [
       "       LCLid  energy_avg   temp_avg  windspeed_avg  humidity_avg  holiday_avg  \\\n",
       "0  MAC000002   12.045565  12.906012       3.676151      0.786746     0.283730   \n",
       "1  MAC000003   19.041507  14.297000       3.542851      0.777027     0.283784   \n",
       "2  MAC000004    1.691726  14.465552       3.601755      0.778109     0.282905   \n",
       "3  MAC000005    4.564345  14.301994       3.617174      0.780063     0.284144   \n",
       "4  MAC000006    2.848296  14.030447       3.526439      0.777201     0.283837   \n",
       "\n",
       "   clusters  min_dist  \n",
       "0         2  0.020520  \n",
       "1         3  0.049889  \n",
       "2         0  0.048303  \n",
       "3         0  0.025519  \n",
       "4         0  0.054970  "
      ]
     },
     "execution_count": 27,
     "metadata": {},
     "output_type": "execute_result"
    }
   ],
   "source": [
    "house_avg['min_dist'] = df['dist']\n",
    "house_avg.head()"
   ]
  },
  {
   "cell_type": "code",
   "execution_count": 28,
   "metadata": {},
   "outputs": [
    {
     "data": {
      "text/html": [
       "<div>\n",
       "<style scoped>\n",
       "    .dataframe tbody tr th:only-of-type {\n",
       "        vertical-align: middle;\n",
       "    }\n",
       "\n",
       "    .dataframe tbody tr th {\n",
       "        vertical-align: top;\n",
       "    }\n",
       "\n",
       "    .dataframe thead th {\n",
       "        text-align: right;\n",
       "    }\n",
       "</style>\n",
       "<table border=\"1\" class=\"dataframe\">\n",
       "  <thead>\n",
       "    <tr style=\"text-align: right;\">\n",
       "      <th></th>\n",
       "      <th>LCLid</th>\n",
       "      <th>energy_avg</th>\n",
       "      <th>temp_avg</th>\n",
       "      <th>windspeed_avg</th>\n",
       "      <th>humidity_avg</th>\n",
       "      <th>holiday_avg</th>\n",
       "      <th>clusters</th>\n",
       "      <th>min_dist</th>\n",
       "    </tr>\n",
       "  </thead>\n",
       "  <tbody>\n",
       "    <tr>\n",
       "      <th>1955</th>\n",
       "      <td>MAC001958</td>\n",
       "      <td>6.106586</td>\n",
       "      <td>14.273594</td>\n",
       "      <td>3.595511</td>\n",
       "      <td>0.779569</td>\n",
       "      <td>0.282748</td>\n",
       "      <td>0</td>\n",
       "      <td>0.007932</td>\n",
       "    </tr>\n",
       "    <tr>\n",
       "      <th>4774</th>\n",
       "      <td>MAC004777</td>\n",
       "      <td>6.157570</td>\n",
       "      <td>14.342633</td>\n",
       "      <td>3.593223</td>\n",
       "      <td>0.778374</td>\n",
       "      <td>0.283453</td>\n",
       "      <td>0</td>\n",
       "      <td>0.008518</td>\n",
       "    </tr>\n",
       "    <tr>\n",
       "      <th>2075</th>\n",
       "      <td>MAC002078</td>\n",
       "      <td>6.079942</td>\n",
       "      <td>14.250853</td>\n",
       "      <td>3.593671</td>\n",
       "      <td>0.779952</td>\n",
       "      <td>0.283414</td>\n",
       "      <td>0</td>\n",
       "      <td>0.009658</td>\n",
       "    </tr>\n",
       "    <tr>\n",
       "      <th>4750</th>\n",
       "      <td>MAC004753</td>\n",
       "      <td>5.757426</td>\n",
       "      <td>14.345251</td>\n",
       "      <td>3.592496</td>\n",
       "      <td>0.778336</td>\n",
       "      <td>0.282640</td>\n",
       "      <td>0</td>\n",
       "      <td>0.009765</td>\n",
       "    </tr>\n",
       "    <tr>\n",
       "      <th>1996</th>\n",
       "      <td>MAC001999</td>\n",
       "      <td>5.595885</td>\n",
       "      <td>14.275648</td>\n",
       "      <td>3.599104</td>\n",
       "      <td>0.779392</td>\n",
       "      <td>0.283200</td>\n",
       "      <td>0</td>\n",
       "      <td>0.009896</td>\n",
       "    </tr>\n",
       "    <tr>\n",
       "      <th>...</th>\n",
       "      <td>...</td>\n",
       "      <td>...</td>\n",
       "      <td>...</td>\n",
       "      <td>...</td>\n",
       "      <td>...</td>\n",
       "      <td>...</td>\n",
       "      <td>...</td>\n",
       "      <td>...</td>\n",
       "    </tr>\n",
       "    <tr>\n",
       "      <th>1626</th>\n",
       "      <td>MAC001629</td>\n",
       "      <td>1.828996</td>\n",
       "      <td>14.325774</td>\n",
       "      <td>3.445736</td>\n",
       "      <td>0.802755</td>\n",
       "      <td>0.279245</td>\n",
       "      <td>0</td>\n",
       "      <td>0.214445</td>\n",
       "    </tr>\n",
       "    <tr>\n",
       "      <th>5115</th>\n",
       "      <td>MAC005118</td>\n",
       "      <td>8.755412</td>\n",
       "      <td>14.237824</td>\n",
       "      <td>3.455649</td>\n",
       "      <td>0.803511</td>\n",
       "      <td>0.282443</td>\n",
       "      <td>0</td>\n",
       "      <td>0.214934</td>\n",
       "    </tr>\n",
       "    <tr>\n",
       "      <th>1867</th>\n",
       "      <td>MAC001870</td>\n",
       "      <td>5.766214</td>\n",
       "      <td>14.742101</td>\n",
       "      <td>3.413193</td>\n",
       "      <td>0.803403</td>\n",
       "      <td>0.281513</td>\n",
       "      <td>0</td>\n",
       "      <td>0.226903</td>\n",
       "    </tr>\n",
       "    <tr>\n",
       "      <th>2015</th>\n",
       "      <td>MAC002018</td>\n",
       "      <td>5.967789</td>\n",
       "      <td>14.772456</td>\n",
       "      <td>3.356535</td>\n",
       "      <td>0.804430</td>\n",
       "      <td>0.285088</td>\n",
       "      <td>0</td>\n",
       "      <td>0.250945</td>\n",
       "    </tr>\n",
       "    <tr>\n",
       "      <th>4609</th>\n",
       "      <td>MAC004612</td>\n",
       "      <td>3.189705</td>\n",
       "      <td>15.140929</td>\n",
       "      <td>3.302514</td>\n",
       "      <td>0.805628</td>\n",
       "      <td>0.278689</td>\n",
       "      <td>0</td>\n",
       "      <td>0.286404</td>\n",
       "    </tr>\n",
       "  </tbody>\n",
       "</table>\n",
       "<p>2964 rows × 8 columns</p>\n",
       "</div>"
      ],
      "text/plain": [
       "          LCLid  energy_avg   temp_avg  windspeed_avg  humidity_avg  \\\n",
       "1955  MAC001958    6.106586  14.273594       3.595511      0.779569   \n",
       "4774  MAC004777    6.157570  14.342633       3.593223      0.778374   \n",
       "2075  MAC002078    6.079942  14.250853       3.593671      0.779952   \n",
       "4750  MAC004753    5.757426  14.345251       3.592496      0.778336   \n",
       "1996  MAC001999    5.595885  14.275648       3.599104      0.779392   \n",
       "...         ...         ...        ...            ...           ...   \n",
       "1626  MAC001629    1.828996  14.325774       3.445736      0.802755   \n",
       "5115  MAC005118    8.755412  14.237824       3.455649      0.803511   \n",
       "1867  MAC001870    5.766214  14.742101       3.413193      0.803403   \n",
       "2015  MAC002018    5.967789  14.772456       3.356535      0.804430   \n",
       "4609  MAC004612    3.189705  15.140929       3.302514      0.805628   \n",
       "\n",
       "      holiday_avg  clusters  min_dist  \n",
       "1955     0.282748         0  0.007932  \n",
       "4774     0.283453         0  0.008518  \n",
       "2075     0.283414         0  0.009658  \n",
       "4750     0.282640         0  0.009765  \n",
       "1996     0.283200         0  0.009896  \n",
       "...           ...       ...       ...  \n",
       "1626     0.279245         0  0.214445  \n",
       "5115     0.282443         0  0.214934  \n",
       "1867     0.281513         0  0.226903  \n",
       "2015     0.285088         0  0.250945  \n",
       "4609     0.278689         0  0.286404  \n",
       "\n",
       "[2964 rows x 8 columns]"
      ]
     },
     "execution_count": 28,
     "metadata": {},
     "output_type": "execute_result"
    }
   ],
   "source": [
    "groups = house_avg.groupby('clusters')\n",
    "groups.get_group(0).sort_values('min_dist')"
   ]
  },
  {
   "cell_type": "code",
   "execution_count": 29,
   "metadata": {},
   "outputs": [
    {
     "name": "stdout",
     "output_type": "stream",
     "text": [
      "0 2964\n",
      "1 184\n",
      "2 779\n",
      "3 1393\n",
      "4 21\n",
      "5 220\n",
      "[0, 3]\n"
     ]
    }
   ],
   "source": [
    "cluster_index_for_representation = []\n",
    "for i in range(k):\n",
    "    print(i, len(groups.get_group(i)))\n",
    "    group_lengths.append(len(groups.get_group(i)))\n",
    "avg_group_length = sum(group_lengths)/len(group_lengths)\n",
    "for i in range(k):\n",
    "    if len(groups.get_group(i)) > avg_group_length:\n",
    "        cluster_index_for_representation.append(i)\n",
    "print(cluster_index_for_representation)"
   ]
  },
  {
   "cell_type": "code",
   "execution_count": 30,
   "metadata": {},
   "outputs": [
    {
     "data": {
      "text/plain": [
       "927"
      ]
     },
     "execution_count": 30,
     "metadata": {},
     "output_type": "execute_result"
    }
   ],
   "source": [
    "avg_group_length = int(round(avg_group_length, 0))\n",
    "avg_group_length"
   ]
  },
  {
   "cell_type": "code",
   "execution_count": 31,
   "metadata": {},
   "outputs": [
    {
     "data": {
      "text/html": [
       "<div>\n",
       "<style scoped>\n",
       "    .dataframe tbody tr th:only-of-type {\n",
       "        vertical-align: middle;\n",
       "    }\n",
       "\n",
       "    .dataframe tbody tr th {\n",
       "        vertical-align: top;\n",
       "    }\n",
       "\n",
       "    .dataframe thead th {\n",
       "        text-align: right;\n",
       "    }\n",
       "</style>\n",
       "<table border=\"1\" class=\"dataframe\">\n",
       "  <thead>\n",
       "    <tr style=\"text-align: right;\">\n",
       "      <th></th>\n",
       "      <th>LCLid</th>\n",
       "      <th>energy_avg</th>\n",
       "      <th>temp_avg</th>\n",
       "      <th>humidity_avg</th>\n",
       "      <th>windspeed_avg</th>\n",
       "      <th>holiday_avg</th>\n",
       "      <th>clusters</th>\n",
       "      <th>min_dist</th>\n",
       "    </tr>\n",
       "  </thead>\n",
       "  <tbody>\n",
       "    <tr>\n",
       "      <th>0</th>\n",
       "      <td>MAC001958</td>\n",
       "      <td>6.106586</td>\n",
       "      <td>14.273594</td>\n",
       "      <td>0.779569</td>\n",
       "      <td>3.595511</td>\n",
       "      <td>0.282748</td>\n",
       "      <td>0</td>\n",
       "      <td>0.007932</td>\n",
       "    </tr>\n",
       "    <tr>\n",
       "      <th>1</th>\n",
       "      <td>MAC004777</td>\n",
       "      <td>6.157570</td>\n",
       "      <td>14.342633</td>\n",
       "      <td>0.778374</td>\n",
       "      <td>3.593223</td>\n",
       "      <td>0.283453</td>\n",
       "      <td>0</td>\n",
       "      <td>0.008518</td>\n",
       "    </tr>\n",
       "    <tr>\n",
       "      <th>2</th>\n",
       "      <td>MAC002078</td>\n",
       "      <td>6.079942</td>\n",
       "      <td>14.250853</td>\n",
       "      <td>0.779952</td>\n",
       "      <td>3.593671</td>\n",
       "      <td>0.283414</td>\n",
       "      <td>0</td>\n",
       "      <td>0.009658</td>\n",
       "    </tr>\n",
       "    <tr>\n",
       "      <th>3</th>\n",
       "      <td>MAC004753</td>\n",
       "      <td>5.757426</td>\n",
       "      <td>14.345251</td>\n",
       "      <td>0.778336</td>\n",
       "      <td>3.592496</td>\n",
       "      <td>0.282640</td>\n",
       "      <td>0</td>\n",
       "      <td>0.009765</td>\n",
       "    </tr>\n",
       "    <tr>\n",
       "      <th>4</th>\n",
       "      <td>MAC001999</td>\n",
       "      <td>5.595885</td>\n",
       "      <td>14.275648</td>\n",
       "      <td>0.779392</td>\n",
       "      <td>3.599104</td>\n",
       "      <td>0.283200</td>\n",
       "      <td>0</td>\n",
       "      <td>0.009896</td>\n",
       "    </tr>\n",
       "    <tr>\n",
       "      <th>...</th>\n",
       "      <td>...</td>\n",
       "      <td>...</td>\n",
       "      <td>...</td>\n",
       "      <td>...</td>\n",
       "      <td>...</td>\n",
       "      <td>...</td>\n",
       "      <td>...</td>\n",
       "      <td>...</td>\n",
       "    </tr>\n",
       "    <tr>\n",
       "      <th>3053</th>\n",
       "      <td>MAC005406</td>\n",
       "      <td>70.980437</td>\n",
       "      <td>14.315184</td>\n",
       "      <td>0.777108</td>\n",
       "      <td>3.539004</td>\n",
       "      <td>0.283765</td>\n",
       "      <td>5</td>\n",
       "      <td>0.360641</td>\n",
       "    </tr>\n",
       "    <tr>\n",
       "      <th>3054</th>\n",
       "      <td>MAC003329</td>\n",
       "      <td>69.612081</td>\n",
       "      <td>12.979002</td>\n",
       "      <td>0.788177</td>\n",
       "      <td>3.663340</td>\n",
       "      <td>0.282150</td>\n",
       "      <td>5</td>\n",
       "      <td>0.365543</td>\n",
       "    </tr>\n",
       "    <tr>\n",
       "      <th>3055</th>\n",
       "      <td>MAC000450</td>\n",
       "      <td>72.213097</td>\n",
       "      <td>13.510475</td>\n",
       "      <td>0.777268</td>\n",
       "      <td>3.518694</td>\n",
       "      <td>0.287411</td>\n",
       "      <td>5</td>\n",
       "      <td>0.375413</td>\n",
       "    </tr>\n",
       "    <tr>\n",
       "      <th>3056</th>\n",
       "      <td>MAC002155</td>\n",
       "      <td>91.654794</td>\n",
       "      <td>16.684545</td>\n",
       "      <td>0.788864</td>\n",
       "      <td>3.258977</td>\n",
       "      <td>0.278409</td>\n",
       "      <td>5</td>\n",
       "      <td>0.649275</td>\n",
       "    </tr>\n",
       "    <tr>\n",
       "      <th>3057</th>\n",
       "      <td>MAC004179</td>\n",
       "      <td>101.101569</td>\n",
       "      <td>14.463056</td>\n",
       "      <td>0.778657</td>\n",
       "      <td>3.603164</td>\n",
       "      <td>0.282407</td>\n",
       "      <td>5</td>\n",
       "      <td>0.657028</td>\n",
       "    </tr>\n",
       "  </tbody>\n",
       "</table>\n",
       "<p>3058 rows × 8 columns</p>\n",
       "</div>"
      ],
      "text/plain": [
       "          LCLid  energy_avg   temp_avg  humidity_avg  windspeed_avg  \\\n",
       "0     MAC001958    6.106586  14.273594      0.779569       3.595511   \n",
       "1     MAC004777    6.157570  14.342633      0.778374       3.593223   \n",
       "2     MAC002078    6.079942  14.250853      0.779952       3.593671   \n",
       "3     MAC004753    5.757426  14.345251      0.778336       3.592496   \n",
       "4     MAC001999    5.595885  14.275648      0.779392       3.599104   \n",
       "...         ...         ...        ...           ...            ...   \n",
       "3053  MAC005406   70.980437  14.315184      0.777108       3.539004   \n",
       "3054  MAC003329   69.612081  12.979002      0.788177       3.663340   \n",
       "3055  MAC000450   72.213097  13.510475      0.777268       3.518694   \n",
       "3056  MAC002155   91.654794  16.684545      0.788864       3.258977   \n",
       "3057  MAC004179  101.101569  14.463056      0.778657       3.603164   \n",
       "\n",
       "      holiday_avg clusters  min_dist  \n",
       "0        0.282748        0  0.007932  \n",
       "1        0.283453        0  0.008518  \n",
       "2        0.283414        0  0.009658  \n",
       "3        0.282640        0  0.009765  \n",
       "4        0.283200        0  0.009896  \n",
       "...           ...      ...       ...  \n",
       "3053     0.283765        5  0.360641  \n",
       "3054     0.282150        5  0.365543  \n",
       "3055     0.287411        5  0.375413  \n",
       "3056     0.278409        5  0.649275  \n",
       "3057     0.282407        5  0.657028  \n",
       "\n",
       "[3058 rows x 8 columns]"
      ]
     },
     "execution_count": 31,
     "metadata": {},
     "output_type": "execute_result"
    }
   ],
   "source": [
    "dataset_repre_houses = pd.DataFrame(columns = [\"LCLid\", \"energy_avg\", \"temp_avg\", \"humidity_avg\", \"windspeed_avg\", \"holiday_avg\", \"clusters\", \"min_dist\"])\n",
    "for i in range(k):\n",
    "    if i in cluster_index_for_representation:\n",
    "        temp = groups.get_group(i).sort_values('min_dist')[:avg_group_length]\n",
    "        dataset_repre_houses = pd.concat([dataset_repre_houses,temp], ignore_index=True)\n",
    "    else:\n",
    "        temp = groups.get_group(i).sort_values('min_dist')[:]\n",
    "        dataset_repre_houses = pd.concat([dataset_repre_houses,temp], ignore_index=True)\n",
    "dataset_repre_houses"
   ]
  },
  {
   "cell_type": "code",
   "execution_count": 32,
   "metadata": {},
   "outputs": [],
   "source": [
    "# based in average utilization rates, we communitites of houses (clusters)\n",
    "# hetrogeneous communities\n",
    "# all clusters milake is an area"
   ]
  },
  {
   "cell_type": "code",
   "execution_count": 33,
   "metadata": {},
   "outputs": [],
   "source": [
    "dataset_repre_houses.to_csv(\"2_dataset_repre_houses.csv\")"
   ]
  }
 ],
 "metadata": {
  "kernelspec": {
   "display_name": "Python 3 (ipykernel)",
   "language": "python",
   "name": "python3"
  },
  "language_info": {
   "codemirror_mode": {
    "name": "ipython",
    "version": 3
   },
   "file_extension": ".py",
   "mimetype": "text/x-python",
   "name": "python",
   "nbconvert_exporter": "python",
   "pygments_lexer": "ipython3",
   "version": "3.8.10"
  }
 },
 "nbformat": 4,
 "nbformat_minor": 2
}
