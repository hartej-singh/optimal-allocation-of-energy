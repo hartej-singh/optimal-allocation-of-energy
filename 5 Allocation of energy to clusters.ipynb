{
 "cells": [
  {
   "cell_type": "code",
   "execution_count": 1,
   "id": "f4f7d532",
   "metadata": {},
   "outputs": [],
   "source": [
    "import pandas as pd\n",
    "import random"
   ]
  },
  {
   "cell_type": "code",
   "execution_count": 2,
   "id": "b693c9b0",
   "metadata": {},
   "outputs": [],
   "source": [
    "df = pd.read_csv(r\"D:\\VIT\\Semester-7 (Fall)\\CSE1901 - Capstone Project\\Code\\08-03-2023 Final load forecasting\\3_total_with_clusters.csv\")\n",
    "df = df.drop('Unnamed: 0', axis=1)\n",
    "df_groups = df.groupby('house_cluster')"
   ]
  },
  {
   "cell_type": "code",
   "execution_count": 3,
   "id": "9ecb53e8",
   "metadata": {},
   "outputs": [
    {
     "data": {
      "text/html": [
       "<div>\n",
       "<style scoped>\n",
       "    .dataframe tbody tr th:only-of-type {\n",
       "        vertical-align: middle;\n",
       "    }\n",
       "\n",
       "    .dataframe tbody tr th {\n",
       "        vertical-align: top;\n",
       "    }\n",
       "\n",
       "    .dataframe thead th {\n",
       "        text-align: right;\n",
       "    }\n",
       "</style>\n",
       "<table border=\"1\" class=\"dataframe\">\n",
       "  <thead>\n",
       "    <tr style=\"text-align: right;\">\n",
       "      <th></th>\n",
       "      <th>day</th>\n",
       "      <th>LCLid</th>\n",
       "      <th>energy_sum</th>\n",
       "      <th>temperatureMax</th>\n",
       "      <th>windSpeed</th>\n",
       "      <th>humidity</th>\n",
       "      <th>holiday_ind</th>\n",
       "      <th>house_cluster</th>\n",
       "    </tr>\n",
       "  </thead>\n",
       "  <tbody>\n",
       "    <tr>\n",
       "      <th>0</th>\n",
       "      <td>2012-10-12</td>\n",
       "      <td>MAC000002</td>\n",
       "      <td>7.098</td>\n",
       "      <td>11.53</td>\n",
       "      <td>2.18</td>\n",
       "      <td>0.84</td>\n",
       "      <td>0</td>\n",
       "      <td>2</td>\n",
       "    </tr>\n",
       "    <tr>\n",
       "      <th>1</th>\n",
       "      <td>2012-10-13</td>\n",
       "      <td>MAC000002</td>\n",
       "      <td>11.087</td>\n",
       "      <td>12.32</td>\n",
       "      <td>2.36</td>\n",
       "      <td>0.80</td>\n",
       "      <td>1</td>\n",
       "      <td>2</td>\n",
       "    </tr>\n",
       "    <tr>\n",
       "      <th>2</th>\n",
       "      <td>2012-10-14</td>\n",
       "      <td>MAC000002</td>\n",
       "      <td>13.223</td>\n",
       "      <td>13.03</td>\n",
       "      <td>2.97</td>\n",
       "      <td>0.84</td>\n",
       "      <td>1</td>\n",
       "      <td>2</td>\n",
       "    </tr>\n",
       "    <tr>\n",
       "      <th>3</th>\n",
       "      <td>2012-10-15</td>\n",
       "      <td>MAC000002</td>\n",
       "      <td>10.257</td>\n",
       "      <td>14.74</td>\n",
       "      <td>5.37</td>\n",
       "      <td>0.74</td>\n",
       "      <td>0</td>\n",
       "      <td>2</td>\n",
       "    </tr>\n",
       "    <tr>\n",
       "      <th>4</th>\n",
       "      <td>2012-10-16</td>\n",
       "      <td>MAC000002</td>\n",
       "      <td>9.769</td>\n",
       "      <td>16.60</td>\n",
       "      <td>4.66</td>\n",
       "      <td>0.82</td>\n",
       "      <td>0</td>\n",
       "      <td>2</td>\n",
       "    </tr>\n",
       "    <tr>\n",
       "      <th>...</th>\n",
       "      <td>...</td>\n",
       "      <td>...</td>\n",
       "      <td>...</td>\n",
       "      <td>...</td>\n",
       "      <td>...</td>\n",
       "      <td>...</td>\n",
       "      <td>...</td>\n",
       "      <td>...</td>\n",
       "    </tr>\n",
       "    <tr>\n",
       "      <th>1832217</th>\n",
       "      <td>2014-02-24</td>\n",
       "      <td>MAC003559</td>\n",
       "      <td>12.266</td>\n",
       "      <td>14.23</td>\n",
       "      <td>5.02</td>\n",
       "      <td>0.74</td>\n",
       "      <td>0</td>\n",
       "      <td>3</td>\n",
       "    </tr>\n",
       "    <tr>\n",
       "      <th>1832218</th>\n",
       "      <td>2014-02-25</td>\n",
       "      <td>MAC003559</td>\n",
       "      <td>15.885</td>\n",
       "      <td>11.43</td>\n",
       "      <td>5.69</td>\n",
       "      <td>0.78</td>\n",
       "      <td>0</td>\n",
       "      <td>3</td>\n",
       "    </tr>\n",
       "    <tr>\n",
       "      <th>1832219</th>\n",
       "      <td>2014-02-26</td>\n",
       "      <td>MAC003559</td>\n",
       "      <td>14.583</td>\n",
       "      <td>11.29</td>\n",
       "      <td>3.82</td>\n",
       "      <td>0.73</td>\n",
       "      <td>0</td>\n",
       "      <td>3</td>\n",
       "    </tr>\n",
       "    <tr>\n",
       "      <th>1832220</th>\n",
       "      <td>2014-02-27</td>\n",
       "      <td>MAC003559</td>\n",
       "      <td>10.734</td>\n",
       "      <td>10.31</td>\n",
       "      <td>4.14</td>\n",
       "      <td>0.74</td>\n",
       "      <td>0</td>\n",
       "      <td>3</td>\n",
       "    </tr>\n",
       "    <tr>\n",
       "      <th>1832221</th>\n",
       "      <td>2014-02-28</td>\n",
       "      <td>MAC003559</td>\n",
       "      <td>0.080</td>\n",
       "      <td>7.35</td>\n",
       "      <td>2.24</td>\n",
       "      <td>0.86</td>\n",
       "      <td>0</td>\n",
       "      <td>3</td>\n",
       "    </tr>\n",
       "  </tbody>\n",
       "</table>\n",
       "<p>1832222 rows × 8 columns</p>\n",
       "</div>"
      ],
      "text/plain": [
       "                day      LCLid  energy_sum  temperatureMax  windSpeed  \\\n",
       "0        2012-10-12  MAC000002       7.098           11.53       2.18   \n",
       "1        2012-10-13  MAC000002      11.087           12.32       2.36   \n",
       "2        2012-10-14  MAC000002      13.223           13.03       2.97   \n",
       "3        2012-10-15  MAC000002      10.257           14.74       5.37   \n",
       "4        2012-10-16  MAC000002       9.769           16.60       4.66   \n",
       "...             ...        ...         ...             ...        ...   \n",
       "1832217  2014-02-24  MAC003559      12.266           14.23       5.02   \n",
       "1832218  2014-02-25  MAC003559      15.885           11.43       5.69   \n",
       "1832219  2014-02-26  MAC003559      14.583           11.29       3.82   \n",
       "1832220  2014-02-27  MAC003559      10.734           10.31       4.14   \n",
       "1832221  2014-02-28  MAC003559       0.080            7.35       2.24   \n",
       "\n",
       "         humidity  holiday_ind  house_cluster  \n",
       "0            0.84            0              2  \n",
       "1            0.80            1              2  \n",
       "2            0.84            1              2  \n",
       "3            0.74            0              2  \n",
       "4            0.82            0              2  \n",
       "...           ...          ...            ...  \n",
       "1832217      0.74            0              3  \n",
       "1832218      0.78            0              3  \n",
       "1832219      0.73            0              3  \n",
       "1832220      0.74            0              3  \n",
       "1832221      0.86            0              3  \n",
       "\n",
       "[1832222 rows x 8 columns]"
      ]
     },
     "execution_count": 3,
     "metadata": {},
     "output_type": "execute_result"
    }
   ],
   "source": [
    "df"
   ]
  },
  {
   "cell_type": "code",
   "execution_count": 4,
   "id": "acc74810",
   "metadata": {},
   "outputs": [
    {
     "data": {
      "text/plain": [
       "6"
      ]
     },
     "execution_count": 4,
     "metadata": {},
     "output_type": "execute_result"
    }
   ],
   "source": [
    "k = df.nunique()['house_cluster'] \n",
    "k"
   ]
  },
  {
   "cell_type": "code",
   "execution_count": 5,
   "id": "b7b64870",
   "metadata": {},
   "outputs": [
    {
     "data": {
      "text/plain": [
       "{0: 0.3314609255865283,\n",
       " 1: 0.3347105318023689,\n",
       " 2: 0.20968965551117713,\n",
       " 3: 0.0017028504187811303,\n",
       " 4: 0.04583014503700971,\n",
       " 5: 0.07660589164413482}"
      ]
     },
     "execution_count": 5,
     "metadata": {},
     "output_type": "execute_result"
    }
   ],
   "source": [
    "wastage_prob = {}\n",
    "for i in range(k):\n",
    "    x = (len(df_groups.get_group(i))/len(df))\n",
    "    wastage_prob[i] = x\n",
    "wastage_prob"
   ]
  },
  {
   "cell_type": "code",
   "execution_count": 6,
   "id": "f0e02e25",
   "metadata": {},
   "outputs": [
    {
     "data": {
      "text/html": [
       "<div>\n",
       "<style scoped>\n",
       "    .dataframe tbody tr th:only-of-type {\n",
       "        vertical-align: middle;\n",
       "    }\n",
       "\n",
       "    .dataframe tbody tr th {\n",
       "        vertical-align: top;\n",
       "    }\n",
       "\n",
       "    .dataframe thead th {\n",
       "        text-align: right;\n",
       "    }\n",
       "</style>\n",
       "<table border=\"1\" class=\"dataframe\">\n",
       "  <thead>\n",
       "    <tr style=\"text-align: right;\">\n",
       "      <th></th>\n",
       "      <th>energy_sum</th>\n",
       "      <th>temperatureMax</th>\n",
       "      <th>windSpeed</th>\n",
       "      <th>humidity</th>\n",
       "      <th>holiday_ind</th>\n",
       "      <th>house_cluster</th>\n",
       "    </tr>\n",
       "  </thead>\n",
       "  <tbody>\n",
       "    <tr>\n",
       "      <th>count</th>\n",
       "      <td>1.832202e+06</td>\n",
       "      <td>1.832222e+06</td>\n",
       "      <td>1.832222e+06</td>\n",
       "      <td>1.832222e+06</td>\n",
       "      <td>1.832222e+06</td>\n",
       "      <td>1.832222e+06</td>\n",
       "    </tr>\n",
       "    <tr>\n",
       "      <th>mean</th>\n",
       "      <td>1.197486e+01</td>\n",
       "      <td>1.406367e+01</td>\n",
       "      <td>3.601853e+00</td>\n",
       "      <td>7.803269e-01</td>\n",
       "      <td>2.834345e-01</td>\n",
       "      <td>1.325548e+00</td>\n",
       "    </tr>\n",
       "    <tr>\n",
       "      <th>std</th>\n",
       "      <td>1.062670e+01</td>\n",
       "      <td>6.563842e+00</td>\n",
       "      <td>1.697287e+00</td>\n",
       "      <td>9.737539e-02</td>\n",
       "      <td>4.506656e-01</td>\n",
       "      <td>1.442271e+00</td>\n",
       "    </tr>\n",
       "    <tr>\n",
       "      <th>min</th>\n",
       "      <td>0.000000e+00</td>\n",
       "      <td>-6.000000e-02</td>\n",
       "      <td>2.000000e-01</td>\n",
       "      <td>4.300000e-01</td>\n",
       "      <td>0.000000e+00</td>\n",
       "      <td>0.000000e+00</td>\n",
       "    </tr>\n",
       "    <tr>\n",
       "      <th>25%</th>\n",
       "      <td>5.683000e+00</td>\n",
       "      <td>9.300000e+00</td>\n",
       "      <td>2.380000e+00</td>\n",
       "      <td>7.100000e-01</td>\n",
       "      <td>0.000000e+00</td>\n",
       "      <td>0.000000e+00</td>\n",
       "    </tr>\n",
       "    <tr>\n",
       "      <th>50%</th>\n",
       "      <td>9.180000e+00</td>\n",
       "      <td>1.314000e+01</td>\n",
       "      <td>3.450000e+00</td>\n",
       "      <td>7.900000e-01</td>\n",
       "      <td>0.000000e+00</td>\n",
       "      <td>1.000000e+00</td>\n",
       "    </tr>\n",
       "    <tr>\n",
       "      <th>75%</th>\n",
       "      <td>1.469300e+01</td>\n",
       "      <td>1.881000e+01</td>\n",
       "      <td>4.580000e+00</td>\n",
       "      <td>8.600000e-01</td>\n",
       "      <td>1.000000e+00</td>\n",
       "      <td>2.000000e+00</td>\n",
       "    </tr>\n",
       "    <tr>\n",
       "      <th>max</th>\n",
       "      <td>3.325560e+02</td>\n",
       "      <td>3.240000e+01</td>\n",
       "      <td>9.960000e+00</td>\n",
       "      <td>9.800000e-01</td>\n",
       "      <td>1.000000e+00</td>\n",
       "      <td>5.000000e+00</td>\n",
       "    </tr>\n",
       "  </tbody>\n",
       "</table>\n",
       "</div>"
      ],
      "text/plain": [
       "         energy_sum  temperatureMax     windSpeed      humidity   holiday_ind  \\\n",
       "count  1.832202e+06    1.832222e+06  1.832222e+06  1.832222e+06  1.832222e+06   \n",
       "mean   1.197486e+01    1.406367e+01  3.601853e+00  7.803269e-01  2.834345e-01   \n",
       "std    1.062670e+01    6.563842e+00  1.697287e+00  9.737539e-02  4.506656e-01   \n",
       "min    0.000000e+00   -6.000000e-02  2.000000e-01  4.300000e-01  0.000000e+00   \n",
       "25%    5.683000e+00    9.300000e+00  2.380000e+00  7.100000e-01  0.000000e+00   \n",
       "50%    9.180000e+00    1.314000e+01  3.450000e+00  7.900000e-01  0.000000e+00   \n",
       "75%    1.469300e+01    1.881000e+01  4.580000e+00  8.600000e-01  1.000000e+00   \n",
       "max    3.325560e+02    3.240000e+01  9.960000e+00  9.800000e-01  1.000000e+00   \n",
       "\n",
       "       house_cluster  \n",
       "count   1.832222e+06  \n",
       "mean    1.325548e+00  \n",
       "std     1.442271e+00  \n",
       "min     0.000000e+00  \n",
       "25%     0.000000e+00  \n",
       "50%     1.000000e+00  \n",
       "75%     2.000000e+00  \n",
       "max     5.000000e+00  "
      ]
     },
     "execution_count": 6,
     "metadata": {},
     "output_type": "execute_result"
    }
   ],
   "source": [
    "df.describe()"
   ]
  },
  {
   "cell_type": "code",
   "execution_count": 7,
   "id": "d1f9cd63",
   "metadata": {},
   "outputs": [
    {
     "data": {
      "text/plain": [
       "{0: 58.51825660204241,\n",
       " 1: 69.28887956660073,\n",
       " 2: 27.311674134482868,\n",
       " 3: 202.06788916564645,\n",
       " 4: 156.27571766420576,\n",
       " 5: 189.25365658250266}"
      ]
     },
     "execution_count": 7,
     "metadata": {},
     "output_type": "execute_result"
    }
   ],
   "source": [
    "energy_pred = {}\n",
    "for i in range(k):\n",
    "    energy_pred[i] = random.uniform(0.1, 332.5)\n",
    "energy_pred"
   ]
  },
  {
   "cell_type": "code",
   "execution_count": 8,
   "id": "585cfde6",
   "metadata": {},
   "outputs": [
    {
     "name": "stdout",
     "output_type": "stream",
     "text": [
      "Only 90.0% of forecasted total energy required will be produced.\n"
     ]
    }
   ],
   "source": [
    "energy_produced_ratio = 0.9\n",
    "print(f\"Only {100*energy_produced_ratio}% of forecasted total energy required will be produced.\")"
   ]
  },
  {
   "cell_type": "code",
   "execution_count": 9,
   "id": "2a919d2a",
   "metadata": {},
   "outputs": [
    {
     "name": "stdout",
     "output_type": "stream",
     "text": [
      "Probability of wastage in each cluster: [0.3314609255865283, 0.3347105318023689, 0.20968965551117713, 0.0017028504187811303, 0.04583014503700971, 0.07660589164413482]\n",
      "Forecasted energy consumption in each cluster: [58.51825660204241, 69.28887956660073, 27.311674134482868, 202.06788916564645, 156.27571766420576, 189.25365658250266]\n",
      "Total energy produced (arbitrary): 632.4444663439328\n"
     ]
    }
   ],
   "source": [
    "wastage_prob_list = list(wastage_prob.values())\n",
    "energy_pred_list = list(energy_pred.values())\n",
    "produced_energy = energy_produced_ratio*sum(energy_pred_list) # -200\n",
    "print(\"Probability of wastage in each cluster:\", wastage_prob_list)\n",
    "print(\"Forecasted energy consumption in each cluster:\", energy_pred_list)\n",
    "print(\"Total energy produced (arbitrary):\", produced_energy)"
   ]
  },
  {
   "attachments": {},
   "cell_type": "markdown",
   "id": "690b6718",
   "metadata": {},
   "source": [
    "# 1 Greedy Fractional Knapsack"
   ]
  },
  {
   "cell_type": "code",
   "execution_count": 10,
   "id": "5a6faf4e",
   "metadata": {},
   "outputs": [],
   "source": [
    "def fractional_knapsack(weights, values, capacity):\n",
    "    ratios = [w/v for w, v in zip(weights, values)]\n",
    "    items = list(zip(ratios, values, weights))\n",
    "    items.sort()\n",
    "\n",
    "    total_wastage = 0\n",
    "    remaining_capacity = capacity\n",
    "    allocation = [0] * len(values)\n",
    "\n",
    "    for ratio, value, weight in items:\n",
    "\n",
    "        if remaining_capacity == 0:\n",
    "            break\n",
    "\n",
    "        if value <= remaining_capacity:\n",
    "            allocated_value = value\n",
    "            total_wastage += allocated_value * weight\n",
    "            remaining_capacity -= value\n",
    "            allocation[values.index(value)] = allocated_value\n",
    "        else:\n",
    "            fraction = remaining_capacity/weight\n",
    "            allocated_value = fraction * value\n",
    "            if allocated_value + sum(allocation) > capacity:\n",
    "                allocated_value = capacity - sum(allocation)\n",
    "            total_wastage += allocated_value * weight\n",
    "            remaining_capacity = 0\n",
    "            allocation[values.index(value)] = allocated_value\n",
    "\n",
    "    return allocation"
   ]
  },
  {
   "cell_type": "code",
   "execution_count": 11,
   "id": "426a95b0",
   "metadata": {},
   "outputs": [
    {
     "name": "stdout",
     "output_type": "stream",
     "text": [
      "Allocation of energy to each cluster:  [15.558323364977241, 69.28887956660073, 0, 202.06788916564645, 156.27571766420576, 189.25365658250266]\n"
     ]
    }
   ],
   "source": [
    "allocation_knapsack = fractional_knapsack(wastage_prob_list, energy_pred_list, produced_energy)\n",
    "# print(\"Total wastage: \", total_wastage)\n",
    "print(\"Allocation of energy to each cluster: \", allocation_knapsack)"
   ]
  },
  {
   "cell_type": "code",
   "execution_count": 12,
   "id": "a296c6e9",
   "metadata": {},
   "outputs": [
    {
     "name": "stdout",
     "output_type": "stream",
     "text": [
      "Total energy needed (forecasted): 702.7160737154809\n",
      "Total energy produced (arbitrary): 632.4444663439328\n",
      "Total energy allocated: 632.4444663439328\n"
     ]
    }
   ],
   "source": [
    "print(\"Total energy needed (forecasted):\", sum(energy_pred_list))\n",
    "print(\"Total energy produced (arbitrary):\", produced_energy)\n",
    "print(\"Total energy allocated:\", sum(allocation_knapsack))"
   ]
  },
  {
   "cell_type": "code",
   "execution_count": 13,
   "id": "aeaa34c4",
   "metadata": {},
   "outputs": [
    {
     "name": "stdout",
     "output_type": "stream",
     "text": [
      "Only 90.0% of forecasted total energy required is being produced.\n",
      "(Allocated energy - forecasted energy) for each cluster: [-42.95993323706517, 0.0, -27.311674134482868, 0.0, 0.0, 0.0]\n"
     ]
    }
   ],
   "source": [
    "print(f\"Only {100*energy_produced_ratio}% of forecasted total energy required is being produced.\")\n",
    "diff = []\n",
    "for i in range(k):\n",
    "    diff.append(allocation_knapsack[i] - energy_pred_list[i])\n",
    "print(\"(Allocated energy - forecasted energy) for each cluster:\", diff)"
   ]
  },
  {
   "attachments": {},
   "cell_type": "markdown",
   "id": "5eabcdf7",
   "metadata": {},
   "source": [
    "# 2 Genetic Knapsack "
   ]
  },
  {
   "cell_type": "code",
   "execution_count": 14,
   "id": "ff467707",
   "metadata": {},
   "outputs": [],
   "source": [
    "import random\n",
    "import numpy as np\n",
    "\n",
    "def knapsack_genetic(weights, values, capacity, population_size=50, generations=100, mutation_rate=0.1):\n",
    "    \"\"\"\n",
    "    Returns the maximum value that can be put in a knapsack of capacity W\n",
    "    using genetic algorithm with the given parameters for weights, values, capacity,\n",
    "    population size, number of generations, and mutation rate.\n",
    "\n",
    "    :param weights: List of weights (probability of wastage) for each item (cluster)\n",
    "    :param values: List of values (energy consumption) for each item (cluster)\n",
    "    :param capacity: Capacity of the knapsack (total energy produced)\n",
    "    :param population_size: Number of individuals in the population (default: 50)\n",
    "    :param generations: Number of generations to evolve the population (default: 100)\n",
    "    :param mutation_rate: Probability of mutation for each gene (default: 0.1)\n",
    "    :return: List of allocations for each item (energy allocated for each cluster)\n",
    "    \"\"\"\n",
    "    n = len(weights)\n",
    "    population = []\n",
    "    for _ in range(population_size):\n",
    "        # Generate random binary strings as individuals in the population\n",
    "        individual = np.random.randint(2, size=n)\n",
    "        population.append(individual)\n",
    "\n",
    "    for _ in range(generations):\n",
    "        # Evaluate fitness of each individual in the population\n",
    "        fitness = [sum(values[i] * individual[i] for i in range(n)) for individual in population]\n",
    "        # Select top half of the population based on fitness\n",
    "        selected_indices = np.argsort(fitness)[-population_size//2:]\n",
    "        selected_population = [population[i] for i in selected_indices]\n",
    "        # Create new generation by crossover and mutation\n",
    "        new_population = []\n",
    "        for _ in range(population_size//2):\n",
    "            # Randomly select two parents from the selected population\n",
    "            parents = random.sample(selected_population, 2)\n",
    "            parent1 = parents[0]\n",
    "            parent2 = parents[1]\n",
    "            # Perform one-point crossover to create two children\n",
    "            crossover_point = np.random.randint(n)\n",
    "            child1 = np.concatenate((parent1[:crossover_point], parent2[crossover_point:]))\n",
    "            child2 = np.concatenate((parent2[:crossover_point], parent1[crossover_point:]))\n",
    "            # Perform mutation on the children\n",
    "            if random.random() < mutation_rate:\n",
    "                mutation_index = np.random.randint(n)\n",
    "                child1[mutation_index] = 1 - child1[mutation_index]\n",
    "            if random.random() < mutation_rate:\n",
    "                mutation_index = np.random.randint(n)\n",
    "                child2[mutation_index] = 1 - child2[mutation_index]\n",
    "            new_population.append(child1)\n",
    "            new_population.append(child2)\n",
    "        population = new_population\n",
    "\n",
    "    # Select the individual with the highest fitness as the final solution\n",
    "    best_individual = population[np.argmax(fitness)]\n",
    "\n",
    "    # Generate allocation list from the binary string of the best individual\n",
    "    allocation = [values[i] if best_individual[i] else 0 for i in range(n)]\n",
    "    # Check that total allocation does not exceed capacity\n",
    "    total_allocation = sum(allocation)\n",
    "    if total_allocation > capacity:\n",
    "        # If total allocation exceeds capacity, reduce allocations proportionally\n",
    "        allocation = [value * (capacity / total_allocation) for value in allocation]\n",
    "\n",
    "    return allocation\n"
   ]
  },
  {
   "cell_type": "code",
   "execution_count": 15,
   "id": "335486a9",
   "metadata": {},
   "outputs": [
    {
     "name": "stdout",
     "output_type": "stream",
     "text": [
      "Allocation of energy to each cluster:  [52.66643094183817, 62.35999160994066, 24.58050672103458, 181.8611002490818, 140.64814589778518, 170.3282909242524]\n"
     ]
    }
   ],
   "source": [
    "allocation_genetic = knapsack_genetic(wastage_prob_list, energy_pred_list, produced_energy)\n",
    "print(\"Allocation of energy to each cluster: \", allocation_genetic)"
   ]
  },
  {
   "cell_type": "code",
   "execution_count": 16,
   "id": "93ecbd17",
   "metadata": {},
   "outputs": [
    {
     "name": "stdout",
     "output_type": "stream",
     "text": [
      "Total energy needed (forecasted): 702.7160737154809\n",
      "Total energy produced (arbitrary): 632.4444663439328\n",
      "Total energy allocated: 632.4444663439328\n"
     ]
    }
   ],
   "source": [
    "print(\"Total energy needed (forecasted):\", sum(energy_pred_list))\n",
    "print(\"Total energy produced (arbitrary):\", produced_energy)\n",
    "print(\"Total energy allocated:\", sum(allocation_genetic))"
   ]
  },
  {
   "cell_type": "code",
   "execution_count": 17,
   "id": "3cfc4e71",
   "metadata": {},
   "outputs": [
    {
     "name": "stdout",
     "output_type": "stream",
     "text": [
      "Only 90.0% of forecasted total energy required is being produced.\n",
      "(Allocated energy - forecasted energy) for each cluster: [-5.851825660204241, -6.92888795666007, -2.7311674134482864, -20.206788916564648, -15.627571766420573, -18.925365658250257]\n"
     ]
    }
   ],
   "source": [
    "print(f\"Only {100*energy_produced_ratio}% of forecasted total energy required is being produced.\")\n",
    "diff2 = []\n",
    "for i in range(k):\n",
    "    diff2.append(allocation_genetic[i] - energy_pred_list[i])\n",
    "print(\"(Allocated energy - forecasted energy) for each cluster:\", diff2)"
   ]
  },
  {
   "attachments": {},
   "cell_type": "markdown",
   "id": "a35b4051",
   "metadata": {},
   "source": [
    "user satisfaction metric between various algorithms\n",
    "y - user satisfaction metric\n",
    "x - timeline (month)\n",
    "line graphs - algorithms\n",
    "\n",
    "energy area"
   ]
  },
  {
   "attachments": {},
   "cell_type": "markdown",
   "id": "895dc980",
   "metadata": {},
   "source": [
    "# 3 Knapsack KMeans"
   ]
  },
  {
   "cell_type": "code",
   "execution_count": 18,
   "id": "a977357a",
   "metadata": {},
   "outputs": [],
   "source": [
    "import numpy as np\n",
    "from sklearn.cluster import KMeans\n",
    "\n",
    "def knapsack_kmeans(weights, values, capacity):\n",
    "    # Perform K-means clustering on the data points (weights, values)\n",
    "    X = np.array(list(zip(weights, values)))\n",
    "    kmeans = KMeans(n_clusters=2, random_state=0).fit(X)\n",
    "    labels = kmeans.labels_\n",
    "\n",
    "    # Separate the data points into two clusters based on K-means labels\n",
    "    cluster1_indices = np.where(labels == 0)[0]\n",
    "    cluster2_indices = np.where(labels == 1)[0]\n",
    "    cluster1_weights = [weights[i] for i in cluster1_indices]\n",
    "    cluster2_weights = [weights[i] for i in cluster2_indices]\n",
    "    cluster1_values = [values[i] for i in cluster1_indices]\n",
    "    cluster2_values = [values[i] for i in cluster2_indices]\n",
    "\n",
    "    # Allocate energy to the clusters based on knapsack problem\n",
    "    allocation = [0] * len(values)\n",
    "    total_wastage = 0\n",
    "    remaining_capacity = capacity\n",
    "\n",
    "    # Allocate energy to cluster 1\n",
    "    for i in range(len(cluster1_weights)):\n",
    "        weight = cluster1_weights[i]\n",
    "        value = cluster1_values[i]\n",
    "\n",
    "        if remaining_capacity == 0:\n",
    "            break\n",
    "\n",
    "        if value <= remaining_capacity:\n",
    "            allocated_value = value\n",
    "            total_wastage += allocated_value * weight\n",
    "            remaining_capacity -= value\n",
    "            allocation[values.index(value)] = allocated_value\n",
    "        else:\n",
    "            fraction = remaining_capacity / weight\n",
    "            allocated_value = fraction * value\n",
    "            if allocated_value + sum(allocation) > capacity:\n",
    "                allocated_value = capacity - sum(allocation)\n",
    "            total_wastage += allocated_value * weight\n",
    "            remaining_capacity = 0\n",
    "            allocation[values.index(value)] = allocated_value\n",
    "\n",
    "    # Allocate energy to cluster 2\n",
    "    for i in range(len(cluster2_weights)):\n",
    "        weight = cluster2_weights[i]\n",
    "        value = cluster2_values[i]\n",
    "\n",
    "        if remaining_capacity == 0:\n",
    "            break\n",
    "\n",
    "        if value <= remaining_capacity:\n",
    "            allocated_value = value\n",
    "            total_wastage += allocated_value * weight\n",
    "            remaining_capacity -= value\n",
    "            allocation[values.index(value)] = allocated_value\n",
    "        else:\n",
    "            fraction = remaining_capacity / weight\n",
    "            allocated_value = fraction * value\n",
    "            if allocated_value + sum(allocation) > capacity:\n",
    "                allocated_value = capacity - sum(allocation)\n",
    "            total_wastage += allocated_value * weight\n",
    "            remaining_capacity = 0\n",
    "            allocation[values.index(value)] = allocated_value\n",
    "\n",
    "    return allocation\n"
   ]
  },
  {
   "cell_type": "code",
   "execution_count": 19,
   "id": "5beb16f7",
   "metadata": {},
   "outputs": [
    {
     "name": "stderr",
     "output_type": "stream",
     "text": [
      "C:\\Users\\HARTE\\AppData\\Local\\Packages\\PythonSoftwareFoundation.Python.3.8_qbz5n2kfra8p0\\LocalCache\\local-packages\\Python38\\site-packages\\sklearn\\cluster\\_kmeans.py:870: FutureWarning: The default value of `n_init` will change from 10 to 'auto' in 1.4. Set the value of `n_init` explicitly to suppress the warning\n",
      "  warnings.warn(\n"
     ]
    },
    {
     "name": "stdout",
     "output_type": "stream",
     "text": [
      "Allocation of energy to each cluster:  [58.51825660204241, 26.328946329535484, 0, 202.06788916564645, 156.27571766420576, 189.25365658250266]\n"
     ]
    }
   ],
   "source": [
    "allocation_kmeans = knapsack_kmeans(wastage_prob_list, energy_pred_list, produced_energy)\n",
    "print(\"Allocation of energy to each cluster: \", allocation_kmeans)"
   ]
  },
  {
   "cell_type": "code",
   "execution_count": 20,
   "id": "ce4bd900",
   "metadata": {},
   "outputs": [
    {
     "name": "stdout",
     "output_type": "stream",
     "text": [
      "Total energy needed (forecasted): 702.7160737154809\n",
      "Total energy produced (arbitrary): 632.4444663439328\n",
      "Total energy allocated: 632.4444663439328\n"
     ]
    }
   ],
   "source": [
    "print(\"Total energy needed (forecasted):\", sum(energy_pred_list))\n",
    "print(\"Total energy produced (arbitrary):\", produced_energy)\n",
    "print(\"Total energy allocated:\", sum(allocation_kmeans))"
   ]
  },
  {
   "cell_type": "code",
   "execution_count": 21,
   "id": "2d1d375c",
   "metadata": {},
   "outputs": [
    {
     "name": "stdout",
     "output_type": "stream",
     "text": [
      "Only 90.0% of forecasted total energy required is being produced.\n",
      "(Allocated energy - forecasted energy) for each cluster: [0.0, -42.95993323706524, -27.311674134482868, 0.0, 0.0, 0.0]\n"
     ]
    }
   ],
   "source": [
    "print(f\"Only {100*energy_produced_ratio}% of forecasted total energy required is being produced.\")\n",
    "diff3 = []\n",
    "for i in range(k):\n",
    "    diff3.append(allocation_kmeans[i] - energy_pred_list[i])\n",
    "print(\"(Allocated energy - forecasted energy) for each cluster:\", diff3)"
   ]
  },
  {
   "attachments": {},
   "cell_type": "markdown",
   "id": "29cd2fc3",
   "metadata": {},
   "source": [
    "# Comparison of results"
   ]
  },
  {
   "cell_type": "code",
   "execution_count": 22,
   "id": "0490c789",
   "metadata": {},
   "outputs": [
    {
     "name": "stdout",
     "output_type": "stream",
     "text": [
      "Algorithm 1 (Greedy Fractional Knapsack):\n",
      "Total Energy Allocated:  632.4444663439328\n",
      "Average Energy Allocated per Cluster:  105.40741105732214\n",
      "Maximum Energy Allocated to a Cluster:  202.06788916564645\n",
      "Minimum Energy Allocated to a Cluster:  0.0\n",
      "\n",
      "Algorithm 2 (Genetic Knapsack):\n",
      "Total Energy Allocated:  632.4444663439328\n",
      "Average Energy Allocated per Cluster:  105.40741105732214\n",
      "Maximum Energy Allocated to a Cluster:  181.8611002490818\n",
      "Minimum Energy Allocated to a Cluster:  24.58050672103458\n",
      "\n",
      "Algorithm 3 (Knapsack KMeans):\n",
      "Total Energy Allocated:  632.4444663439328\n",
      "Average Energy Allocated per Cluster:  105.40741105732214\n",
      "Maximum Energy Allocated to a Cluster:  202.06788916564645\n",
      "Minimum Energy Allocated to a Cluster:  0.0\n"
     ]
    }
   ],
   "source": [
    "import numpy as np\n",
    "\n",
    "# Assume you have the outputs of Algorithm 1, Algorithm 2, and Algorithm 3\n",
    "# stored in arrays or lists, where each element represents the energy allocated\n",
    "# to a particular cluster.\n",
    "\n",
    "# Example data for Algorithm 1, Algorithm 2, and Algorithm 3\n",
    "algorithm1_output = np.array(allocation_knapsack)\n",
    "algorithm2_output = np.array(allocation_genetic)\n",
    "algorithm3_output = np.array(allocation_kmeans)\n",
    "\n",
    "# Calculate relevant statistics for each algorithm\n",
    "algorithm1_total_energy = np.sum(algorithm1_output)\n",
    "algorithm2_total_energy = np.sum(algorithm2_output)\n",
    "algorithm3_total_energy = np.sum(algorithm3_output)\n",
    "\n",
    "algorithm1_avg_energy = np.mean(algorithm1_output)\n",
    "algorithm2_avg_energy = np.mean(algorithm2_output)\n",
    "algorithm3_avg_energy = np.mean(algorithm3_output)\n",
    "\n",
    "algorithm1_max_energy = np.max(algorithm1_output)\n",
    "algorithm2_max_energy = np.max(algorithm2_output)\n",
    "algorithm3_max_energy = np.max(algorithm3_output)\n",
    "\n",
    "algorithm1_min_energy = np.min(algorithm1_output)\n",
    "algorithm2_min_energy = np.min(algorithm2_output)\n",
    "algorithm3_min_energy = np.min(algorithm3_output)\n",
    "\n",
    "# Print the calculated statistics for each algorithm\n",
    "print(\"Algorithm 1 (Greedy Fractional Knapsack):\")\n",
    "print(\"Total Energy Allocated: \", algorithm1_total_energy)\n",
    "print(\"Average Energy Allocated per Cluster: \", algorithm1_avg_energy)\n",
    "print(\"Maximum Energy Allocated to a Cluster: \", algorithm1_max_energy)\n",
    "print(\"Minimum Energy Allocated to a Cluster: \", algorithm1_min_energy)\n",
    "\n",
    "print(\"\\nAlgorithm 2 (Genetic Knapsack):\")\n",
    "print(\"Total Energy Allocated: \", algorithm2_total_energy)\n",
    "print(\"Average Energy Allocated per Cluster: \", algorithm2_avg_energy)\n",
    "print(\"Maximum Energy Allocated to a Cluster: \", algorithm2_max_energy)\n",
    "print(\"Minimum Energy Allocated to a Cluster: \", algorithm2_min_energy)\n",
    "\n",
    "print(\"\\nAlgorithm 3 (Knapsack KMeans):\")\n",
    "print(\"Total Energy Allocated: \", algorithm3_total_energy)\n",
    "print(\"Average Energy Allocated per Cluster: \", algorithm3_avg_energy)\n",
    "print(\"Maximum Energy Allocated to a Cluster: \", algorithm3_max_energy)\n",
    "print(\"Minimum Energy Allocated to a Cluster: \", algorithm3_min_energy)\n"
   ]
  },
  {
   "attachments": {},
   "cell_type": "markdown",
   "id": "7d4f8ffb",
   "metadata": {},
   "source": [
    "Graphs-\n",
    "maximum energy wasted / wastage prob ratio (objective)\n",
    "user satisfaction (constraint, set a threshold)"
   ]
  },
  {
   "cell_type": "code",
   "execution_count": 23,
   "id": "36acc5ef",
   "metadata": {},
   "outputs": [
    {
     "data": {
      "image/png": "[encoded data removed]",
      "text/plain": [
       "<Figure size 1080x432 with 1 Axes>"
      ]
     },
     "metadata": {
      "needs_background": "light"
     },
     "output_type": "display_data"
    },
    {
     "data": {
      "image/png": "[encoded data removed]",
      "text/plain": [
       "<Figure size 1080x432 with 1 Axes>"
      ]
     },
     "metadata": {
      "needs_background": "light"
     },
     "output_type": "display_data"
    },
    {
     "data": {
      "image/png": "[encoded data removed]",
      "text/plain": [
       "<Figure size 1080x432 with 1 Axes>"
      ]
     },
     "metadata": {
      "needs_background": "light"
     },
     "output_type": "display_data"
    },
    {
     "data": {
      "image/png": "[encoded data removed]",
      "text/plain": [
       "<Figure size 1080x432 with 1 Axes>"
      ]
     },
     "metadata": {
      "needs_background": "light"
     },
     "output_type": "display_data"
    }
   ],
   "source": [
    "import numpy as np\n",
    "import matplotlib.pyplot as plt\n",
    "\n",
    "# Assume you have the outputs of Algorithm 1, Algorithm 2, and Algorithm 3\n",
    "# stored in arrays or lists, where each element represents the energy allocated\n",
    "# to a particular cluster.\n",
    "\n",
    "# Example data for Algorithm 1, Algorithm 2, and Algorithm 3\n",
    "algorithm1_output = np.array(allocation_knapsack)\n",
    "algorithm2_output = np.array(allocation_genetic)\n",
    "algorithm3_output = np.array(allocation_kmeans)\n",
    "\n",
    "# Calculate relevant statistics for each algorithm\n",
    "algorithm1_total_energy = np.sum(algorithm1_output)\n",
    "algorithm2_total_energy = np.sum(algorithm2_output)\n",
    "algorithm3_total_energy = np.sum(algorithm3_output)\n",
    "\n",
    "algorithm1_avg_energy = np.mean(algorithm1_output)\n",
    "algorithm2_avg_energy = np.mean(algorithm2_output)\n",
    "algorithm3_avg_energy = np.mean(algorithm3_output)\n",
    "\n",
    "algorithm1_max_energy = np.max(algorithm1_output)\n",
    "algorithm2_max_energy = np.max(algorithm2_output)\n",
    "algorithm3_max_energy = np.max(algorithm3_output)\n",
    "\n",
    "algorithm1_min_energy = np.min(algorithm1_output)\n",
    "algorithm2_min_energy = np.min(algorithm2_output)\n",
    "algorithm3_min_energy = np.min(algorithm3_output)\n",
    "\n",
    "# Create a bar chart to visualize the results\n",
    "algorithms = ['Algorithm 1 (Greedy Fractional Knapsack)', 'Algorithm 2 (Genetic Knapsack)', 'Algorithm 3 (Knapsack KMeans)']\n",
    "total_energy_allocated = [algorithm1_total_energy, algorithm2_total_energy, algorithm3_total_energy]\n",
    "average_energy_allocated = [algorithm1_avg_energy, algorithm2_avg_energy, algorithm3_avg_energy]\n",
    "max_energy_allocated = [algorithm1_max_energy, algorithm2_max_energy, algorithm3_max_energy]\n",
    "min_energy_allocated = [algorithm1_min_energy, algorithm2_min_energy, algorithm3_min_energy]\n",
    "\n",
    "# Plot total energy allocated\n",
    "plt.figure(figsize=(15, 6))\n",
    "plt.bar(algorithms, total_energy_allocated)\n",
    "plt.xlabel('Algorithms')\n",
    "plt.ylabel('Total Energy Allocated')\n",
    "plt.title('Total Energy Allocated by Each Algorithm')\n",
    "plt.show()\n",
    "\n",
    "# Plot average energy allocated\n",
    "plt.figure(figsize=(15, 6))\n",
    "plt.bar(algorithms, average_energy_allocated)\n",
    "plt.xlabel('Algorithms')\n",
    "plt.ylabel('Average Energy Allocated per Cluster')\n",
    "plt.title('Average Energy Allocated per Cluster by Each Algorithm')\n",
    "plt.show()\n",
    "\n",
    "# Plot maximum energy allocated\n",
    "plt.figure(figsize=(15, 6))\n",
    "plt.bar(algorithms, max_energy_allocated)\n",
    "plt.xlabel('Algorithms')\n",
    "plt.ylabel('Maximum Energy Allocated to a Cluster')\n",
    "plt.title('Maximum Energy Allocated to a Cluster by Each Algorithm')\n",
    "plt.show()\n",
    "\n",
    "# Plot minimum energy allocated\n",
    "plt.figure(figsize=(15, 6))\n",
    "plt.bar(algorithms, min_energy_allocated)\n",
    "plt.xlabel('Algorithms')\n",
    "plt.ylabel('Guranteed Energy Allocated to a Cluster')\n",
    "plt.title('Guranteed Energy Allocated to a Cluster by Each Algorithm')\n",
    "plt.show()\n"
   ]
  },
  {
   "attachments": {},
   "cell_type": "markdown",
   "id": "758eddaa",
   "metadata": {},
   "source": [
    "## Cluster Satisfaction"
   ]
  },
  {
   "cell_type": "code",
   "execution_count": 24,
   "id": "851e5a99",
   "metadata": {},
   "outputs": [],
   "source": [
    "import seaborn as sns"
   ]
  },
  {
   "cell_type": "code",
   "execution_count": 25,
   "id": "426f9ced",
   "metadata": {},
   "outputs": [
    {
     "name": "stdout",
     "output_type": "stream",
     "text": [
      "90.0 90.0 90.0\n"
     ]
    }
   ],
   "source": [
    "user_satisfaction_ratio1 = (algorithm1_total_energy / sum(energy_pred_list)) * 100\n",
    "user_satisfaction_ratio2 = (algorithm2_total_energy / sum(energy_pred_list)) * 100\n",
    "user_satisfaction_ratio3 = (algorithm3_total_energy / sum(energy_pred_list)) * 100\n",
    "\n",
    "print(user_satisfaction_ratio1, user_satisfaction_ratio2, user_satisfaction_ratio3)"
   ]
  },
  {
   "cell_type": "code",
   "execution_count": 26,
   "id": "ebcff182",
   "metadata": {},
   "outputs": [
    {
     "name": "stdout",
     "output_type": "stream",
     "text": [
      "[26.58712728026525, 100.0, 0.0, 100.0, 100.0, 100.0]\n",
      "71.09785454671088\n"
     ]
    }
   ],
   "source": [
    "# Algorithm 1\n",
    "satis1 = []\n",
    "for i in range(len(energy_pred_list)):\n",
    "    t = (energy_pred_list[i] - allocation_knapsack[i]) / (energy_pred_list[i])\n",
    "    t = 100 - (t*100)\n",
    "    satis1.append(t)\n",
    "print(satis1)\n",
    "print((sum(satis1)/len(satis1)))"
   ]
  },
  {
   "cell_type": "code",
   "execution_count": 27,
   "id": "21da5f82",
   "metadata": {},
   "outputs": [
    {
     "name": "stdout",
     "output_type": "stream",
     "text": [
      "[90.0, 90.0, 90.0, 90.0, 90.0, 90.0]\n",
      "90.0\n"
     ]
    }
   ],
   "source": [
    "# Algorithm 2\n",
    "satis2 = []\n",
    "for i in range(len(energy_pred_list)):\n",
    "    t = (energy_pred_list[i] - allocation_genetic[i]) / (energy_pred_list[i])\n",
    "    t = 100 - (t*100)\n",
    "    satis2.append(t)\n",
    "print(satis2)\n",
    "print((sum(satis2)/len(satis2)))"
   ]
  },
  {
   "cell_type": "code",
   "execution_count": 28,
   "id": "a739226f",
   "metadata": {},
   "outputs": [
    {
     "name": "stdout",
     "output_type": "stream",
     "text": [
      "[100.0, 37.998805139038225, 0.0, 100.0, 100.0, 100.0]\n",
      "72.99980085650637\n"
     ]
    }
   ],
   "source": [
    "# Algorithm 3\n",
    "satis3 = []\n",
    "for i in range(len(energy_pred_list)):\n",
    "    t = (energy_pred_list[i] - allocation_kmeans[i]) / (energy_pred_list[i])\n",
    "    t = 100 - (t*100)\n",
    "    satis3.append(t)\n",
    "print(satis3)\n",
    "print((sum(satis3)/len(satis3)))"
   ]
  },
  {
   "cell_type": "code",
   "execution_count": 38,
   "id": "ebd858f9",
   "metadata": {},
   "outputs": [
    {
     "data": {
      "image/png": "[encoded data removed]",
      "text/plain": [
       "<Figure size 1080x432 with 1 Axes>"
      ]
     },
     "metadata": {},
     "output_type": "display_data"
    }
   ],
   "source": [
    "x = [\"Cluster1\", \"Cluster2\", \"Cluster3\", \"Cluster4\", \"Cluster5\", \"Cluster6\"]\n",
    "y1 = satis1\n",
    "y2 = satis2\n",
    "y3 = satis3\n",
    "\n",
    "plt.figure(figsize=(15, 6))\n",
    "plt.plot(x, y1)\n",
    "plt.plot(x, y2)\n",
    "plt.plot(x, y3)\n",
    "plt.title(\"User satisfaction\")\n",
    "plt.legend(['Greedy Fractional Knapsack', 'Genetic Knapsack', 'Knapsack KMeans'])\n",
    "plt.xlabel(\"Cluster satisfaction\")\n",
    "plt.ylabel(\"Algorithms\")\n",
    "plt.grid(False)\n",
    "plt.show()\n"
   ]
  },
  {
   "attachments": {},
   "cell_type": "markdown",
   "id": "f1d97509",
   "metadata": {},
   "source": [
    "## Fairness"
   ]
  },
  {
   "cell_type": "code",
   "execution_count": 31,
   "id": "73617b15",
   "metadata": {},
   "outputs": [
    {
     "data": {
      "image/png": "[encoded data removed]",
      "text/plain": [
       "<Figure size 1080x432 with 1 Axes>"
      ]
     },
     "metadata": {},
     "output_type": "display_data"
    }
   ],
   "source": [
    "data = pd.DataFrame({'Greedy Fractional Knapsack': allocation_knapsack,\n",
    "                     'Genetic Knapsack': allocation_genetic,\n",
    "                     'Knapsack KMeans': allocation_kmeans})\n",
    "variance = data.var()\n",
    "\n",
    "# Plot the variance using Seaborn\n",
    "plt.figure(figsize=(15, 6))\n",
    "sns.barplot(x=variance.index, y=variance.values)\n",
    "plt.xlabel('Algorithm')\n",
    "plt.ylabel('Variance of Energy Consumption')\n",
    "plt.title('Fairness of Energy Allocation across Clusters')\n",
    "plt.show()"
   ]
  },
  {
   "cell_type": "code",
   "execution_count": 36,
   "id": "30dea4fe",
   "metadata": {},
   "outputs": [
    {
     "data": {
      "image/png": "[encoded data removed]",
      "text/plain": [
       "<Figure size 1080x432 with 1 Axes>"
      ]
     },
     "metadata": {},
     "output_type": "display_data"
    }
   ],
   "source": [
    "data = [allocation_knapsack, allocation_genetic, allocation_kmeans]\n",
    "fig, ax = plt.subplots(figsize=(15, 6))\n",
    "bp = ax.boxplot(data, patch_artist=True, boxprops=dict(facecolor='gray', color='black'), \n",
    "                capprops=dict(color='black'), whiskerprops=dict(color='black'), \n",
    "                flierprops=dict(markeredgecolor='black', markerfacecolor='gray'), \n",
    "                medianprops=dict(color='black'))\n",
    "colors = ['white', 'lightgray', 'gray']\n",
    "for patch, color in zip(bp['boxes'], colors):\n",
    "    patch.set_facecolor(color)\n",
    "ax.set_xticklabels(['Greedy Fractional Knapsack', 'Genetic Knapsack', 'KMeans Knapsack'])\n",
    "ax.set_ylabel('Energy Consumption')\n",
    "ax.grid(False)\n",
    "plt.show()\n"
   ]
  },
  {
   "attachments": {},
   "cell_type": "markdown",
   "id": "e1afcf5d",
   "metadata": {},
   "source": [
    "In our case, the variance represents how spread out the allocated energy is across all the clusters for each algorithm. A smaller variance indicates that the allocated energy is more evenly distributed among the clusters, while a larger variance indicates that the allocated energy is more unevenly distributed, with some clusters receiving much more energy than others.\n",
    "\n",
    "To put it simply, a low variance means that the energy allocation is more fair across all the clusters, while a high variance means that the energy allocation is less fair.\n",
    "\n",
    "Therefore, by calculating the variance of allocated energy for each algorithm, we can compare the fairness of energy allocation across the different algorithms."
   ]
  },
  {
   "attachments": {},
   "cell_type": "markdown",
   "id": "61779eed",
   "metadata": {},
   "source": [
    "## Energy wastage ratio"
   ]
  },
  {
   "cell_type": "code",
   "execution_count": 32,
   "id": "0908658f",
   "metadata": {},
   "outputs": [
    {
     "data": {
      "image/png": "[encoded data removed]",
      "text/plain": [
       "<Figure size 1080x432 with 1 Axes>"
      ]
     },
     "metadata": {},
     "output_type": "display_data"
    }
   ],
   "source": [
    "plt.figure(figsize=(15, 6))\n",
    "sns.barplot(x=[\"Cluster1\", \"Cluster2\", \"Cluster3\", \"Cluster4\", \"Cluster5\", \"Cluster6\"], y=wastage_prob_list)\n",
    "plt.xlabel('Clusters')\n",
    "plt.ylabel('Wastage')\n",
    "plt.title('Energy wastage probabilities (not related to allocation algorithm)')\n",
    "plt.show()"
   ]
  },
  {
   "attachments": {},
   "cell_type": "markdown",
   "id": "9d92b651",
   "metadata": {},
   "source": [
    "Other metrics-\n",
    "\n",
    "1. **Overall energy utilization:** Calculate the total energy produced by the system and compare it to the total energy consumed by all clusters. A higher utilization rate indicates better performance.\n",
    "\n",
    "2. **Cluster energy utilization:** Calculate the ratio of energy consumed by each cluster to the energy allocated to it. A higher ratio indicates better performance, as it means the cluster is using more of the energy it was allocated.\n",
    "\n",
    "3. **Energy wastage:** Calculate the difference between the energy produced and the energy consumed by all clusters. A lower wastage rate indicates better performance, as it means less energy is being wasted.\n",
    "\n",
    "4. **Fairness:** Calculate the variance of the energy consumption across all clusters. A lower variance indicates better performance, as it means the energy allocation is more evenly distributed among clusters.\n",
    "\n",
    "5. **Accuracy:** Calculate the accuracy of the energy forecasting models for each cluster. A higher accuracy rate indicates better performance, as it means the forecasts are more accurate and can be used to make better energy allocation decisions."
   ]
  }
 ],
 "metadata": {
  "kernelspec": {
   "display_name": "Python 3 (ipykernel)",
   "language": "python",
   "name": "python3"
  },
  "language_info": {
   "codemirror_mode": {
    "name": "ipython",
    "version": 3
   },
   "file_extension": ".py",
   "mimetype": "text/x-python",
   "name": "python",
   "nbconvert_exporter": "python",
   "pygments_lexer": "ipython3",
   "version": "3.8.10"
  }
 },
 "nbformat": 4,
 "nbformat_minor": 5
}
