{
  "cells": [
    {
      "cell_type": "code",
      "execution_count": null,
      "metadata": {
        "id": "ewmmL1viCdZh"
      },
      "outputs": [],
      "source": [
        "import pandas as pd"
      ]
    },
    {
      "cell_type": "code",
      "source": [
        "from google.colab import drive\n",
        "drive.mount('/content/drive')"
      ],
      "metadata": {
        "colab": {
          "base_uri": "https://localhost:8080/"
        },
        "id": "9A9fYvXFGIRu",
        "outputId": "a5290250-0efe-4d29-fb3e-6968fd09a15d"
      },
      "execution_count": null,
      "outputs": [
        {
          "output_type": "stream",
          "name": "stdout",
          "text": [
            "Drive already mounted at /content/drive; to attempt to forcibly remount, call drive.mount(\"/content/drive\", force_remount=True).\n"
          ]
        }
      ]
    },
    {
      "cell_type": "code",
      "execution_count": null,
      "metadata": {
        "id": "uVe8Z3mPCdZi"
      },
      "outputs": [],
      "source": [
        "df = pd.read_csv(r\"/content/drive/MyDrive/3_total_with_clusters.csv\")\n",
        "df = df.drop('Unnamed: 0', axis=1)\n",
        "df_groups = df.groupby('house_cluster')"
      ]
    },
    {
      "cell_type": "markdown",
      "metadata": {
        "id": "UnM0kTqYCdZj"
      },
      "source": [
        "Cluster 0"
      ]
    },
    {
      "cell_type": "code",
      "execution_count": null,
      "metadata": {
        "id": "pdlyDQkeCdZk"
      },
      "outputs": [],
      "source": [
        "cluster0 = df_groups.get_group(1)\n",
        "energy0 = cluster0.drop('house_cluster', axis=1)"
      ]
    },
    {
      "cell_type": "code",
      "execution_count": null,
      "metadata": {
        "id": "SvczMS4nCdZk",
        "outputId": "65471042-7087-450e-acab-4bbeb94f283d",
        "colab": {
          "base_uri": "https://localhost:8080/",
          "height": 237
        }
      },
      "outputs": [
        {
          "output_type": "execute_result",
          "data": {
            "text/plain": [
              "            LCLid\n",
              "day              \n",
              "2011-11-24      1\n",
              "2011-11-25      1\n",
              "2011-11-26      1\n",
              "2011-11-27      1\n",
              "2011-11-28      1"
            ],
            "text/html": [
              "\n",
              "  <div id=\"df-e8ad9da7-9882-42e3-bdee-8a897d691ff8\">\n",
              "    <div class=\"colab-df-container\">\n",
              "      <div>\n",
              "<style scoped>\n",
              "    .dataframe tbody tr th:only-of-type {\n",
              "        vertical-align: middle;\n",
              "    }\n",
              "\n",
              "    .dataframe tbody tr th {\n",
              "        vertical-align: top;\n",
              "    }\n",
              "\n",
              "    .dataframe thead th {\n",
              "        text-align: right;\n",
              "    }\n",
              "</style>\n",
              "<table border=\"1\" class=\"dataframe\">\n",
              "  <thead>\n",
              "    <tr style=\"text-align: right;\">\n",
              "      <th></th>\n",
              "      <th>LCLid</th>\n",
              "    </tr>\n",
              "    <tr>\n",
              "      <th>day</th>\n",
              "      <th></th>\n",
              "    </tr>\n",
              "  </thead>\n",
              "  <tbody>\n",
              "    <tr>\n",
              "      <th>2011-11-24</th>\n",
              "      <td>1</td>\n",
              "    </tr>\n",
              "    <tr>\n",
              "      <th>2011-11-25</th>\n",
              "      <td>1</td>\n",
              "    </tr>\n",
              "    <tr>\n",
              "      <th>2011-11-26</th>\n",
              "      <td>1</td>\n",
              "    </tr>\n",
              "    <tr>\n",
              "      <th>2011-11-27</th>\n",
              "      <td>1</td>\n",
              "    </tr>\n",
              "    <tr>\n",
              "      <th>2011-11-28</th>\n",
              "      <td>1</td>\n",
              "    </tr>\n",
              "  </tbody>\n",
              "</table>\n",
              "</div>\n",
              "      <button class=\"colab-df-convert\" onclick=\"convertToInteractive('df-e8ad9da7-9882-42e3-bdee-8a897d691ff8')\"\n",
              "              title=\"Convert this dataframe to an interactive table.\"\n",
              "              style=\"display:none;\">\n",
              "        \n",
              "  <svg xmlns=\"http://www.w3.org/2000/svg\" height=\"24px\"viewBox=\"0 0 24 24\"\n",
              "       width=\"24px\">\n",
              "    <path d=\"M0 0h24v24H0V0z\" fill=\"none\"/>\n",
              "    <path d=\"M18.56 5.44l.94 2.06.94-2.06 2.06-.94-2.06-.94-.94-2.06-.94 2.06-2.06.94zm-11 1L8.5 8.5l.94-2.06 2.06-.94-2.06-.94L8.5 2.5l-.94 2.06-2.06.94zm10 10l.94 2.06.94-2.06 2.06-.94-2.06-.94-.94-2.06-.94 2.06-2.06.94z\"/><path d=\"M17.41 7.96l-1.37-1.37c-.4-.4-.92-.59-1.43-.59-.52 0-1.04.2-1.43.59L10.3 9.45l-7.72 7.72c-.78.78-.78 2.05 0 2.83L4 21.41c.39.39.9.59 1.41.59.51 0 1.02-.2 1.41-.59l7.78-7.78 2.81-2.81c.8-.78.8-2.07 0-2.86zM5.41 20L4 18.59l7.72-7.72 1.47 1.35L5.41 20z\"/>\n",
              "  </svg>\n",
              "      </button>\n",
              "      \n",
              "  <style>\n",
              "    .colab-df-container {\n",
              "      display:flex;\n",
              "      flex-wrap:wrap;\n",
              "      gap: 12px;\n",
              "    }\n",
              "\n",
              "    .colab-df-convert {\n",
              "      background-color: #E8F0FE;\n",
              "      border: none;\n",
              "      border-radius: 50%;\n",
              "      cursor: pointer;\n",
              "      display: none;\n",
              "      fill: #1967D2;\n",
              "      height: 32px;\n",
              "      padding: 0 0 0 0;\n",
              "      width: 32px;\n",
              "    }\n",
              "\n",
              "    .colab-df-convert:hover {\n",
              "      background-color: #E2EBFA;\n",
              "      box-shadow: 0px 1px 2px rgba(60, 64, 67, 0.3), 0px 1px 3px 1px rgba(60, 64, 67, 0.15);\n",
              "      fill: #174EA6;\n",
              "    }\n",
              "\n",
              "    [theme=dark] .colab-df-convert {\n",
              "      background-color: #3B4455;\n",
              "      fill: #D2E3FC;\n",
              "    }\n",
              "\n",
              "    [theme=dark] .colab-df-convert:hover {\n",
              "      background-color: #434B5C;\n",
              "      box-shadow: 0px 1px 3px 1px rgba(0, 0, 0, 0.15);\n",
              "      filter: drop-shadow(0px 1px 2px rgba(0, 0, 0, 0.3));\n",
              "      fill: #FFFFFF;\n",
              "    }\n",
              "  </style>\n",
              "\n",
              "      <script>\n",
              "        const buttonEl =\n",
              "          document.querySelector('#df-e8ad9da7-9882-42e3-bdee-8a897d691ff8 button.colab-df-convert');\n",
              "        buttonEl.style.display =\n",
              "          google.colab.kernel.accessAllowed ? 'block' : 'none';\n",
              "\n",
              "        async function convertToInteractive(key) {\n",
              "          const element = document.querySelector('#df-e8ad9da7-9882-42e3-bdee-8a897d691ff8');\n",
              "          const dataTable =\n",
              "            await google.colab.kernel.invokeFunction('convertToInteractive',\n",
              "                                                     [key], {});\n",
              "          if (!dataTable) return;\n",
              "\n",
              "          const docLinkHtml = 'Like what you see? Visit the ' +\n",
              "            '<a target=\"_blank\" href=https://colab.research.google.com/notebooks/data_table.ipynb>data table notebook</a>'\n",
              "            + ' to learn more about interactive tables.';\n",
              "          element.innerHTML = '';\n",
              "          dataTable['output_type'] = 'display_data';\n",
              "          await google.colab.output.renderOutput(dataTable, element);\n",
              "          const docLink = document.createElement('div');\n",
              "          docLink.innerHTML = docLinkHtml;\n",
              "          element.appendChild(docLink);\n",
              "        }\n",
              "      </script>\n",
              "    </div>\n",
              "  </div>\n",
              "  "
            ]
          },
          "metadata": {},
          "execution_count": 8
        }
      ],
      "source": [
        "housecount0 = cluster0.groupby('day')[['LCLid']].nunique()\n",
        "# housecount0.get_group('2012-11-07')\n",
        "housecount0.head()"
      ]
    },
    {
      "cell_type": "code",
      "execution_count": null,
      "metadata": {
        "id": "Vh1OcbMFCdZl",
        "outputId": "2828126c-2a92-4fa1-812e-07b779ff0741",
        "colab": {
          "base_uri": "https://localhost:8080/",
          "height": 530
        }
      },
      "outputs": [
        {
          "output_type": "execute_result",
          "data": {
            "text/plain": [
              "<Axes: xlabel='day'>"
            ]
          },
          "metadata": {},
          "execution_count": 9
        },
        {
          "output_type": "display_data",
          "data": {
            "text/plain": [
              "<Figure size 3000x1000 with 1 Axes>"
            ],
            "image/png": "[encoded data removed]"
          },
          "metadata": {}
        }
      ],
      "source": [
        "housecount0.plot(figsize=(30,10))"
      ]
    },
    {
      "cell_type": "code",
      "execution_count": null,
      "metadata": {
        "id": "SVaqTL6LCdZm",
        "outputId": "ba111d92-f3ec-4a27-d238-0d97ba1b6035",
        "colab": {
          "base_uri": "https://localhost:8080/"
        }
      },
      "outputs": [
        {
          "output_type": "execute_result",
          "data": {
            "text/plain": [
              "day               826\n",
              "energy_sum        826\n",
              "temperatureMax    826\n",
              "windSpeed         826\n",
              "humidity          826\n",
              "holiday_ind       826\n",
              "LCLid             826\n",
              "dtype: int64"
            ]
          },
          "metadata": {},
          "execution_count": 10
        }
      ],
      "source": [
        "# [['LCLid', 'energy_sum', 'temperatureMax', 'windSpeed', 'humidity', 'holiday_ind']]\n",
        "energy0 = cluster0.groupby('day')[['energy_sum', 'temperatureMax', 'windSpeed', 'humidity', 'holiday_ind']].sum()\n",
        "energy0 = energy0.merge(housecount0, on=['day'])\n",
        "energy0 = energy0.reset_index()\n",
        "energy0.count()"
      ]
    },
    {
      "cell_type": "code",
      "execution_count": null,
      "metadata": {
        "id": "YcPsINvcCdZm"
      },
      "outputs": [],
      "source": [
        "energy0['day'] = pd.to_datetime(energy0['day'],format='%Y-%m-%d').dt.date"
      ]
    },
    {
      "cell_type": "code",
      "execution_count": null,
      "metadata": {
        "id": "9eIvemqeCdZn",
        "outputId": "620f4229-3451-431e-8df9-718ac3cd1ec1",
        "colab": {
          "base_uri": "https://localhost:8080/"
        }
      },
      "outputs": [
        {
          "output_type": "stream",
          "name": "stdout",
          "text": [
            "Starting Point of Data at Day Level 2011-11-24\n",
            "Ending Point of Data at Day Level 2014-02-28\n"
          ]
        }
      ],
      "source": [
        "energy0['avg_energy'] =  energy0['energy_sum']/energy0['LCLid']\n",
        "print(\"Starting Point of Data at Day Level\",min(energy0['day']))\n",
        "print(\"Ending Point of Data at Day Level\",max(energy0['day']))"
      ]
    },
    {
      "cell_type": "code",
      "execution_count": null,
      "metadata": {
        "id": "UNW6bt7XCdZn",
        "outputId": "ace2e0c4-80cf-4466-ca89-2fc991bc7a74",
        "colab": {
          "base_uri": "https://localhost:8080/",
          "height": 423
        }
      },
      "outputs": [
        {
          "output_type": "execute_result",
          "data": {
            "text/plain": [
              "            day    energy_sum  temperatureMax  windSpeed  humidity  \\\n",
              "0    2011-11-24      6.136000           12.93       4.04      0.89   \n",
              "1    2011-11-25     18.945000           13.03       5.02      0.79   \n",
              "2    2011-11-26     28.471000           12.96       5.75      0.81   \n",
              "3    2011-11-27     24.710000           13.54       5.48      0.72   \n",
              "4    2011-11-28     18.007000           12.58       2.34      0.86   \n",
              "..          ...           ...             ...        ...       ...   \n",
              "821  2014-02-24  11771.705001        11284.39    3980.86    586.82   \n",
              "822  2014-02-25  11481.545005         9063.99    4512.17    618.54   \n",
              "823  2014-02-26  11353.865998         8952.97    3029.26    578.89   \n",
              "824  2014-02-27  11509.880000         8175.83    3283.02    586.82   \n",
              "825  2014-02-28    232.399000         5821.20    1774.08    681.12   \n",
              "\n",
              "     holiday_ind  LCLid  avg_energy  \n",
              "0            0.0      1    6.136000  \n",
              "1            0.0      1   18.945000  \n",
              "2            1.0      1   28.471000  \n",
              "3            1.0      1   24.710000  \n",
              "4            0.0      1   18.007000  \n",
              "..           ...    ...         ...  \n",
              "821          0.0    793   14.844521  \n",
              "822          0.0    793   14.478619  \n",
              "823          0.0    793   14.317612  \n",
              "824          0.0    793   14.514351  \n",
              "825          0.0    792    0.293433  \n",
              "\n",
              "[826 rows x 8 columns]"
            ],
            "text/html": [
              "\n",
              "  <div id=\"df-42c9d0fa-396e-4327-9604-27fb83008f87\">\n",
              "    <div class=\"colab-df-container\">\n",
              "      <div>\n",
              "<style scoped>\n",
              "    .dataframe tbody tr th:only-of-type {\n",
              "        vertical-align: middle;\n",
              "    }\n",
              "\n",
              "    .dataframe tbody tr th {\n",
              "        vertical-align: top;\n",
              "    }\n",
              "\n",
              "    .dataframe thead th {\n",
              "        text-align: right;\n",
              "    }\n",
              "</style>\n",
              "<table border=\"1\" class=\"dataframe\">\n",
              "  <thead>\n",
              "    <tr style=\"text-align: right;\">\n",
              "      <th></th>\n",
              "      <th>day</th>\n",
              "      <th>energy_sum</th>\n",
              "      <th>temperatureMax</th>\n",
              "      <th>windSpeed</th>\n",
              "      <th>humidity</th>\n",
              "      <th>holiday_ind</th>\n",
              "      <th>LCLid</th>\n",
              "      <th>avg_energy</th>\n",
              "    </tr>\n",
              "  </thead>\n",
              "  <tbody>\n",
              "    <tr>\n",
              "      <th>0</th>\n",
              "      <td>2011-11-24</td>\n",
              "      <td>6.136000</td>\n",
              "      <td>12.93</td>\n",
              "      <td>4.04</td>\n",
              "      <td>0.89</td>\n",
              "      <td>0.0</td>\n",
              "      <td>1</td>\n",
              "      <td>6.136000</td>\n",
              "    </tr>\n",
              "    <tr>\n",
              "      <th>1</th>\n",
              "      <td>2011-11-25</td>\n",
              "      <td>18.945000</td>\n",
              "      <td>13.03</td>\n",
              "      <td>5.02</td>\n",
              "      <td>0.79</td>\n",
              "      <td>0.0</td>\n",
              "      <td>1</td>\n",
              "      <td>18.945000</td>\n",
              "    </tr>\n",
              "    <tr>\n",
              "      <th>2</th>\n",
              "      <td>2011-11-26</td>\n",
              "      <td>28.471000</td>\n",
              "      <td>12.96</td>\n",
              "      <td>5.75</td>\n",
              "      <td>0.81</td>\n",
              "      <td>1.0</td>\n",
              "      <td>1</td>\n",
              "      <td>28.471000</td>\n",
              "    </tr>\n",
              "    <tr>\n",
              "      <th>3</th>\n",
              "      <td>2011-11-27</td>\n",
              "      <td>24.710000</td>\n",
              "      <td>13.54</td>\n",
              "      <td>5.48</td>\n",
              "      <td>0.72</td>\n",
              "      <td>1.0</td>\n",
              "      <td>1</td>\n",
              "      <td>24.710000</td>\n",
              "    </tr>\n",
              "    <tr>\n",
              "      <th>4</th>\n",
              "      <td>2011-11-28</td>\n",
              "      <td>18.007000</td>\n",
              "      <td>12.58</td>\n",
              "      <td>2.34</td>\n",
              "      <td>0.86</td>\n",
              "      <td>0.0</td>\n",
              "      <td>1</td>\n",
              "      <td>18.007000</td>\n",
              "    </tr>\n",
              "    <tr>\n",
              "      <th>...</th>\n",
              "      <td>...</td>\n",
              "      <td>...</td>\n",
              "      <td>...</td>\n",
              "      <td>...</td>\n",
              "      <td>...</td>\n",
              "      <td>...</td>\n",
              "      <td>...</td>\n",
              "      <td>...</td>\n",
              "    </tr>\n",
              "    <tr>\n",
              "      <th>821</th>\n",
              "      <td>2014-02-24</td>\n",
              "      <td>11771.705001</td>\n",
              "      <td>11284.39</td>\n",
              "      <td>3980.86</td>\n",
              "      <td>586.82</td>\n",
              "      <td>0.0</td>\n",
              "      <td>793</td>\n",
              "      <td>14.844521</td>\n",
              "    </tr>\n",
              "    <tr>\n",
              "      <th>822</th>\n",
              "      <td>2014-02-25</td>\n",
              "      <td>11481.545005</td>\n",
              "      <td>9063.99</td>\n",
              "      <td>4512.17</td>\n",
              "      <td>618.54</td>\n",
              "      <td>0.0</td>\n",
              "      <td>793</td>\n",
              "      <td>14.478619</td>\n",
              "    </tr>\n",
              "    <tr>\n",
              "      <th>823</th>\n",
              "      <td>2014-02-26</td>\n",
              "      <td>11353.865998</td>\n",
              "      <td>8952.97</td>\n",
              "      <td>3029.26</td>\n",
              "      <td>578.89</td>\n",
              "      <td>0.0</td>\n",
              "      <td>793</td>\n",
              "      <td>14.317612</td>\n",
              "    </tr>\n",
              "    <tr>\n",
              "      <th>824</th>\n",
              "      <td>2014-02-27</td>\n",
              "      <td>11509.880000</td>\n",
              "      <td>8175.83</td>\n",
              "      <td>3283.02</td>\n",
              "      <td>586.82</td>\n",
              "      <td>0.0</td>\n",
              "      <td>793</td>\n",
              "      <td>14.514351</td>\n",
              "    </tr>\n",
              "    <tr>\n",
              "      <th>825</th>\n",
              "      <td>2014-02-28</td>\n",
              "      <td>232.399000</td>\n",
              "      <td>5821.20</td>\n",
              "      <td>1774.08</td>\n",
              "      <td>681.12</td>\n",
              "      <td>0.0</td>\n",
              "      <td>792</td>\n",
              "      <td>0.293433</td>\n",
              "    </tr>\n",
              "  </tbody>\n",
              "</table>\n",
              "<p>826 rows × 8 columns</p>\n",
              "</div>\n",
              "      <button class=\"colab-df-convert\" onclick=\"convertToInteractive('df-42c9d0fa-396e-4327-9604-27fb83008f87')\"\n",
              "              title=\"Convert this dataframe to an interactive table.\"\n",
              "              style=\"display:none;\">\n",
              "        \n",
              "  <svg xmlns=\"http://www.w3.org/2000/svg\" height=\"24px\"viewBox=\"0 0 24 24\"\n",
              "       width=\"24px\">\n",
              "    <path d=\"M0 0h24v24H0V0z\" fill=\"none\"/>\n",
              "    <path d=\"M18.56 5.44l.94 2.06.94-2.06 2.06-.94-2.06-.94-.94-2.06-.94 2.06-2.06.94zm-11 1L8.5 8.5l.94-2.06 2.06-.94-2.06-.94L8.5 2.5l-.94 2.06-2.06.94zm10 10l.94 2.06.94-2.06 2.06-.94-2.06-.94-.94-2.06-.94 2.06-2.06.94z\"/><path d=\"M17.41 7.96l-1.37-1.37c-.4-.4-.92-.59-1.43-.59-.52 0-1.04.2-1.43.59L10.3 9.45l-7.72 7.72c-.78.78-.78 2.05 0 2.83L4 21.41c.39.39.9.59 1.41.59.51 0 1.02-.2 1.41-.59l7.78-7.78 2.81-2.81c.8-.78.8-2.07 0-2.86zM5.41 20L4 18.59l7.72-7.72 1.47 1.35L5.41 20z\"/>\n",
              "  </svg>\n",
              "      </button>\n",
              "      \n",
              "  <style>\n",
              "    .colab-df-container {\n",
              "      display:flex;\n",
              "      flex-wrap:wrap;\n",
              "      gap: 12px;\n",
              "    }\n",
              "\n",
              "    .colab-df-convert {\n",
              "      background-color: #E8F0FE;\n",
              "      border: none;\n",
              "      border-radius: 50%;\n",
              "      cursor: pointer;\n",
              "      display: none;\n",
              "      fill: #1967D2;\n",
              "      height: 32px;\n",
              "      padding: 0 0 0 0;\n",
              "      width: 32px;\n",
              "    }\n",
              "\n",
              "    .colab-df-convert:hover {\n",
              "      background-color: #E2EBFA;\n",
              "      box-shadow: 0px 1px 2px rgba(60, 64, 67, 0.3), 0px 1px 3px 1px rgba(60, 64, 67, 0.15);\n",
              "      fill: #174EA6;\n",
              "    }\n",
              "\n",
              "    [theme=dark] .colab-df-convert {\n",
              "      background-color: #3B4455;\n",
              "      fill: #D2E3FC;\n",
              "    }\n",
              "\n",
              "    [theme=dark] .colab-df-convert:hover {\n",
              "      background-color: #434B5C;\n",
              "      box-shadow: 0px 1px 3px 1px rgba(0, 0, 0, 0.15);\n",
              "      filter: drop-shadow(0px 1px 2px rgba(0, 0, 0, 0.3));\n",
              "      fill: #FFFFFF;\n",
              "    }\n",
              "  </style>\n",
              "\n",
              "      <script>\n",
              "        const buttonEl =\n",
              "          document.querySelector('#df-42c9d0fa-396e-4327-9604-27fb83008f87 button.colab-df-convert');\n",
              "        buttonEl.style.display =\n",
              "          google.colab.kernel.accessAllowed ? 'block' : 'none';\n",
              "\n",
              "        async function convertToInteractive(key) {\n",
              "          const element = document.querySelector('#df-42c9d0fa-396e-4327-9604-27fb83008f87');\n",
              "          const dataTable =\n",
              "            await google.colab.kernel.invokeFunction('convertToInteractive',\n",
              "                                                     [key], {});\n",
              "          if (!dataTable) return;\n",
              "\n",
              "          const docLinkHtml = 'Like what you see? Visit the ' +\n",
              "            '<a target=\"_blank\" href=https://colab.research.google.com/notebooks/data_table.ipynb>data table notebook</a>'\n",
              "            + ' to learn more about interactive tables.';\n",
              "          element.innerHTML = '';\n",
              "          dataTable['output_type'] = 'display_data';\n",
              "          await google.colab.output.renderOutput(dataTable, element);\n",
              "          const docLink = document.createElement('div');\n",
              "          docLink.innerHTML = docLinkHtml;\n",
              "          element.appendChild(docLink);\n",
              "        }\n",
              "      </script>\n",
              "    </div>\n",
              "  </div>\n",
              "  "
            ]
          },
          "metadata": {},
          "execution_count": 13
        }
      ],
      "source": [
        "energy0"
      ]
    },
    {
      "cell_type": "code",
      "execution_count": null,
      "metadata": {
        "id": "8T-ndWqiCdZn",
        "outputId": "6e789c3a-ed43-4802-e033-f5bec01e3f0a",
        "colab": {
          "base_uri": "https://localhost:8080/",
          "height": 300
        }
      },
      "outputs": [
        {
          "output_type": "execute_result",
          "data": {
            "text/plain": [
              "         energy_sum  temperatureMax    windSpeed     humidity  holiday_ind  \\\n",
              "count    826.000000      826.000000   826.000000   826.000000   826.000000   \n",
              "mean    9021.760008     9182.170847  2304.204189   499.739334   181.958838   \n",
              "std     4524.700213     6188.355692  1591.947438   236.979390   329.809831   \n",
              "min        6.136000      -48.120000     2.340000     0.680000     0.000000   \n",
              "25%     7715.931000     4059.687500   971.180000   456.142500     0.000000   \n",
              "50%     9718.209999     8760.400000  2362.950000   592.740000     0.000000   \n",
              "75%    12684.710500    13770.052500  3364.390000   665.660000    64.000000   \n",
              "max    27346.784006    25952.400000  7928.160000  1058.640000  1604.000000   \n",
              "\n",
              "            LCLid  avg_energy  \n",
              "count  826.000000  826.000000  \n",
              "mean   640.509685   14.702695  \n",
              "std    289.232783    3.644075  \n",
              "min      1.000000    0.293433  \n",
              "25%    655.250000   11.907374  \n",
              "50%    801.000000   14.318162  \n",
              "75%    802.000000   16.564956  \n",
              "max    802.000000   47.372000  "
            ],
            "text/html": [
              "\n",
              "  <div id=\"df-366c4697-e408-4da4-85dc-a0539ba9bb43\">\n",
              "    <div class=\"colab-df-container\">\n",
              "      <div>\n",
              "<style scoped>\n",
              "    .dataframe tbody tr th:only-of-type {\n",
              "        vertical-align: middle;\n",
              "    }\n",
              "\n",
              "    .dataframe tbody tr th {\n",
              "        vertical-align: top;\n",
              "    }\n",
              "\n",
              "    .dataframe thead th {\n",
              "        text-align: right;\n",
              "    }\n",
              "</style>\n",
              "<table border=\"1\" class=\"dataframe\">\n",
              "  <thead>\n",
              "    <tr style=\"text-align: right;\">\n",
              "      <th></th>\n",
              "      <th>energy_sum</th>\n",
              "      <th>temperatureMax</th>\n",
              "      <th>windSpeed</th>\n",
              "      <th>humidity</th>\n",
              "      <th>holiday_ind</th>\n",
              "      <th>LCLid</th>\n",
              "      <th>avg_energy</th>\n",
              "    </tr>\n",
              "  </thead>\n",
              "  <tbody>\n",
              "    <tr>\n",
              "      <th>count</th>\n",
              "      <td>826.000000</td>\n",
              "      <td>826.000000</td>\n",
              "      <td>826.000000</td>\n",
              "      <td>826.000000</td>\n",
              "      <td>826.000000</td>\n",
              "      <td>826.000000</td>\n",
              "      <td>826.000000</td>\n",
              "    </tr>\n",
              "    <tr>\n",
              "      <th>mean</th>\n",
              "      <td>9021.760008</td>\n",
              "      <td>9182.170847</td>\n",
              "      <td>2304.204189</td>\n",
              "      <td>499.739334</td>\n",
              "      <td>181.958838</td>\n",
              "      <td>640.509685</td>\n",
              "      <td>14.702695</td>\n",
              "    </tr>\n",
              "    <tr>\n",
              "      <th>std</th>\n",
              "      <td>4524.700213</td>\n",
              "      <td>6188.355692</td>\n",
              "      <td>1591.947438</td>\n",
              "      <td>236.979390</td>\n",
              "      <td>329.809831</td>\n",
              "      <td>289.232783</td>\n",
              "      <td>3.644075</td>\n",
              "    </tr>\n",
              "    <tr>\n",
              "      <th>min</th>\n",
              "      <td>6.136000</td>\n",
              "      <td>-48.120000</td>\n",
              "      <td>2.340000</td>\n",
              "      <td>0.680000</td>\n",
              "      <td>0.000000</td>\n",
              "      <td>1.000000</td>\n",
              "      <td>0.293433</td>\n",
              "    </tr>\n",
              "    <tr>\n",
              "      <th>25%</th>\n",
              "      <td>7715.931000</td>\n",
              "      <td>4059.687500</td>\n",
              "      <td>971.180000</td>\n",
              "      <td>456.142500</td>\n",
              "      <td>0.000000</td>\n",
              "      <td>655.250000</td>\n",
              "      <td>11.907374</td>\n",
              "    </tr>\n",
              "    <tr>\n",
              "      <th>50%</th>\n",
              "      <td>9718.209999</td>\n",
              "      <td>8760.400000</td>\n",
              "      <td>2362.950000</td>\n",
              "      <td>592.740000</td>\n",
              "      <td>0.000000</td>\n",
              "      <td>801.000000</td>\n",
              "      <td>14.318162</td>\n",
              "    </tr>\n",
              "    <tr>\n",
              "      <th>75%</th>\n",
              "      <td>12684.710500</td>\n",
              "      <td>13770.052500</td>\n",
              "      <td>3364.390000</td>\n",
              "      <td>665.660000</td>\n",
              "      <td>64.000000</td>\n",
              "      <td>802.000000</td>\n",
              "      <td>16.564956</td>\n",
              "    </tr>\n",
              "    <tr>\n",
              "      <th>max</th>\n",
              "      <td>27346.784006</td>\n",
              "      <td>25952.400000</td>\n",
              "      <td>7928.160000</td>\n",
              "      <td>1058.640000</td>\n",
              "      <td>1604.000000</td>\n",
              "      <td>802.000000</td>\n",
              "      <td>47.372000</td>\n",
              "    </tr>\n",
              "  </tbody>\n",
              "</table>\n",
              "</div>\n",
              "      <button class=\"colab-df-convert\" onclick=\"convertToInteractive('df-366c4697-e408-4da4-85dc-a0539ba9bb43')\"\n",
              "              title=\"Convert this dataframe to an interactive table.\"\n",
              "              style=\"display:none;\">\n",
              "        \n",
              "  <svg xmlns=\"http://www.w3.org/2000/svg\" height=\"24px\"viewBox=\"0 0 24 24\"\n",
              "       width=\"24px\">\n",
              "    <path d=\"M0 0h24v24H0V0z\" fill=\"none\"/>\n",
              "    <path d=\"M18.56 5.44l.94 2.06.94-2.06 2.06-.94-2.06-.94-.94-2.06-.94 2.06-2.06.94zm-11 1L8.5 8.5l.94-2.06 2.06-.94-2.06-.94L8.5 2.5l-.94 2.06-2.06.94zm10 10l.94 2.06.94-2.06 2.06-.94-2.06-.94-.94-2.06-.94 2.06-2.06.94z\"/><path d=\"M17.41 7.96l-1.37-1.37c-.4-.4-.92-.59-1.43-.59-.52 0-1.04.2-1.43.59L10.3 9.45l-7.72 7.72c-.78.78-.78 2.05 0 2.83L4 21.41c.39.39.9.59 1.41.59.51 0 1.02-.2 1.41-.59l7.78-7.78 2.81-2.81c.8-.78.8-2.07 0-2.86zM5.41 20L4 18.59l7.72-7.72 1.47 1.35L5.41 20z\"/>\n",
              "  </svg>\n",
              "      </button>\n",
              "      \n",
              "  <style>\n",
              "    .colab-df-container {\n",
              "      display:flex;\n",
              "      flex-wrap:wrap;\n",
              "      gap: 12px;\n",
              "    }\n",
              "\n",
              "    .colab-df-convert {\n",
              "      background-color: #E8F0FE;\n",
              "      border: none;\n",
              "      border-radius: 50%;\n",
              "      cursor: pointer;\n",
              "      display: none;\n",
              "      fill: #1967D2;\n",
              "      height: 32px;\n",
              "      padding: 0 0 0 0;\n",
              "      width: 32px;\n",
              "    }\n",
              "\n",
              "    .colab-df-convert:hover {\n",
              "      background-color: #E2EBFA;\n",
              "      box-shadow: 0px 1px 2px rgba(60, 64, 67, 0.3), 0px 1px 3px 1px rgba(60, 64, 67, 0.15);\n",
              "      fill: #174EA6;\n",
              "    }\n",
              "\n",
              "    [theme=dark] .colab-df-convert {\n",
              "      background-color: #3B4455;\n",
              "      fill: #D2E3FC;\n",
              "    }\n",
              "\n",
              "    [theme=dark] .colab-df-convert:hover {\n",
              "      background-color: #434B5C;\n",
              "      box-shadow: 0px 1px 3px 1px rgba(0, 0, 0, 0.15);\n",
              "      filter: drop-shadow(0px 1px 2px rgba(0, 0, 0, 0.3));\n",
              "      fill: #FFFFFF;\n",
              "    }\n",
              "  </style>\n",
              "\n",
              "      <script>\n",
              "        const buttonEl =\n",
              "          document.querySelector('#df-366c4697-e408-4da4-85dc-a0539ba9bb43 button.colab-df-convert');\n",
              "        buttonEl.style.display =\n",
              "          google.colab.kernel.accessAllowed ? 'block' : 'none';\n",
              "\n",
              "        async function convertToInteractive(key) {\n",
              "          const element = document.querySelector('#df-366c4697-e408-4da4-85dc-a0539ba9bb43');\n",
              "          const dataTable =\n",
              "            await google.colab.kernel.invokeFunction('convertToInteractive',\n",
              "                                                     [key], {});\n",
              "          if (!dataTable) return;\n",
              "\n",
              "          const docLinkHtml = 'Like what you see? Visit the ' +\n",
              "            '<a target=\"_blank\" href=https://colab.research.google.com/notebooks/data_table.ipynb>data table notebook</a>'\n",
              "            + ' to learn more about interactive tables.';\n",
              "          element.innerHTML = '';\n",
              "          dataTable['output_type'] = 'display_data';\n",
              "          await google.colab.output.renderOutput(dataTable, element);\n",
              "          const docLink = document.createElement('div');\n",
              "          docLink.innerHTML = docLinkHtml;\n",
              "          element.appendChild(docLink);\n",
              "        }\n",
              "      </script>\n",
              "    </div>\n",
              "  </div>\n",
              "  "
            ]
          },
          "metadata": {},
          "execution_count": 14
        }
      ],
      "source": [
        "energy0.describe()"
      ]
    },
    {
      "cell_type": "code",
      "execution_count": null,
      "metadata": {
        "id": "U6kF1Sc-CdZn"
      },
      "outputs": [],
      "source": [
        "# Weather clusters\n",
        "from sklearn.preprocessing import MinMaxScaler\n",
        "\n",
        "scaler0 = MinMaxScaler()\n",
        "weather_scaled0 = scaler0.fit_transform(energy0[['temperatureMax','humidity','windSpeed']])"
      ]
    },
    {
      "cell_type": "code",
      "execution_count": null,
      "metadata": {
        "id": "CrsyzGSOCdZo",
        "outputId": "aefe8925-c384-45e7-8424-bad1f96d13c2",
        "colab": {
          "base_uri": "https://localhost:8080/"
        }
      },
      "outputs": [
        {
          "output_type": "execute_result",
          "data": {
            "text/plain": [
              "array([[2.34802996e-03, 1.98495217e-04, 2.14488848e-04],\n",
              "       [2.35187604e-03, 1.03973685e-04, 3.38135360e-04],\n",
              "       [2.34918379e-03, 1.22877992e-04, 4.30239395e-04],\n",
              "       ...,\n",
              "       [3.46188845e-01, 5.46532950e-01, 3.81906225e-01],\n",
              "       [3.16299443e-01, 5.54028508e-01, 4.13923102e-01],\n",
              "       [2.25738562e-01, 6.43162312e-01, 2.23540277e-01]])"
            ]
          },
          "metadata": {},
          "execution_count": 16
        }
      ],
      "source": [
        "weather_scaled0"
      ]
    },
    {
      "cell_type": "code",
      "execution_count": null,
      "metadata": {
        "id": "QHEc0oBWCdZo",
        "outputId": "a5b4be01-7cb7-497d-acc3-d5cf64704c73",
        "colab": {
          "base_uri": "https://localhost:8080/",
          "height": 505
        }
      },
      "outputs": [
        {
          "output_type": "stream",
          "name": "stdout",
          "text": [
            "[KMeans(n_clusters=1, n_init='auto'), KMeans(n_clusters=2, n_init='auto'), KMeans(n_clusters=3, n_init='auto'), KMeans(n_clusters=4, n_init='auto'), KMeans(n_clusters=5, n_init='auto'), KMeans(n_clusters=6, n_init='auto'), KMeans(n_clusters=7, n_init='auto'), KMeans(n_init='auto'), KMeans(n_clusters=9, n_init='auto'), KMeans(n_clusters=10, n_init='auto'), KMeans(n_clusters=11, n_init='auto'), KMeans(n_clusters=12, n_init='auto'), KMeans(n_clusters=13, n_init='auto'), KMeans(n_clusters=14, n_init='auto'), KMeans(n_clusters=15, n_init='auto'), KMeans(n_clusters=16, n_init='auto'), KMeans(n_clusters=17, n_init='auto'), KMeans(n_clusters=18, n_init='auto'), KMeans(n_clusters=19, n_init='auto')]\n",
            "[-121.41176799227429, -51.746825361921026, -32.31775330242217, -23.408092450924094, -20.995093803466837, -18.659557533394352, -15.4973077973924, -14.21112872284697, -12.337990324131948, -11.202746258344614, -10.154321815421984, -9.555063418065409, -9.512928528048132, -8.733171289557404, -7.9472132377166975, -7.821412579896914, -7.57859503292485, -7.151246860344838, -6.879285285580368]\n"
          ]
        },
        {
          "output_type": "display_data",
          "data": {
            "text/plain": [
              "<Figure size 640x480 with 1 Axes>"
            ],
            "image/png": "[encoded data removed]"
          },
          "metadata": {}
        }
      ],
      "source": [
        "from sklearn.cluster import KMeans\n",
        "import matplotlib.pyplot as plt\n",
        "\n",
        "\n",
        "Nc0 = range(1,20)\n",
        "kmeans0 = [KMeans(n_clusters=i, n_init='auto') for i in Nc0]\n",
        "print(kmeans0)\n",
        "\n",
        "score0 = [kmeans0[i].fit(weather_scaled0).score(weather_scaled0) for i in range(len(kmeans0))]\n",
        "print(score0)\n",
        "\n",
        "plt.plot(Nc0, score0)\n",
        "plt.xlabel('Number of Clusters')\n",
        "plt.ylabel('Score')\n",
        "plt.show()"
      ]
    },
    {
      "cell_type": "code",
      "execution_count": null,
      "metadata": {
        "id": "_mpSRnWmCdZo",
        "outputId": "b1c7cf80-8bb8-42d4-fc32-1d2f75753f2a",
        "colab": {
          "base_uri": "https://localhost:8080/",
          "height": 206
        }
      },
      "outputs": [
        {
          "output_type": "execute_result",
          "data": {
            "text/plain": [
              "          day  energy_sum  temperatureMax  windSpeed  humidity  holiday_ind  \\\n",
              "0  2011-11-24       6.136           12.93       4.04      0.89          0.0   \n",
              "1  2011-11-25      18.945           13.03       5.02      0.79          0.0   \n",
              "2  2011-11-26      28.471           12.96       5.75      0.81          1.0   \n",
              "3  2011-11-27      24.710           13.54       5.48      0.72          1.0   \n",
              "4  2011-11-28      18.007           12.58       2.34      0.86          0.0   \n",
              "\n",
              "   LCLid  avg_energy  weather_cluster  \n",
              "0      1       6.136                2  \n",
              "1      1      18.945                2  \n",
              "2      1      28.471                2  \n",
              "3      1      24.710                2  \n",
              "4      1      18.007                2  "
            ],
            "text/html": [
              "\n",
              "  <div id=\"df-497fbdfd-59cf-471d-87ac-e9921a249056\">\n",
              "    <div class=\"colab-df-container\">\n",
              "      <div>\n",
              "<style scoped>\n",
              "    .dataframe tbody tr th:only-of-type {\n",
              "        vertical-align: middle;\n",
              "    }\n",
              "\n",
              "    .dataframe tbody tr th {\n",
              "        vertical-align: top;\n",
              "    }\n",
              "\n",
              "    .dataframe thead th {\n",
              "        text-align: right;\n",
              "    }\n",
              "</style>\n",
              "<table border=\"1\" class=\"dataframe\">\n",
              "  <thead>\n",
              "    <tr style=\"text-align: right;\">\n",
              "      <th></th>\n",
              "      <th>day</th>\n",
              "      <th>energy_sum</th>\n",
              "      <th>temperatureMax</th>\n",
              "      <th>windSpeed</th>\n",
              "      <th>humidity</th>\n",
              "      <th>holiday_ind</th>\n",
              "      <th>LCLid</th>\n",
              "      <th>avg_energy</th>\n",
              "      <th>weather_cluster</th>\n",
              "    </tr>\n",
              "  </thead>\n",
              "  <tbody>\n",
              "    <tr>\n",
              "      <th>0</th>\n",
              "      <td>2011-11-24</td>\n",
              "      <td>6.136</td>\n",
              "      <td>12.93</td>\n",
              "      <td>4.04</td>\n",
              "      <td>0.89</td>\n",
              "      <td>0.0</td>\n",
              "      <td>1</td>\n",
              "      <td>6.136</td>\n",
              "      <td>2</td>\n",
              "    </tr>\n",
              "    <tr>\n",
              "      <th>1</th>\n",
              "      <td>2011-11-25</td>\n",
              "      <td>18.945</td>\n",
              "      <td>13.03</td>\n",
              "      <td>5.02</td>\n",
              "      <td>0.79</td>\n",
              "      <td>0.0</td>\n",
              "      <td>1</td>\n",
              "      <td>18.945</td>\n",
              "      <td>2</td>\n",
              "    </tr>\n",
              "    <tr>\n",
              "      <th>2</th>\n",
              "      <td>2011-11-26</td>\n",
              "      <td>28.471</td>\n",
              "      <td>12.96</td>\n",
              "      <td>5.75</td>\n",
              "      <td>0.81</td>\n",
              "      <td>1.0</td>\n",
              "      <td>1</td>\n",
              "      <td>28.471</td>\n",
              "      <td>2</td>\n",
              "    </tr>\n",
              "    <tr>\n",
              "      <th>3</th>\n",
              "      <td>2011-11-27</td>\n",
              "      <td>24.710</td>\n",
              "      <td>13.54</td>\n",
              "      <td>5.48</td>\n",
              "      <td>0.72</td>\n",
              "      <td>1.0</td>\n",
              "      <td>1</td>\n",
              "      <td>24.710</td>\n",
              "      <td>2</td>\n",
              "    </tr>\n",
              "    <tr>\n",
              "      <th>4</th>\n",
              "      <td>2011-11-28</td>\n",
              "      <td>18.007</td>\n",
              "      <td>12.58</td>\n",
              "      <td>2.34</td>\n",
              "      <td>0.86</td>\n",
              "      <td>0.0</td>\n",
              "      <td>1</td>\n",
              "      <td>18.007</td>\n",
              "      <td>2</td>\n",
              "    </tr>\n",
              "  </tbody>\n",
              "</table>\n",
              "</div>\n",
              "      <button class=\"colab-df-convert\" onclick=\"convertToInteractive('df-497fbdfd-59cf-471d-87ac-e9921a249056')\"\n",
              "              title=\"Convert this dataframe to an interactive table.\"\n",
              "              style=\"display:none;\">\n",
              "        \n",
              "  <svg xmlns=\"http://www.w3.org/2000/svg\" height=\"24px\"viewBox=\"0 0 24 24\"\n",
              "       width=\"24px\">\n",
              "    <path d=\"M0 0h24v24H0V0z\" fill=\"none\"/>\n",
              "    <path d=\"M18.56 5.44l.94 2.06.94-2.06 2.06-.94-2.06-.94-.94-2.06-.94 2.06-2.06.94zm-11 1L8.5 8.5l.94-2.06 2.06-.94-2.06-.94L8.5 2.5l-.94 2.06-2.06.94zm10 10l.94 2.06.94-2.06 2.06-.94-2.06-.94-.94-2.06-.94 2.06-2.06.94z\"/><path d=\"M17.41 7.96l-1.37-1.37c-.4-.4-.92-.59-1.43-.59-.52 0-1.04.2-1.43.59L10.3 9.45l-7.72 7.72c-.78.78-.78 2.05 0 2.83L4 21.41c.39.39.9.59 1.41.59.51 0 1.02-.2 1.41-.59l7.78-7.78 2.81-2.81c.8-.78.8-2.07 0-2.86zM5.41 20L4 18.59l7.72-7.72 1.47 1.35L5.41 20z\"/>\n",
              "  </svg>\n",
              "      </button>\n",
              "      \n",
              "  <style>\n",
              "    .colab-df-container {\n",
              "      display:flex;\n",
              "      flex-wrap:wrap;\n",
              "      gap: 12px;\n",
              "    }\n",
              "\n",
              "    .colab-df-convert {\n",
              "      background-color: #E8F0FE;\n",
              "      border: none;\n",
              "      border-radius: 50%;\n",
              "      cursor: pointer;\n",
              "      display: none;\n",
              "      fill: #1967D2;\n",
              "      height: 32px;\n",
              "      padding: 0 0 0 0;\n",
              "      width: 32px;\n",
              "    }\n",
              "\n",
              "    .colab-df-convert:hover {\n",
              "      background-color: #E2EBFA;\n",
              "      box-shadow: 0px 1px 2px rgba(60, 64, 67, 0.3), 0px 1px 3px 1px rgba(60, 64, 67, 0.15);\n",
              "      fill: #174EA6;\n",
              "    }\n",
              "\n",
              "    [theme=dark] .colab-df-convert {\n",
              "      background-color: #3B4455;\n",
              "      fill: #D2E3FC;\n",
              "    }\n",
              "\n",
              "    [theme=dark] .colab-df-convert:hover {\n",
              "      background-color: #434B5C;\n",
              "      box-shadow: 0px 1px 3px 1px rgba(0, 0, 0, 0.15);\n",
              "      filter: drop-shadow(0px 1px 2px rgba(0, 0, 0, 0.3));\n",
              "      fill: #FFFFFF;\n",
              "    }\n",
              "  </style>\n",
              "\n",
              "      <script>\n",
              "        const buttonEl =\n",
              "          document.querySelector('#df-497fbdfd-59cf-471d-87ac-e9921a249056 button.colab-df-convert');\n",
              "        buttonEl.style.display =\n",
              "          google.colab.kernel.accessAllowed ? 'block' : 'none';\n",
              "\n",
              "        async function convertToInteractive(key) {\n",
              "          const element = document.querySelector('#df-497fbdfd-59cf-471d-87ac-e9921a249056');\n",
              "          const dataTable =\n",
              "            await google.colab.kernel.invokeFunction('convertToInteractive',\n",
              "                                                     [key], {});\n",
              "          if (!dataTable) return;\n",
              "\n",
              "          const docLinkHtml = 'Like what you see? Visit the ' +\n",
              "            '<a target=\"_blank\" href=https://colab.research.google.com/notebooks/data_table.ipynb>data table notebook</a>'\n",
              "            + ' to learn more about interactive tables.';\n",
              "          element.innerHTML = '';\n",
              "          dataTable['output_type'] = 'display_data';\n",
              "          await google.colab.output.renderOutput(dataTable, element);\n",
              "          const docLink = document.createElement('div');\n",
              "          docLink.innerHTML = docLinkHtml;\n",
              "          element.appendChild(docLink);\n",
              "        }\n",
              "      </script>\n",
              "    </div>\n",
              "  </div>\n",
              "  "
            ]
          },
          "metadata": {},
          "execution_count": 18
        }
      ],
      "source": [
        "kmeans0 = KMeans(n_clusters=3, max_iter=600, algorithm='lloyd', n_init='auto')\n",
        "kmeans0.fit(weather_scaled0)\n",
        "energy0['weather_cluster'] = kmeans0.labels_\n",
        "energy0.head()"
      ]
    },
    {
      "cell_type": "code",
      "execution_count": null,
      "metadata": {
        "id": "cJhPm3lqCdZp"
      },
      "outputs": [],
      "source": [
        "# Model"
      ]
    },
    {
      "cell_type": "code",
      "execution_count": null,
      "metadata": {
        "id": "plvyXucoCdZp"
      },
      "outputs": [],
      "source": [
        "import numpy as np\n",
        "\n",
        "np.random.seed(11)\n",
        "dataframe = energy0.loc[:,'avg_energy']\n",
        "dataset = dataframe.values\n",
        "dataset = dataset.astype('float32')"
      ]
    },
    {
      "cell_type": "code",
      "execution_count": null,
      "metadata": {
        "id": "8MrW1U30CdZp"
      },
      "outputs": [],
      "source": [
        "def series_to_supervised(data, n_in=1, n_out=1, dropnan=True):\n",
        "    n_vars = 1\n",
        "    df = pd.DataFrame(data)\n",
        "    cols, names = list(), list()\n",
        "    # input sequence (t-n, ... t-1)\n",
        "    for i in range(n_in, 0, -1):\n",
        "        cols.append(df.shift(i))\n",
        "        names += [('var%d(t-%d)' % (j+1, i)) for j in range(n_vars)]\n",
        "    # forecast sequence (t, t+1, ... t+n)\n",
        "    for i in range(0, n_out):\n",
        "        cols.append(df.shift(-i))\n",
        "        if i == 0:\n",
        "            names += [('var%d(t)' % (j+1)) for j in range(n_vars)]\n",
        "        else:\n",
        "            names += [('var%d(t+%d)' % (j+1, i)) for j in range(n_vars)]\n",
        "    agg = pd.concat(cols, axis=1)\n",
        "    agg.columns = names\n",
        "    if dropnan:\n",
        "        agg.dropna(inplace=True)\n",
        "    return agg"
      ]
    },
    {
      "cell_type": "code",
      "execution_count": null,
      "metadata": {
        "id": "OLAypdF8CdZp",
        "outputId": "111f7c85-ee6a-4ef8-af53-7584dd0e7a50",
        "colab": {
          "base_uri": "https://localhost:8080/",
          "height": 206
        }
      },
      "outputs": [
        {
          "output_type": "execute_result",
          "data": {
            "text/plain": [
              "    var1(t-7)  var1(t-6)  var1(t-5)  var1(t-4)  var1(t-3)  var1(t-2)  \\\n",
              "7    6.136000  18.945000  28.471001  24.710001  18.007000  18.066999   \n",
              "8   18.945000  28.471001  24.710001  18.007000  18.066999  16.483999   \n",
              "9   28.471001  24.710001  18.007000  18.066999  16.483999  14.010000   \n",
              "10  24.710001  18.007000  18.066999  16.483999  14.010000  29.693001   \n",
              "11  18.007000  18.066999  16.483999  14.010000  29.693001  20.579000   \n",
              "\n",
              "    var1(t-1)    var1(t)  \n",
              "7   16.483999  14.010000  \n",
              "8   14.010000  29.693001  \n",
              "9   29.693001  20.579000  \n",
              "10  20.579000  23.646000  \n",
              "11  23.646000  14.513000  "
            ],
            "text/html": [
              "\n",
              "  <div id=\"df-8a1ab194-dff5-45cf-87ba-cf376d9b939f\">\n",
              "    <div class=\"colab-df-container\">\n",
              "      <div>\n",
              "<style scoped>\n",
              "    .dataframe tbody tr th:only-of-type {\n",
              "        vertical-align: middle;\n",
              "    }\n",
              "\n",
              "    .dataframe tbody tr th {\n",
              "        vertical-align: top;\n",
              "    }\n",
              "\n",
              "    .dataframe thead th {\n",
              "        text-align: right;\n",
              "    }\n",
              "</style>\n",
              "<table border=\"1\" class=\"dataframe\">\n",
              "  <thead>\n",
              "    <tr style=\"text-align: right;\">\n",
              "      <th></th>\n",
              "      <th>var1(t-7)</th>\n",
              "      <th>var1(t-6)</th>\n",
              "      <th>var1(t-5)</th>\n",
              "      <th>var1(t-4)</th>\n",
              "      <th>var1(t-3)</th>\n",
              "      <th>var1(t-2)</th>\n",
              "      <th>var1(t-1)</th>\n",
              "      <th>var1(t)</th>\n",
              "    </tr>\n",
              "  </thead>\n",
              "  <tbody>\n",
              "    <tr>\n",
              "      <th>7</th>\n",
              "      <td>6.136000</td>\n",
              "      <td>18.945000</td>\n",
              "      <td>28.471001</td>\n",
              "      <td>24.710001</td>\n",
              "      <td>18.007000</td>\n",
              "      <td>18.066999</td>\n",
              "      <td>16.483999</td>\n",
              "      <td>14.010000</td>\n",
              "    </tr>\n",
              "    <tr>\n",
              "      <th>8</th>\n",
              "      <td>18.945000</td>\n",
              "      <td>28.471001</td>\n",
              "      <td>24.710001</td>\n",
              "      <td>18.007000</td>\n",
              "      <td>18.066999</td>\n",
              "      <td>16.483999</td>\n",
              "      <td>14.010000</td>\n",
              "      <td>29.693001</td>\n",
              "    </tr>\n",
              "    <tr>\n",
              "      <th>9</th>\n",
              "      <td>28.471001</td>\n",
              "      <td>24.710001</td>\n",
              "      <td>18.007000</td>\n",
              "      <td>18.066999</td>\n",
              "      <td>16.483999</td>\n",
              "      <td>14.010000</td>\n",
              "      <td>29.693001</td>\n",
              "      <td>20.579000</td>\n",
              "    </tr>\n",
              "    <tr>\n",
              "      <th>10</th>\n",
              "      <td>24.710001</td>\n",
              "      <td>18.007000</td>\n",
              "      <td>18.066999</td>\n",
              "      <td>16.483999</td>\n",
              "      <td>14.010000</td>\n",
              "      <td>29.693001</td>\n",
              "      <td>20.579000</td>\n",
              "      <td>23.646000</td>\n",
              "    </tr>\n",
              "    <tr>\n",
              "      <th>11</th>\n",
              "      <td>18.007000</td>\n",
              "      <td>18.066999</td>\n",
              "      <td>16.483999</td>\n",
              "      <td>14.010000</td>\n",
              "      <td>29.693001</td>\n",
              "      <td>20.579000</td>\n",
              "      <td>23.646000</td>\n",
              "      <td>14.513000</td>\n",
              "    </tr>\n",
              "  </tbody>\n",
              "</table>\n",
              "</div>\n",
              "      <button class=\"colab-df-convert\" onclick=\"convertToInteractive('df-8a1ab194-dff5-45cf-87ba-cf376d9b939f')\"\n",
              "              title=\"Convert this dataframe to an interactive table.\"\n",
              "              style=\"display:none;\">\n",
              "        \n",
              "  <svg xmlns=\"http://www.w3.org/2000/svg\" height=\"24px\"viewBox=\"0 0 24 24\"\n",
              "       width=\"24px\">\n",
              "    <path d=\"M0 0h24v24H0V0z\" fill=\"none\"/>\n",
              "    <path d=\"M18.56 5.44l.94 2.06.94-2.06 2.06-.94-2.06-.94-.94-2.06-.94 2.06-2.06.94zm-11 1L8.5 8.5l.94-2.06 2.06-.94-2.06-.94L8.5 2.5l-.94 2.06-2.06.94zm10 10l.94 2.06.94-2.06 2.06-.94-2.06-.94-.94-2.06-.94 2.06-2.06.94z\"/><path d=\"M17.41 7.96l-1.37-1.37c-.4-.4-.92-.59-1.43-.59-.52 0-1.04.2-1.43.59L10.3 9.45l-7.72 7.72c-.78.78-.78 2.05 0 2.83L4 21.41c.39.39.9.59 1.41.59.51 0 1.02-.2 1.41-.59l7.78-7.78 2.81-2.81c.8-.78.8-2.07 0-2.86zM5.41 20L4 18.59l7.72-7.72 1.47 1.35L5.41 20z\"/>\n",
              "  </svg>\n",
              "      </button>\n",
              "      \n",
              "  <style>\n",
              "    .colab-df-container {\n",
              "      display:flex;\n",
              "      flex-wrap:wrap;\n",
              "      gap: 12px;\n",
              "    }\n",
              "\n",
              "    .colab-df-convert {\n",
              "      background-color: #E8F0FE;\n",
              "      border: none;\n",
              "      border-radius: 50%;\n",
              "      cursor: pointer;\n",
              "      display: none;\n",
              "      fill: #1967D2;\n",
              "      height: 32px;\n",
              "      padding: 0 0 0 0;\n",
              "      width: 32px;\n",
              "    }\n",
              "\n",
              "    .colab-df-convert:hover {\n",
              "      background-color: #E2EBFA;\n",
              "      box-shadow: 0px 1px 2px rgba(60, 64, 67, 0.3), 0px 1px 3px 1px rgba(60, 64, 67, 0.15);\n",
              "      fill: #174EA6;\n",
              "    }\n",
              "\n",
              "    [theme=dark] .colab-df-convert {\n",
              "      background-color: #3B4455;\n",
              "      fill: #D2E3FC;\n",
              "    }\n",
              "\n",
              "    [theme=dark] .colab-df-convert:hover {\n",
              "      background-color: #434B5C;\n",
              "      box-shadow: 0px 1px 3px 1px rgba(0, 0, 0, 0.15);\n",
              "      filter: drop-shadow(0px 1px 2px rgba(0, 0, 0, 0.3));\n",
              "      fill: #FFFFFF;\n",
              "    }\n",
              "  </style>\n",
              "\n",
              "      <script>\n",
              "        const buttonEl =\n",
              "          document.querySelector('#df-8a1ab194-dff5-45cf-87ba-cf376d9b939f button.colab-df-convert');\n",
              "        buttonEl.style.display =\n",
              "          google.colab.kernel.accessAllowed ? 'block' : 'none';\n",
              "\n",
              "        async function convertToInteractive(key) {\n",
              "          const element = document.querySelector('#df-8a1ab194-dff5-45cf-87ba-cf376d9b939f');\n",
              "          const dataTable =\n",
              "            await google.colab.kernel.invokeFunction('convertToInteractive',\n",
              "                                                     [key], {});\n",
              "          if (!dataTable) return;\n",
              "\n",
              "          const docLinkHtml = 'Like what you see? Visit the ' +\n",
              "            '<a target=\"_blank\" href=https://colab.research.google.com/notebooks/data_table.ipynb>data table notebook</a>'\n",
              "            + ' to learn more about interactive tables.';\n",
              "          element.innerHTML = '';\n",
              "          dataTable['output_type'] = 'display_data';\n",
              "          await google.colab.output.renderOutput(dataTable, element);\n",
              "          const docLink = document.createElement('div');\n",
              "          docLink.innerHTML = docLinkHtml;\n",
              "          element.appendChild(docLink);\n",
              "        }\n",
              "      </script>\n",
              "    </div>\n",
              "  </div>\n",
              "  "
            ]
          },
          "metadata": {},
          "execution_count": 22
        }
      ],
      "source": [
        "reframed0 = series_to_supervised(dataset, 7,1)\n",
        "reframed0.head()"
      ]
    },
    {
      "cell_type": "code",
      "execution_count": null,
      "metadata": {
        "id": "Dg7DACjXCdZq"
      },
      "outputs": [],
      "source": [
        "reframed0['weather_cluster'] = energy0['weather_cluster'].values[7:]\n",
        "reframed0['holiday_ind']= energy0['holiday_ind'].values[7:]"
      ]
    },
    {
      "cell_type": "code",
      "execution_count": null,
      "metadata": {
        "id": "P65RHLvmCdZq"
      },
      "outputs": [],
      "source": [
        "reframed0 = reframed0.reindex(['weather_cluster', 'holiday_ind','var1(t-7)', 'var1(t-6)', 'var1(t-5)', 'var1(t-4)', 'var1(t-3)','var1(t-2)', 'var1(t-1)', 'var1(t)'], axis=1)\n",
        "reframed0 = reframed0.values"
      ]
    },
    {
      "cell_type": "code",
      "execution_count": null,
      "metadata": {
        "id": "OqUDKPUUCdZq",
        "outputId": "536e38ea-c3d1-4b92-b30c-3f9713996236",
        "colab": {
          "base_uri": "https://localhost:8080/"
        }
      },
      "outputs": [
        {
          "output_type": "execute_result",
          "data": {
            "text/plain": [
              "165"
            ]
          },
          "metadata": {},
          "execution_count": 25
        }
      ],
      "source": [
        "n = int(0.2*(len(energy0)))\n",
        "n"
      ]
    },
    {
      "cell_type": "code",
      "execution_count": null,
      "metadata": {
        "id": "1ScQM4wPCdZq"
      },
      "outputs": [],
      "source": [
        "# Normalisation\n",
        "scaler0 = MinMaxScaler(feature_range=(0, 1))\n",
        "reframed0 = scaler0.fit_transform(reframed0)"
      ]
    },
    {
      "cell_type": "code",
      "execution_count": null,
      "metadata": {
        "id": "ZfCwjdU8CdZq"
      },
      "outputs": [],
      "source": [
        "train0 = reframed0[:(len(reframed0)-n), :]\n",
        "test0 = reframed0[(len(reframed0)-n):len(reframed0), :]"
      ]
    },
    {
      "cell_type": "code",
      "execution_count": null,
      "metadata": {
        "id": "WkqqBgOTCdZq"
      },
      "outputs": [],
      "source": [
        "train_X0, train_y0 = train0[:, :-1], train0[:, -1]\n",
        "test_X0, test_y0 = test0[:, :-1], test0[:, -1]"
      ]
    },
    {
      "cell_type": "code",
      "execution_count": null,
      "metadata": {
        "id": "mhh_d0Y1CdZr",
        "outputId": "6f433a77-a484-4c9c-822b-0117192a20cd",
        "colab": {
          "base_uri": "https://localhost:8080/"
        }
      },
      "outputs": [
        {
          "output_type": "stream",
          "name": "stdout",
          "text": [
            "(654, 1, 9) (654,) (165, 1, 9) (165,)\n"
          ]
        }
      ],
      "source": [
        "train_X0 = train_X0.reshape((train_X0.shape[0], 1, train_X0.shape[1]))\n",
        "test_X0 = test_X0.reshape((test_X0.shape[0], 1, test_X0.shape[1]))\n",
        "print(train_X0.shape, train_y0.shape, test_X0.shape, test_y0.shape)"
      ]
    },
    {
      "cell_type": "code",
      "execution_count": null,
      "metadata": {
        "id": "IikZXKZcCdZr"
      },
      "outputs": [],
      "source": [
        "from keras.models import Sequential\n",
        "from keras.layers import Dense, LSTM, Dropout\n",
        "from keras.regularizers import L2"
      ]
    },
    {
      "cell_type": "code",
      "execution_count": null,
      "metadata": {
        "id": "Y-zLf4xvCdZr"
      },
      "outputs": [],
      "source": [
        "# # design network\n",
        "# model = Sequential()\n",
        "# model.add(LSTM(50, input_shape=(train_X0.shape[1], train_X0.shape[2]), return_sequences=True))\n",
        "# model.add(LSTM(50, return_sequences=True))\n",
        "# model.add(Dense(32, activation='relu'))\n",
        "# model.add(Dense(1))\n",
        "# model.compile(loss='mae', optimizer='rmsprop')\n",
        "\n",
        "# # fit network\n",
        "# history = model.fit(train_X0, train_y0, epochs=50, batch_size=72, verbose=2, shuffle=False, validation_data=(test_X0, test_y0))\n",
        "\n",
        "# # plot history\n",
        "# plt.plot(history.history['loss'], label='train')\n",
        "# plt.plot(history.history['val_loss'], label='test')\n",
        "# plt.legend()\n",
        "# plt.show()\n"
      ]
    },
    {
      "cell_type": "code",
      "execution_count": null,
      "metadata": {
        "id": "d16KxSA_CdZr"
      },
      "outputs": [],
      "source": [
        "# # design network\n",
        "# model = Sequential()\n",
        "# model.add(LSTM(50, input_shape=(train_X0.shape[1], train_X0.shape[2]), return_sequences=True))\n",
        "# model.add(Dropout(0.2))\n",
        "# model.add(LSTM(50, return_sequences=True))\n",
        "# model.add(Dropout(0.2))\n",
        "# model.add(Dense(32, activation='relu', kernel_regularizer=L2(0.01)))\n",
        "# model.add(Dense(1))\n",
        "# model.compile(loss='mse', optimizer='adam')\n",
        "\n",
        "# # fit network\n",
        "# history = model.fit(train_X0, train_y0, epochs=100, batch_size=32, verbose=2, shuffle=False, validation_data=(test_X0, test_y0))\n",
        "\n",
        "# # plot history\n",
        "# plt.plot(history.history['loss'], label='train')\n",
        "# plt.plot(history.history['val_loss'], label='test')\n",
        "# plt.legend()\n",
        "# plt.show()"
      ]
    },
    {
      "cell_type": "code",
      "execution_count": null,
      "metadata": {
        "id": "XkS9g49DCdZr",
        "outputId": "a1cdd051-4640-4346-d330-5b26c4e1625c",
        "colab": {
          "base_uri": "https://localhost:8080/",
          "height": 1000
        }
      },
      "outputs": [
        {
          "output_type": "stream",
          "name": "stdout",
          "text": [
            "Epoch 1/100\n",
            "21/21 - 6s - loss: 0.0762 - val_loss: 0.0494 - 6s/epoch - 286ms/step\n",
            "Epoch 2/100\n",
            "21/21 - 0s - loss: 0.0252 - val_loss: 0.0077 - 202ms/epoch - 10ms/step\n",
            "Epoch 3/100\n",
            "21/21 - 0s - loss: 0.0046 - val_loss: 0.0018 - 209ms/epoch - 10ms/step\n",
            "Epoch 4/100\n",
            "21/21 - 0s - loss: 0.0052 - val_loss: 0.0030 - 215ms/epoch - 10ms/step\n",
            "Epoch 5/100\n",
            "21/21 - 0s - loss: 0.0037 - val_loss: 0.0015 - 444ms/epoch - 21ms/step\n",
            "Epoch 6/100\n",
            "21/21 - 0s - loss: 0.0031 - val_loss: 0.0013 - 379ms/epoch - 18ms/step\n",
            "Epoch 7/100\n",
            "21/21 - 0s - loss: 0.0028 - val_loss: 0.0011 - 363ms/epoch - 17ms/step\n",
            "Epoch 8/100\n",
            "21/21 - 0s - loss: 0.0025 - val_loss: 9.1608e-04 - 361ms/epoch - 17ms/step\n",
            "Epoch 9/100\n",
            "21/21 - 1s - loss: 0.0024 - val_loss: 8.1255e-04 - 636ms/epoch - 30ms/step\n",
            "Epoch 10/100\n",
            "21/21 - 0s - loss: 0.0023 - val_loss: 8.0017e-04 - 219ms/epoch - 10ms/step\n",
            "Epoch 11/100\n",
            "21/21 - 0s - loss: 0.0024 - val_loss: 7.8074e-04 - 202ms/epoch - 10ms/step\n",
            "Epoch 12/100\n",
            "21/21 - 0s - loss: 0.0024 - val_loss: 7.5594e-04 - 180ms/epoch - 9ms/step\n",
            "Epoch 13/100\n",
            "21/21 - 0s - loss: 0.0024 - val_loss: 7.6541e-04 - 129ms/epoch - 6ms/step\n",
            "Epoch 14/100\n",
            "21/21 - 0s - loss: 0.0023 - val_loss: 7.4669e-04 - 162ms/epoch - 8ms/step\n",
            "Epoch 15/100\n",
            "21/21 - 0s - loss: 0.0022 - val_loss: 7.6788e-04 - 135ms/epoch - 6ms/step\n",
            "Epoch 16/100\n",
            "21/21 - 0s - loss: 0.0022 - val_loss: 7.4453e-04 - 134ms/epoch - 6ms/step\n",
            "Epoch 17/100\n",
            "21/21 - 0s - loss: 0.0022 - val_loss: 7.4192e-04 - 149ms/epoch - 7ms/step\n",
            "Epoch 18/100\n",
            "21/21 - 0s - loss: 0.0021 - val_loss: 7.5463e-04 - 165ms/epoch - 8ms/step\n",
            "Epoch 19/100\n",
            "21/21 - 0s - loss: 0.0023 - val_loss: 7.3944e-04 - 146ms/epoch - 7ms/step\n",
            "Epoch 20/100\n",
            "21/21 - 0s - loss: 0.0024 - val_loss: 7.3465e-04 - 152ms/epoch - 7ms/step\n",
            "Epoch 21/100\n",
            "21/21 - 0s - loss: 0.0025 - val_loss: 7.3884e-04 - 140ms/epoch - 7ms/step\n",
            "Epoch 22/100\n",
            "21/21 - 0s - loss: 0.0021 - val_loss: 7.6483e-04 - 189ms/epoch - 9ms/step\n",
            "Epoch 23/100\n",
            "21/21 - 0s - loss: 0.0022 - val_loss: 7.3285e-04 - 150ms/epoch - 7ms/step\n",
            "Epoch 24/100\n",
            "21/21 - 0s - loss: 0.0022 - val_loss: 7.3665e-04 - 141ms/epoch - 7ms/step\n",
            "Epoch 25/100\n",
            "21/21 - 0s - loss: 0.0020 - val_loss: 7.6582e-04 - 147ms/epoch - 7ms/step\n",
            "Epoch 26/100\n",
            "21/21 - 0s - loss: 0.0024 - val_loss: 7.3346e-04 - 135ms/epoch - 6ms/step\n",
            "Epoch 27/100\n",
            "21/21 - 0s - loss: 0.0022 - val_loss: 7.3569e-04 - 130ms/epoch - 6ms/step\n",
            "Epoch 28/100\n",
            "21/21 - 0s - loss: 0.0021 - val_loss: 7.3136e-04 - 125ms/epoch - 6ms/step\n",
            "Epoch 29/100\n",
            "21/21 - 0s - loss: 0.0021 - val_loss: 7.3361e-04 - 123ms/epoch - 6ms/step\n",
            "Epoch 30/100\n",
            "21/21 - 0s - loss: 0.0019 - val_loss: 7.3371e-04 - 142ms/epoch - 7ms/step\n",
            "Epoch 31/100\n",
            "21/21 - 0s - loss: 0.0020 - val_loss: 7.4596e-04 - 127ms/epoch - 6ms/step\n",
            "Epoch 32/100\n",
            "21/21 - 0s - loss: 0.0020 - val_loss: 7.3894e-04 - 127ms/epoch - 6ms/step\n",
            "Epoch 33/100\n",
            "21/21 - 0s - loss: 0.0020 - val_loss: 7.2439e-04 - 146ms/epoch - 7ms/step\n",
            "Epoch 34/100\n",
            "21/21 - 0s - loss: 0.0019 - val_loss: 7.2591e-04 - 141ms/epoch - 7ms/step\n",
            "Epoch 35/100\n",
            "21/21 - 0s - loss: 0.0020 - val_loss: 7.2306e-04 - 142ms/epoch - 7ms/step\n",
            "Epoch 36/100\n",
            "21/21 - 0s - loss: 0.0018 - val_loss: 7.5954e-04 - 126ms/epoch - 6ms/step\n",
            "Epoch 37/100\n",
            "21/21 - 0s - loss: 0.0019 - val_loss: 7.5474e-04 - 130ms/epoch - 6ms/step\n",
            "Epoch 38/100\n",
            "21/21 - 0s - loss: 0.0021 - val_loss: 7.2158e-04 - 141ms/epoch - 7ms/step\n",
            "Epoch 39/100\n",
            "21/21 - 0s - loss: 0.0021 - val_loss: 7.4455e-04 - 131ms/epoch - 6ms/step\n",
            "Epoch 40/100\n",
            "21/21 - 0s - loss: 0.0020 - val_loss: 7.6841e-04 - 128ms/epoch - 6ms/step\n",
            "Epoch 41/100\n",
            "21/21 - 0s - loss: 0.0020 - val_loss: 7.4091e-04 - 132ms/epoch - 6ms/step\n",
            "Epoch 42/100\n",
            "21/21 - 0s - loss: 0.0020 - val_loss: 7.2115e-04 - 130ms/epoch - 6ms/step\n",
            "Epoch 43/100\n",
            "21/21 - 0s - loss: 0.0020 - val_loss: 7.2940e-04 - 134ms/epoch - 6ms/step\n",
            "Epoch 44/100\n",
            "21/21 - 0s - loss: 0.0019 - val_loss: 7.2547e-04 - 129ms/epoch - 6ms/step\n",
            "Epoch 45/100\n",
            "21/21 - 0s - loss: 0.0021 - val_loss: 8.0446e-04 - 146ms/epoch - 7ms/step\n",
            "Epoch 46/100\n",
            "21/21 - 0s - loss: 0.0019 - val_loss: 7.9353e-04 - 138ms/epoch - 7ms/step\n",
            "Epoch 47/100\n",
            "21/21 - 0s - loss: 0.0019 - val_loss: 7.2414e-04 - 130ms/epoch - 6ms/step\n",
            "Epoch 48/100\n",
            "21/21 - 0s - loss: 0.0018 - val_loss: 7.2691e-04 - 138ms/epoch - 7ms/step\n",
            "Epoch 49/100\n",
            "21/21 - 0s - loss: 0.0018 - val_loss: 7.3519e-04 - 142ms/epoch - 7ms/step\n",
            "Epoch 50/100\n",
            "21/21 - 0s - loss: 0.0018 - val_loss: 8.1958e-04 - 135ms/epoch - 6ms/step\n",
            "Epoch 51/100\n",
            "21/21 - 0s - loss: 0.0021 - val_loss: 7.8783e-04 - 136ms/epoch - 6ms/step\n",
            "Epoch 52/100\n",
            "21/21 - 0s - loss: 0.0019 - val_loss: 7.2368e-04 - 154ms/epoch - 7ms/step\n",
            "Epoch 53/100\n",
            "21/21 - 0s - loss: 0.0021 - val_loss: 7.4890e-04 - 133ms/epoch - 6ms/step\n",
            "Epoch 54/100\n",
            "21/21 - 0s - loss: 0.0018 - val_loss: 7.2704e-04 - 128ms/epoch - 6ms/step\n",
            "Epoch 55/100\n",
            "21/21 - 0s - loss: 0.0021 - val_loss: 8.9190e-04 - 140ms/epoch - 7ms/step\n",
            "Epoch 56/100\n",
            "21/21 - 0s - loss: 0.0021 - val_loss: 8.9339e-04 - 140ms/epoch - 7ms/step\n",
            "Epoch 57/100\n",
            "21/21 - 0s - loss: 0.0020 - val_loss: 7.2901e-04 - 145ms/epoch - 7ms/step\n",
            "Epoch 58/100\n",
            "21/21 - 0s - loss: 0.0021 - val_loss: 8.5336e-04 - 145ms/epoch - 7ms/step\n",
            "Epoch 59/100\n",
            "21/21 - 0s - loss: 0.0019 - val_loss: 7.3672e-04 - 136ms/epoch - 6ms/step\n",
            "Epoch 60/100\n",
            "21/21 - 0s - loss: 0.0021 - val_loss: 0.0011 - 131ms/epoch - 6ms/step\n",
            "Epoch 61/100\n",
            "21/21 - 0s - loss: 0.0021 - val_loss: 8.8450e-04 - 141ms/epoch - 7ms/step\n",
            "Epoch 62/100\n",
            "21/21 - 0s - loss: 0.0019 - val_loss: 8.1365e-04 - 163ms/epoch - 8ms/step\n",
            "Epoch 63/100\n",
            "21/21 - 0s - loss: 0.0020 - val_loss: 8.3593e-04 - 124ms/epoch - 6ms/step\n",
            "Epoch 64/100\n",
            "21/21 - 0s - loss: 0.0019 - val_loss: 7.8971e-04 - 123ms/epoch - 6ms/step\n",
            "Epoch 65/100\n",
            "21/21 - 0s - loss: 0.0021 - val_loss: 0.0010 - 145ms/epoch - 7ms/step\n",
            "Epoch 66/100\n",
            "21/21 - 0s - loss: 0.0018 - val_loss: 7.7039e-04 - 140ms/epoch - 7ms/step\n",
            "Epoch 67/100\n",
            "21/21 - 0s - loss: 0.0020 - val_loss: 8.1888e-04 - 128ms/epoch - 6ms/step\n",
            "Epoch 68/100\n",
            "21/21 - 0s - loss: 0.0021 - val_loss: 8.0594e-04 - 123ms/epoch - 6ms/step\n",
            "Epoch 69/100\n",
            "21/21 - 0s - loss: 0.0019 - val_loss: 8.0495e-04 - 139ms/epoch - 7ms/step\n",
            "Epoch 70/100\n",
            "21/21 - 0s - loss: 0.0021 - val_loss: 0.0011 - 134ms/epoch - 6ms/step\n",
            "Epoch 71/100\n",
            "21/21 - 0s - loss: 0.0018 - val_loss: 7.6585e-04 - 132ms/epoch - 6ms/step\n",
            "Epoch 72/100\n",
            "21/21 - 0s - loss: 0.0020 - val_loss: 8.4816e-04 - 130ms/epoch - 6ms/step\n",
            "Epoch 73/100\n",
            "21/21 - 0s - loss: 0.0021 - val_loss: 8.1709e-04 - 136ms/epoch - 6ms/step\n",
            "Epoch 74/100\n",
            "21/21 - 0s - loss: 0.0017 - val_loss: 9.0557e-04 - 141ms/epoch - 7ms/step\n",
            "Epoch 75/100\n",
            "21/21 - 0s - loss: 0.0021 - val_loss: 0.0012 - 137ms/epoch - 7ms/step\n",
            "Epoch 76/100\n",
            "21/21 - 0s - loss: 0.0019 - val_loss: 7.3555e-04 - 138ms/epoch - 7ms/step\n",
            "Epoch 77/100\n",
            "21/21 - 0s - loss: 0.0020 - val_loss: 9.7704e-04 - 132ms/epoch - 6ms/step\n",
            "Epoch 78/100\n",
            "21/21 - 0s - loss: 0.0018 - val_loss: 7.7207e-04 - 132ms/epoch - 6ms/step\n",
            "Epoch 79/100\n",
            "21/21 - 0s - loss: 0.0019 - val_loss: 0.0010 - 130ms/epoch - 6ms/step\n",
            "Epoch 80/100\n",
            "21/21 - 0s - loss: 0.0021 - val_loss: 9.8111e-04 - 153ms/epoch - 7ms/step\n",
            "Epoch 81/100\n",
            "21/21 - 0s - loss: 0.0019 - val_loss: 7.4920e-04 - 142ms/epoch - 7ms/step\n",
            "Epoch 82/100\n",
            "21/21 - 0s - loss: 0.0018 - val_loss: 9.0217e-04 - 156ms/epoch - 7ms/step\n",
            "Epoch 83/100\n",
            "21/21 - 0s - loss: 0.0019 - val_loss: 7.3638e-04 - 211ms/epoch - 10ms/step\n",
            "Epoch 84/100\n",
            "21/21 - 0s - loss: 0.0019 - val_loss: 9.3293e-04 - 192ms/epoch - 9ms/step\n",
            "Epoch 85/100\n",
            "21/21 - 0s - loss: 0.0020 - val_loss: 8.8453e-04 - 190ms/epoch - 9ms/step\n",
            "Epoch 86/100\n",
            "21/21 - 0s - loss: 0.0018 - val_loss: 7.5274e-04 - 185ms/epoch - 9ms/step\n",
            "Epoch 87/100\n",
            "21/21 - 0s - loss: 0.0021 - val_loss: 8.5096e-04 - 188ms/epoch - 9ms/step\n",
            "Epoch 88/100\n",
            "21/21 - 0s - loss: 0.0017 - val_loss: 7.4127e-04 - 191ms/epoch - 9ms/step\n",
            "Epoch 89/100\n",
            "21/21 - 0s - loss: 0.0020 - val_loss: 9.3226e-04 - 182ms/epoch - 9ms/step\n",
            "Epoch 90/100\n",
            "21/21 - 0s - loss: 0.0018 - val_loss: 7.4094e-04 - 192ms/epoch - 9ms/step\n",
            "Epoch 91/100\n",
            "21/21 - 0s - loss: 0.0017 - val_loss: 7.2474e-04 - 189ms/epoch - 9ms/step\n",
            "Epoch 92/100\n",
            "21/21 - 0s - loss: 0.0017 - val_loss: 7.4041e-04 - 184ms/epoch - 9ms/step\n",
            "Epoch 93/100\n",
            "21/21 - 0s - loss: 0.0017 - val_loss: 7.3197e-04 - 194ms/epoch - 9ms/step\n",
            "Epoch 94/100\n",
            "21/21 - 0s - loss: 0.0018 - val_loss: 7.5532e-04 - 202ms/epoch - 10ms/step\n",
            "Epoch 95/100\n",
            "21/21 - 0s - loss: 0.0018 - val_loss: 7.5402e-04 - 198ms/epoch - 9ms/step\n",
            "Epoch 96/100\n",
            "21/21 - 0s - loss: 0.0019 - val_loss: 7.2448e-04 - 195ms/epoch - 9ms/step\n",
            "Epoch 97/100\n",
            "21/21 - 0s - loss: 0.0017 - val_loss: 7.6835e-04 - 213ms/epoch - 10ms/step\n",
            "Epoch 98/100\n",
            "21/21 - 0s - loss: 0.0017 - val_loss: 7.3148e-04 - 193ms/epoch - 9ms/step\n",
            "Epoch 99/100\n",
            "21/21 - 0s - loss: 0.0018 - val_loss: 8.2038e-04 - 202ms/epoch - 10ms/step\n",
            "Epoch 100/100\n",
            "21/21 - 0s - loss: 0.0019 - val_loss: 7.6370e-04 - 197ms/epoch - 9ms/step\n"
          ]
        },
        {
          "output_type": "display_data",
          "data": {
            "text/plain": [
              "<Figure size 640x480 with 1 Axes>"
            ],
            "image/png": "[encoded data removed]"
          },
          "metadata": {}
        }
      ],
      "source": [
        "# design network\n",
        "model = Sequential()\n",
        "model.add(LSTM(50, input_shape=(train_X0.shape[1], train_X0.shape[2]), return_sequences=True))\n",
        "model.add(Dropout(0.2))\n",
        "model.add(LSTM(50))\n",
        "model.add(Dense(1))\n",
        "model.compile(loss='mse', optimizer='adam')\n",
        "\n",
        "# fit network\n",
        "history = model.fit(train_X0, train_y0, epochs=100, batch_size=32, verbose=2, shuffle=False, validation_data=(test_X0, test_y0))\n",
        "\n",
        "# plot history\n",
        "plt.plot(history.history['loss'], label='train')\n",
        "plt.plot(history.history['val_loss'], label='test')\n",
        "plt.legend()\n",
        "plt.show()"
      ]
    },
    {
      "cell_type": "code",
      "execution_count": null,
      "metadata": {
        "id": "nzbS6AHRCdZs",
        "outputId": "8b91886b-2981-44e3-9755-70b99ce87105",
        "colab": {
          "base_uri": "https://localhost:8080/",
          "height": 503
        }
      },
      "outputs": [
        {
          "output_type": "stream",
          "name": "stdout",
          "text": [
            "6/6 [==============================] - 1s 3ms/step\n",
            "(165, 1) (165,)\n",
            "(165,) (165,)\n",
            "Test MAE: 0.014\n"
          ]
        },
        {
          "output_type": "display_data",
          "data": {
            "text/plain": [
              "<Figure size 640x480 with 1 Axes>"
            ],
            "image/png": "[encoded data removed]"
          },
          "metadata": {}
        }
      ],
      "source": [
        "# make predictions on test data\n",
        "from sklearn.metrics import mean_absolute_error\n",
        "\n",
        "\n",
        "y_pred = model.predict(test_X0)\n",
        "print(y_pred.shape, test_y0.shape)\n",
        "y_pred = y_pred.reshape(-1)\n",
        "test_y0 = test_y0.reshape(-1)\n",
        "print(y_pred.shape, test_y0.shape)\n",
        "# calculate MAE\n",
        "mae = mean_absolute_error(test_y0, y_pred)\n",
        "print('Test MAE: %.3f' % mae)\n",
        "\n",
        "# plot actual vs predicted values\n",
        "plt.plot(test_y0)\n",
        "plt.plot(y_pred)\n",
        "plt.legend(['Actual', 'Predicted'])\n",
        "plt.show()"
      ]
    },
    {
      "cell_type": "code",
      "execution_count": null,
      "metadata": {
        "id": "ySTSIZQ8CdZs",
        "outputId": "9282ac81-9825-4ef3-e170-f6cda3db8658",
        "colab": {
          "base_uri": "https://localhost:8080/"
        }
      },
      "outputs": [
        {
          "output_type": "stream",
          "name": "stdout",
          "text": [
            "Test MSE: 0.001\n",
            "Test RMSE: 0.028\n"
          ]
        }
      ],
      "source": [
        "from sklearn.metrics import mean_squared_error\n",
        "\n",
        "# calculate MSE\n",
        "mse = mean_squared_error(test_y0, y_pred)\n",
        "print('Test MSE: %.3f' % mse)\n",
        "\n",
        "rmse = np.sqrt(mse)\n",
        "print('Test RMSE: %.3f' % rmse)"
      ]
    },
    {
      "cell_type": "code",
      "execution_count": null,
      "metadata": {
        "id": "FWVU_U0uCdZs",
        "outputId": "1aa98f1b-31b1-44c2-8314-58dce73a7823",
        "colab": {
          "base_uri": "https://localhost:8080/"
        }
      },
      "outputs": [
        {
          "output_type": "stream",
          "name": "stdout",
          "text": [
            "0.5911797635746118\n"
          ]
        }
      ],
      "source": [
        "from sklearn.metrics import r2_score\n",
        "acc = r2_score(test_y0, y_pred)\n",
        "print(acc)"
      ]
    },
    {
      "cell_type": "markdown",
      "metadata": {
        "id": "kDKBQvzHCdZs"
      },
      "source": [
        "Cross Validation"
      ]
    },
    {
      "cell_type": "code",
      "execution_count": null,
      "metadata": {
        "id": "BVeHU4JwCdZs",
        "outputId": "76abee6f-d18a-4be5-9545-ef4cf53f1b39",
        "colab": {
          "base_uri": "https://localhost:8080/",
          "height": 423
        }
      },
      "outputs": [
        {
          "output_type": "execute_result",
          "data": {
            "text/plain": [
              "           date  weather_cluster  holiday_ind  var1(t-7)  var1(t-6)  \\\n",
              "0    2011-11-24              1.0     0.000000   0.000000   0.252136   \n",
              "1    2011-11-25              1.0     0.000000   0.310627   0.502748   \n",
              "2    2011-11-26              1.0     0.000623   0.541638   0.403803   \n",
              "3    2011-11-27              1.0     0.000623   0.450432   0.227459   \n",
              "4    2011-11-28              1.0     0.000000   0.287880   0.229037   \n",
              "..          ...              ...          ...        ...        ...   \n",
              "814  2014-02-17              0.0     0.000000   0.230057   0.154835   \n",
              "815  2014-02-18              0.0     0.000000   0.220935   0.147018   \n",
              "816  2014-02-19              0.0     0.000000   0.213730   0.143809   \n",
              "817  2014-02-20              0.0     0.000000   0.210772   0.143357   \n",
              "818  2014-02-21              0.0     0.000000   0.210355   0.157104   \n",
              "\n",
              "     var1(t-5)  var1(t-4)  var1(t-3)  var1(t-2)  var1(t-1)   var1(t)  \n",
              "0     0.502748   0.403803   0.227459   0.229037   0.187391  0.291355  \n",
              "1     0.403803   0.227459   0.229037   0.187391   0.122305  0.624479  \n",
              "2     0.227459   0.229037   0.187391   0.122305   0.534897  0.430888  \n",
              "3     0.229037   0.187391   0.122305   0.534897   0.295124  0.496034  \n",
              "4     0.187391   0.122305   0.534897   0.295124   0.375811  0.302039  \n",
              "..         ...        ...        ...        ...        ...       ...  \n",
              "814   0.147018   0.143809   0.143357   0.157104   0.189310  0.309081  \n",
              "815   0.143809   0.143357   0.157104   0.189310   0.144260  0.301309  \n",
              "816   0.143357   0.157104   0.189310   0.144260   0.134633  0.297889  \n",
              "817   0.157104   0.189310   0.144260   0.134633   0.130397  0.302068  \n",
              "818   0.189310   0.144260   0.134633   0.130397   0.135573  0.000000  \n",
              "\n",
              "[819 rows x 11 columns]"
            ],
            "text/html": [
              "\n",
              "  <div id=\"df-2e65a054-f22c-4cc7-ac08-d25250bec2e5\">\n",
              "    <div class=\"colab-df-container\">\n",
              "      <div>\n",
              "<style scoped>\n",
              "    .dataframe tbody tr th:only-of-type {\n",
              "        vertical-align: middle;\n",
              "    }\n",
              "\n",
              "    .dataframe tbody tr th {\n",
              "        vertical-align: top;\n",
              "    }\n",
              "\n",
              "    .dataframe thead th {\n",
              "        text-align: right;\n",
              "    }\n",
              "</style>\n",
              "<table border=\"1\" class=\"dataframe\">\n",
              "  <thead>\n",
              "    <tr style=\"text-align: right;\">\n",
              "      <th></th>\n",
              "      <th>date</th>\n",
              "      <th>weather_cluster</th>\n",
              "      <th>holiday_ind</th>\n",
              "      <th>var1(t-7)</th>\n",
              "      <th>var1(t-6)</th>\n",
              "      <th>var1(t-5)</th>\n",
              "      <th>var1(t-4)</th>\n",
              "      <th>var1(t-3)</th>\n",
              "      <th>var1(t-2)</th>\n",
              "      <th>var1(t-1)</th>\n",
              "      <th>var1(t)</th>\n",
              "    </tr>\n",
              "  </thead>\n",
              "  <tbody>\n",
              "    <tr>\n",
              "      <th>0</th>\n",
              "      <td>2011-11-24</td>\n",
              "      <td>1.0</td>\n",
              "      <td>0.000000</td>\n",
              "      <td>0.000000</td>\n",
              "      <td>0.252136</td>\n",
              "      <td>0.502748</td>\n",
              "      <td>0.403803</td>\n",
              "      <td>0.227459</td>\n",
              "      <td>0.229037</td>\n",
              "      <td>0.187391</td>\n",
              "      <td>0.291355</td>\n",
              "    </tr>\n",
              "    <tr>\n",
              "      <th>1</th>\n",
              "      <td>2011-11-25</td>\n",
              "      <td>1.0</td>\n",
              "      <td>0.000000</td>\n",
              "      <td>0.310627</td>\n",
              "      <td>0.502748</td>\n",
              "      <td>0.403803</td>\n",
              "      <td>0.227459</td>\n",
              "      <td>0.229037</td>\n",
              "      <td>0.187391</td>\n",
              "      <td>0.122305</td>\n",
              "      <td>0.624479</td>\n",
              "    </tr>\n",
              "    <tr>\n",
              "      <th>2</th>\n",
              "      <td>2011-11-26</td>\n",
              "      <td>1.0</td>\n",
              "      <td>0.000623</td>\n",
              "      <td>0.541638</td>\n",
              "      <td>0.403803</td>\n",
              "      <td>0.227459</td>\n",
              "      <td>0.229037</td>\n",
              "      <td>0.187391</td>\n",
              "      <td>0.122305</td>\n",
              "      <td>0.534897</td>\n",
              "      <td>0.430888</td>\n",
              "    </tr>\n",
              "    <tr>\n",
              "      <th>3</th>\n",
              "      <td>2011-11-27</td>\n",
              "      <td>1.0</td>\n",
              "      <td>0.000623</td>\n",
              "      <td>0.450432</td>\n",
              "      <td>0.227459</td>\n",
              "      <td>0.229037</td>\n",
              "      <td>0.187391</td>\n",
              "      <td>0.122305</td>\n",
              "      <td>0.534897</td>\n",
              "      <td>0.295124</td>\n",
              "      <td>0.496034</td>\n",
              "    </tr>\n",
              "    <tr>\n",
              "      <th>4</th>\n",
              "      <td>2011-11-28</td>\n",
              "      <td>1.0</td>\n",
              "      <td>0.000000</td>\n",
              "      <td>0.287880</td>\n",
              "      <td>0.229037</td>\n",
              "      <td>0.187391</td>\n",
              "      <td>0.122305</td>\n",
              "      <td>0.534897</td>\n",
              "      <td>0.295124</td>\n",
              "      <td>0.375811</td>\n",
              "      <td>0.302039</td>\n",
              "    </tr>\n",
              "    <tr>\n",
              "      <th>...</th>\n",
              "      <td>...</td>\n",
              "      <td>...</td>\n",
              "      <td>...</td>\n",
              "      <td>...</td>\n",
              "      <td>...</td>\n",
              "      <td>...</td>\n",
              "      <td>...</td>\n",
              "      <td>...</td>\n",
              "      <td>...</td>\n",
              "      <td>...</td>\n",
              "      <td>...</td>\n",
              "    </tr>\n",
              "    <tr>\n",
              "      <th>814</th>\n",
              "      <td>2014-02-17</td>\n",
              "      <td>0.0</td>\n",
              "      <td>0.000000</td>\n",
              "      <td>0.230057</td>\n",
              "      <td>0.154835</td>\n",
              "      <td>0.147018</td>\n",
              "      <td>0.143809</td>\n",
              "      <td>0.143357</td>\n",
              "      <td>0.157104</td>\n",
              "      <td>0.189310</td>\n",
              "      <td>0.309081</td>\n",
              "    </tr>\n",
              "    <tr>\n",
              "      <th>815</th>\n",
              "      <td>2014-02-18</td>\n",
              "      <td>0.0</td>\n",
              "      <td>0.000000</td>\n",
              "      <td>0.220935</td>\n",
              "      <td>0.147018</td>\n",
              "      <td>0.143809</td>\n",
              "      <td>0.143357</td>\n",
              "      <td>0.157104</td>\n",
              "      <td>0.189310</td>\n",
              "      <td>0.144260</td>\n",
              "      <td>0.301309</td>\n",
              "    </tr>\n",
              "    <tr>\n",
              "      <th>816</th>\n",
              "      <td>2014-02-19</td>\n",
              "      <td>0.0</td>\n",
              "      <td>0.000000</td>\n",
              "      <td>0.213730</td>\n",
              "      <td>0.143809</td>\n",
              "      <td>0.143357</td>\n",
              "      <td>0.157104</td>\n",
              "      <td>0.189310</td>\n",
              "      <td>0.144260</td>\n",
              "      <td>0.134633</td>\n",
              "      <td>0.297889</td>\n",
              "    </tr>\n",
              "    <tr>\n",
              "      <th>817</th>\n",
              "      <td>2014-02-20</td>\n",
              "      <td>0.0</td>\n",
              "      <td>0.000000</td>\n",
              "      <td>0.210772</td>\n",
              "      <td>0.143357</td>\n",
              "      <td>0.157104</td>\n",
              "      <td>0.189310</td>\n",
              "      <td>0.144260</td>\n",
              "      <td>0.134633</td>\n",
              "      <td>0.130397</td>\n",
              "      <td>0.302068</td>\n",
              "    </tr>\n",
              "    <tr>\n",
              "      <th>818</th>\n",
              "      <td>2014-02-21</td>\n",
              "      <td>0.0</td>\n",
              "      <td>0.000000</td>\n",
              "      <td>0.210355</td>\n",
              "      <td>0.157104</td>\n",
              "      <td>0.189310</td>\n",
              "      <td>0.144260</td>\n",
              "      <td>0.134633</td>\n",
              "      <td>0.130397</td>\n",
              "      <td>0.135573</td>\n",
              "      <td>0.000000</td>\n",
              "    </tr>\n",
              "  </tbody>\n",
              "</table>\n",
              "<p>819 rows × 11 columns</p>\n",
              "</div>\n",
              "      <button class=\"colab-df-convert\" onclick=\"convertToInteractive('df-2e65a054-f22c-4cc7-ac08-d25250bec2e5')\"\n",
              "              title=\"Convert this dataframe to an interactive table.\"\n",
              "              style=\"display:none;\">\n",
              "        \n",
              "  <svg xmlns=\"http://www.w3.org/2000/svg\" height=\"24px\"viewBox=\"0 0 24 24\"\n",
              "       width=\"24px\">\n",
              "    <path d=\"M0 0h24v24H0V0z\" fill=\"none\"/>\n",
              "    <path d=\"M18.56 5.44l.94 2.06.94-2.06 2.06-.94-2.06-.94-.94-2.06-.94 2.06-2.06.94zm-11 1L8.5 8.5l.94-2.06 2.06-.94-2.06-.94L8.5 2.5l-.94 2.06-2.06.94zm10 10l.94 2.06.94-2.06 2.06-.94-2.06-.94-.94-2.06-.94 2.06-2.06.94z\"/><path d=\"M17.41 7.96l-1.37-1.37c-.4-.4-.92-.59-1.43-.59-.52 0-1.04.2-1.43.59L10.3 9.45l-7.72 7.72c-.78.78-.78 2.05 0 2.83L4 21.41c.39.39.9.59 1.41.59.51 0 1.02-.2 1.41-.59l7.78-7.78 2.81-2.81c.8-.78.8-2.07 0-2.86zM5.41 20L4 18.59l7.72-7.72 1.47 1.35L5.41 20z\"/>\n",
              "  </svg>\n",
              "      </button>\n",
              "      \n",
              "  <style>\n",
              "    .colab-df-container {\n",
              "      display:flex;\n",
              "      flex-wrap:wrap;\n",
              "      gap: 12px;\n",
              "    }\n",
              "\n",
              "    .colab-df-convert {\n",
              "      background-color: #E8F0FE;\n",
              "      border: none;\n",
              "      border-radius: 50%;\n",
              "      cursor: pointer;\n",
              "      display: none;\n",
              "      fill: #1967D2;\n",
              "      height: 32px;\n",
              "      padding: 0 0 0 0;\n",
              "      width: 32px;\n",
              "    }\n",
              "\n",
              "    .colab-df-convert:hover {\n",
              "      background-color: #E2EBFA;\n",
              "      box-shadow: 0px 1px 2px rgba(60, 64, 67, 0.3), 0px 1px 3px 1px rgba(60, 64, 67, 0.15);\n",
              "      fill: #174EA6;\n",
              "    }\n",
              "\n",
              "    [theme=dark] .colab-df-convert {\n",
              "      background-color: #3B4455;\n",
              "      fill: #D2E3FC;\n",
              "    }\n",
              "\n",
              "    [theme=dark] .colab-df-convert:hover {\n",
              "      background-color: #434B5C;\n",
              "      box-shadow: 0px 1px 3px 1px rgba(0, 0, 0, 0.15);\n",
              "      filter: drop-shadow(0px 1px 2px rgba(0, 0, 0, 0.3));\n",
              "      fill: #FFFFFF;\n",
              "    }\n",
              "  </style>\n",
              "\n",
              "      <script>\n",
              "        const buttonEl =\n",
              "          document.querySelector('#df-2e65a054-f22c-4cc7-ac08-d25250bec2e5 button.colab-df-convert');\n",
              "        buttonEl.style.display =\n",
              "          google.colab.kernel.accessAllowed ? 'block' : 'none';\n",
              "\n",
              "        async function convertToInteractive(key) {\n",
              "          const element = document.querySelector('#df-2e65a054-f22c-4cc7-ac08-d25250bec2e5');\n",
              "          const dataTable =\n",
              "            await google.colab.kernel.invokeFunction('convertToInteractive',\n",
              "                                                     [key], {});\n",
              "          if (!dataTable) return;\n",
              "\n",
              "          const docLinkHtml = 'Like what you see? Visit the ' +\n",
              "            '<a target=\"_blank\" href=https://colab.research.google.com/notebooks/data_table.ipynb>data table notebook</a>'\n",
              "            + ' to learn more about interactive tables.';\n",
              "          element.innerHTML = '';\n",
              "          dataTable['output_type'] = 'display_data';\n",
              "          await google.colab.output.renderOutput(dataTable, element);\n",
              "          const docLink = document.createElement('div');\n",
              "          docLink.innerHTML = docLinkHtml;\n",
              "          element.appendChild(docLink);\n",
              "        }\n",
              "      </script>\n",
              "    </div>\n",
              "  </div>\n",
              "  "
            ]
          },
          "metadata": {},
          "execution_count": 37
        }
      ],
      "source": [
        "df_temp0 = pd.DataFrame(reframed0, columns = ['weather_cluster', 'holiday_ind','var1(t-7)', 'var1(t-6)', 'var1(t-5)', 'var1(t-4)', 'var1(t-3)','var1(t-2)', 'var1(t-1)', 'var1(t)'])\n",
        "df_temp0['date'] = energy0['day']\n",
        "df_temp0 = df_temp0[['date', 'weather_cluster', 'holiday_ind','var1(t-7)', 'var1(t-6)', 'var1(t-5)', 'var1(t-4)', 'var1(t-3)','var1(t-2)', 'var1(t-1)', 'var1(t)']]\n",
        "df_temp0"
      ]
    },
    {
      "cell_type": "code",
      "execution_count": null,
      "metadata": {
        "id": "ukznk7eKCdZs"
      },
      "outputs": [],
      "source": [
        "X = df_temp0.iloc[:,:-1]\n",
        "y = df_temp0.iloc[:,-1]"
      ]
    },
    {
      "cell_type": "code",
      "execution_count": null,
      "metadata": {
        "id": "-k68t8mtCdZt"
      },
      "outputs": [],
      "source": [
        "from sklearn.model_selection import GroupKFold\n",
        "\n",
        "# Assuming you have time series data X and target variable y, as well as a groups variable defining the groups\n",
        "# For example, groups could be the year or month of each data point\n",
        "\n",
        "# Define the number of folds and the groups for each data point\n",
        "n_splits = 5\n",
        "scores = []\n",
        "groups = X['date']\n",
        "\n",
        "# Define the grouped k-fold cross-validation object\n",
        "group_kfold = GroupKFold(n_splits=n_splits)"
      ]
    },
    {
      "cell_type": "code",
      "execution_count": null,
      "metadata": {
        "id": "42K5MGu1CdZt",
        "outputId": "202e5316-8e60-4a8a-f232-daea3a5e23ce",
        "colab": {
          "base_uri": "https://localhost:8080/",
          "height": 423
        }
      },
      "outputs": [
        {
          "output_type": "execute_result",
          "data": {
            "text/plain": [
              "     weather_cluster  holiday_ind  var1(t-7)  var1(t-6)  var1(t-5)  var1(t-4)  \\\n",
              "0                1.0     0.000000   0.000000   0.252136   0.502748   0.403803   \n",
              "1                1.0     0.000000   0.310627   0.502748   0.403803   0.227459   \n",
              "2                1.0     0.000623   0.541638   0.403803   0.227459   0.229037   \n",
              "3                1.0     0.000623   0.450432   0.227459   0.229037   0.187391   \n",
              "4                1.0     0.000000   0.287880   0.229037   0.187391   0.122305   \n",
              "..               ...          ...        ...        ...        ...        ...   \n",
              "814              0.0     0.000000   0.230057   0.154835   0.147018   0.143809   \n",
              "815              0.0     0.000000   0.220935   0.147018   0.143809   0.143357   \n",
              "816              0.0     0.000000   0.213730   0.143809   0.143357   0.157104   \n",
              "817              0.0     0.000000   0.210772   0.143357   0.157104   0.189310   \n",
              "818              0.0     0.000000   0.210355   0.157104   0.189310   0.144260   \n",
              "\n",
              "     var1(t-3)  var1(t-2)  var1(t-1)  \n",
              "0     0.227459   0.229037   0.187391  \n",
              "1     0.229037   0.187391   0.122305  \n",
              "2     0.187391   0.122305   0.534897  \n",
              "3     0.122305   0.534897   0.295124  \n",
              "4     0.534897   0.295124   0.375811  \n",
              "..         ...        ...        ...  \n",
              "814   0.143357   0.157104   0.189310  \n",
              "815   0.157104   0.189310   0.144260  \n",
              "816   0.189310   0.144260   0.134633  \n",
              "817   0.144260   0.134633   0.130397  \n",
              "818   0.134633   0.130397   0.135573  \n",
              "\n",
              "[819 rows x 9 columns]"
            ],
            "text/html": [
              "\n",
              "  <div id=\"df-3573f8ce-bf0b-4c23-8112-c68aacdc3db3\">\n",
              "    <div class=\"colab-df-container\">\n",
              "      <div>\n",
              "<style scoped>\n",
              "    .dataframe tbody tr th:only-of-type {\n",
              "        vertical-align: middle;\n",
              "    }\n",
              "\n",
              "    .dataframe tbody tr th {\n",
              "        vertical-align: top;\n",
              "    }\n",
              "\n",
              "    .dataframe thead th {\n",
              "        text-align: right;\n",
              "    }\n",
              "</style>\n",
              "<table border=\"1\" class=\"dataframe\">\n",
              "  <thead>\n",
              "    <tr style=\"text-align: right;\">\n",
              "      <th></th>\n",
              "      <th>weather_cluster</th>\n",
              "      <th>holiday_ind</th>\n",
              "      <th>var1(t-7)</th>\n",
              "      <th>var1(t-6)</th>\n",
              "      <th>var1(t-5)</th>\n",
              "      <th>var1(t-4)</th>\n",
              "      <th>var1(t-3)</th>\n",
              "      <th>var1(t-2)</th>\n",
              "      <th>var1(t-1)</th>\n",
              "    </tr>\n",
              "  </thead>\n",
              "  <tbody>\n",
              "    <tr>\n",
              "      <th>0</th>\n",
              "      <td>1.0</td>\n",
              "      <td>0.000000</td>\n",
              "      <td>0.000000</td>\n",
              "      <td>0.252136</td>\n",
              "      <td>0.502748</td>\n",
              "      <td>0.403803</td>\n",
              "      <td>0.227459</td>\n",
              "      <td>0.229037</td>\n",
              "      <td>0.187391</td>\n",
              "    </tr>\n",
              "    <tr>\n",
              "      <th>1</th>\n",
              "      <td>1.0</td>\n",
              "      <td>0.000000</td>\n",
              "      <td>0.310627</td>\n",
              "      <td>0.502748</td>\n",
              "      <td>0.403803</td>\n",
              "      <td>0.227459</td>\n",
              "      <td>0.229037</td>\n",
              "      <td>0.187391</td>\n",
              "      <td>0.122305</td>\n",
              "    </tr>\n",
              "    <tr>\n",
              "      <th>2</th>\n",
              "      <td>1.0</td>\n",
              "      <td>0.000623</td>\n",
              "      <td>0.541638</td>\n",
              "      <td>0.403803</td>\n",
              "      <td>0.227459</td>\n",
              "      <td>0.229037</td>\n",
              "      <td>0.187391</td>\n",
              "      <td>0.122305</td>\n",
              "      <td>0.534897</td>\n",
              "    </tr>\n",
              "    <tr>\n",
              "      <th>3</th>\n",
              "      <td>1.0</td>\n",
              "      <td>0.000623</td>\n",
              "      <td>0.450432</td>\n",
              "      <td>0.227459</td>\n",
              "      <td>0.229037</td>\n",
              "      <td>0.187391</td>\n",
              "      <td>0.122305</td>\n",
              "      <td>0.534897</td>\n",
              "      <td>0.295124</td>\n",
              "    </tr>\n",
              "    <tr>\n",
              "      <th>4</th>\n",
              "      <td>1.0</td>\n",
              "      <td>0.000000</td>\n",
              "      <td>0.287880</td>\n",
              "      <td>0.229037</td>\n",
              "      <td>0.187391</td>\n",
              "      <td>0.122305</td>\n",
              "      <td>0.534897</td>\n",
              "      <td>0.295124</td>\n",
              "      <td>0.375811</td>\n",
              "    </tr>\n",
              "    <tr>\n",
              "      <th>...</th>\n",
              "      <td>...</td>\n",
              "      <td>...</td>\n",
              "      <td>...</td>\n",
              "      <td>...</td>\n",
              "      <td>...</td>\n",
              "      <td>...</td>\n",
              "      <td>...</td>\n",
              "      <td>...</td>\n",
              "      <td>...</td>\n",
              "    </tr>\n",
              "    <tr>\n",
              "      <th>814</th>\n",
              "      <td>0.0</td>\n",
              "      <td>0.000000</td>\n",
              "      <td>0.230057</td>\n",
              "      <td>0.154835</td>\n",
              "      <td>0.147018</td>\n",
              "      <td>0.143809</td>\n",
              "      <td>0.143357</td>\n",
              "      <td>0.157104</td>\n",
              "      <td>0.189310</td>\n",
              "    </tr>\n",
              "    <tr>\n",
              "      <th>815</th>\n",
              "      <td>0.0</td>\n",
              "      <td>0.000000</td>\n",
              "      <td>0.220935</td>\n",
              "      <td>0.147018</td>\n",
              "      <td>0.143809</td>\n",
              "      <td>0.143357</td>\n",
              "      <td>0.157104</td>\n",
              "      <td>0.189310</td>\n",
              "      <td>0.144260</td>\n",
              "    </tr>\n",
              "    <tr>\n",
              "      <th>816</th>\n",
              "      <td>0.0</td>\n",
              "      <td>0.000000</td>\n",
              "      <td>0.213730</td>\n",
              "      <td>0.143809</td>\n",
              "      <td>0.143357</td>\n",
              "      <td>0.157104</td>\n",
              "      <td>0.189310</td>\n",
              "      <td>0.144260</td>\n",
              "      <td>0.134633</td>\n",
              "    </tr>\n",
              "    <tr>\n",
              "      <th>817</th>\n",
              "      <td>0.0</td>\n",
              "      <td>0.000000</td>\n",
              "      <td>0.210772</td>\n",
              "      <td>0.143357</td>\n",
              "      <td>0.157104</td>\n",
              "      <td>0.189310</td>\n",
              "      <td>0.144260</td>\n",
              "      <td>0.134633</td>\n",
              "      <td>0.130397</td>\n",
              "    </tr>\n",
              "    <tr>\n",
              "      <th>818</th>\n",
              "      <td>0.0</td>\n",
              "      <td>0.000000</td>\n",
              "      <td>0.210355</td>\n",
              "      <td>0.157104</td>\n",
              "      <td>0.189310</td>\n",
              "      <td>0.144260</td>\n",
              "      <td>0.134633</td>\n",
              "      <td>0.130397</td>\n",
              "      <td>0.135573</td>\n",
              "    </tr>\n",
              "  </tbody>\n",
              "</table>\n",
              "<p>819 rows × 9 columns</p>\n",
              "</div>\n",
              "      <button class=\"colab-df-convert\" onclick=\"convertToInteractive('df-3573f8ce-bf0b-4c23-8112-c68aacdc3db3')\"\n",
              "              title=\"Convert this dataframe to an interactive table.\"\n",
              "              style=\"display:none;\">\n",
              "        \n",
              "  <svg xmlns=\"http://www.w3.org/2000/svg\" height=\"24px\"viewBox=\"0 0 24 24\"\n",
              "       width=\"24px\">\n",
              "    <path d=\"M0 0h24v24H0V0z\" fill=\"none\"/>\n",
              "    <path d=\"M18.56 5.44l.94 2.06.94-2.06 2.06-.94-2.06-.94-.94-2.06-.94 2.06-2.06.94zm-11 1L8.5 8.5l.94-2.06 2.06-.94-2.06-.94L8.5 2.5l-.94 2.06-2.06.94zm10 10l.94 2.06.94-2.06 2.06-.94-2.06-.94-.94-2.06-.94 2.06-2.06.94z\"/><path d=\"M17.41 7.96l-1.37-1.37c-.4-.4-.92-.59-1.43-.59-.52 0-1.04.2-1.43.59L10.3 9.45l-7.72 7.72c-.78.78-.78 2.05 0 2.83L4 21.41c.39.39.9.59 1.41.59.51 0 1.02-.2 1.41-.59l7.78-7.78 2.81-2.81c.8-.78.8-2.07 0-2.86zM5.41 20L4 18.59l7.72-7.72 1.47 1.35L5.41 20z\"/>\n",
              "  </svg>\n",
              "      </button>\n",
              "      \n",
              "  <style>\n",
              "    .colab-df-container {\n",
              "      display:flex;\n",
              "      flex-wrap:wrap;\n",
              "      gap: 12px;\n",
              "    }\n",
              "\n",
              "    .colab-df-convert {\n",
              "      background-color: #E8F0FE;\n",
              "      border: none;\n",
              "      border-radius: 50%;\n",
              "      cursor: pointer;\n",
              "      display: none;\n",
              "      fill: #1967D2;\n",
              "      height: 32px;\n",
              "      padding: 0 0 0 0;\n",
              "      width: 32px;\n",
              "    }\n",
              "\n",
              "    .colab-df-convert:hover {\n",
              "      background-color: #E2EBFA;\n",
              "      box-shadow: 0px 1px 2px rgba(60, 64, 67, 0.3), 0px 1px 3px 1px rgba(60, 64, 67, 0.15);\n",
              "      fill: #174EA6;\n",
              "    }\n",
              "\n",
              "    [theme=dark] .colab-df-convert {\n",
              "      background-color: #3B4455;\n",
              "      fill: #D2E3FC;\n",
              "    }\n",
              "\n",
              "    [theme=dark] .colab-df-convert:hover {\n",
              "      background-color: #434B5C;\n",
              "      box-shadow: 0px 1px 3px 1px rgba(0, 0, 0, 0.15);\n",
              "      filter: drop-shadow(0px 1px 2px rgba(0, 0, 0, 0.3));\n",
              "      fill: #FFFFFF;\n",
              "    }\n",
              "  </style>\n",
              "\n",
              "      <script>\n",
              "        const buttonEl =\n",
              "          document.querySelector('#df-3573f8ce-bf0b-4c23-8112-c68aacdc3db3 button.colab-df-convert');\n",
              "        buttonEl.style.display =\n",
              "          google.colab.kernel.accessAllowed ? 'block' : 'none';\n",
              "\n",
              "        async function convertToInteractive(key) {\n",
              "          const element = document.querySelector('#df-3573f8ce-bf0b-4c23-8112-c68aacdc3db3');\n",
              "          const dataTable =\n",
              "            await google.colab.kernel.invokeFunction('convertToInteractive',\n",
              "                                                     [key], {});\n",
              "          if (!dataTable) return;\n",
              "\n",
              "          const docLinkHtml = 'Like what you see? Visit the ' +\n",
              "            '<a target=\"_blank\" href=https://colab.research.google.com/notebooks/data_table.ipynb>data table notebook</a>'\n",
              "            + ' to learn more about interactive tables.';\n",
              "          element.innerHTML = '';\n",
              "          dataTable['output_type'] = 'display_data';\n",
              "          await google.colab.output.renderOutput(dataTable, element);\n",
              "          const docLink = document.createElement('div');\n",
              "          docLink.innerHTML = docLinkHtml;\n",
              "          element.appendChild(docLink);\n",
              "        }\n",
              "      </script>\n",
              "    </div>\n",
              "  </div>\n",
              "  "
            ]
          },
          "metadata": {},
          "execution_count": 40
        }
      ],
      "source": [
        "X = X.drop(['date'], axis=1)\n",
        "X"
      ]
    },
    {
      "cell_type": "code",
      "execution_count": null,
      "metadata": {
        "id": "ul6GZbOjCdZt",
        "outputId": "ece4b903-9987-4c1d-c2e1-50f47a341e8e",
        "colab": {
          "base_uri": "https://localhost:8080/"
        }
      },
      "outputs": [
        {
          "output_type": "stream",
          "name": "stdout",
          "text": [
            "21/21 [==============================] - 0s 5ms/step - loss: 0.0013\n",
            "6/6 [==============================] - 0s 3ms/step - loss: 0.0028\n",
            "21/21 [==============================] - 0s 5ms/step - loss: 0.0017\n",
            "6/6 [==============================] - 0s 5ms/step - loss: 0.0017\n",
            "21/21 [==============================] - 0s 5ms/step - loss: 0.0019\n",
            "6/6 [==============================] - 0s 3ms/step - loss: 7.6196e-04\n",
            "21/21 [==============================] - 0s 5ms/step - loss: 0.0017\n",
            "6/6 [==============================] - 0s 3ms/step - loss: 0.0012\n",
            "21/21 [==============================] - 0s 5ms/step - loss: 0.0017\n",
            "6/6 [==============================] - 0s 3ms/step - loss: 9.0001e-04\n"
          ]
        }
      ],
      "source": [
        "# Loop through each fold and split the data into training and testing sets\n",
        "for train_index, test_index in group_kfold.split(X, y, groups):\n",
        "    X_train, X_test = X.iloc[train_index], X.iloc[test_index]\n",
        "    y_train, y_test = y.iloc[train_index], y.iloc[test_index]\n",
        "\n",
        "    # Converting to nparray\n",
        "    X_train = np.asarray(X_train).astype(np.float32)\n",
        "    X_test = np.asarray(X_test).astype(np.float32)\n",
        "    y_train = np.asarray(y_train).astype(np.float32)\n",
        "    y_test = np.asarray(y_test).astype(np.float32)\n",
        "\n",
        "    X_train = X_train.reshape((X_train.shape[0], 1, X_train.shape[1]))\n",
        "    X_test = X_test.reshape((X_test.shape[0], 1, X_test.shape[1]))\n",
        "    \n",
        "    # Train and evaluate the model on the training and testing sets\n",
        "    model.fit(X_train, y_train)\n",
        "    score = model.evaluate(X_test, y_test)\n",
        "    \n",
        "    # Store the performance score for this fold\n",
        "    scores.append(score)\n",
        "\n",
        "# Compute the average performance score over all the folds\n",
        "avg_score = sum(scores) / n_splits"
      ]
    },
    {
      "cell_type": "code",
      "execution_count": null,
      "metadata": {
        "id": "c9PkycvACdZt",
        "outputId": "272ef376-525d-4b0f-920a-81cc32c90724",
        "colab": {
          "base_uri": "https://localhost:8080/"
        }
      },
      "outputs": [
        {
          "output_type": "execute_result",
          "data": {
            "text/plain": [
              "['loss']"
            ]
          },
          "metadata": {},
          "execution_count": 42
        }
      ],
      "source": [
        "model.metrics_names"
      ]
    },
    {
      "cell_type": "code",
      "execution_count": null,
      "metadata": {
        "id": "pcqcwjFdCdZt",
        "outputId": "eb94b32c-4e31-48fc-8ffe-4ccb787bf597",
        "colab": {
          "base_uri": "https://localhost:8080/"
        }
      },
      "outputs": [
        {
          "output_type": "execute_result",
          "data": {
            "text/plain": [
              "[0.002795805688947439,\n",
              " 0.0017326484667137265,\n",
              " 0.0007619628449901938,\n",
              " 0.0012249108403921127,\n",
              " 0.0009000097634270787]"
            ]
          },
          "metadata": {},
          "execution_count": 43
        }
      ],
      "source": [
        "scores"
      ]
    },
    {
      "cell_type": "code",
      "execution_count": null,
      "metadata": {
        "id": "5eYEVmTyCdZu",
        "outputId": "76805c45-a9c9-4f79-bdec-689a2de6b0f7",
        "colab": {
          "base_uri": "https://localhost:8080/"
        }
      },
      "outputs": [
        {
          "output_type": "execute_result",
          "data": {
            "text/plain": [
              "0.0014830675208941102"
            ]
          },
          "metadata": {},
          "execution_count": 44
        }
      ],
      "source": [
        "avg_score"
      ]
    },
    {
      "cell_type": "code",
      "execution_count": null,
      "metadata": {
        "id": "RMaITWM3CdZu"
      },
      "outputs": [],
      "source": [
        "# Interpretation:\n",
        "# We took 'loss' as the evaluation metric while training our model, so this cross validation score basically means the how well the model is performing on data that it hasn't seen during training. \n",
        "# Here, the less validation score indicates better performance of the model. \n",
        "# Higher validation score would mean overfitting on the training data."
      ]
    },
    {
      "cell_type": "markdown",
      "metadata": {
        "id": "c0Ir1X1aCdZu"
      },
      "source": [
        "Grid Search"
      ]
    },
    {
      "cell_type": "code",
      "execution_count": null,
      "metadata": {
        "id": "DOjQcwoiCdZu"
      },
      "outputs": [],
      "source": [
        "def create_model(units=50, optimizer='adam'):\n",
        "    model = Sequential()\n",
        "    model.add(LSTM(units, input_shape=(train_X0.shape[1], train_X0.shape[2]), return_sequences=True))\n",
        "    model.add(Dropout(0.2))\n",
        "    model.add(LSTM(units))\n",
        "    model.add(Dense(1))\n",
        "    model.compile(loss='mse', optimizer='adam')\n",
        "    return model"
      ]
    },
    {
      "cell_type": "code",
      "execution_count": null,
      "metadata": {
        "id": "CJcMvEKYCdZv",
        "outputId": "9b8798e7-86f0-4a78-cd77-703db8d4be53",
        "colab": {
          "base_uri": "https://localhost:8080/",
          "height": 430
        }
      },
      "outputs": [
        {
          "output_type": "display_data",
          "data": {
            "text/plain": [
              "<Figure size 640x480 with 1 Axes>"
            ],
            "image/png": "[encoded data removed]"
          },
          "metadata": {}
        }
      ],
      "source": [
        "# MODEL update after Grid Search (units = 128,64 and verbose = 0)\n",
        "\n",
        "# design network\n",
        "model = Sequential()\n",
        "model.add(LSTM(128, input_shape=(train_X0.shape[1], train_X0.shape[2]), return_sequences=True))\n",
        "model.add(Dropout(0.2))\n",
        "model.add(LSTM(64))\n",
        "model.add(Dense(1))\n",
        "model.compile(loss='mse', optimizer='adam')\n",
        "\n",
        "# fit network\n",
        "history = model.fit(train_X0, train_y0, epochs=100, batch_size=32, verbose=0, shuffle=False, validation_data=(test_X0, test_y0))\n",
        "\n",
        "# plot history\n",
        "plt.plot(history.history['loss'], label='train')\n",
        "plt.plot(history.history['val_loss'], label='test')\n",
        "plt.legend()\n",
        "plt.show()"
      ]
    },
    {
      "cell_type": "code",
      "execution_count": null,
      "metadata": {
        "id": "kLSKWhZkCdZv",
        "outputId": "3ca694d0-9a67-4024-9c0d-3d028146f20b",
        "colab": {
          "base_uri": "https://localhost:8080/",
          "height": 503
        }
      },
      "outputs": [
        {
          "output_type": "stream",
          "name": "stdout",
          "text": [
            "6/6 [==============================] - 1s 3ms/step\n",
            "(165, 1) (165,)\n",
            "(165,) (165,)\n",
            "Test MAE: 0.012\n"
          ]
        },
        {
          "output_type": "display_data",
          "data": {
            "text/plain": [
              "<Figure size 640x480 with 1 Axes>"
            ],
            "image/png": "[encoded data removed]"
          },
          "metadata": {}
        }
      ],
      "source": [
        "# make predictions on test data\n",
        "from sklearn.metrics import mean_absolute_error\n",
        "\n",
        "\n",
        "y_pred = model.predict(test_X0)\n",
        "print(y_pred.shape, test_y0.shape)\n",
        "y_pred = y_pred.reshape(-1)\n",
        "test_y0 = test_y0.reshape(-1)\n",
        "print(y_pred.shape, test_y0.shape)\n",
        "# calculate MAE\n",
        "mae = mean_absolute_error(test_y0, y_pred)\n",
        "print('Test MAE: %.3f' % mae)\n",
        "\n",
        "# plot actual vs predicted values\n",
        "plt.plot(test_y0)\n",
        "plt.plot(y_pred)\n",
        "plt.legend(['Actual', 'Predicted'])\n",
        "plt.show()"
      ]
    },
    {
      "cell_type": "code",
      "execution_count": null,
      "metadata": {
        "id": "BzAO-Wv7CdZw",
        "outputId": "f2a98df6-78ca-4ed8-df58-f6c8b6336cda",
        "colab": {
          "base_uri": "https://localhost:8080/"
        }
      },
      "outputs": [
        {
          "output_type": "stream",
          "name": "stdout",
          "text": [
            "Test MSE: 0.001\n",
            "Test RMSE: 0.027\n"
          ]
        }
      ],
      "source": [
        "from sklearn.metrics import mean_squared_error\n",
        "\n",
        "# calculate MSE\n",
        "mse = mean_squared_error(test_y0, y_pred)\n",
        "print('Test MSE: %.3f' % mse)\n",
        "\n",
        "rmse = np.sqrt(mse)\n",
        "print('Test RMSE: %.3f' % rmse)"
      ]
    },
    {
      "cell_type": "code",
      "execution_count": null,
      "metadata": {
        "id": "wm7oh-3iCdZw",
        "outputId": "4ca78bba-37d9-4387-eeb9-8d256e502cd1",
        "colab": {
          "base_uri": "https://localhost:8080/"
        }
      },
      "outputs": [
        {
          "output_type": "stream",
          "name": "stdout",
          "text": [
            "0.6075909244546687\n"
          ]
        }
      ],
      "source": [
        "from sklearn.metrics import r2_score\n",
        "acc = r2_score(test_y0, y_pred)\n",
        "print(acc)"
      ]
    }
  ],
  "metadata": {
    "kernelspec": {
      "display_name": "Python 3 (ipykernel)",
      "language": "python",
      "name": "python3"
    },
    "language_info": {
      "codemirror_mode": {
        "name": "ipython",
        "version": 3
      },
      "file_extension": ".py",
      "mimetype": "text/x-python",
      "name": "python",
      "nbconvert_exporter": "python",
      "pygments_lexer": "ipython3",
      "version": "3.8.10"
    },
    "colab": {
      "provenance": []
    }
  },
  "nbformat": 4,
  "nbformat_minor": 0
}