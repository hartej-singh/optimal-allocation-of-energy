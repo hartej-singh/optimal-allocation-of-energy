{
  "cells": [
    {
      "cell_type": "code",
      "execution_count": 2,
      "metadata": {
        "id": "ewmmL1viCdZh"
      },
      "outputs": [],
      "source": [
        "import pandas as pd"
      ]
    },
    {
      "cell_type": "code",
      "source": [
        "from google.colab import drive\n",
        "drive.mount('/content/drive')"
      ],
      "metadata": {
        "colab": {
          "base_uri": "https://localhost:8080/"
        },
        "id": "C8W4P95HKnMh",
        "outputId": "10b5736b-4ec0-442b-f11b-e6779b49b160"
      },
      "execution_count": 3,
      "outputs": [
        {
          "output_type": "stream",
          "name": "stdout",
          "text": [
            "Drive already mounted at /content/drive; to attempt to forcibly remount, call drive.mount(\"/content/drive\", force_remount=True).\n"
          ]
        }
      ]
    },
    {
      "cell_type": "code",
      "execution_count": 4,
      "metadata": {
        "id": "uVe8Z3mPCdZi"
      },
      "outputs": [],
      "source": [
        "df = pd.read_csv(r\"/content/drive/MyDrive/3_total_with_clusters.csv\")\n",
        "df = df.drop('Unnamed: 0', axis=1)\n",
        "df_groups = df.groupby('house_cluster')"
      ]
    },
    {
      "cell_type": "markdown",
      "metadata": {
        "id": "UnM0kTqYCdZj"
      },
      "source": [
        "Cluster 0"
      ]
    },
    {
      "cell_type": "code",
      "execution_count": 5,
      "metadata": {
        "id": "pdlyDQkeCdZk"
      },
      "outputs": [],
      "source": [
        "cluster0 = df_groups.get_group(5)\n",
        "energy0 = cluster0.drop('house_cluster', axis=1)"
      ]
    },
    {
      "cell_type": "code",
      "execution_count": 6,
      "metadata": {
        "id": "SvczMS4nCdZk",
        "outputId": "32c0a538-ca28-4113-950d-5265d8bc4e45",
        "colab": {
          "base_uri": "https://localhost:8080/",
          "height": 237
        }
      },
      "outputs": [
        {
          "output_type": "execute_result",
          "data": {
            "text/plain": [
              "            LCLid\n",
              "day              \n",
              "2011-11-23      1\n",
              "2011-11-24      1\n",
              "2011-11-25      1\n",
              "2011-11-26      1\n",
              "2011-11-27      1"
            ],
            "text/html": [
              "\n",
              "  <div id=\"df-0ef003d4-c755-4754-a569-5a49b65ae097\">\n",
              "    <div class=\"colab-df-container\">\n",
              "      <div>\n",
              "<style scoped>\n",
              "    .dataframe tbody tr th:only-of-type {\n",
              "        vertical-align: middle;\n",
              "    }\n",
              "\n",
              "    .dataframe tbody tr th {\n",
              "        vertical-align: top;\n",
              "    }\n",
              "\n",
              "    .dataframe thead th {\n",
              "        text-align: right;\n",
              "    }\n",
              "</style>\n",
              "<table border=\"1\" class=\"dataframe\">\n",
              "  <thead>\n",
              "    <tr style=\"text-align: right;\">\n",
              "      <th></th>\n",
              "      <th>LCLid</th>\n",
              "    </tr>\n",
              "    <tr>\n",
              "      <th>day</th>\n",
              "      <th></th>\n",
              "    </tr>\n",
              "  </thead>\n",
              "  <tbody>\n",
              "    <tr>\n",
              "      <th>2011-11-23</th>\n",
              "      <td>1</td>\n",
              "    </tr>\n",
              "    <tr>\n",
              "      <th>2011-11-24</th>\n",
              "      <td>1</td>\n",
              "    </tr>\n",
              "    <tr>\n",
              "      <th>2011-11-25</th>\n",
              "      <td>1</td>\n",
              "    </tr>\n",
              "    <tr>\n",
              "      <th>2011-11-26</th>\n",
              "      <td>1</td>\n",
              "    </tr>\n",
              "    <tr>\n",
              "      <th>2011-11-27</th>\n",
              "      <td>1</td>\n",
              "    </tr>\n",
              "  </tbody>\n",
              "</table>\n",
              "</div>\n",
              "      <button class=\"colab-df-convert\" onclick=\"convertToInteractive('df-0ef003d4-c755-4754-a569-5a49b65ae097')\"\n",
              "              title=\"Convert this dataframe to an interactive table.\"\n",
              "              style=\"display:none;\">\n",
              "        \n",
              "  <svg xmlns=\"http://www.w3.org/2000/svg\" height=\"24px\"viewBox=\"0 0 24 24\"\n",
              "       width=\"24px\">\n",
              "    <path d=\"M0 0h24v24H0V0z\" fill=\"none\"/>\n",
              "    <path d=\"M18.56 5.44l.94 2.06.94-2.06 2.06-.94-2.06-.94-.94-2.06-.94 2.06-2.06.94zm-11 1L8.5 8.5l.94-2.06 2.06-.94-2.06-.94L8.5 2.5l-.94 2.06-2.06.94zm10 10l.94 2.06.94-2.06 2.06-.94-2.06-.94-.94-2.06-.94 2.06-2.06.94z\"/><path d=\"M17.41 7.96l-1.37-1.37c-.4-.4-.92-.59-1.43-.59-.52 0-1.04.2-1.43.59L10.3 9.45l-7.72 7.72c-.78.78-.78 2.05 0 2.83L4 21.41c.39.39.9.59 1.41.59.51 0 1.02-.2 1.41-.59l7.78-7.78 2.81-2.81c.8-.78.8-2.07 0-2.86zM5.41 20L4 18.59l7.72-7.72 1.47 1.35L5.41 20z\"/>\n",
              "  </svg>\n",
              "      </button>\n",
              "      \n",
              "  <style>\n",
              "    .colab-df-container {\n",
              "      display:flex;\n",
              "      flex-wrap:wrap;\n",
              "      gap: 12px;\n",
              "    }\n",
              "\n",
              "    .colab-df-convert {\n",
              "      background-color: #E8F0FE;\n",
              "      border: none;\n",
              "      border-radius: 50%;\n",
              "      cursor: pointer;\n",
              "      display: none;\n",
              "      fill: #1967D2;\n",
              "      height: 32px;\n",
              "      padding: 0 0 0 0;\n",
              "      width: 32px;\n",
              "    }\n",
              "\n",
              "    .colab-df-convert:hover {\n",
              "      background-color: #E2EBFA;\n",
              "      box-shadow: 0px 1px 2px rgba(60, 64, 67, 0.3), 0px 1px 3px 1px rgba(60, 64, 67, 0.15);\n",
              "      fill: #174EA6;\n",
              "    }\n",
              "\n",
              "    [theme=dark] .colab-df-convert {\n",
              "      background-color: #3B4455;\n",
              "      fill: #D2E3FC;\n",
              "    }\n",
              "\n",
              "    [theme=dark] .colab-df-convert:hover {\n",
              "      background-color: #434B5C;\n",
              "      box-shadow: 0px 1px 3px 1px rgba(0, 0, 0, 0.15);\n",
              "      filter: drop-shadow(0px 1px 2px rgba(0, 0, 0, 0.3));\n",
              "      fill: #FFFFFF;\n",
              "    }\n",
              "  </style>\n",
              "\n",
              "      <script>\n",
              "        const buttonEl =\n",
              "          document.querySelector('#df-0ef003d4-c755-4754-a569-5a49b65ae097 button.colab-df-convert');\n",
              "        buttonEl.style.display =\n",
              "          google.colab.kernel.accessAllowed ? 'block' : 'none';\n",
              "\n",
              "        async function convertToInteractive(key) {\n",
              "          const element = document.querySelector('#df-0ef003d4-c755-4754-a569-5a49b65ae097');\n",
              "          const dataTable =\n",
              "            await google.colab.kernel.invokeFunction('convertToInteractive',\n",
              "                                                     [key], {});\n",
              "          if (!dataTable) return;\n",
              "\n",
              "          const docLinkHtml = 'Like what you see? Visit the ' +\n",
              "            '<a target=\"_blank\" href=https://colab.research.google.com/notebooks/data_table.ipynb>data table notebook</a>'\n",
              "            + ' to learn more about interactive tables.';\n",
              "          element.innerHTML = '';\n",
              "          dataTable['output_type'] = 'display_data';\n",
              "          await google.colab.output.renderOutput(dataTable, element);\n",
              "          const docLink = document.createElement('div');\n",
              "          docLink.innerHTML = docLinkHtml;\n",
              "          element.appendChild(docLink);\n",
              "        }\n",
              "      </script>\n",
              "    </div>\n",
              "  </div>\n",
              "  "
            ]
          },
          "metadata": {},
          "execution_count": 6
        }
      ],
      "source": [
        "housecount0 = cluster0.groupby('day')[['LCLid']].nunique()\n",
        "# housecount0.get_group('2012-11-07')\n",
        "housecount0.head()"
      ]
    },
    {
      "cell_type": "code",
      "execution_count": 7,
      "metadata": {
        "id": "Vh1OcbMFCdZl",
        "outputId": "88d628c6-3e34-442e-a50a-c71589db3152",
        "colab": {
          "base_uri": "https://localhost:8080/",
          "height": 530
        }
      },
      "outputs": [
        {
          "output_type": "execute_result",
          "data": {
            "text/plain": [
              "<Axes: xlabel='day'>"
            ]
          },
          "metadata": {},
          "execution_count": 7
        },
        {
          "output_type": "display_data",
          "data": {
            "text/plain": [
              "<Figure size 3000x1000 with 1 Axes>"
            ],
            "image/png": "[encoded data removed]"
          },
          "metadata": {}
        }
      ],
      "source": [
        "housecount0.plot(figsize=(30,10))"
      ]
    },
    {
      "cell_type": "code",
      "execution_count": 8,
      "metadata": {
        "id": "SVaqTL6LCdZm",
        "outputId": "19b608bb-63c1-4985-9897-7cf509a259dd",
        "colab": {
          "base_uri": "https://localhost:8080/"
        }
      },
      "outputs": [
        {
          "output_type": "execute_result",
          "data": {
            "text/plain": [
              "day               827\n",
              "energy_sum        827\n",
              "temperatureMax    827\n",
              "windSpeed         827\n",
              "humidity          827\n",
              "holiday_ind       827\n",
              "LCLid             827\n",
              "dtype: int64"
            ]
          },
          "metadata": {},
          "execution_count": 8
        }
      ],
      "source": [
        "# [['LCLid', 'energy_sum', 'temperatureMax', 'windSpeed', 'humidity', 'holiday_ind']]\n",
        "energy0 = cluster0.groupby('day')[['energy_sum', 'temperatureMax', 'windSpeed', 'humidity', 'holiday_ind']].sum()\n",
        "energy0 = energy0.merge(housecount0, on=['day'])\n",
        "energy0 = energy0.reset_index()\n",
        "energy0.count()"
      ]
    },
    {
      "cell_type": "code",
      "execution_count": 9,
      "metadata": {
        "id": "YcPsINvcCdZm"
      },
      "outputs": [],
      "source": [
        "energy0['day'] = pd.to_datetime(energy0['day'],format='%Y-%m-%d').dt.date"
      ]
    },
    {
      "cell_type": "code",
      "execution_count": 10,
      "metadata": {
        "id": "9eIvemqeCdZn",
        "outputId": "0ff13664-06d1-4015-f528-edea7b603aa7",
        "colab": {
          "base_uri": "https://localhost:8080/"
        }
      },
      "outputs": [
        {
          "output_type": "stream",
          "name": "stdout",
          "text": [
            "Starting Point of Data at Day Level 2011-11-23\n",
            "Ending Point of Data at Day Level 2014-02-28\n"
          ]
        }
      ],
      "source": [
        "energy0['avg_energy'] =  energy0['energy_sum']/energy0['LCLid']\n",
        "print(\"Starting Point of Data at Day Level\",min(energy0['day']))\n",
        "print(\"Ending Point of Data at Day Level\",max(energy0['day']))"
      ]
    },
    {
      "cell_type": "code",
      "execution_count": 11,
      "metadata": {
        "id": "UNW6bt7XCdZn",
        "outputId": "1b4fda21-c179-446a-b5d6-1ca6d6ca5032",
        "colab": {
          "base_uri": "https://localhost:8080/",
          "height": 423
        }
      },
      "outputs": [
        {
          "output_type": "execute_result",
          "data": {
            "text/plain": [
              "            day   energy_sum  temperatureMax  windSpeed  humidity  \\\n",
              "0    2011-11-23    21.702000           10.36       2.04      0.93   \n",
              "1    2011-11-24    29.722000           12.93       4.04      0.89   \n",
              "2    2011-11-25    30.071000           13.03       5.02      0.79   \n",
              "3    2011-11-26    33.384000           12.96       5.75      0.81   \n",
              "4    2011-11-27    34.204000           13.54       5.48      0.72   \n",
              "..          ...          ...             ...        ...       ...   \n",
              "822  2014-02-24  7041.465001         2746.39     968.86    142.82   \n",
              "823  2014-02-25  7124.631000         2205.99    1098.17    150.54   \n",
              "824  2014-02-26  7151.227998         2178.97     737.26    140.89   \n",
              "825  2014-02-27  7181.469000         1989.83     799.02    142.82   \n",
              "826  2014-02-28   165.867999         1418.55     432.32    165.98   \n",
              "\n",
              "     holiday_ind  LCLid  avg_energy  \n",
              "0              0      1   21.702000  \n",
              "1              0      1   29.722000  \n",
              "2              0      1   30.071000  \n",
              "3              1      1   33.384000  \n",
              "4              1      1   34.204000  \n",
              "..           ...    ...         ...  \n",
              "822            0    193   36.484275  \n",
              "823            0    193   36.915187  \n",
              "824            0    193   37.052995  \n",
              "825            0    193   37.209684  \n",
              "826            0    193    0.859420  \n",
              "\n",
              "[827 rows x 8 columns]"
            ],
            "text/html": [
              "\n",
              "  <div id=\"df-82afad51-b46d-43e5-9d15-ae3d745748a9\">\n",
              "    <div class=\"colab-df-container\">\n",
              "      <div>\n",
              "<style scoped>\n",
              "    .dataframe tbody tr th:only-of-type {\n",
              "        vertical-align: middle;\n",
              "    }\n",
              "\n",
              "    .dataframe tbody tr th {\n",
              "        vertical-align: top;\n",
              "    }\n",
              "\n",
              "    .dataframe thead th {\n",
              "        text-align: right;\n",
              "    }\n",
              "</style>\n",
              "<table border=\"1\" class=\"dataframe\">\n",
              "  <thead>\n",
              "    <tr style=\"text-align: right;\">\n",
              "      <th></th>\n",
              "      <th>day</th>\n",
              "      <th>energy_sum</th>\n",
              "      <th>temperatureMax</th>\n",
              "      <th>windSpeed</th>\n",
              "      <th>humidity</th>\n",
              "      <th>holiday_ind</th>\n",
              "      <th>LCLid</th>\n",
              "      <th>avg_energy</th>\n",
              "    </tr>\n",
              "  </thead>\n",
              "  <tbody>\n",
              "    <tr>\n",
              "      <th>0</th>\n",
              "      <td>2011-11-23</td>\n",
              "      <td>21.702000</td>\n",
              "      <td>10.36</td>\n",
              "      <td>2.04</td>\n",
              "      <td>0.93</td>\n",
              "      <td>0</td>\n",
              "      <td>1</td>\n",
              "      <td>21.702000</td>\n",
              "    </tr>\n",
              "    <tr>\n",
              "      <th>1</th>\n",
              "      <td>2011-11-24</td>\n",
              "      <td>29.722000</td>\n",
              "      <td>12.93</td>\n",
              "      <td>4.04</td>\n",
              "      <td>0.89</td>\n",
              "      <td>0</td>\n",
              "      <td>1</td>\n",
              "      <td>29.722000</td>\n",
              "    </tr>\n",
              "    <tr>\n",
              "      <th>2</th>\n",
              "      <td>2011-11-25</td>\n",
              "      <td>30.071000</td>\n",
              "      <td>13.03</td>\n",
              "      <td>5.02</td>\n",
              "      <td>0.79</td>\n",
              "      <td>0</td>\n",
              "      <td>1</td>\n",
              "      <td>30.071000</td>\n",
              "    </tr>\n",
              "    <tr>\n",
              "      <th>3</th>\n",
              "      <td>2011-11-26</td>\n",
              "      <td>33.384000</td>\n",
              "      <td>12.96</td>\n",
              "      <td>5.75</td>\n",
              "      <td>0.81</td>\n",
              "      <td>1</td>\n",
              "      <td>1</td>\n",
              "      <td>33.384000</td>\n",
              "    </tr>\n",
              "    <tr>\n",
              "      <th>4</th>\n",
              "      <td>2011-11-27</td>\n",
              "      <td>34.204000</td>\n",
              "      <td>13.54</td>\n",
              "      <td>5.48</td>\n",
              "      <td>0.72</td>\n",
              "      <td>1</td>\n",
              "      <td>1</td>\n",
              "      <td>34.204000</td>\n",
              "    </tr>\n",
              "    <tr>\n",
              "      <th>...</th>\n",
              "      <td>...</td>\n",
              "      <td>...</td>\n",
              "      <td>...</td>\n",
              "      <td>...</td>\n",
              "      <td>...</td>\n",
              "      <td>...</td>\n",
              "      <td>...</td>\n",
              "      <td>...</td>\n",
              "    </tr>\n",
              "    <tr>\n",
              "      <th>822</th>\n",
              "      <td>2014-02-24</td>\n",
              "      <td>7041.465001</td>\n",
              "      <td>2746.39</td>\n",
              "      <td>968.86</td>\n",
              "      <td>142.82</td>\n",
              "      <td>0</td>\n",
              "      <td>193</td>\n",
              "      <td>36.484275</td>\n",
              "    </tr>\n",
              "    <tr>\n",
              "      <th>823</th>\n",
              "      <td>2014-02-25</td>\n",
              "      <td>7124.631000</td>\n",
              "      <td>2205.99</td>\n",
              "      <td>1098.17</td>\n",
              "      <td>150.54</td>\n",
              "      <td>0</td>\n",
              "      <td>193</td>\n",
              "      <td>36.915187</td>\n",
              "    </tr>\n",
              "    <tr>\n",
              "      <th>824</th>\n",
              "      <td>2014-02-26</td>\n",
              "      <td>7151.227998</td>\n",
              "      <td>2178.97</td>\n",
              "      <td>737.26</td>\n",
              "      <td>140.89</td>\n",
              "      <td>0</td>\n",
              "      <td>193</td>\n",
              "      <td>37.052995</td>\n",
              "    </tr>\n",
              "    <tr>\n",
              "      <th>825</th>\n",
              "      <td>2014-02-27</td>\n",
              "      <td>7181.469000</td>\n",
              "      <td>1989.83</td>\n",
              "      <td>799.02</td>\n",
              "      <td>142.82</td>\n",
              "      <td>0</td>\n",
              "      <td>193</td>\n",
              "      <td>37.209684</td>\n",
              "    </tr>\n",
              "    <tr>\n",
              "      <th>826</th>\n",
              "      <td>2014-02-28</td>\n",
              "      <td>165.867999</td>\n",
              "      <td>1418.55</td>\n",
              "      <td>432.32</td>\n",
              "      <td>165.98</td>\n",
              "      <td>0</td>\n",
              "      <td>193</td>\n",
              "      <td>0.859420</td>\n",
              "    </tr>\n",
              "  </tbody>\n",
              "</table>\n",
              "<p>827 rows × 8 columns</p>\n",
              "</div>\n",
              "      <button class=\"colab-df-convert\" onclick=\"convertToInteractive('df-82afad51-b46d-43e5-9d15-ae3d745748a9')\"\n",
              "              title=\"Convert this dataframe to an interactive table.\"\n",
              "              style=\"display:none;\">\n",
              "        \n",
              "  <svg xmlns=\"http://www.w3.org/2000/svg\" height=\"24px\"viewBox=\"0 0 24 24\"\n",
              "       width=\"24px\">\n",
              "    <path d=\"M0 0h24v24H0V0z\" fill=\"none\"/>\n",
              "    <path d=\"M18.56 5.44l.94 2.06.94-2.06 2.06-.94-2.06-.94-.94-2.06-.94 2.06-2.06.94zm-11 1L8.5 8.5l.94-2.06 2.06-.94-2.06-.94L8.5 2.5l-.94 2.06-2.06.94zm10 10l.94 2.06.94-2.06 2.06-.94-2.06-.94-.94-2.06-.94 2.06-2.06.94z\"/><path d=\"M17.41 7.96l-1.37-1.37c-.4-.4-.92-.59-1.43-.59-.52 0-1.04.2-1.43.59L10.3 9.45l-7.72 7.72c-.78.78-.78 2.05 0 2.83L4 21.41c.39.39.9.59 1.41.59.51 0 1.02-.2 1.41-.59l7.78-7.78 2.81-2.81c.8-.78.8-2.07 0-2.86zM5.41 20L4 18.59l7.72-7.72 1.47 1.35L5.41 20z\"/>\n",
              "  </svg>\n",
              "      </button>\n",
              "      \n",
              "  <style>\n",
              "    .colab-df-container {\n",
              "      display:flex;\n",
              "      flex-wrap:wrap;\n",
              "      gap: 12px;\n",
              "    }\n",
              "\n",
              "    .colab-df-convert {\n",
              "      background-color: #E8F0FE;\n",
              "      border: none;\n",
              "      border-radius: 50%;\n",
              "      cursor: pointer;\n",
              "      display: none;\n",
              "      fill: #1967D2;\n",
              "      height: 32px;\n",
              "      padding: 0 0 0 0;\n",
              "      width: 32px;\n",
              "    }\n",
              "\n",
              "    .colab-df-convert:hover {\n",
              "      background-color: #E2EBFA;\n",
              "      box-shadow: 0px 1px 2px rgba(60, 64, 67, 0.3), 0px 1px 3px 1px rgba(60, 64, 67, 0.15);\n",
              "      fill: #174EA6;\n",
              "    }\n",
              "\n",
              "    [theme=dark] .colab-df-convert {\n",
              "      background-color: #3B4455;\n",
              "      fill: #D2E3FC;\n",
              "    }\n",
              "\n",
              "    [theme=dark] .colab-df-convert:hover {\n",
              "      background-color: #434B5C;\n",
              "      box-shadow: 0px 1px 3px 1px rgba(0, 0, 0, 0.15);\n",
              "      filter: drop-shadow(0px 1px 2px rgba(0, 0, 0, 0.3));\n",
              "      fill: #FFFFFF;\n",
              "    }\n",
              "  </style>\n",
              "\n",
              "      <script>\n",
              "        const buttonEl =\n",
              "          document.querySelector('#df-82afad51-b46d-43e5-9d15-ae3d745748a9 button.colab-df-convert');\n",
              "        buttonEl.style.display =\n",
              "          google.colab.kernel.accessAllowed ? 'block' : 'none';\n",
              "\n",
              "        async function convertToInteractive(key) {\n",
              "          const element = document.querySelector('#df-82afad51-b46d-43e5-9d15-ae3d745748a9');\n",
              "          const dataTable =\n",
              "            await google.colab.kernel.invokeFunction('convertToInteractive',\n",
              "                                                     [key], {});\n",
              "          if (!dataTable) return;\n",
              "\n",
              "          const docLinkHtml = 'Like what you see? Visit the ' +\n",
              "            '<a target=\"_blank\" href=https://colab.research.google.com/notebooks/data_table.ipynb>data table notebook</a>'\n",
              "            + ' to learn more about interactive tables.';\n",
              "          element.innerHTML = '';\n",
              "          dataTable['output_type'] = 'display_data';\n",
              "          await google.colab.output.renderOutput(dataTable, element);\n",
              "          const docLink = document.createElement('div');\n",
              "          docLink.innerHTML = docLinkHtml;\n",
              "          element.appendChild(docLink);\n",
              "        }\n",
              "      </script>\n",
              "    </div>\n",
              "  </div>\n",
              "  "
            ]
          },
          "metadata": {},
          "execution_count": 11
        }
      ],
      "source": [
        "energy0"
      ]
    },
    {
      "cell_type": "code",
      "execution_count": 12,
      "metadata": {
        "id": "8T-ndWqiCdZn",
        "outputId": "c4372cbc-653a-445a-f6f9-e931f4470453",
        "colab": {
          "base_uri": "https://localhost:8080/",
          "height": 300
        }
      },
      "outputs": [
        {
          "output_type": "execute_result",
          "data": {
            "text/plain": [
              "         energy_sum  temperatureMax    windSpeed    humidity  holiday_ind  \\\n",
              "count    827.000000      827.000000   827.000000  827.000000   827.000000   \n",
              "mean    5841.250879     2382.521318   608.817122  132.299033    48.187424   \n",
              "std     3047.620486     1480.604642   395.095675   55.396408    84.940443   \n",
              "min       21.702000      -13.260000     2.040000    0.720000     0.000000   \n",
              "25%     4000.661499     1229.280000   269.200000  111.175000     0.000000   \n",
              "50%     5602.950998     2274.800000   590.470000  148.500000     0.000000   \n",
              "75%     8403.818997     3446.445000   862.605000  171.720000    51.000000   \n",
              "max    18670.636002     6836.400000  1942.200000  287.760000   436.000000   \n",
              "\n",
              "            LCLid  avg_energy  \n",
              "count  827.000000  827.000000  \n",
              "mean   169.372430   34.209469  \n",
              "std     66.298351    8.960250  \n",
              "min      1.000000    0.859420  \n",
              "25%    158.000000   26.455088  \n",
              "50%    199.000000   33.517926  \n",
              "75%    214.000000   41.303170  \n",
              "max    222.000000   85.645119  "
            ],
            "text/html": [
              "\n",
              "  <div id=\"df-d53a5cb6-474c-426c-a5fc-ac5eedd07b78\">\n",
              "    <div class=\"colab-df-container\">\n",
              "      <div>\n",
              "<style scoped>\n",
              "    .dataframe tbody tr th:only-of-type {\n",
              "        vertical-align: middle;\n",
              "    }\n",
              "\n",
              "    .dataframe tbody tr th {\n",
              "        vertical-align: top;\n",
              "    }\n",
              "\n",
              "    .dataframe thead th {\n",
              "        text-align: right;\n",
              "    }\n",
              "</style>\n",
              "<table border=\"1\" class=\"dataframe\">\n",
              "  <thead>\n",
              "    <tr style=\"text-align: right;\">\n",
              "      <th></th>\n",
              "      <th>energy_sum</th>\n",
              "      <th>temperatureMax</th>\n",
              "      <th>windSpeed</th>\n",
              "      <th>humidity</th>\n",
              "      <th>holiday_ind</th>\n",
              "      <th>LCLid</th>\n",
              "      <th>avg_energy</th>\n",
              "    </tr>\n",
              "  </thead>\n",
              "  <tbody>\n",
              "    <tr>\n",
              "      <th>count</th>\n",
              "      <td>827.000000</td>\n",
              "      <td>827.000000</td>\n",
              "      <td>827.000000</td>\n",
              "      <td>827.000000</td>\n",
              "      <td>827.000000</td>\n",
              "      <td>827.000000</td>\n",
              "      <td>827.000000</td>\n",
              "    </tr>\n",
              "    <tr>\n",
              "      <th>mean</th>\n",
              "      <td>5841.250879</td>\n",
              "      <td>2382.521318</td>\n",
              "      <td>608.817122</td>\n",
              "      <td>132.299033</td>\n",
              "      <td>48.187424</td>\n",
              "      <td>169.372430</td>\n",
              "      <td>34.209469</td>\n",
              "    </tr>\n",
              "    <tr>\n",
              "      <th>std</th>\n",
              "      <td>3047.620486</td>\n",
              "      <td>1480.604642</td>\n",
              "      <td>395.095675</td>\n",
              "      <td>55.396408</td>\n",
              "      <td>84.940443</td>\n",
              "      <td>66.298351</td>\n",
              "      <td>8.960250</td>\n",
              "    </tr>\n",
              "    <tr>\n",
              "      <th>min</th>\n",
              "      <td>21.702000</td>\n",
              "      <td>-13.260000</td>\n",
              "      <td>2.040000</td>\n",
              "      <td>0.720000</td>\n",
              "      <td>0.000000</td>\n",
              "      <td>1.000000</td>\n",
              "      <td>0.859420</td>\n",
              "    </tr>\n",
              "    <tr>\n",
              "      <th>25%</th>\n",
              "      <td>4000.661499</td>\n",
              "      <td>1229.280000</td>\n",
              "      <td>269.200000</td>\n",
              "      <td>111.175000</td>\n",
              "      <td>0.000000</td>\n",
              "      <td>158.000000</td>\n",
              "      <td>26.455088</td>\n",
              "    </tr>\n",
              "    <tr>\n",
              "      <th>50%</th>\n",
              "      <td>5602.950998</td>\n",
              "      <td>2274.800000</td>\n",
              "      <td>590.470000</td>\n",
              "      <td>148.500000</td>\n",
              "      <td>0.000000</td>\n",
              "      <td>199.000000</td>\n",
              "      <td>33.517926</td>\n",
              "    </tr>\n",
              "    <tr>\n",
              "      <th>75%</th>\n",
              "      <td>8403.818997</td>\n",
              "      <td>3446.445000</td>\n",
              "      <td>862.605000</td>\n",
              "      <td>171.720000</td>\n",
              "      <td>51.000000</td>\n",
              "      <td>214.000000</td>\n",
              "      <td>41.303170</td>\n",
              "    </tr>\n",
              "    <tr>\n",
              "      <th>max</th>\n",
              "      <td>18670.636002</td>\n",
              "      <td>6836.400000</td>\n",
              "      <td>1942.200000</td>\n",
              "      <td>287.760000</td>\n",
              "      <td>436.000000</td>\n",
              "      <td>222.000000</td>\n",
              "      <td>85.645119</td>\n",
              "    </tr>\n",
              "  </tbody>\n",
              "</table>\n",
              "</div>\n",
              "      <button class=\"colab-df-convert\" onclick=\"convertToInteractive('df-d53a5cb6-474c-426c-a5fc-ac5eedd07b78')\"\n",
              "              title=\"Convert this dataframe to an interactive table.\"\n",
              "              style=\"display:none;\">\n",
              "        \n",
              "  <svg xmlns=\"http://www.w3.org/2000/svg\" height=\"24px\"viewBox=\"0 0 24 24\"\n",
              "       width=\"24px\">\n",
              "    <path d=\"M0 0h24v24H0V0z\" fill=\"none\"/>\n",
              "    <path d=\"M18.56 5.44l.94 2.06.94-2.06 2.06-.94-2.06-.94-.94-2.06-.94 2.06-2.06.94zm-11 1L8.5 8.5l.94-2.06 2.06-.94-2.06-.94L8.5 2.5l-.94 2.06-2.06.94zm10 10l.94 2.06.94-2.06 2.06-.94-2.06-.94-.94-2.06-.94 2.06-2.06.94z\"/><path d=\"M17.41 7.96l-1.37-1.37c-.4-.4-.92-.59-1.43-.59-.52 0-1.04.2-1.43.59L10.3 9.45l-7.72 7.72c-.78.78-.78 2.05 0 2.83L4 21.41c.39.39.9.59 1.41.59.51 0 1.02-.2 1.41-.59l7.78-7.78 2.81-2.81c.8-.78.8-2.07 0-2.86zM5.41 20L4 18.59l7.72-7.72 1.47 1.35L5.41 20z\"/>\n",
              "  </svg>\n",
              "      </button>\n",
              "      \n",
              "  <style>\n",
              "    .colab-df-container {\n",
              "      display:flex;\n",
              "      flex-wrap:wrap;\n",
              "      gap: 12px;\n",
              "    }\n",
              "\n",
              "    .colab-df-convert {\n",
              "      background-color: #E8F0FE;\n",
              "      border: none;\n",
              "      border-radius: 50%;\n",
              "      cursor: pointer;\n",
              "      display: none;\n",
              "      fill: #1967D2;\n",
              "      height: 32px;\n",
              "      padding: 0 0 0 0;\n",
              "      width: 32px;\n",
              "    }\n",
              "\n",
              "    .colab-df-convert:hover {\n",
              "      background-color: #E2EBFA;\n",
              "      box-shadow: 0px 1px 2px rgba(60, 64, 67, 0.3), 0px 1px 3px 1px rgba(60, 64, 67, 0.15);\n",
              "      fill: #174EA6;\n",
              "    }\n",
              "\n",
              "    [theme=dark] .colab-df-convert {\n",
              "      background-color: #3B4455;\n",
              "      fill: #D2E3FC;\n",
              "    }\n",
              "\n",
              "    [theme=dark] .colab-df-convert:hover {\n",
              "      background-color: #434B5C;\n",
              "      box-shadow: 0px 1px 3px 1px rgba(0, 0, 0, 0.15);\n",
              "      filter: drop-shadow(0px 1px 2px rgba(0, 0, 0, 0.3));\n",
              "      fill: #FFFFFF;\n",
              "    }\n",
              "  </style>\n",
              "\n",
              "      <script>\n",
              "        const buttonEl =\n",
              "          document.querySelector('#df-d53a5cb6-474c-426c-a5fc-ac5eedd07b78 button.colab-df-convert');\n",
              "        buttonEl.style.display =\n",
              "          google.colab.kernel.accessAllowed ? 'block' : 'none';\n",
              "\n",
              "        async function convertToInteractive(key) {\n",
              "          const element = document.querySelector('#df-d53a5cb6-474c-426c-a5fc-ac5eedd07b78');\n",
              "          const dataTable =\n",
              "            await google.colab.kernel.invokeFunction('convertToInteractive',\n",
              "                                                     [key], {});\n",
              "          if (!dataTable) return;\n",
              "\n",
              "          const docLinkHtml = 'Like what you see? Visit the ' +\n",
              "            '<a target=\"_blank\" href=https://colab.research.google.com/notebooks/data_table.ipynb>data table notebook</a>'\n",
              "            + ' to learn more about interactive tables.';\n",
              "          element.innerHTML = '';\n",
              "          dataTable['output_type'] = 'display_data';\n",
              "          await google.colab.output.renderOutput(dataTable, element);\n",
              "          const docLink = document.createElement('div');\n",
              "          docLink.innerHTML = docLinkHtml;\n",
              "          element.appendChild(docLink);\n",
              "        }\n",
              "      </script>\n",
              "    </div>\n",
              "  </div>\n",
              "  "
            ]
          },
          "metadata": {},
          "execution_count": 12
        }
      ],
      "source": [
        "energy0.describe()"
      ]
    },
    {
      "cell_type": "code",
      "execution_count": 13,
      "metadata": {
        "id": "U6kF1Sc-CdZn"
      },
      "outputs": [],
      "source": [
        "# Weather clusters\n",
        "from sklearn.preprocessing import MinMaxScaler\n",
        "\n",
        "scaler0 = MinMaxScaler()\n",
        "weather_scaled0 = scaler0.fit_transform(energy0[['temperatureMax','humidity','windSpeed']])"
      ]
    },
    {
      "cell_type": "code",
      "execution_count": 14,
      "metadata": {
        "id": "CrsyzGSOCdZo",
        "outputId": "d56c4efd-3b58-468b-91f6-1a83225405a9",
        "colab": {
          "base_uri": "https://localhost:8080/"
        }
      },
      "outputs": [
        {
          "output_type": "execute_result",
          "data": {
            "text/plain": [
              "array([[3.44834634e-03, 7.31605351e-04, 0.00000000e+00],\n",
              "       [3.82354745e-03, 5.92251951e-04, 1.03084282e-03],\n",
              "       [3.83814671e-03, 2.43868450e-04, 1.53595580e-03],\n",
              "       ...,\n",
              "       [3.20049462e-01, 4.88329153e-01, 3.78948128e-01],\n",
              "       [2.92436413e-01, 4.95052954e-01, 4.10780554e-01],\n",
              "       [2.09033733e-01, 5.75738573e-01, 2.21775524e-01]])"
            ]
          },
          "metadata": {},
          "execution_count": 14
        }
      ],
      "source": [
        "weather_scaled0"
      ]
    },
    {
      "cell_type": "code",
      "execution_count": 15,
      "metadata": {
        "id": "QHEc0oBWCdZo",
        "outputId": "67a4ae7f-b9d5-40f4-e068-38407cb77e3e",
        "colab": {
          "base_uri": "https://localhost:8080/",
          "height": 505
        }
      },
      "outputs": [
        {
          "output_type": "stream",
          "name": "stdout",
          "text": [
            "[KMeans(n_clusters=1, n_init='auto'), KMeans(n_clusters=2, n_init='auto'), KMeans(n_clusters=3, n_init='auto'), KMeans(n_clusters=4, n_init='auto'), KMeans(n_clusters=5, n_init='auto'), KMeans(n_clusters=6, n_init='auto'), KMeans(n_clusters=7, n_init='auto'), KMeans(n_init='auto'), KMeans(n_clusters=9, n_init='auto'), KMeans(n_clusters=10, n_init='auto'), KMeans(n_clusters=11, n_init='auto'), KMeans(n_clusters=12, n_init='auto'), KMeans(n_clusters=13, n_init='auto'), KMeans(n_clusters=14, n_init='auto'), KMeans(n_clusters=15, n_init='auto'), KMeans(n_clusters=16, n_init='auto'), KMeans(n_clusters=17, n_init='auto'), KMeans(n_clusters=18, n_init='auto'), KMeans(n_clusters=19, n_init='auto')]\n",
            "[-103.61300445040646, -52.629187770242936, -34.56830913638094, -24.7663798445095, -21.39129212156899, -18.501076027309157, -16.442794997763947, -14.756805716842837, -13.552578090630215, -12.801131683197475, -11.682981740588527, -11.07511475135586, -10.694655299284854, -10.067727628710898, -9.342123674916621, -8.894616621483577, -8.766199141286904, -8.153840603557796, -8.293431056719253]\n"
          ]
        },
        {
          "output_type": "display_data",
          "data": {
            "text/plain": [
              "<Figure size 640x480 with 1 Axes>"
            ],
            "image/png": "[encoded data removed]"
          },
          "metadata": {}
        }
      ],
      "source": [
        "from sklearn.cluster import KMeans\n",
        "import matplotlib.pyplot as plt\n",
        "\n",
        "\n",
        "Nc0 = range(1,20)\n",
        "kmeans0 = [KMeans(n_clusters=i, n_init='auto') for i in Nc0]\n",
        "print(kmeans0)\n",
        "\n",
        "score0 = [kmeans0[i].fit(weather_scaled0).score(weather_scaled0) for i in range(len(kmeans0))]\n",
        "print(score0)\n",
        "\n",
        "plt.plot(Nc0, score0)\n",
        "plt.xlabel('Number of Clusters')\n",
        "plt.ylabel('Score')\n",
        "plt.show()"
      ]
    },
    {
      "cell_type": "code",
      "execution_count": 16,
      "metadata": {
        "id": "_mpSRnWmCdZo",
        "outputId": "3f5fe8c1-6cc5-4501-c363-959613c94cd7",
        "colab": {
          "base_uri": "https://localhost:8080/",
          "height": 206
        }
      },
      "outputs": [
        {
          "output_type": "execute_result",
          "data": {
            "text/plain": [
              "          day  energy_sum  temperatureMax  windSpeed  humidity  holiday_ind  \\\n",
              "0  2011-11-23      21.702           10.36       2.04      0.93            0   \n",
              "1  2011-11-24      29.722           12.93       4.04      0.89            0   \n",
              "2  2011-11-25      30.071           13.03       5.02      0.79            0   \n",
              "3  2011-11-26      33.384           12.96       5.75      0.81            1   \n",
              "4  2011-11-27      34.204           13.54       5.48      0.72            1   \n",
              "\n",
              "   LCLid  avg_energy  weather_cluster  \n",
              "0      1      21.702                1  \n",
              "1      1      29.722                1  \n",
              "2      1      30.071                1  \n",
              "3      1      33.384                1  \n",
              "4      1      34.204                1  "
            ],
            "text/html": [
              "\n",
              "  <div id=\"df-5b0e5433-ac52-4978-ae77-facda78f4df6\">\n",
              "    <div class=\"colab-df-container\">\n",
              "      <div>\n",
              "<style scoped>\n",
              "    .dataframe tbody tr th:only-of-type {\n",
              "        vertical-align: middle;\n",
              "    }\n",
              "\n",
              "    .dataframe tbody tr th {\n",
              "        vertical-align: top;\n",
              "    }\n",
              "\n",
              "    .dataframe thead th {\n",
              "        text-align: right;\n",
              "    }\n",
              "</style>\n",
              "<table border=\"1\" class=\"dataframe\">\n",
              "  <thead>\n",
              "    <tr style=\"text-align: right;\">\n",
              "      <th></th>\n",
              "      <th>day</th>\n",
              "      <th>energy_sum</th>\n",
              "      <th>temperatureMax</th>\n",
              "      <th>windSpeed</th>\n",
              "      <th>humidity</th>\n",
              "      <th>holiday_ind</th>\n",
              "      <th>LCLid</th>\n",
              "      <th>avg_energy</th>\n",
              "      <th>weather_cluster</th>\n",
              "    </tr>\n",
              "  </thead>\n",
              "  <tbody>\n",
              "    <tr>\n",
              "      <th>0</th>\n",
              "      <td>2011-11-23</td>\n",
              "      <td>21.702</td>\n",
              "      <td>10.36</td>\n",
              "      <td>2.04</td>\n",
              "      <td>0.93</td>\n",
              "      <td>0</td>\n",
              "      <td>1</td>\n",
              "      <td>21.702</td>\n",
              "      <td>1</td>\n",
              "    </tr>\n",
              "    <tr>\n",
              "      <th>1</th>\n",
              "      <td>2011-11-24</td>\n",
              "      <td>29.722</td>\n",
              "      <td>12.93</td>\n",
              "      <td>4.04</td>\n",
              "      <td>0.89</td>\n",
              "      <td>0</td>\n",
              "      <td>1</td>\n",
              "      <td>29.722</td>\n",
              "      <td>1</td>\n",
              "    </tr>\n",
              "    <tr>\n",
              "      <th>2</th>\n",
              "      <td>2011-11-25</td>\n",
              "      <td>30.071</td>\n",
              "      <td>13.03</td>\n",
              "      <td>5.02</td>\n",
              "      <td>0.79</td>\n",
              "      <td>0</td>\n",
              "      <td>1</td>\n",
              "      <td>30.071</td>\n",
              "      <td>1</td>\n",
              "    </tr>\n",
              "    <tr>\n",
              "      <th>3</th>\n",
              "      <td>2011-11-26</td>\n",
              "      <td>33.384</td>\n",
              "      <td>12.96</td>\n",
              "      <td>5.75</td>\n",
              "      <td>0.81</td>\n",
              "      <td>1</td>\n",
              "      <td>1</td>\n",
              "      <td>33.384</td>\n",
              "      <td>1</td>\n",
              "    </tr>\n",
              "    <tr>\n",
              "      <th>4</th>\n",
              "      <td>2011-11-27</td>\n",
              "      <td>34.204</td>\n",
              "      <td>13.54</td>\n",
              "      <td>5.48</td>\n",
              "      <td>0.72</td>\n",
              "      <td>1</td>\n",
              "      <td>1</td>\n",
              "      <td>34.204</td>\n",
              "      <td>1</td>\n",
              "    </tr>\n",
              "  </tbody>\n",
              "</table>\n",
              "</div>\n",
              "      <button class=\"colab-df-convert\" onclick=\"convertToInteractive('df-5b0e5433-ac52-4978-ae77-facda78f4df6')\"\n",
              "              title=\"Convert this dataframe to an interactive table.\"\n",
              "              style=\"display:none;\">\n",
              "        \n",
              "  <svg xmlns=\"http://www.w3.org/2000/svg\" height=\"24px\"viewBox=\"0 0 24 24\"\n",
              "       width=\"24px\">\n",
              "    <path d=\"M0 0h24v24H0V0z\" fill=\"none\"/>\n",
              "    <path d=\"M18.56 5.44l.94 2.06.94-2.06 2.06-.94-2.06-.94-.94-2.06-.94 2.06-2.06.94zm-11 1L8.5 8.5l.94-2.06 2.06-.94-2.06-.94L8.5 2.5l-.94 2.06-2.06.94zm10 10l.94 2.06.94-2.06 2.06-.94-2.06-.94-.94-2.06-.94 2.06-2.06.94z\"/><path d=\"M17.41 7.96l-1.37-1.37c-.4-.4-.92-.59-1.43-.59-.52 0-1.04.2-1.43.59L10.3 9.45l-7.72 7.72c-.78.78-.78 2.05 0 2.83L4 21.41c.39.39.9.59 1.41.59.51 0 1.02-.2 1.41-.59l7.78-7.78 2.81-2.81c.8-.78.8-2.07 0-2.86zM5.41 20L4 18.59l7.72-7.72 1.47 1.35L5.41 20z\"/>\n",
              "  </svg>\n",
              "      </button>\n",
              "      \n",
              "  <style>\n",
              "    .colab-df-container {\n",
              "      display:flex;\n",
              "      flex-wrap:wrap;\n",
              "      gap: 12px;\n",
              "    }\n",
              "\n",
              "    .colab-df-convert {\n",
              "      background-color: #E8F0FE;\n",
              "      border: none;\n",
              "      border-radius: 50%;\n",
              "      cursor: pointer;\n",
              "      display: none;\n",
              "      fill: #1967D2;\n",
              "      height: 32px;\n",
              "      padding: 0 0 0 0;\n",
              "      width: 32px;\n",
              "    }\n",
              "\n",
              "    .colab-df-convert:hover {\n",
              "      background-color: #E2EBFA;\n",
              "      box-shadow: 0px 1px 2px rgba(60, 64, 67, 0.3), 0px 1px 3px 1px rgba(60, 64, 67, 0.15);\n",
              "      fill: #174EA6;\n",
              "    }\n",
              "\n",
              "    [theme=dark] .colab-df-convert {\n",
              "      background-color: #3B4455;\n",
              "      fill: #D2E3FC;\n",
              "    }\n",
              "\n",
              "    [theme=dark] .colab-df-convert:hover {\n",
              "      background-color: #434B5C;\n",
              "      box-shadow: 0px 1px 3px 1px rgba(0, 0, 0, 0.15);\n",
              "      filter: drop-shadow(0px 1px 2px rgba(0, 0, 0, 0.3));\n",
              "      fill: #FFFFFF;\n",
              "    }\n",
              "  </style>\n",
              "\n",
              "      <script>\n",
              "        const buttonEl =\n",
              "          document.querySelector('#df-5b0e5433-ac52-4978-ae77-facda78f4df6 button.colab-df-convert');\n",
              "        buttonEl.style.display =\n",
              "          google.colab.kernel.accessAllowed ? 'block' : 'none';\n",
              "\n",
              "        async function convertToInteractive(key) {\n",
              "          const element = document.querySelector('#df-5b0e5433-ac52-4978-ae77-facda78f4df6');\n",
              "          const dataTable =\n",
              "            await google.colab.kernel.invokeFunction('convertToInteractive',\n",
              "                                                     [key], {});\n",
              "          if (!dataTable) return;\n",
              "\n",
              "          const docLinkHtml = 'Like what you see? Visit the ' +\n",
              "            '<a target=\"_blank\" href=https://colab.research.google.com/notebooks/data_table.ipynb>data table notebook</a>'\n",
              "            + ' to learn more about interactive tables.';\n",
              "          element.innerHTML = '';\n",
              "          dataTable['output_type'] = 'display_data';\n",
              "          await google.colab.output.renderOutput(dataTable, element);\n",
              "          const docLink = document.createElement('div');\n",
              "          docLink.innerHTML = docLinkHtml;\n",
              "          element.appendChild(docLink);\n",
              "        }\n",
              "      </script>\n",
              "    </div>\n",
              "  </div>\n",
              "  "
            ]
          },
          "metadata": {},
          "execution_count": 16
        }
      ],
      "source": [
        "kmeans0 = KMeans(n_clusters=3, max_iter=600, algorithm='lloyd', n_init='auto')\n",
        "kmeans0.fit(weather_scaled0)\n",
        "energy0['weather_cluster'] = kmeans0.labels_\n",
        "energy0.head()"
      ]
    },
    {
      "cell_type": "code",
      "execution_count": 17,
      "metadata": {
        "id": "cJhPm3lqCdZp"
      },
      "outputs": [],
      "source": [
        "# Model"
      ]
    },
    {
      "cell_type": "code",
      "execution_count": 18,
      "metadata": {
        "id": "plvyXucoCdZp"
      },
      "outputs": [],
      "source": [
        "import numpy as np\n",
        "\n",
        "np.random.seed(11)\n",
        "dataframe = energy0.loc[:,'avg_energy']\n",
        "dataset = dataframe.values\n",
        "dataset = dataset.astype('float32')"
      ]
    },
    {
      "cell_type": "code",
      "execution_count": 19,
      "metadata": {
        "id": "8MrW1U30CdZp"
      },
      "outputs": [],
      "source": [
        "def series_to_supervised(data, n_in=1, n_out=1, dropnan=True):\n",
        "    n_vars = 1\n",
        "    df = pd.DataFrame(data)\n",
        "    cols, names = list(), list()\n",
        "    # input sequence (t-n, ... t-1)\n",
        "    for i in range(n_in, 0, -1):\n",
        "        cols.append(df.shift(i))\n",
        "        names += [('var%d(t-%d)' % (j+1, i)) for j in range(n_vars)]\n",
        "    # forecast sequence (t, t+1, ... t+n)\n",
        "    for i in range(0, n_out):\n",
        "        cols.append(df.shift(-i))\n",
        "        if i == 0:\n",
        "            names += [('var%d(t)' % (j+1)) for j in range(n_vars)]\n",
        "        else:\n",
        "            names += [('var%d(t+%d)' % (j+1, i)) for j in range(n_vars)]\n",
        "    agg = pd.concat(cols, axis=1)\n",
        "    agg.columns = names\n",
        "    if dropnan:\n",
        "        agg.dropna(inplace=True)\n",
        "    return agg"
      ]
    },
    {
      "cell_type": "code",
      "execution_count": 20,
      "metadata": {
        "id": "OLAypdF8CdZp",
        "outputId": "45c41e31-d447-48ae-d5ab-c3aaedb2e6e1",
        "colab": {
          "base_uri": "https://localhost:8080/",
          "height": 206
        }
      },
      "outputs": [
        {
          "output_type": "execute_result",
          "data": {
            "text/plain": [
              "    var1(t-7)  var1(t-6)  var1(t-5)  var1(t-4)  var1(t-3)  var1(t-2)  \\\n",
              "7   21.702000  29.722000  30.070999  33.383999  34.203999  40.709999   \n",
              "8   29.722000  30.070999  33.383999  34.203999  40.709999  35.231998   \n",
              "9   30.070999  33.383999  34.203999  40.709999  35.231998  26.559000   \n",
              "10  33.383999  34.203999  40.709999  35.231998  26.559000  27.070000   \n",
              "11  34.203999  40.709999  35.231998  26.559000  27.070000  23.627333   \n",
              "\n",
              "    var1(t-1)    var1(t)  \n",
              "7   35.231998  26.559000  \n",
              "8   26.559000  27.070000  \n",
              "9   27.070000  23.627333  \n",
              "10  23.627333  26.904400  \n",
              "11  26.904400  36.511799  "
            ],
            "text/html": [
              "\n",
              "  <div id=\"df-695fdaff-cf35-4f08-9003-4b4df83a0c7a\">\n",
              "    <div class=\"colab-df-container\">\n",
              "      <div>\n",
              "<style scoped>\n",
              "    .dataframe tbody tr th:only-of-type {\n",
              "        vertical-align: middle;\n",
              "    }\n",
              "\n",
              "    .dataframe tbody tr th {\n",
              "        vertical-align: top;\n",
              "    }\n",
              "\n",
              "    .dataframe thead th {\n",
              "        text-align: right;\n",
              "    }\n",
              "</style>\n",
              "<table border=\"1\" class=\"dataframe\">\n",
              "  <thead>\n",
              "    <tr style=\"text-align: right;\">\n",
              "      <th></th>\n",
              "      <th>var1(t-7)</th>\n",
              "      <th>var1(t-6)</th>\n",
              "      <th>var1(t-5)</th>\n",
              "      <th>var1(t-4)</th>\n",
              "      <th>var1(t-3)</th>\n",
              "      <th>var1(t-2)</th>\n",
              "      <th>var1(t-1)</th>\n",
              "      <th>var1(t)</th>\n",
              "    </tr>\n",
              "  </thead>\n",
              "  <tbody>\n",
              "    <tr>\n",
              "      <th>7</th>\n",
              "      <td>21.702000</td>\n",
              "      <td>29.722000</td>\n",
              "      <td>30.070999</td>\n",
              "      <td>33.383999</td>\n",
              "      <td>34.203999</td>\n",
              "      <td>40.709999</td>\n",
              "      <td>35.231998</td>\n",
              "      <td>26.559000</td>\n",
              "    </tr>\n",
              "    <tr>\n",
              "      <th>8</th>\n",
              "      <td>29.722000</td>\n",
              "      <td>30.070999</td>\n",
              "      <td>33.383999</td>\n",
              "      <td>34.203999</td>\n",
              "      <td>40.709999</td>\n",
              "      <td>35.231998</td>\n",
              "      <td>26.559000</td>\n",
              "      <td>27.070000</td>\n",
              "    </tr>\n",
              "    <tr>\n",
              "      <th>9</th>\n",
              "      <td>30.070999</td>\n",
              "      <td>33.383999</td>\n",
              "      <td>34.203999</td>\n",
              "      <td>40.709999</td>\n",
              "      <td>35.231998</td>\n",
              "      <td>26.559000</td>\n",
              "      <td>27.070000</td>\n",
              "      <td>23.627333</td>\n",
              "    </tr>\n",
              "    <tr>\n",
              "      <th>10</th>\n",
              "      <td>33.383999</td>\n",
              "      <td>34.203999</td>\n",
              "      <td>40.709999</td>\n",
              "      <td>35.231998</td>\n",
              "      <td>26.559000</td>\n",
              "      <td>27.070000</td>\n",
              "      <td>23.627333</td>\n",
              "      <td>26.904400</td>\n",
              "    </tr>\n",
              "    <tr>\n",
              "      <th>11</th>\n",
              "      <td>34.203999</td>\n",
              "      <td>40.709999</td>\n",
              "      <td>35.231998</td>\n",
              "      <td>26.559000</td>\n",
              "      <td>27.070000</td>\n",
              "      <td>23.627333</td>\n",
              "      <td>26.904400</td>\n",
              "      <td>36.511799</td>\n",
              "    </tr>\n",
              "  </tbody>\n",
              "</table>\n",
              "</div>\n",
              "      <button class=\"colab-df-convert\" onclick=\"convertToInteractive('df-695fdaff-cf35-4f08-9003-4b4df83a0c7a')\"\n",
              "              title=\"Convert this dataframe to an interactive table.\"\n",
              "              style=\"display:none;\">\n",
              "        \n",
              "  <svg xmlns=\"http://www.w3.org/2000/svg\" height=\"24px\"viewBox=\"0 0 24 24\"\n",
              "       width=\"24px\">\n",
              "    <path d=\"M0 0h24v24H0V0z\" fill=\"none\"/>\n",
              "    <path d=\"M18.56 5.44l.94 2.06.94-2.06 2.06-.94-2.06-.94-.94-2.06-.94 2.06-2.06.94zm-11 1L8.5 8.5l.94-2.06 2.06-.94-2.06-.94L8.5 2.5l-.94 2.06-2.06.94zm10 10l.94 2.06.94-2.06 2.06-.94-2.06-.94-.94-2.06-.94 2.06-2.06.94z\"/><path d=\"M17.41 7.96l-1.37-1.37c-.4-.4-.92-.59-1.43-.59-.52 0-1.04.2-1.43.59L10.3 9.45l-7.72 7.72c-.78.78-.78 2.05 0 2.83L4 21.41c.39.39.9.59 1.41.59.51 0 1.02-.2 1.41-.59l7.78-7.78 2.81-2.81c.8-.78.8-2.07 0-2.86zM5.41 20L4 18.59l7.72-7.72 1.47 1.35L5.41 20z\"/>\n",
              "  </svg>\n",
              "      </button>\n",
              "      \n",
              "  <style>\n",
              "    .colab-df-container {\n",
              "      display:flex;\n",
              "      flex-wrap:wrap;\n",
              "      gap: 12px;\n",
              "    }\n",
              "\n",
              "    .colab-df-convert {\n",
              "      background-color: #E8F0FE;\n",
              "      border: none;\n",
              "      border-radius: 50%;\n",
              "      cursor: pointer;\n",
              "      display: none;\n",
              "      fill: #1967D2;\n",
              "      height: 32px;\n",
              "      padding: 0 0 0 0;\n",
              "      width: 32px;\n",
              "    }\n",
              "\n",
              "    .colab-df-convert:hover {\n",
              "      background-color: #E2EBFA;\n",
              "      box-shadow: 0px 1px 2px rgba(60, 64, 67, 0.3), 0px 1px 3px 1px rgba(60, 64, 67, 0.15);\n",
              "      fill: #174EA6;\n",
              "    }\n",
              "\n",
              "    [theme=dark] .colab-df-convert {\n",
              "      background-color: #3B4455;\n",
              "      fill: #D2E3FC;\n",
              "    }\n",
              "\n",
              "    [theme=dark] .colab-df-convert:hover {\n",
              "      background-color: #434B5C;\n",
              "      box-shadow: 0px 1px 3px 1px rgba(0, 0, 0, 0.15);\n",
              "      filter: drop-shadow(0px 1px 2px rgba(0, 0, 0, 0.3));\n",
              "      fill: #FFFFFF;\n",
              "    }\n",
              "  </style>\n",
              "\n",
              "      <script>\n",
              "        const buttonEl =\n",
              "          document.querySelector('#df-695fdaff-cf35-4f08-9003-4b4df83a0c7a button.colab-df-convert');\n",
              "        buttonEl.style.display =\n",
              "          google.colab.kernel.accessAllowed ? 'block' : 'none';\n",
              "\n",
              "        async function convertToInteractive(key) {\n",
              "          const element = document.querySelector('#df-695fdaff-cf35-4f08-9003-4b4df83a0c7a');\n",
              "          const dataTable =\n",
              "            await google.colab.kernel.invokeFunction('convertToInteractive',\n",
              "                                                     [key], {});\n",
              "          if (!dataTable) return;\n",
              "\n",
              "          const docLinkHtml = 'Like what you see? Visit the ' +\n",
              "            '<a target=\"_blank\" href=https://colab.research.google.com/notebooks/data_table.ipynb>data table notebook</a>'\n",
              "            + ' to learn more about interactive tables.';\n",
              "          element.innerHTML = '';\n",
              "          dataTable['output_type'] = 'display_data';\n",
              "          await google.colab.output.renderOutput(dataTable, element);\n",
              "          const docLink = document.createElement('div');\n",
              "          docLink.innerHTML = docLinkHtml;\n",
              "          element.appendChild(docLink);\n",
              "        }\n",
              "      </script>\n",
              "    </div>\n",
              "  </div>\n",
              "  "
            ]
          },
          "metadata": {},
          "execution_count": 20
        }
      ],
      "source": [
        "reframed0 = series_to_supervised(dataset, 7,1)\n",
        "reframed0.head()"
      ]
    },
    {
      "cell_type": "code",
      "execution_count": 21,
      "metadata": {
        "id": "Dg7DACjXCdZq"
      },
      "outputs": [],
      "source": [
        "reframed0['weather_cluster'] = energy0['weather_cluster'].values[7:]\n",
        "reframed0['holiday_ind']= energy0['holiday_ind'].values[7:]"
      ]
    },
    {
      "cell_type": "code",
      "execution_count": 22,
      "metadata": {
        "id": "P65RHLvmCdZq"
      },
      "outputs": [],
      "source": [
        "reframed0 = reframed0.reindex(['weather_cluster', 'holiday_ind','var1(t-7)', 'var1(t-6)', 'var1(t-5)', 'var1(t-4)', 'var1(t-3)','var1(t-2)', 'var1(t-1)', 'var1(t)'], axis=1)\n",
        "reframed0 = reframed0.values"
      ]
    },
    {
      "cell_type": "code",
      "execution_count": 23,
      "metadata": {
        "id": "OqUDKPUUCdZq",
        "outputId": "6798a7c4-5134-4165-c149-b96b6266ee1d",
        "colab": {
          "base_uri": "https://localhost:8080/"
        }
      },
      "outputs": [
        {
          "output_type": "execute_result",
          "data": {
            "text/plain": [
              "165"
            ]
          },
          "metadata": {},
          "execution_count": 23
        }
      ],
      "source": [
        "n = int(0.2*(len(energy0)))\n",
        "n"
      ]
    },
    {
      "cell_type": "code",
      "execution_count": 24,
      "metadata": {
        "id": "1ScQM4wPCdZq"
      },
      "outputs": [],
      "source": [
        "# Normalisation\n",
        "scaler0 = MinMaxScaler(feature_range=(0, 1))\n",
        "reframed0 = scaler0.fit_transform(reframed0)"
      ]
    },
    {
      "cell_type": "code",
      "execution_count": 25,
      "metadata": {
        "id": "ZfCwjdU8CdZq"
      },
      "outputs": [],
      "source": [
        "train0 = reframed0[:(len(reframed0)-n), :]\n",
        "test0 = reframed0[(len(reframed0)-n):len(reframed0), :]"
      ]
    },
    {
      "cell_type": "code",
      "execution_count": 26,
      "metadata": {
        "id": "WkqqBgOTCdZq"
      },
      "outputs": [],
      "source": [
        "train_X0, train_y0 = train0[:, :-1], train0[:, -1]\n",
        "test_X0, test_y0 = test0[:, :-1], test0[:, -1]"
      ]
    },
    {
      "cell_type": "code",
      "execution_count": 27,
      "metadata": {
        "id": "mhh_d0Y1CdZr",
        "outputId": "379ca7eb-9f9e-4b76-b357-7568c4c21c7b",
        "colab": {
          "base_uri": "https://localhost:8080/"
        }
      },
      "outputs": [
        {
          "output_type": "stream",
          "name": "stdout",
          "text": [
            "(655, 1, 9) (655,) (165, 1, 9) (165,)\n"
          ]
        }
      ],
      "source": [
        "train_X0 = train_X0.reshape((train_X0.shape[0], 1, train_X0.shape[1]))\n",
        "test_X0 = test_X0.reshape((test_X0.shape[0], 1, test_X0.shape[1]))\n",
        "print(train_X0.shape, train_y0.shape, test_X0.shape, test_y0.shape)"
      ]
    },
    {
      "cell_type": "code",
      "execution_count": 28,
      "metadata": {
        "id": "IikZXKZcCdZr"
      },
      "outputs": [],
      "source": [
        "from keras.models import Sequential\n",
        "from keras.layers import Dense, LSTM, Dropout\n",
        "from keras.regularizers import L2"
      ]
    },
    {
      "cell_type": "code",
      "execution_count": 29,
      "metadata": {
        "id": "Y-zLf4xvCdZr"
      },
      "outputs": [],
      "source": [
        "# # design network\n",
        "# model = Sequential()\n",
        "# model.add(LSTM(50, input_shape=(train_X0.shape[1], train_X0.shape[2]), return_sequences=True))\n",
        "# model.add(LSTM(50, return_sequences=True))\n",
        "# model.add(Dense(32, activation='relu'))\n",
        "# model.add(Dense(1))\n",
        "# model.compile(loss='mae', optimizer='rmsprop')\n",
        "\n",
        "# # fit network\n",
        "# history = model.fit(train_X0, train_y0, epochs=50, batch_size=72, verbose=2, shuffle=False, validation_data=(test_X0, test_y0))\n",
        "\n",
        "# # plot history\n",
        "# plt.plot(history.history['loss'], label='train')\n",
        "# plt.plot(history.history['val_loss'], label='test')\n",
        "# plt.legend()\n",
        "# plt.show()\n"
      ]
    },
    {
      "cell_type": "code",
      "execution_count": 30,
      "metadata": {
        "id": "d16KxSA_CdZr"
      },
      "outputs": [],
      "source": [
        "# # design network\n",
        "# model = Sequential()\n",
        "# model.add(LSTM(50, input_shape=(train_X0.shape[1], train_X0.shape[2]), return_sequences=True))\n",
        "# model.add(Dropout(0.2))\n",
        "# model.add(LSTM(50, return_sequences=True))\n",
        "# model.add(Dropout(0.2))\n",
        "# model.add(Dense(32, activation='relu', kernel_regularizer=L2(0.01)))\n",
        "# model.add(Dense(1))\n",
        "# model.compile(loss='mse', optimizer='adam')\n",
        "\n",
        "# # fit network\n",
        "# history = model.fit(train_X0, train_y0, epochs=100, batch_size=32, verbose=2, shuffle=False, validation_data=(test_X0, test_y0))\n",
        "\n",
        "# # plot history\n",
        "# plt.plot(history.history['loss'], label='train')\n",
        "# plt.plot(history.history['val_loss'], label='test')\n",
        "# plt.legend()\n",
        "# plt.show()"
      ]
    },
    {
      "cell_type": "code",
      "execution_count": 31,
      "metadata": {
        "id": "XkS9g49DCdZr",
        "outputId": "b9087c1e-883f-4cb0-e2e0-b79c0e338b26",
        "colab": {
          "base_uri": "https://localhost:8080/",
          "height": 1000
        }
      },
      "outputs": [
        {
          "output_type": "stream",
          "name": "stdout",
          "text": [
            "Epoch 1/100\n",
            "21/21 - 4s - loss: 0.1144 - val_loss: 0.0882 - 4s/epoch - 194ms/step\n",
            "Epoch 2/100\n",
            "21/21 - 0s - loss: 0.0322 - val_loss: 0.0078 - 73ms/epoch - 3ms/step\n",
            "Epoch 3/100\n",
            "21/21 - 0s - loss: 0.0053 - val_loss: 0.0032 - 72ms/epoch - 3ms/step\n",
            "Epoch 4/100\n",
            "21/21 - 0s - loss: 0.0032 - val_loss: 0.0028 - 84ms/epoch - 4ms/step\n",
            "Epoch 5/100\n",
            "21/21 - 0s - loss: 0.0023 - val_loss: 0.0022 - 83ms/epoch - 4ms/step\n",
            "Epoch 6/100\n",
            "21/21 - 0s - loss: 0.0022 - val_loss: 0.0021 - 76ms/epoch - 4ms/step\n",
            "Epoch 7/100\n",
            "21/21 - 0s - loss: 0.0023 - val_loss: 0.0020 - 93ms/epoch - 4ms/step\n",
            "Epoch 8/100\n",
            "21/21 - 0s - loss: 0.0022 - val_loss: 0.0021 - 98ms/epoch - 5ms/step\n",
            "Epoch 9/100\n",
            "21/21 - 0s - loss: 0.0021 - val_loss: 0.0019 - 80ms/epoch - 4ms/step\n",
            "Epoch 10/100\n",
            "21/21 - 0s - loss: 0.0020 - val_loss: 0.0020 - 73ms/epoch - 3ms/step\n",
            "Epoch 11/100\n",
            "21/21 - 0s - loss: 0.0021 - val_loss: 0.0019 - 93ms/epoch - 4ms/step\n",
            "Epoch 12/100\n",
            "21/21 - 0s - loss: 0.0020 - val_loss: 0.0019 - 96ms/epoch - 5ms/step\n",
            "Epoch 13/100\n",
            "21/21 - 0s - loss: 0.0021 - val_loss: 0.0019 - 78ms/epoch - 4ms/step\n",
            "Epoch 14/100\n",
            "21/21 - 0s - loss: 0.0019 - val_loss: 0.0018 - 88ms/epoch - 4ms/step\n",
            "Epoch 15/100\n",
            "21/21 - 0s - loss: 0.0019 - val_loss: 0.0018 - 83ms/epoch - 4ms/step\n",
            "Epoch 16/100\n",
            "21/21 - 0s - loss: 0.0019 - val_loss: 0.0018 - 89ms/epoch - 4ms/step\n",
            "Epoch 17/100\n",
            "21/21 - 0s - loss: 0.0020 - val_loss: 0.0018 - 86ms/epoch - 4ms/step\n",
            "Epoch 18/100\n",
            "21/21 - 0s - loss: 0.0018 - val_loss: 0.0018 - 100ms/epoch - 5ms/step\n",
            "Epoch 19/100\n",
            "21/21 - 0s - loss: 0.0019 - val_loss: 0.0018 - 80ms/epoch - 4ms/step\n",
            "Epoch 20/100\n",
            "21/21 - 0s - loss: 0.0018 - val_loss: 0.0018 - 89ms/epoch - 4ms/step\n",
            "Epoch 21/100\n",
            "21/21 - 0s - loss: 0.0018 - val_loss: 0.0017 - 89ms/epoch - 4ms/step\n",
            "Epoch 22/100\n",
            "21/21 - 0s - loss: 0.0017 - val_loss: 0.0017 - 81ms/epoch - 4ms/step\n",
            "Epoch 23/100\n",
            "21/21 - 0s - loss: 0.0017 - val_loss: 0.0017 - 90ms/epoch - 4ms/step\n",
            "Epoch 24/100\n",
            "21/21 - 0s - loss: 0.0018 - val_loss: 0.0017 - 92ms/epoch - 4ms/step\n",
            "Epoch 25/100\n",
            "21/21 - 0s - loss: 0.0018 - val_loss: 0.0017 - 94ms/epoch - 4ms/step\n",
            "Epoch 26/100\n",
            "21/21 - 0s - loss: 0.0017 - val_loss: 0.0017 - 81ms/epoch - 4ms/step\n",
            "Epoch 27/100\n",
            "21/21 - 0s - loss: 0.0018 - val_loss: 0.0018 - 92ms/epoch - 4ms/step\n",
            "Epoch 28/100\n",
            "21/21 - 0s - loss: 0.0017 - val_loss: 0.0017 - 86ms/epoch - 4ms/step\n",
            "Epoch 29/100\n",
            "21/21 - 0s - loss: 0.0017 - val_loss: 0.0017 - 74ms/epoch - 4ms/step\n",
            "Epoch 30/100\n",
            "21/21 - 0s - loss: 0.0017 - val_loss: 0.0017 - 94ms/epoch - 4ms/step\n",
            "Epoch 31/100\n",
            "21/21 - 0s - loss: 0.0017 - val_loss: 0.0017 - 96ms/epoch - 5ms/step\n",
            "Epoch 32/100\n",
            "21/21 - 0s - loss: 0.0016 - val_loss: 0.0017 - 86ms/epoch - 4ms/step\n",
            "Epoch 33/100\n",
            "21/21 - 0s - loss: 0.0017 - val_loss: 0.0017 - 90ms/epoch - 4ms/step\n",
            "Epoch 34/100\n",
            "21/21 - 0s - loss: 0.0017 - val_loss: 0.0017 - 88ms/epoch - 4ms/step\n",
            "Epoch 35/100\n",
            "21/21 - 0s - loss: 0.0016 - val_loss: 0.0018 - 83ms/epoch - 4ms/step\n",
            "Epoch 36/100\n",
            "21/21 - 0s - loss: 0.0016 - val_loss: 0.0018 - 72ms/epoch - 3ms/step\n",
            "Epoch 37/100\n",
            "21/21 - 0s - loss: 0.0017 - val_loss: 0.0017 - 74ms/epoch - 4ms/step\n",
            "Epoch 38/100\n",
            "21/21 - 0s - loss: 0.0017 - val_loss: 0.0017 - 76ms/epoch - 4ms/step\n",
            "Epoch 39/100\n",
            "21/21 - 0s - loss: 0.0017 - val_loss: 0.0017 - 89ms/epoch - 4ms/step\n",
            "Epoch 40/100\n",
            "21/21 - 0s - loss: 0.0016 - val_loss: 0.0017 - 89ms/epoch - 4ms/step\n",
            "Epoch 41/100\n",
            "21/21 - 0s - loss: 0.0017 - val_loss: 0.0017 - 93ms/epoch - 4ms/step\n",
            "Epoch 42/100\n",
            "21/21 - 0s - loss: 0.0015 - val_loss: 0.0017 - 72ms/epoch - 3ms/step\n",
            "Epoch 43/100\n",
            "21/21 - 0s - loss: 0.0016 - val_loss: 0.0017 - 84ms/epoch - 4ms/step\n",
            "Epoch 44/100\n",
            "21/21 - 0s - loss: 0.0016 - val_loss: 0.0017 - 84ms/epoch - 4ms/step\n",
            "Epoch 45/100\n",
            "21/21 - 0s - loss: 0.0016 - val_loss: 0.0017 - 84ms/epoch - 4ms/step\n",
            "Epoch 46/100\n",
            "21/21 - 0s - loss: 0.0017 - val_loss: 0.0017 - 82ms/epoch - 4ms/step\n",
            "Epoch 47/100\n",
            "21/21 - 0s - loss: 0.0017 - val_loss: 0.0016 - 70ms/epoch - 3ms/step\n",
            "Epoch 48/100\n",
            "21/21 - 0s - loss: 0.0016 - val_loss: 0.0017 - 85ms/epoch - 4ms/step\n",
            "Epoch 49/100\n",
            "21/21 - 0s - loss: 0.0016 - val_loss: 0.0017 - 92ms/epoch - 4ms/step\n",
            "Epoch 50/100\n",
            "21/21 - 0s - loss: 0.0017 - val_loss: 0.0017 - 103ms/epoch - 5ms/step\n",
            "Epoch 51/100\n",
            "21/21 - 0s - loss: 0.0016 - val_loss: 0.0016 - 94ms/epoch - 4ms/step\n",
            "Epoch 52/100\n",
            "21/21 - 0s - loss: 0.0016 - val_loss: 0.0017 - 113ms/epoch - 5ms/step\n",
            "Epoch 53/100\n",
            "21/21 - 0s - loss: 0.0015 - val_loss: 0.0017 - 79ms/epoch - 4ms/step\n",
            "Epoch 54/100\n",
            "21/21 - 0s - loss: 0.0016 - val_loss: 0.0016 - 91ms/epoch - 4ms/step\n",
            "Epoch 55/100\n",
            "21/21 - 0s - loss: 0.0015 - val_loss: 0.0016 - 95ms/epoch - 5ms/step\n",
            "Epoch 56/100\n",
            "21/21 - 0s - loss: 0.0016 - val_loss: 0.0016 - 97ms/epoch - 5ms/step\n",
            "Epoch 57/100\n",
            "21/21 - 0s - loss: 0.0016 - val_loss: 0.0016 - 81ms/epoch - 4ms/step\n",
            "Epoch 58/100\n",
            "21/21 - 0s - loss: 0.0016 - val_loss: 0.0016 - 78ms/epoch - 4ms/step\n",
            "Epoch 59/100\n",
            "21/21 - 0s - loss: 0.0016 - val_loss: 0.0016 - 76ms/epoch - 4ms/step\n",
            "Epoch 60/100\n",
            "21/21 - 0s - loss: 0.0015 - val_loss: 0.0017 - 92ms/epoch - 4ms/step\n",
            "Epoch 61/100\n",
            "21/21 - 0s - loss: 0.0015 - val_loss: 0.0017 - 105ms/epoch - 5ms/step\n",
            "Epoch 62/100\n",
            "21/21 - 0s - loss: 0.0014 - val_loss: 0.0017 - 82ms/epoch - 4ms/step\n",
            "Epoch 63/100\n",
            "21/21 - 0s - loss: 0.0016 - val_loss: 0.0016 - 85ms/epoch - 4ms/step\n",
            "Epoch 64/100\n",
            "21/21 - 0s - loss: 0.0015 - val_loss: 0.0016 - 78ms/epoch - 4ms/step\n",
            "Epoch 65/100\n",
            "21/21 - 0s - loss: 0.0016 - val_loss: 0.0016 - 75ms/epoch - 4ms/step\n",
            "Epoch 66/100\n",
            "21/21 - 0s - loss: 0.0015 - val_loss: 0.0016 - 87ms/epoch - 4ms/step\n",
            "Epoch 67/100\n",
            "21/21 - 0s - loss: 0.0015 - val_loss: 0.0016 - 84ms/epoch - 4ms/step\n",
            "Epoch 68/100\n",
            "21/21 - 0s - loss: 0.0014 - val_loss: 0.0017 - 100ms/epoch - 5ms/step\n",
            "Epoch 69/100\n",
            "21/21 - 0s - loss: 0.0014 - val_loss: 0.0016 - 78ms/epoch - 4ms/step\n",
            "Epoch 70/100\n",
            "21/21 - 0s - loss: 0.0015 - val_loss: 0.0016 - 90ms/epoch - 4ms/step\n",
            "Epoch 71/100\n",
            "21/21 - 0s - loss: 0.0015 - val_loss: 0.0016 - 96ms/epoch - 5ms/step\n",
            "Epoch 72/100\n",
            "21/21 - 0s - loss: 0.0014 - val_loss: 0.0016 - 83ms/epoch - 4ms/step\n",
            "Epoch 73/100\n",
            "21/21 - 0s - loss: 0.0015 - val_loss: 0.0016 - 78ms/epoch - 4ms/step\n",
            "Epoch 74/100\n",
            "21/21 - 0s - loss: 0.0014 - val_loss: 0.0018 - 74ms/epoch - 4ms/step\n",
            "Epoch 75/100\n",
            "21/21 - 0s - loss: 0.0015 - val_loss: 0.0016 - 93ms/epoch - 4ms/step\n",
            "Epoch 76/100\n",
            "21/21 - 0s - loss: 0.0015 - val_loss: 0.0016 - 117ms/epoch - 6ms/step\n",
            "Epoch 77/100\n",
            "21/21 - 0s - loss: 0.0015 - val_loss: 0.0016 - 112ms/epoch - 5ms/step\n",
            "Epoch 78/100\n",
            "21/21 - 0s - loss: 0.0014 - val_loss: 0.0016 - 117ms/epoch - 6ms/step\n",
            "Epoch 79/100\n",
            "21/21 - 0s - loss: 0.0014 - val_loss: 0.0016 - 101ms/epoch - 5ms/step\n",
            "Epoch 80/100\n",
            "21/21 - 0s - loss: 0.0015 - val_loss: 0.0016 - 105ms/epoch - 5ms/step\n",
            "Epoch 81/100\n",
            "21/21 - 0s - loss: 0.0014 - val_loss: 0.0016 - 118ms/epoch - 6ms/step\n",
            "Epoch 82/100\n",
            "21/21 - 0s - loss: 0.0014 - val_loss: 0.0016 - 109ms/epoch - 5ms/step\n",
            "Epoch 83/100\n",
            "21/21 - 0s - loss: 0.0015 - val_loss: 0.0016 - 92ms/epoch - 4ms/step\n",
            "Epoch 84/100\n",
            "21/21 - 0s - loss: 0.0015 - val_loss: 0.0016 - 94ms/epoch - 4ms/step\n",
            "Epoch 85/100\n",
            "21/21 - 0s - loss: 0.0015 - val_loss: 0.0016 - 105ms/epoch - 5ms/step\n",
            "Epoch 86/100\n",
            "21/21 - 0s - loss: 0.0013 - val_loss: 0.0017 - 98ms/epoch - 5ms/step\n",
            "Epoch 87/100\n",
            "21/21 - 0s - loss: 0.0014 - val_loss: 0.0016 - 114ms/epoch - 5ms/step\n",
            "Epoch 88/100\n",
            "21/21 - 0s - loss: 0.0013 - val_loss: 0.0016 - 105ms/epoch - 5ms/step\n",
            "Epoch 89/100\n",
            "21/21 - 0s - loss: 0.0016 - val_loss: 0.0016 - 102ms/epoch - 5ms/step\n",
            "Epoch 90/100\n",
            "21/21 - 0s - loss: 0.0015 - val_loss: 0.0016 - 107ms/epoch - 5ms/step\n",
            "Epoch 91/100\n",
            "21/21 - 0s - loss: 0.0015 - val_loss: 0.0016 - 94ms/epoch - 4ms/step\n",
            "Epoch 92/100\n",
            "21/21 - 0s - loss: 0.0014 - val_loss: 0.0017 - 93ms/epoch - 4ms/step\n",
            "Epoch 93/100\n",
            "21/21 - 0s - loss: 0.0013 - val_loss: 0.0017 - 115ms/epoch - 5ms/step\n",
            "Epoch 94/100\n",
            "21/21 - 0s - loss: 0.0015 - val_loss: 0.0016 - 104ms/epoch - 5ms/step\n",
            "Epoch 95/100\n",
            "21/21 - 0s - loss: 0.0014 - val_loss: 0.0016 - 102ms/epoch - 5ms/step\n",
            "Epoch 96/100\n",
            "21/21 - 0s - loss: 0.0015 - val_loss: 0.0018 - 109ms/epoch - 5ms/step\n",
            "Epoch 97/100\n",
            "21/21 - 0s - loss: 0.0013 - val_loss: 0.0016 - 93ms/epoch - 4ms/step\n",
            "Epoch 98/100\n",
            "21/21 - 0s - loss: 0.0014 - val_loss: 0.0018 - 110ms/epoch - 5ms/step\n",
            "Epoch 99/100\n",
            "21/21 - 0s - loss: 0.0015 - val_loss: 0.0017 - 100ms/epoch - 5ms/step\n",
            "Epoch 100/100\n",
            "21/21 - 0s - loss: 0.0014 - val_loss: 0.0016 - 94ms/epoch - 4ms/step\n"
          ]
        },
        {
          "output_type": "display_data",
          "data": {
            "text/plain": [
              "<Figure size 640x480 with 1 Axes>"
            ],
            "image/png": "[encoded data removed]"
          },
          "metadata": {}
        }
      ],
      "source": [
        "# design network\n",
        "model = Sequential()\n",
        "model.add(LSTM(50, input_shape=(train_X0.shape[1], train_X0.shape[2]), return_sequences=True))\n",
        "model.add(Dropout(0.2))\n",
        "model.add(LSTM(50))\n",
        "model.add(Dense(1))\n",
        "model.compile(loss='mse', optimizer='adam')\n",
        "\n",
        "# fit network\n",
        "history = model.fit(train_X0, train_y0, epochs=100, batch_size=32, verbose=2, shuffle=False, validation_data=(test_X0, test_y0))\n",
        "\n",
        "# plot history\n",
        "plt.plot(history.history['loss'], label='train')\n",
        "plt.plot(history.history['val_loss'], label='test')\n",
        "plt.legend()\n",
        "plt.show()"
      ]
    },
    {
      "cell_type": "code",
      "execution_count": 32,
      "metadata": {
        "id": "nzbS6AHRCdZs",
        "outputId": "e67c8be8-b9ba-4fda-b9eb-572c468b1b61",
        "colab": {
          "base_uri": "https://localhost:8080/",
          "height": 503
        }
      },
      "outputs": [
        {
          "output_type": "stream",
          "name": "stdout",
          "text": [
            "6/6 [==============================] - 1s 2ms/step\n",
            "(165, 1) (165,)\n",
            "(165,) (165,)\n",
            "Test MAE: 0.020\n"
          ]
        },
        {
          "output_type": "display_data",
          "data": {
            "text/plain": [
              "<Figure size 640x480 with 1 Axes>"
            ],
            "image/png": "[encoded data removed]"
          },
          "metadata": {}
        }
      ],
      "source": [
        "# make predictions on test data\n",
        "from sklearn.metrics import mean_absolute_error\n",
        "\n",
        "\n",
        "y_pred = model.predict(test_X0)\n",
        "print(y_pred.shape, test_y0.shape)\n",
        "y_pred = y_pred.reshape(-1)\n",
        "test_y0 = test_y0.reshape(-1)\n",
        "print(y_pred.shape, test_y0.shape)\n",
        "# calculate MAE\n",
        "mae = mean_absolute_error(test_y0, y_pred)\n",
        "print('Test MAE: %.3f' % mae)\n",
        "\n",
        "# plot actual vs predicted values\n",
        "plt.plot(test_y0)\n",
        "plt.plot(y_pred)\n",
        "plt.legend(['Actual', 'Predicted'])\n",
        "plt.show()"
      ]
    },
    {
      "cell_type": "code",
      "execution_count": 33,
      "metadata": {
        "id": "ySTSIZQ8CdZs",
        "outputId": "94607f95-e5c5-408b-85e3-2790de38d4c4",
        "colab": {
          "base_uri": "https://localhost:8080/"
        }
      },
      "outputs": [
        {
          "output_type": "stream",
          "name": "stdout",
          "text": [
            "Test MSE: 0.002\n",
            "Test RMSE: 0.040\n"
          ]
        }
      ],
      "source": [
        "from sklearn.metrics import mean_squared_error\n",
        "\n",
        "# calculate MSE\n",
        "mse = mean_squared_error(test_y0, y_pred)\n",
        "print('Test MSE: %.3f' % mse)\n",
        "\n",
        "rmse = np.sqrt(mse)\n",
        "print('Test RMSE: %.3f' % rmse)"
      ]
    },
    {
      "cell_type": "code",
      "execution_count": 34,
      "metadata": {
        "id": "FWVU_U0uCdZs",
        "outputId": "7c7b7cd8-4bc6-426f-9449-c6db225b19cc",
        "colab": {
          "base_uri": "https://localhost:8080/"
        }
      },
      "outputs": [
        {
          "output_type": "stream",
          "name": "stdout",
          "text": [
            "0.7289410611102973\n"
          ]
        }
      ],
      "source": [
        "from sklearn.metrics import r2_score\n",
        "acc = r2_score(test_y0, y_pred)\n",
        "print(acc)"
      ]
    },
    {
      "cell_type": "markdown",
      "metadata": {
        "id": "kDKBQvzHCdZs"
      },
      "source": [
        "Cross Validation"
      ]
    },
    {
      "cell_type": "code",
      "execution_count": 35,
      "metadata": {
        "id": "BVeHU4JwCdZs",
        "outputId": "8bb840a9-8612-4392-aac3-0aa4e802b543",
        "colab": {
          "base_uri": "https://localhost:8080/",
          "height": 423
        }
      },
      "outputs": [
        {
          "output_type": "execute_result",
          "data": {
            "text/plain": [
              "           date  weather_cluster  holiday_ind  var1(t-7)  var1(t-6)  \\\n",
              "0    2011-11-23              0.5     0.000000   0.025961   0.148129   \n",
              "1    2011-11-24              0.5     0.000000   0.148129   0.153446   \n",
              "2    2011-11-25              0.5     0.000000   0.153446   0.203912   \n",
              "3    2011-11-26              0.5     0.011468   0.203912   0.216403   \n",
              "4    2011-11-27              0.5     0.011468   0.216403   0.315508   \n",
              "..          ...              ...          ...        ...        ...   \n",
              "815  2014-02-17              0.0     0.000000   0.294755   0.276625   \n",
              "816  2014-02-18              0.0     0.000000   0.276625   0.269747   \n",
              "817  2014-02-19              0.0     0.000000   0.269747   0.262269   \n",
              "818  2014-02-20              0.0     0.000000   0.262269   0.258745   \n",
              "819  2014-02-21              0.0     0.000000   0.258745   0.266187   \n",
              "\n",
              "     var1(t-5)  var1(t-4)  var1(t-3)  var1(t-2)  var1(t-1)   var1(t)  \n",
              "0     0.153446   0.203912   0.216403   0.315508   0.232062  0.303112  \n",
              "1     0.203912   0.216403   0.315508   0.232062   0.099948  0.309139  \n",
              "2     0.216403   0.315508   0.232062   0.099948   0.107732  0.268535  \n",
              "3     0.315508   0.232062   0.099948   0.107732   0.055290  0.307186  \n",
              "4     0.232062   0.099948   0.107732   0.055290   0.105209  0.420500  \n",
              "..         ...        ...        ...        ...        ...       ...  \n",
              "815   0.269747   0.262269   0.258745   0.266187   0.273507  0.420175  \n",
              "816   0.262269   0.258745   0.266187   0.273507   0.251138  0.425258  \n",
              "817   0.258745   0.266187   0.273507   0.251138   0.257702  0.426883  \n",
              "818   0.266187   0.273507   0.251138   0.257702   0.259801  0.428731  \n",
              "819   0.273507   0.251138   0.257702   0.259801   0.262188  0.000000  \n",
              "\n",
              "[820 rows x 11 columns]"
            ],
            "text/html": [
              "\n",
              "  <div id=\"df-2a592e27-f127-4557-be5e-41cf37d403a1\">\n",
              "    <div class=\"colab-df-container\">\n",
              "      <div>\n",
              "<style scoped>\n",
              "    .dataframe tbody tr th:only-of-type {\n",
              "        vertical-align: middle;\n",
              "    }\n",
              "\n",
              "    .dataframe tbody tr th {\n",
              "        vertical-align: top;\n",
              "    }\n",
              "\n",
              "    .dataframe thead th {\n",
              "        text-align: right;\n",
              "    }\n",
              "</style>\n",
              "<table border=\"1\" class=\"dataframe\">\n",
              "  <thead>\n",
              "    <tr style=\"text-align: right;\">\n",
              "      <th></th>\n",
              "      <th>date</th>\n",
              "      <th>weather_cluster</th>\n",
              "      <th>holiday_ind</th>\n",
              "      <th>var1(t-7)</th>\n",
              "      <th>var1(t-6)</th>\n",
              "      <th>var1(t-5)</th>\n",
              "      <th>var1(t-4)</th>\n",
              "      <th>var1(t-3)</th>\n",
              "      <th>var1(t-2)</th>\n",
              "      <th>var1(t-1)</th>\n",
              "      <th>var1(t)</th>\n",
              "    </tr>\n",
              "  </thead>\n",
              "  <tbody>\n",
              "    <tr>\n",
              "      <th>0</th>\n",
              "      <td>2011-11-23</td>\n",
              "      <td>0.5</td>\n",
              "      <td>0.000000</td>\n",
              "      <td>0.025961</td>\n",
              "      <td>0.148129</td>\n",
              "      <td>0.153446</td>\n",
              "      <td>0.203912</td>\n",
              "      <td>0.216403</td>\n",
              "      <td>0.315508</td>\n",
              "      <td>0.232062</td>\n",
              "      <td>0.303112</td>\n",
              "    </tr>\n",
              "    <tr>\n",
              "      <th>1</th>\n",
              "      <td>2011-11-24</td>\n",
              "      <td>0.5</td>\n",
              "      <td>0.000000</td>\n",
              "      <td>0.148129</td>\n",
              "      <td>0.153446</td>\n",
              "      <td>0.203912</td>\n",
              "      <td>0.216403</td>\n",
              "      <td>0.315508</td>\n",
              "      <td>0.232062</td>\n",
              "      <td>0.099948</td>\n",
              "      <td>0.309139</td>\n",
              "    </tr>\n",
              "    <tr>\n",
              "      <th>2</th>\n",
              "      <td>2011-11-25</td>\n",
              "      <td>0.5</td>\n",
              "      <td>0.000000</td>\n",
              "      <td>0.153446</td>\n",
              "      <td>0.203912</td>\n",
              "      <td>0.216403</td>\n",
              "      <td>0.315508</td>\n",
              "      <td>0.232062</td>\n",
              "      <td>0.099948</td>\n",
              "      <td>0.107732</td>\n",
              "      <td>0.268535</td>\n",
              "    </tr>\n",
              "    <tr>\n",
              "      <th>3</th>\n",
              "      <td>2011-11-26</td>\n",
              "      <td>0.5</td>\n",
              "      <td>0.011468</td>\n",
              "      <td>0.203912</td>\n",
              "      <td>0.216403</td>\n",
              "      <td>0.315508</td>\n",
              "      <td>0.232062</td>\n",
              "      <td>0.099948</td>\n",
              "      <td>0.107732</td>\n",
              "      <td>0.055290</td>\n",
              "      <td>0.307186</td>\n",
              "    </tr>\n",
              "    <tr>\n",
              "      <th>4</th>\n",
              "      <td>2011-11-27</td>\n",
              "      <td>0.5</td>\n",
              "      <td>0.011468</td>\n",
              "      <td>0.216403</td>\n",
              "      <td>0.315508</td>\n",
              "      <td>0.232062</td>\n",
              "      <td>0.099948</td>\n",
              "      <td>0.107732</td>\n",
              "      <td>0.055290</td>\n",
              "      <td>0.105209</td>\n",
              "      <td>0.420500</td>\n",
              "    </tr>\n",
              "    <tr>\n",
              "      <th>...</th>\n",
              "      <td>...</td>\n",
              "      <td>...</td>\n",
              "      <td>...</td>\n",
              "      <td>...</td>\n",
              "      <td>...</td>\n",
              "      <td>...</td>\n",
              "      <td>...</td>\n",
              "      <td>...</td>\n",
              "      <td>...</td>\n",
              "      <td>...</td>\n",
              "      <td>...</td>\n",
              "    </tr>\n",
              "    <tr>\n",
              "      <th>815</th>\n",
              "      <td>2014-02-17</td>\n",
              "      <td>0.0</td>\n",
              "      <td>0.000000</td>\n",
              "      <td>0.294755</td>\n",
              "      <td>0.276625</td>\n",
              "      <td>0.269747</td>\n",
              "      <td>0.262269</td>\n",
              "      <td>0.258745</td>\n",
              "      <td>0.266187</td>\n",
              "      <td>0.273507</td>\n",
              "      <td>0.420175</td>\n",
              "    </tr>\n",
              "    <tr>\n",
              "      <th>816</th>\n",
              "      <td>2014-02-18</td>\n",
              "      <td>0.0</td>\n",
              "      <td>0.000000</td>\n",
              "      <td>0.276625</td>\n",
              "      <td>0.269747</td>\n",
              "      <td>0.262269</td>\n",
              "      <td>0.258745</td>\n",
              "      <td>0.266187</td>\n",
              "      <td>0.273507</td>\n",
              "      <td>0.251138</td>\n",
              "      <td>0.425258</td>\n",
              "    </tr>\n",
              "    <tr>\n",
              "      <th>817</th>\n",
              "      <td>2014-02-19</td>\n",
              "      <td>0.0</td>\n",
              "      <td>0.000000</td>\n",
              "      <td>0.269747</td>\n",
              "      <td>0.262269</td>\n",
              "      <td>0.258745</td>\n",
              "      <td>0.266187</td>\n",
              "      <td>0.273507</td>\n",
              "      <td>0.251138</td>\n",
              "      <td>0.257702</td>\n",
              "      <td>0.426883</td>\n",
              "    </tr>\n",
              "    <tr>\n",
              "      <th>818</th>\n",
              "      <td>2014-02-20</td>\n",
              "      <td>0.0</td>\n",
              "      <td>0.000000</td>\n",
              "      <td>0.262269</td>\n",
              "      <td>0.258745</td>\n",
              "      <td>0.266187</td>\n",
              "      <td>0.273507</td>\n",
              "      <td>0.251138</td>\n",
              "      <td>0.257702</td>\n",
              "      <td>0.259801</td>\n",
              "      <td>0.428731</td>\n",
              "    </tr>\n",
              "    <tr>\n",
              "      <th>819</th>\n",
              "      <td>2014-02-21</td>\n",
              "      <td>0.0</td>\n",
              "      <td>0.000000</td>\n",
              "      <td>0.258745</td>\n",
              "      <td>0.266187</td>\n",
              "      <td>0.273507</td>\n",
              "      <td>0.251138</td>\n",
              "      <td>0.257702</td>\n",
              "      <td>0.259801</td>\n",
              "      <td>0.262188</td>\n",
              "      <td>0.000000</td>\n",
              "    </tr>\n",
              "  </tbody>\n",
              "</table>\n",
              "<p>820 rows × 11 columns</p>\n",
              "</div>\n",
              "      <button class=\"colab-df-convert\" onclick=\"convertToInteractive('df-2a592e27-f127-4557-be5e-41cf37d403a1')\"\n",
              "              title=\"Convert this dataframe to an interactive table.\"\n",
              "              style=\"display:none;\">\n",
              "        \n",
              "  <svg xmlns=\"http://www.w3.org/2000/svg\" height=\"24px\"viewBox=\"0 0 24 24\"\n",
              "       width=\"24px\">\n",
              "    <path d=\"M0 0h24v24H0V0z\" fill=\"none\"/>\n",
              "    <path d=\"M18.56 5.44l.94 2.06.94-2.06 2.06-.94-2.06-.94-.94-2.06-.94 2.06-2.06.94zm-11 1L8.5 8.5l.94-2.06 2.06-.94-2.06-.94L8.5 2.5l-.94 2.06-2.06.94zm10 10l.94 2.06.94-2.06 2.06-.94-2.06-.94-.94-2.06-.94 2.06-2.06.94z\"/><path d=\"M17.41 7.96l-1.37-1.37c-.4-.4-.92-.59-1.43-.59-.52 0-1.04.2-1.43.59L10.3 9.45l-7.72 7.72c-.78.78-.78 2.05 0 2.83L4 21.41c.39.39.9.59 1.41.59.51 0 1.02-.2 1.41-.59l7.78-7.78 2.81-2.81c.8-.78.8-2.07 0-2.86zM5.41 20L4 18.59l7.72-7.72 1.47 1.35L5.41 20z\"/>\n",
              "  </svg>\n",
              "      </button>\n",
              "      \n",
              "  <style>\n",
              "    .colab-df-container {\n",
              "      display:flex;\n",
              "      flex-wrap:wrap;\n",
              "      gap: 12px;\n",
              "    }\n",
              "\n",
              "    .colab-df-convert {\n",
              "      background-color: #E8F0FE;\n",
              "      border: none;\n",
              "      border-radius: 50%;\n",
              "      cursor: pointer;\n",
              "      display: none;\n",
              "      fill: #1967D2;\n",
              "      height: 32px;\n",
              "      padding: 0 0 0 0;\n",
              "      width: 32px;\n",
              "    }\n",
              "\n",
              "    .colab-df-convert:hover {\n",
              "      background-color: #E2EBFA;\n",
              "      box-shadow: 0px 1px 2px rgba(60, 64, 67, 0.3), 0px 1px 3px 1px rgba(60, 64, 67, 0.15);\n",
              "      fill: #174EA6;\n",
              "    }\n",
              "\n",
              "    [theme=dark] .colab-df-convert {\n",
              "      background-color: #3B4455;\n",
              "      fill: #D2E3FC;\n",
              "    }\n",
              "\n",
              "    [theme=dark] .colab-df-convert:hover {\n",
              "      background-color: #434B5C;\n",
              "      box-shadow: 0px 1px 3px 1px rgba(0, 0, 0, 0.15);\n",
              "      filter: drop-shadow(0px 1px 2px rgba(0, 0, 0, 0.3));\n",
              "      fill: #FFFFFF;\n",
              "    }\n",
              "  </style>\n",
              "\n",
              "      <script>\n",
              "        const buttonEl =\n",
              "          document.querySelector('#df-2a592e27-f127-4557-be5e-41cf37d403a1 button.colab-df-convert');\n",
              "        buttonEl.style.display =\n",
              "          google.colab.kernel.accessAllowed ? 'block' : 'none';\n",
              "\n",
              "        async function convertToInteractive(key) {\n",
              "          const element = document.querySelector('#df-2a592e27-f127-4557-be5e-41cf37d403a1');\n",
              "          const dataTable =\n",
              "            await google.colab.kernel.invokeFunction('convertToInteractive',\n",
              "                                                     [key], {});\n",
              "          if (!dataTable) return;\n",
              "\n",
              "          const docLinkHtml = 'Like what you see? Visit the ' +\n",
              "            '<a target=\"_blank\" href=https://colab.research.google.com/notebooks/data_table.ipynb>data table notebook</a>'\n",
              "            + ' to learn more about interactive tables.';\n",
              "          element.innerHTML = '';\n",
              "          dataTable['output_type'] = 'display_data';\n",
              "          await google.colab.output.renderOutput(dataTable, element);\n",
              "          const docLink = document.createElement('div');\n",
              "          docLink.innerHTML = docLinkHtml;\n",
              "          element.appendChild(docLink);\n",
              "        }\n",
              "      </script>\n",
              "    </div>\n",
              "  </div>\n",
              "  "
            ]
          },
          "metadata": {},
          "execution_count": 35
        }
      ],
      "source": [
        "df_temp0 = pd.DataFrame(reframed0, columns = ['weather_cluster', 'holiday_ind','var1(t-7)', 'var1(t-6)', 'var1(t-5)', 'var1(t-4)', 'var1(t-3)','var1(t-2)', 'var1(t-1)', 'var1(t)'])\n",
        "df_temp0['date'] = energy0['day']\n",
        "df_temp0 = df_temp0[['date', 'weather_cluster', 'holiday_ind','var1(t-7)', 'var1(t-6)', 'var1(t-5)', 'var1(t-4)', 'var1(t-3)','var1(t-2)', 'var1(t-1)', 'var1(t)']]\n",
        "df_temp0"
      ]
    },
    {
      "cell_type": "code",
      "execution_count": 36,
      "metadata": {
        "id": "ukznk7eKCdZs"
      },
      "outputs": [],
      "source": [
        "X = df_temp0.iloc[:,:-1]\n",
        "y = df_temp0.iloc[:,-1]"
      ]
    },
    {
      "cell_type": "code",
      "execution_count": 37,
      "metadata": {
        "id": "-k68t8mtCdZt"
      },
      "outputs": [],
      "source": [
        "from sklearn.model_selection import GroupKFold\n",
        "\n",
        "# Assuming you have time series data X and target variable y, as well as a groups variable defining the groups\n",
        "# For example, groups could be the year or month of each data point\n",
        "\n",
        "# Define the number of folds and the groups for each data point\n",
        "n_splits = 5\n",
        "scores = []\n",
        "groups = X['date']\n",
        "\n",
        "# Define the grouped k-fold cross-validation object\n",
        "group_kfold = GroupKFold(n_splits=n_splits)"
      ]
    },
    {
      "cell_type": "code",
      "execution_count": 38,
      "metadata": {
        "id": "42K5MGu1CdZt",
        "outputId": "1f37f235-f892-4a1a-fede-c411889b35f1",
        "colab": {
          "base_uri": "https://localhost:8080/",
          "height": 423
        }
      },
      "outputs": [
        {
          "output_type": "execute_result",
          "data": {
            "text/plain": [
              "     weather_cluster  holiday_ind  var1(t-7)  var1(t-6)  var1(t-5)  var1(t-4)  \\\n",
              "0                0.5     0.000000   0.025961   0.148129   0.153446   0.203912   \n",
              "1                0.5     0.000000   0.148129   0.153446   0.203912   0.216403   \n",
              "2                0.5     0.000000   0.153446   0.203912   0.216403   0.315508   \n",
              "3                0.5     0.011468   0.203912   0.216403   0.315508   0.232062   \n",
              "4                0.5     0.011468   0.216403   0.315508   0.232062   0.099948   \n",
              "..               ...          ...        ...        ...        ...        ...   \n",
              "815              0.0     0.000000   0.294755   0.276625   0.269747   0.262269   \n",
              "816              0.0     0.000000   0.276625   0.269747   0.262269   0.258745   \n",
              "817              0.0     0.000000   0.269747   0.262269   0.258745   0.266187   \n",
              "818              0.0     0.000000   0.262269   0.258745   0.266187   0.273507   \n",
              "819              0.0     0.000000   0.258745   0.266187   0.273507   0.251138   \n",
              "\n",
              "     var1(t-3)  var1(t-2)  var1(t-1)  \n",
              "0     0.216403   0.315508   0.232062  \n",
              "1     0.315508   0.232062   0.099948  \n",
              "2     0.232062   0.099948   0.107732  \n",
              "3     0.099948   0.107732   0.055290  \n",
              "4     0.107732   0.055290   0.105209  \n",
              "..         ...        ...        ...  \n",
              "815   0.258745   0.266187   0.273507  \n",
              "816   0.266187   0.273507   0.251138  \n",
              "817   0.273507   0.251138   0.257702  \n",
              "818   0.251138   0.257702   0.259801  \n",
              "819   0.257702   0.259801   0.262188  \n",
              "\n",
              "[820 rows x 9 columns]"
            ],
            "text/html": [
              "\n",
              "  <div id=\"df-3cf56a0e-80a1-4872-ae77-a0ffca217cd4\">\n",
              "    <div class=\"colab-df-container\">\n",
              "      <div>\n",
              "<style scoped>\n",
              "    .dataframe tbody tr th:only-of-type {\n",
              "        vertical-align: middle;\n",
              "    }\n",
              "\n",
              "    .dataframe tbody tr th {\n",
              "        vertical-align: top;\n",
              "    }\n",
              "\n",
              "    .dataframe thead th {\n",
              "        text-align: right;\n",
              "    }\n",
              "</style>\n",
              "<table border=\"1\" class=\"dataframe\">\n",
              "  <thead>\n",
              "    <tr style=\"text-align: right;\">\n",
              "      <th></th>\n",
              "      <th>weather_cluster</th>\n",
              "      <th>holiday_ind</th>\n",
              "      <th>var1(t-7)</th>\n",
              "      <th>var1(t-6)</th>\n",
              "      <th>var1(t-5)</th>\n",
              "      <th>var1(t-4)</th>\n",
              "      <th>var1(t-3)</th>\n",
              "      <th>var1(t-2)</th>\n",
              "      <th>var1(t-1)</th>\n",
              "    </tr>\n",
              "  </thead>\n",
              "  <tbody>\n",
              "    <tr>\n",
              "      <th>0</th>\n",
              "      <td>0.5</td>\n",
              "      <td>0.000000</td>\n",
              "      <td>0.025961</td>\n",
              "      <td>0.148129</td>\n",
              "      <td>0.153446</td>\n",
              "      <td>0.203912</td>\n",
              "      <td>0.216403</td>\n",
              "      <td>0.315508</td>\n",
              "      <td>0.232062</td>\n",
              "    </tr>\n",
              "    <tr>\n",
              "      <th>1</th>\n",
              "      <td>0.5</td>\n",
              "      <td>0.000000</td>\n",
              "      <td>0.148129</td>\n",
              "      <td>0.153446</td>\n",
              "      <td>0.203912</td>\n",
              "      <td>0.216403</td>\n",
              "      <td>0.315508</td>\n",
              "      <td>0.232062</td>\n",
              "      <td>0.099948</td>\n",
              "    </tr>\n",
              "    <tr>\n",
              "      <th>2</th>\n",
              "      <td>0.5</td>\n",
              "      <td>0.000000</td>\n",
              "      <td>0.153446</td>\n",
              "      <td>0.203912</td>\n",
              "      <td>0.216403</td>\n",
              "      <td>0.315508</td>\n",
              "      <td>0.232062</td>\n",
              "      <td>0.099948</td>\n",
              "      <td>0.107732</td>\n",
              "    </tr>\n",
              "    <tr>\n",
              "      <th>3</th>\n",
              "      <td>0.5</td>\n",
              "      <td>0.011468</td>\n",
              "      <td>0.203912</td>\n",
              "      <td>0.216403</td>\n",
              "      <td>0.315508</td>\n",
              "      <td>0.232062</td>\n",
              "      <td>0.099948</td>\n",
              "      <td>0.107732</td>\n",
              "      <td>0.055290</td>\n",
              "    </tr>\n",
              "    <tr>\n",
              "      <th>4</th>\n",
              "      <td>0.5</td>\n",
              "      <td>0.011468</td>\n",
              "      <td>0.216403</td>\n",
              "      <td>0.315508</td>\n",
              "      <td>0.232062</td>\n",
              "      <td>0.099948</td>\n",
              "      <td>0.107732</td>\n",
              "      <td>0.055290</td>\n",
              "      <td>0.105209</td>\n",
              "    </tr>\n",
              "    <tr>\n",
              "      <th>...</th>\n",
              "      <td>...</td>\n",
              "      <td>...</td>\n",
              "      <td>...</td>\n",
              "      <td>...</td>\n",
              "      <td>...</td>\n",
              "      <td>...</td>\n",
              "      <td>...</td>\n",
              "      <td>...</td>\n",
              "      <td>...</td>\n",
              "    </tr>\n",
              "    <tr>\n",
              "      <th>815</th>\n",
              "      <td>0.0</td>\n",
              "      <td>0.000000</td>\n",
              "      <td>0.294755</td>\n",
              "      <td>0.276625</td>\n",
              "      <td>0.269747</td>\n",
              "      <td>0.262269</td>\n",
              "      <td>0.258745</td>\n",
              "      <td>0.266187</td>\n",
              "      <td>0.273507</td>\n",
              "    </tr>\n",
              "    <tr>\n",
              "      <th>816</th>\n",
              "      <td>0.0</td>\n",
              "      <td>0.000000</td>\n",
              "      <td>0.276625</td>\n",
              "      <td>0.269747</td>\n",
              "      <td>0.262269</td>\n",
              "      <td>0.258745</td>\n",
              "      <td>0.266187</td>\n",
              "      <td>0.273507</td>\n",
              "      <td>0.251138</td>\n",
              "    </tr>\n",
              "    <tr>\n",
              "      <th>817</th>\n",
              "      <td>0.0</td>\n",
              "      <td>0.000000</td>\n",
              "      <td>0.269747</td>\n",
              "      <td>0.262269</td>\n",
              "      <td>0.258745</td>\n",
              "      <td>0.266187</td>\n",
              "      <td>0.273507</td>\n",
              "      <td>0.251138</td>\n",
              "      <td>0.257702</td>\n",
              "    </tr>\n",
              "    <tr>\n",
              "      <th>818</th>\n",
              "      <td>0.0</td>\n",
              "      <td>0.000000</td>\n",
              "      <td>0.262269</td>\n",
              "      <td>0.258745</td>\n",
              "      <td>0.266187</td>\n",
              "      <td>0.273507</td>\n",
              "      <td>0.251138</td>\n",
              "      <td>0.257702</td>\n",
              "      <td>0.259801</td>\n",
              "    </tr>\n",
              "    <tr>\n",
              "      <th>819</th>\n",
              "      <td>0.0</td>\n",
              "      <td>0.000000</td>\n",
              "      <td>0.258745</td>\n",
              "      <td>0.266187</td>\n",
              "      <td>0.273507</td>\n",
              "      <td>0.251138</td>\n",
              "      <td>0.257702</td>\n",
              "      <td>0.259801</td>\n",
              "      <td>0.262188</td>\n",
              "    </tr>\n",
              "  </tbody>\n",
              "</table>\n",
              "<p>820 rows × 9 columns</p>\n",
              "</div>\n",
              "      <button class=\"colab-df-convert\" onclick=\"convertToInteractive('df-3cf56a0e-80a1-4872-ae77-a0ffca217cd4')\"\n",
              "              title=\"Convert this dataframe to an interactive table.\"\n",
              "              style=\"display:none;\">\n",
              "        \n",
              "  <svg xmlns=\"http://www.w3.org/2000/svg\" height=\"24px\"viewBox=\"0 0 24 24\"\n",
              "       width=\"24px\">\n",
              "    <path d=\"M0 0h24v24H0V0z\" fill=\"none\"/>\n",
              "    <path d=\"M18.56 5.44l.94 2.06.94-2.06 2.06-.94-2.06-.94-.94-2.06-.94 2.06-2.06.94zm-11 1L8.5 8.5l.94-2.06 2.06-.94-2.06-.94L8.5 2.5l-.94 2.06-2.06.94zm10 10l.94 2.06.94-2.06 2.06-.94-2.06-.94-.94-2.06-.94 2.06-2.06.94z\"/><path d=\"M17.41 7.96l-1.37-1.37c-.4-.4-.92-.59-1.43-.59-.52 0-1.04.2-1.43.59L10.3 9.45l-7.72 7.72c-.78.78-.78 2.05 0 2.83L4 21.41c.39.39.9.59 1.41.59.51 0 1.02-.2 1.41-.59l7.78-7.78 2.81-2.81c.8-.78.8-2.07 0-2.86zM5.41 20L4 18.59l7.72-7.72 1.47 1.35L5.41 20z\"/>\n",
              "  </svg>\n",
              "      </button>\n",
              "      \n",
              "  <style>\n",
              "    .colab-df-container {\n",
              "      display:flex;\n",
              "      flex-wrap:wrap;\n",
              "      gap: 12px;\n",
              "    }\n",
              "\n",
              "    .colab-df-convert {\n",
              "      background-color: #E8F0FE;\n",
              "      border: none;\n",
              "      border-radius: 50%;\n",
              "      cursor: pointer;\n",
              "      display: none;\n",
              "      fill: #1967D2;\n",
              "      height: 32px;\n",
              "      padding: 0 0 0 0;\n",
              "      width: 32px;\n",
              "    }\n",
              "\n",
              "    .colab-df-convert:hover {\n",
              "      background-color: #E2EBFA;\n",
              "      box-shadow: 0px 1px 2px rgba(60, 64, 67, 0.3), 0px 1px 3px 1px rgba(60, 64, 67, 0.15);\n",
              "      fill: #174EA6;\n",
              "    }\n",
              "\n",
              "    [theme=dark] .colab-df-convert {\n",
              "      background-color: #3B4455;\n",
              "      fill: #D2E3FC;\n",
              "    }\n",
              "\n",
              "    [theme=dark] .colab-df-convert:hover {\n",
              "      background-color: #434B5C;\n",
              "      box-shadow: 0px 1px 3px 1px rgba(0, 0, 0, 0.15);\n",
              "      filter: drop-shadow(0px 1px 2px rgba(0, 0, 0, 0.3));\n",
              "      fill: #FFFFFF;\n",
              "    }\n",
              "  </style>\n",
              "\n",
              "      <script>\n",
              "        const buttonEl =\n",
              "          document.querySelector('#df-3cf56a0e-80a1-4872-ae77-a0ffca217cd4 button.colab-df-convert');\n",
              "        buttonEl.style.display =\n",
              "          google.colab.kernel.accessAllowed ? 'block' : 'none';\n",
              "\n",
              "        async function convertToInteractive(key) {\n",
              "          const element = document.querySelector('#df-3cf56a0e-80a1-4872-ae77-a0ffca217cd4');\n",
              "          const dataTable =\n",
              "            await google.colab.kernel.invokeFunction('convertToInteractive',\n",
              "                                                     [key], {});\n",
              "          if (!dataTable) return;\n",
              "\n",
              "          const docLinkHtml = 'Like what you see? Visit the ' +\n",
              "            '<a target=\"_blank\" href=https://colab.research.google.com/notebooks/data_table.ipynb>data table notebook</a>'\n",
              "            + ' to learn more about interactive tables.';\n",
              "          element.innerHTML = '';\n",
              "          dataTable['output_type'] = 'display_data';\n",
              "          await google.colab.output.renderOutput(dataTable, element);\n",
              "          const docLink = document.createElement('div');\n",
              "          docLink.innerHTML = docLinkHtml;\n",
              "          element.appendChild(docLink);\n",
              "        }\n",
              "      </script>\n",
              "    </div>\n",
              "  </div>\n",
              "  "
            ]
          },
          "metadata": {},
          "execution_count": 38
        }
      ],
      "source": [
        "X = X.drop(['date'], axis=1)\n",
        "X"
      ]
    },
    {
      "cell_type": "code",
      "execution_count": 39,
      "metadata": {
        "id": "ul6GZbOjCdZt",
        "outputId": "76ba3f21-90b4-424d-f80e-19e67f2a7670",
        "colab": {
          "base_uri": "https://localhost:8080/"
        }
      },
      "outputs": [
        {
          "output_type": "stream",
          "name": "stdout",
          "text": [
            "21/21 [==============================] - 0s 3ms/step - loss: 0.0012\n",
            "6/6 [==============================] - 0s 2ms/step - loss: 0.0020\n",
            "21/21 [==============================] - 0s 3ms/step - loss: 0.0014\n",
            "6/6 [==============================] - 0s 2ms/step - loss: 0.0016\n",
            "21/21 [==============================] - 0s 3ms/step - loss: 0.0016\n",
            "6/6 [==============================] - 0s 2ms/step - loss: 5.7363e-04\n",
            "21/21 [==============================] - 0s 3ms/step - loss: 0.0016\n",
            "6/6 [==============================] - 0s 2ms/step - loss: 6.2322e-04\n",
            "21/21 [==============================] - 0s 3ms/step - loss: 0.0013\n",
            "6/6 [==============================] - 0s 2ms/step - loss: 0.0019\n"
          ]
        }
      ],
      "source": [
        "# Loop through each fold and split the data into training and testing sets\n",
        "for train_index, test_index in group_kfold.split(X, y, groups):\n",
        "    X_train, X_test = X.iloc[train_index], X.iloc[test_index]\n",
        "    y_train, y_test = y.iloc[train_index], y.iloc[test_index]\n",
        "\n",
        "    # Converting to nparray\n",
        "    X_train = np.asarray(X_train).astype(np.float32)\n",
        "    X_test = np.asarray(X_test).astype(np.float32)\n",
        "    y_train = np.asarray(y_train).astype(np.float32)\n",
        "    y_test = np.asarray(y_test).astype(np.float32)\n",
        "\n",
        "    X_train = X_train.reshape((X_train.shape[0], 1, X_train.shape[1]))\n",
        "    X_test = X_test.reshape((X_test.shape[0], 1, X_test.shape[1]))\n",
        "    \n",
        "    # Train and evaluate the model on the training and testing sets\n",
        "    model.fit(X_train, y_train)\n",
        "    score = model.evaluate(X_test, y_test)\n",
        "    \n",
        "    # Store the performance score for this fold\n",
        "    scores.append(score)\n",
        "\n",
        "# Compute the average performance score over all the folds\n",
        "avg_score = sum(scores) / n_splits"
      ]
    },
    {
      "cell_type": "code",
      "execution_count": 40,
      "metadata": {
        "id": "c9PkycvACdZt",
        "outputId": "fafdc5f0-21e2-4e97-809b-df903c3afc56",
        "colab": {
          "base_uri": "https://localhost:8080/"
        }
      },
      "outputs": [
        {
          "output_type": "execute_result",
          "data": {
            "text/plain": [
              "['loss']"
            ]
          },
          "metadata": {},
          "execution_count": 40
        }
      ],
      "source": [
        "model.metrics_names"
      ]
    },
    {
      "cell_type": "code",
      "execution_count": 41,
      "metadata": {
        "id": "pcqcwjFdCdZt",
        "outputId": "aae5e321-dfff-4a15-a499-531fe79995e9",
        "colab": {
          "base_uri": "https://localhost:8080/"
        }
      },
      "outputs": [
        {
          "output_type": "execute_result",
          "data": {
            "text/plain": [
              "[0.0020223394967615604,\n",
              " 0.0016023918287828565,\n",
              " 0.0005736342282034457,\n",
              " 0.0006232153973542154,\n",
              " 0.0019231049809604883]"
            ]
          },
          "metadata": {},
          "execution_count": 41
        }
      ],
      "source": [
        "scores"
      ]
    },
    {
      "cell_type": "code",
      "execution_count": 42,
      "metadata": {
        "id": "5eYEVmTyCdZu",
        "outputId": "ffa2da04-508a-48e0-eb13-a6a59c2b784b",
        "colab": {
          "base_uri": "https://localhost:8080/"
        }
      },
      "outputs": [
        {
          "output_type": "execute_result",
          "data": {
            "text/plain": [
              "0.0013489371864125132"
            ]
          },
          "metadata": {},
          "execution_count": 42
        }
      ],
      "source": [
        "avg_score"
      ]
    },
    {
      "cell_type": "code",
      "execution_count": 43,
      "metadata": {
        "id": "RMaITWM3CdZu"
      },
      "outputs": [],
      "source": [
        "# Interpretation:\n",
        "# We took 'loss' as the evaluation metric while training our model, so this cross validation score basically means the how well the model is performing on data that it hasn't seen during training. \n",
        "# Here, the less validation score indicates better performance of the model. \n",
        "# Higher validation score would mean overfitting on the training data."
      ]
    },
    {
      "cell_type": "markdown",
      "metadata": {
        "id": "c0Ir1X1aCdZu"
      },
      "source": [
        "Grid Search"
      ]
    },
    {
      "cell_type": "code",
      "execution_count": 44,
      "metadata": {
        "id": "DOjQcwoiCdZu"
      },
      "outputs": [],
      "source": [
        "def create_model(units=50, optimizer='adam'):\n",
        "    model = Sequential()\n",
        "    model.add(LSTM(units, input_shape=(train_X0.shape[1], train_X0.shape[2]), return_sequences=True))\n",
        "    model.add(Dropout(0.2))\n",
        "    model.add(LSTM(units))\n",
        "    model.add(Dense(1))\n",
        "    model.compile(loss='mse', optimizer='adam')\n",
        "    return model"
      ]
    },
    {
      "cell_type": "code",
      "execution_count": 45,
      "metadata": {
        "id": "CJcMvEKYCdZv",
        "outputId": "fc02a890-7306-4862-f50a-b3dd80f6e34f",
        "colab": {
          "base_uri": "https://localhost:8080/",
          "height": 430
        }
      },
      "outputs": [
        {
          "output_type": "display_data",
          "data": {
            "text/plain": [
              "<Figure size 640x480 with 1 Axes>"
            ],
            "image/png": "[encoded data removed]"
          },
          "metadata": {}
        }
      ],
      "source": [
        "# MODEL update after Grid Search (units = 128,64 and verbose = 0)\n",
        "\n",
        "# design network\n",
        "model = Sequential()\n",
        "model.add(LSTM(128, input_shape=(train_X0.shape[1], train_X0.shape[2]), return_sequences=True))\n",
        "model.add(Dropout(0.2))\n",
        "model.add(LSTM(64))\n",
        "model.add(Dense(1))\n",
        "model.compile(loss='mse', optimizer='adam')\n",
        "\n",
        "# fit network\n",
        "history = model.fit(train_X0, train_y0, epochs=100, batch_size=32, verbose=0, shuffle=False, validation_data=(test_X0, test_y0))\n",
        "\n",
        "# plot history\n",
        "plt.plot(history.history['loss'], label='train')\n",
        "plt.plot(history.history['val_loss'], label='test')\n",
        "plt.legend()\n",
        "plt.show()"
      ]
    },
    {
      "cell_type": "code",
      "execution_count": 46,
      "metadata": {
        "id": "kLSKWhZkCdZv",
        "outputId": "792b27b4-1df1-4a40-ae68-4692dee6ae35",
        "colab": {
          "base_uri": "https://localhost:8080/",
          "height": 503
        }
      },
      "outputs": [
        {
          "output_type": "stream",
          "name": "stdout",
          "text": [
            "6/6 [==============================] - 1s 2ms/step\n",
            "(165, 1) (165,)\n",
            "(165,) (165,)\n",
            "Test MAE: 0.020\n"
          ]
        },
        {
          "output_type": "display_data",
          "data": {
            "text/plain": [
              "<Figure size 640x480 with 1 Axes>"
            ],
            "image/png": "[encoded data removed]"
          },
          "metadata": {}
        }
      ],
      "source": [
        "# make predictions on test data\n",
        "from sklearn.metrics import mean_absolute_error\n",
        "\n",
        "\n",
        "y_pred = model.predict(test_X0)\n",
        "print(y_pred.shape, test_y0.shape)\n",
        "y_pred = y_pred.reshape(-1)\n",
        "test_y0 = test_y0.reshape(-1)\n",
        "print(y_pred.shape, test_y0.shape)\n",
        "# calculate MAE\n",
        "mae = mean_absolute_error(test_y0, y_pred)\n",
        "print('Test MAE: %.3f' % mae)\n",
        "\n",
        "# plot actual vs predicted values\n",
        "plt.plot(test_y0)\n",
        "plt.plot(y_pred)\n",
        "plt.legend(['Actual', 'Predicted'])\n",
        "plt.show()"
      ]
    },
    {
      "cell_type": "code",
      "execution_count": 47,
      "metadata": {
        "id": "BzAO-Wv7CdZw",
        "outputId": "55257084-6128-4ce6-dd0b-3ea0869f3f2f",
        "colab": {
          "base_uri": "https://localhost:8080/"
        }
      },
      "outputs": [
        {
          "output_type": "stream",
          "name": "stdout",
          "text": [
            "Test MSE: 0.002\n",
            "Test RMSE: 0.040\n"
          ]
        }
      ],
      "source": [
        "from sklearn.metrics import mean_squared_error\n",
        "\n",
        "# calculate MSE\n",
        "mse = mean_squared_error(test_y0, y_pred)\n",
        "print('Test MSE: %.3f' % mse)\n",
        "\n",
        "rmse = np.sqrt(mse)\n",
        "print('Test RMSE: %.3f' % rmse)"
      ]
    },
    {
      "cell_type": "code",
      "execution_count": 48,
      "metadata": {
        "id": "wm7oh-3iCdZw",
        "outputId": "995414ff-3830-42a0-f633-1febc87087e5",
        "colab": {
          "base_uri": "https://localhost:8080/"
        }
      },
      "outputs": [
        {
          "output_type": "stream",
          "name": "stdout",
          "text": [
            "0.7322782597007298\n"
          ]
        }
      ],
      "source": [
        "from sklearn.metrics import r2_score\n",
        "acc = r2_score(test_y0, y_pred)\n",
        "print(acc)"
      ]
    }
  ],
  "metadata": {
    "kernelspec": {
      "display_name": "Python 3 (ipykernel)",
      "language": "python",
      "name": "python3"
    },
    "language_info": {
      "codemirror_mode": {
        "name": "ipython",
        "version": 3
      },
      "file_extension": ".py",
      "mimetype": "text/x-python",
      "name": "python",
      "nbconvert_exporter": "python",
      "pygments_lexer": "ipython3",
      "version": "3.8.10"
    },
    "colab": {
      "provenance": []
    }
  },
  "nbformat": 4,
  "nbformat_minor": 0
}