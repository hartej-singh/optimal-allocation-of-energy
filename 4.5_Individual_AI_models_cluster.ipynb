{
  "cells": [
    {
      "cell_type": "code",
      "execution_count": 1,
      "metadata": {
        "id": "ewmmL1viCdZh"
      },
      "outputs": [],
      "source": [
        "import pandas as pd"
      ]
    },
    {
      "cell_type": "code",
      "source": [
        "from google.colab import drive\n",
        "drive.mount('/content/drive')"
      ],
      "metadata": {
        "colab": {
          "base_uri": "https://localhost:8080/"
        },
        "id": "mWjywUVtIAD9",
        "outputId": "847f6c93-b17c-427f-b3e5-c720379ef979"
      },
      "execution_count": 4,
      "outputs": [
        {
          "output_type": "stream",
          "name": "stdout",
          "text": [
            "Drive already mounted at /content/drive; to attempt to forcibly remount, call drive.mount(\"/content/drive\", force_remount=True).\n"
          ]
        }
      ]
    },
    {
      "cell_type": "code",
      "execution_count": 5,
      "metadata": {
        "id": "uVe8Z3mPCdZi"
      },
      "outputs": [],
      "source": [
        "df = pd.read_csv(r\"/content/drive/MyDrive/3_total_with_clusters.csv\")\n",
        "df = df.drop('Unnamed: 0', axis=1)\n",
        "df_groups = df.groupby('house_cluster')"
      ]
    },
    {
      "cell_type": "markdown",
      "metadata": {
        "id": "UnM0kTqYCdZj"
      },
      "source": [
        "Cluster 0"
      ]
    },
    {
      "cell_type": "code",
      "execution_count": 6,
      "metadata": {
        "id": "pdlyDQkeCdZk"
      },
      "outputs": [],
      "source": [
        "cluster0 = df_groups.get_group(4)\n",
        "energy0 = cluster0.drop('house_cluster', axis=1)"
      ]
    },
    {
      "cell_type": "code",
      "execution_count": 7,
      "metadata": {
        "id": "SvczMS4nCdZk",
        "outputId": "d89b7e21-a567-46e4-ed25-42ed043b14c0",
        "colab": {
          "base_uri": "https://localhost:8080/",
          "height": 237
        }
      },
      "outputs": [
        {
          "output_type": "execute_result",
          "data": {
            "text/plain": [
              "            LCLid\n",
              "day              \n",
              "2011-12-12      1\n",
              "2011-12-13      1\n",
              "2011-12-14      1\n",
              "2011-12-15      1\n",
              "2011-12-16      2"
            ],
            "text/html": [
              "\n",
              "  <div id=\"df-fb2278bc-bcbc-471a-b139-bcbbf9150ee7\">\n",
              "    <div class=\"colab-df-container\">\n",
              "      <div>\n",
              "<style scoped>\n",
              "    .dataframe tbody tr th:only-of-type {\n",
              "        vertical-align: middle;\n",
              "    }\n",
              "\n",
              "    .dataframe tbody tr th {\n",
              "        vertical-align: top;\n",
              "    }\n",
              "\n",
              "    .dataframe thead th {\n",
              "        text-align: right;\n",
              "    }\n",
              "</style>\n",
              "<table border=\"1\" class=\"dataframe\">\n",
              "  <thead>\n",
              "    <tr style=\"text-align: right;\">\n",
              "      <th></th>\n",
              "      <th>LCLid</th>\n",
              "    </tr>\n",
              "    <tr>\n",
              "      <th>day</th>\n",
              "      <th></th>\n",
              "    </tr>\n",
              "  </thead>\n",
              "  <tbody>\n",
              "    <tr>\n",
              "      <th>2011-12-12</th>\n",
              "      <td>1</td>\n",
              "    </tr>\n",
              "    <tr>\n",
              "      <th>2011-12-13</th>\n",
              "      <td>1</td>\n",
              "    </tr>\n",
              "    <tr>\n",
              "      <th>2011-12-14</th>\n",
              "      <td>1</td>\n",
              "    </tr>\n",
              "    <tr>\n",
              "      <th>2011-12-15</th>\n",
              "      <td>1</td>\n",
              "    </tr>\n",
              "    <tr>\n",
              "      <th>2011-12-16</th>\n",
              "      <td>2</td>\n",
              "    </tr>\n",
              "  </tbody>\n",
              "</table>\n",
              "</div>\n",
              "      <button class=\"colab-df-convert\" onclick=\"convertToInteractive('df-fb2278bc-bcbc-471a-b139-bcbbf9150ee7')\"\n",
              "              title=\"Convert this dataframe to an interactive table.\"\n",
              "              style=\"display:none;\">\n",
              "        \n",
              "  <svg xmlns=\"http://www.w3.org/2000/svg\" height=\"24px\"viewBox=\"0 0 24 24\"\n",
              "       width=\"24px\">\n",
              "    <path d=\"M0 0h24v24H0V0z\" fill=\"none\"/>\n",
              "    <path d=\"M18.56 5.44l.94 2.06.94-2.06 2.06-.94-2.06-.94-.94-2.06-.94 2.06-2.06.94zm-11 1L8.5 8.5l.94-2.06 2.06-.94-2.06-.94L8.5 2.5l-.94 2.06-2.06.94zm10 10l.94 2.06.94-2.06 2.06-.94-2.06-.94-.94-2.06-.94 2.06-2.06.94z\"/><path d=\"M17.41 7.96l-1.37-1.37c-.4-.4-.92-.59-1.43-.59-.52 0-1.04.2-1.43.59L10.3 9.45l-7.72 7.72c-.78.78-.78 2.05 0 2.83L4 21.41c.39.39.9.59 1.41.59.51 0 1.02-.2 1.41-.59l7.78-7.78 2.81-2.81c.8-.78.8-2.07 0-2.86zM5.41 20L4 18.59l7.72-7.72 1.47 1.35L5.41 20z\"/>\n",
              "  </svg>\n",
              "      </button>\n",
              "      \n",
              "  <style>\n",
              "    .colab-df-container {\n",
              "      display:flex;\n",
              "      flex-wrap:wrap;\n",
              "      gap: 12px;\n",
              "    }\n",
              "\n",
              "    .colab-df-convert {\n",
              "      background-color: #E8F0FE;\n",
              "      border: none;\n",
              "      border-radius: 50%;\n",
              "      cursor: pointer;\n",
              "      display: none;\n",
              "      fill: #1967D2;\n",
              "      height: 32px;\n",
              "      padding: 0 0 0 0;\n",
              "      width: 32px;\n",
              "    }\n",
              "\n",
              "    .colab-df-convert:hover {\n",
              "      background-color: #E2EBFA;\n",
              "      box-shadow: 0px 1px 2px rgba(60, 64, 67, 0.3), 0px 1px 3px 1px rgba(60, 64, 67, 0.15);\n",
              "      fill: #174EA6;\n",
              "    }\n",
              "\n",
              "    [theme=dark] .colab-df-convert {\n",
              "      background-color: #3B4455;\n",
              "      fill: #D2E3FC;\n",
              "    }\n",
              "\n",
              "    [theme=dark] .colab-df-convert:hover {\n",
              "      background-color: #434B5C;\n",
              "      box-shadow: 0px 1px 3px 1px rgba(0, 0, 0, 0.15);\n",
              "      filter: drop-shadow(0px 1px 2px rgba(0, 0, 0, 0.3));\n",
              "      fill: #FFFFFF;\n",
              "    }\n",
              "  </style>\n",
              "\n",
              "      <script>\n",
              "        const buttonEl =\n",
              "          document.querySelector('#df-fb2278bc-bcbc-471a-b139-bcbbf9150ee7 button.colab-df-convert');\n",
              "        buttonEl.style.display =\n",
              "          google.colab.kernel.accessAllowed ? 'block' : 'none';\n",
              "\n",
              "        async function convertToInteractive(key) {\n",
              "          const element = document.querySelector('#df-fb2278bc-bcbc-471a-b139-bcbbf9150ee7');\n",
              "          const dataTable =\n",
              "            await google.colab.kernel.invokeFunction('convertToInteractive',\n",
              "                                                     [key], {});\n",
              "          if (!dataTable) return;\n",
              "\n",
              "          const docLinkHtml = 'Like what you see? Visit the ' +\n",
              "            '<a target=\"_blank\" href=https://colab.research.google.com/notebooks/data_table.ipynb>data table notebook</a>'\n",
              "            + ' to learn more about interactive tables.';\n",
              "          element.innerHTML = '';\n",
              "          dataTable['output_type'] = 'display_data';\n",
              "          await google.colab.output.renderOutput(dataTable, element);\n",
              "          const docLink = document.createElement('div');\n",
              "          docLink.innerHTML = docLinkHtml;\n",
              "          element.appendChild(docLink);\n",
              "        }\n",
              "      </script>\n",
              "    </div>\n",
              "  </div>\n",
              "  "
            ]
          },
          "metadata": {},
          "execution_count": 7
        }
      ],
      "source": [
        "housecount0 = cluster0.groupby('day')[['LCLid']].nunique()\n",
        "# housecount0.get_group('2012-11-07')\n",
        "housecount0.head()"
      ]
    },
    {
      "cell_type": "code",
      "execution_count": 8,
      "metadata": {
        "id": "Vh1OcbMFCdZl",
        "outputId": "a7f94410-b0e7-4e13-8d8d-2c9d7338716c",
        "colab": {
          "base_uri": "https://localhost:8080/",
          "height": 530
        }
      },
      "outputs": [
        {
          "output_type": "execute_result",
          "data": {
            "text/plain": [
              "<Axes: xlabel='day'>"
            ]
          },
          "metadata": {},
          "execution_count": 8
        },
        {
          "output_type": "display_data",
          "data": {
            "text/plain": [
              "<Figure size 3000x1000 with 1 Axes>"
            ],
            "image/png": "[encoded data removed]"
          },
          "metadata": {}
        }
      ],
      "source": [
        "housecount0.plot(figsize=(30,10))"
      ]
    },
    {
      "cell_type": "code",
      "execution_count": 9,
      "metadata": {
        "id": "SVaqTL6LCdZm",
        "outputId": "e9b6d07b-14b7-4e0b-ad1d-11a3d452cac7",
        "colab": {
          "base_uri": "https://localhost:8080/"
        }
      },
      "outputs": [
        {
          "output_type": "execute_result",
          "data": {
            "text/plain": [
              "day               808\n",
              "energy_sum        808\n",
              "temperatureMax    808\n",
              "windSpeed         808\n",
              "humidity          808\n",
              "holiday_ind       808\n",
              "LCLid             808\n",
              "dtype: int64"
            ]
          },
          "metadata": {},
          "execution_count": 9
        }
      ],
      "source": [
        "# [['LCLid', 'energy_sum', 'temperatureMax', 'windSpeed', 'humidity', 'holiday_ind']]\n",
        "energy0 = cluster0.groupby('day')[['energy_sum', 'temperatureMax', 'windSpeed', 'humidity', 'holiday_ind']].sum()\n",
        "energy0 = energy0.merge(housecount0, on=['day'])\n",
        "energy0 = energy0.reset_index()\n",
        "energy0.count()"
      ]
    },
    {
      "cell_type": "code",
      "execution_count": 10,
      "metadata": {
        "id": "YcPsINvcCdZm"
      },
      "outputs": [],
      "source": [
        "energy0['day'] = pd.to_datetime(energy0['day'],format='%Y-%m-%d').dt.date"
      ]
    },
    {
      "cell_type": "code",
      "execution_count": 11,
      "metadata": {
        "id": "9eIvemqeCdZn",
        "outputId": "abc38018-1b46-416e-dc28-2f3ba9200401",
        "colab": {
          "base_uri": "https://localhost:8080/"
        }
      },
      "outputs": [
        {
          "output_type": "stream",
          "name": "stdout",
          "text": [
            "Starting Point of Data at Day Level 2011-12-12\n",
            "Ending Point of Data at Day Level 2014-02-28\n"
          ]
        }
      ],
      "source": [
        "energy0['avg_energy'] =  energy0['energy_sum']/energy0['LCLid']\n",
        "print(\"Starting Point of Data at Day Level\",min(energy0['day']))\n",
        "print(\"Ending Point of Data at Day Level\",max(energy0['day']))"
      ]
    },
    {
      "cell_type": "code",
      "execution_count": 12,
      "metadata": {
        "id": "UNW6bt7XCdZn",
        "outputId": "e0b428f5-d48f-412e-9006-672ad912e672",
        "colab": {
          "base_uri": "https://localhost:8080/",
          "height": 423
        }
      },
      "outputs": [
        {
          "output_type": "execute_result",
          "data": {
            "text/plain": [
              "            day  energy_sum  temperatureMax  windSpeed  humidity  holiday_ind  \\\n",
              "0    2011-12-12       6.380            9.82       5.02      0.84            0   \n",
              "1    2011-12-13      10.761           12.08       7.44      0.75            0   \n",
              "2    2011-12-14       4.592            5.92       4.48      0.79            0   \n",
              "3    2011-12-15       4.373            7.97       4.71      0.77            0   \n",
              "4    2011-12-16       9.811            9.36       7.42      1.76            0   \n",
              "..          ...         ...             ...        ...       ...          ...   \n",
              "803  2014-02-24      12.257           28.46      10.04      1.48            0   \n",
              "804  2014-02-25      10.722           22.86      11.38      1.56            0   \n",
              "805  2014-02-26      11.971           22.58       7.64      1.46            0   \n",
              "806  2014-02-27      10.234           20.62       8.28      1.48            0   \n",
              "807  2014-02-28       0.169           14.70       4.48      1.72            0   \n",
              "\n",
              "     LCLid  avg_energy  \n",
              "0        1      6.3800  \n",
              "1        1     10.7610  \n",
              "2        1      4.5920  \n",
              "3        1      4.3730  \n",
              "4        2      4.9055  \n",
              "..     ...         ...  \n",
              "803      2      6.1285  \n",
              "804      2      5.3610  \n",
              "805      2      5.9855  \n",
              "806      2      5.1170  \n",
              "807      2      0.0845  \n",
              "\n",
              "[808 rows x 8 columns]"
            ],
            "text/html": [
              "\n",
              "  <div id=\"df-04b1aca3-7927-4b16-8d7f-8b733ee67e2f\">\n",
              "    <div class=\"colab-df-container\">\n",
              "      <div>\n",
              "<style scoped>\n",
              "    .dataframe tbody tr th:only-of-type {\n",
              "        vertical-align: middle;\n",
              "    }\n",
              "\n",
              "    .dataframe tbody tr th {\n",
              "        vertical-align: top;\n",
              "    }\n",
              "\n",
              "    .dataframe thead th {\n",
              "        text-align: right;\n",
              "    }\n",
              "</style>\n",
              "<table border=\"1\" class=\"dataframe\">\n",
              "  <thead>\n",
              "    <tr style=\"text-align: right;\">\n",
              "      <th></th>\n",
              "      <th>day</th>\n",
              "      <th>energy_sum</th>\n",
              "      <th>temperatureMax</th>\n",
              "      <th>windSpeed</th>\n",
              "      <th>humidity</th>\n",
              "      <th>holiday_ind</th>\n",
              "      <th>LCLid</th>\n",
              "      <th>avg_energy</th>\n",
              "    </tr>\n",
              "  </thead>\n",
              "  <tbody>\n",
              "    <tr>\n",
              "      <th>0</th>\n",
              "      <td>2011-12-12</td>\n",
              "      <td>6.380</td>\n",
              "      <td>9.82</td>\n",
              "      <td>5.02</td>\n",
              "      <td>0.84</td>\n",
              "      <td>0</td>\n",
              "      <td>1</td>\n",
              "      <td>6.3800</td>\n",
              "    </tr>\n",
              "    <tr>\n",
              "      <th>1</th>\n",
              "      <td>2011-12-13</td>\n",
              "      <td>10.761</td>\n",
              "      <td>12.08</td>\n",
              "      <td>7.44</td>\n",
              "      <td>0.75</td>\n",
              "      <td>0</td>\n",
              "      <td>1</td>\n",
              "      <td>10.7610</td>\n",
              "    </tr>\n",
              "    <tr>\n",
              "      <th>2</th>\n",
              "      <td>2011-12-14</td>\n",
              "      <td>4.592</td>\n",
              "      <td>5.92</td>\n",
              "      <td>4.48</td>\n",
              "      <td>0.79</td>\n",
              "      <td>0</td>\n",
              "      <td>1</td>\n",
              "      <td>4.5920</td>\n",
              "    </tr>\n",
              "    <tr>\n",
              "      <th>3</th>\n",
              "      <td>2011-12-15</td>\n",
              "      <td>4.373</td>\n",
              "      <td>7.97</td>\n",
              "      <td>4.71</td>\n",
              "      <td>0.77</td>\n",
              "      <td>0</td>\n",
              "      <td>1</td>\n",
              "      <td>4.3730</td>\n",
              "    </tr>\n",
              "    <tr>\n",
              "      <th>4</th>\n",
              "      <td>2011-12-16</td>\n",
              "      <td>9.811</td>\n",
              "      <td>9.36</td>\n",
              "      <td>7.42</td>\n",
              "      <td>1.76</td>\n",
              "      <td>0</td>\n",
              "      <td>2</td>\n",
              "      <td>4.9055</td>\n",
              "    </tr>\n",
              "    <tr>\n",
              "      <th>...</th>\n",
              "      <td>...</td>\n",
              "      <td>...</td>\n",
              "      <td>...</td>\n",
              "      <td>...</td>\n",
              "      <td>...</td>\n",
              "      <td>...</td>\n",
              "      <td>...</td>\n",
              "      <td>...</td>\n",
              "    </tr>\n",
              "    <tr>\n",
              "      <th>803</th>\n",
              "      <td>2014-02-24</td>\n",
              "      <td>12.257</td>\n",
              "      <td>28.46</td>\n",
              "      <td>10.04</td>\n",
              "      <td>1.48</td>\n",
              "      <td>0</td>\n",
              "      <td>2</td>\n",
              "      <td>6.1285</td>\n",
              "    </tr>\n",
              "    <tr>\n",
              "      <th>804</th>\n",
              "      <td>2014-02-25</td>\n",
              "      <td>10.722</td>\n",
              "      <td>22.86</td>\n",
              "      <td>11.38</td>\n",
              "      <td>1.56</td>\n",
              "      <td>0</td>\n",
              "      <td>2</td>\n",
              "      <td>5.3610</td>\n",
              "    </tr>\n",
              "    <tr>\n",
              "      <th>805</th>\n",
              "      <td>2014-02-26</td>\n",
              "      <td>11.971</td>\n",
              "      <td>22.58</td>\n",
              "      <td>7.64</td>\n",
              "      <td>1.46</td>\n",
              "      <td>0</td>\n",
              "      <td>2</td>\n",
              "      <td>5.9855</td>\n",
              "    </tr>\n",
              "    <tr>\n",
              "      <th>806</th>\n",
              "      <td>2014-02-27</td>\n",
              "      <td>10.234</td>\n",
              "      <td>20.62</td>\n",
              "      <td>8.28</td>\n",
              "      <td>1.48</td>\n",
              "      <td>0</td>\n",
              "      <td>2</td>\n",
              "      <td>5.1170</td>\n",
              "    </tr>\n",
              "    <tr>\n",
              "      <th>807</th>\n",
              "      <td>2014-02-28</td>\n",
              "      <td>0.169</td>\n",
              "      <td>14.70</td>\n",
              "      <td>4.48</td>\n",
              "      <td>1.72</td>\n",
              "      <td>0</td>\n",
              "      <td>2</td>\n",
              "      <td>0.0845</td>\n",
              "    </tr>\n",
              "  </tbody>\n",
              "</table>\n",
              "<p>808 rows × 8 columns</p>\n",
              "</div>\n",
              "      <button class=\"colab-df-convert\" onclick=\"convertToInteractive('df-04b1aca3-7927-4b16-8d7f-8b733ee67e2f')\"\n",
              "              title=\"Convert this dataframe to an interactive table.\"\n",
              "              style=\"display:none;\">\n",
              "        \n",
              "  <svg xmlns=\"http://www.w3.org/2000/svg\" height=\"24px\"viewBox=\"0 0 24 24\"\n",
              "       width=\"24px\">\n",
              "    <path d=\"M0 0h24v24H0V0z\" fill=\"none\"/>\n",
              "    <path d=\"M18.56 5.44l.94 2.06.94-2.06 2.06-.94-2.06-.94-.94-2.06-.94 2.06-2.06.94zm-11 1L8.5 8.5l.94-2.06 2.06-.94-2.06-.94L8.5 2.5l-.94 2.06-2.06.94zm10 10l.94 2.06.94-2.06 2.06-.94-2.06-.94-.94-2.06-.94 2.06-2.06.94z\"/><path d=\"M17.41 7.96l-1.37-1.37c-.4-.4-.92-.59-1.43-.59-.52 0-1.04.2-1.43.59L10.3 9.45l-7.72 7.72c-.78.78-.78 2.05 0 2.83L4 21.41c.39.39.9.59 1.41.59.51 0 1.02-.2 1.41-.59l7.78-7.78 2.81-2.81c.8-.78.8-2.07 0-2.86zM5.41 20L4 18.59l7.72-7.72 1.47 1.35L5.41 20z\"/>\n",
              "  </svg>\n",
              "      </button>\n",
              "      \n",
              "  <style>\n",
              "    .colab-df-container {\n",
              "      display:flex;\n",
              "      flex-wrap:wrap;\n",
              "      gap: 12px;\n",
              "    }\n",
              "\n",
              "    .colab-df-convert {\n",
              "      background-color: #E8F0FE;\n",
              "      border: none;\n",
              "      border-radius: 50%;\n",
              "      cursor: pointer;\n",
              "      display: none;\n",
              "      fill: #1967D2;\n",
              "      height: 32px;\n",
              "      padding: 0 0 0 0;\n",
              "      width: 32px;\n",
              "    }\n",
              "\n",
              "    .colab-df-convert:hover {\n",
              "      background-color: #E2EBFA;\n",
              "      box-shadow: 0px 1px 2px rgba(60, 64, 67, 0.3), 0px 1px 3px 1px rgba(60, 64, 67, 0.15);\n",
              "      fill: #174EA6;\n",
              "    }\n",
              "\n",
              "    [theme=dark] .colab-df-convert {\n",
              "      background-color: #3B4455;\n",
              "      fill: #D2E3FC;\n",
              "    }\n",
              "\n",
              "    [theme=dark] .colab-df-convert:hover {\n",
              "      background-color: #434B5C;\n",
              "      box-shadow: 0px 1px 3px 1px rgba(0, 0, 0, 0.15);\n",
              "      filter: drop-shadow(0px 1px 2px rgba(0, 0, 0, 0.3));\n",
              "      fill: #FFFFFF;\n",
              "    }\n",
              "  </style>\n",
              "\n",
              "      <script>\n",
              "        const buttonEl =\n",
              "          document.querySelector('#df-04b1aca3-7927-4b16-8d7f-8b733ee67e2f button.colab-df-convert');\n",
              "        buttonEl.style.display =\n",
              "          google.colab.kernel.accessAllowed ? 'block' : 'none';\n",
              "\n",
              "        async function convertToInteractive(key) {\n",
              "          const element = document.querySelector('#df-04b1aca3-7927-4b16-8d7f-8b733ee67e2f');\n",
              "          const dataTable =\n",
              "            await google.colab.kernel.invokeFunction('convertToInteractive',\n",
              "                                                     [key], {});\n",
              "          if (!dataTable) return;\n",
              "\n",
              "          const docLinkHtml = 'Like what you see? Visit the ' +\n",
              "            '<a target=\"_blank\" href=https://colab.research.google.com/notebooks/data_table.ipynb>data table notebook</a>'\n",
              "            + ' to learn more about interactive tables.';\n",
              "          element.innerHTML = '';\n",
              "          dataTable['output_type'] = 'display_data';\n",
              "          await google.colab.output.renderOutput(dataTable, element);\n",
              "          const docLink = document.createElement('div');\n",
              "          docLink.innerHTML = docLinkHtml;\n",
              "          element.appendChild(docLink);\n",
              "        }\n",
              "      </script>\n",
              "    </div>\n",
              "  </div>\n",
              "  "
            ]
          },
          "metadata": {},
          "execution_count": 12
        }
      ],
      "source": [
        "energy0"
      ]
    },
    {
      "cell_type": "code",
      "execution_count": 13,
      "metadata": {
        "id": "8T-ndWqiCdZn",
        "outputId": "b88384f2-555e-41b7-a769-c759e8835cf7",
        "colab": {
          "base_uri": "https://localhost:8080/",
          "height": 300
        }
      },
      "outputs": [
        {
          "output_type": "execute_result",
          "data": {
            "text/plain": [
              "        energy_sum  temperatureMax    windSpeed    humidity  holiday_ind  \\\n",
              "count   808.000000      808.000000   808.000000  808.000000   808.000000   \n",
              "mean    925.227856     1580.780978   357.772203   80.097723    29.615099   \n",
              "std     631.652918     1327.674057   295.194471   51.824023    58.764766   \n",
              "min       0.169000       -8.820000     0.400000    0.750000     0.000000   \n",
              "25%     287.857000      270.725000    69.480000   20.040000     0.000000   \n",
              "50%    1004.814000     1440.310000   319.145000   92.635000     0.000000   \n",
              "75%    1411.478500     2702.480000   564.315000  122.820000     3.000000   \n",
              "max    2822.964001     5315.080000  1311.340000  187.440000   284.000000   \n",
              "\n",
              "            LCLid  avg_energy  \n",
              "count  808.000000  808.000000  \n",
              "mean   103.709158    8.854981  \n",
              "std     65.132566    2.394360  \n",
              "min      1.000000    0.084500  \n",
              "25%     32.000000    7.329190  \n",
              "50%    142.000000    8.127311  \n",
              "75%    151.000000   10.241171  \n",
              "max    178.000000   20.778875  "
            ],
            "text/html": [
              "\n",
              "  <div id=\"df-c618e332-44c5-4f10-a849-911194bcb674\">\n",
              "    <div class=\"colab-df-container\">\n",
              "      <div>\n",
              "<style scoped>\n",
              "    .dataframe tbody tr th:only-of-type {\n",
              "        vertical-align: middle;\n",
              "    }\n",
              "\n",
              "    .dataframe tbody tr th {\n",
              "        vertical-align: top;\n",
              "    }\n",
              "\n",
              "    .dataframe thead th {\n",
              "        text-align: right;\n",
              "    }\n",
              "</style>\n",
              "<table border=\"1\" class=\"dataframe\">\n",
              "  <thead>\n",
              "    <tr style=\"text-align: right;\">\n",
              "      <th></th>\n",
              "      <th>energy_sum</th>\n",
              "      <th>temperatureMax</th>\n",
              "      <th>windSpeed</th>\n",
              "      <th>humidity</th>\n",
              "      <th>holiday_ind</th>\n",
              "      <th>LCLid</th>\n",
              "      <th>avg_energy</th>\n",
              "    </tr>\n",
              "  </thead>\n",
              "  <tbody>\n",
              "    <tr>\n",
              "      <th>count</th>\n",
              "      <td>808.000000</td>\n",
              "      <td>808.000000</td>\n",
              "      <td>808.000000</td>\n",
              "      <td>808.000000</td>\n",
              "      <td>808.000000</td>\n",
              "      <td>808.000000</td>\n",
              "      <td>808.000000</td>\n",
              "    </tr>\n",
              "    <tr>\n",
              "      <th>mean</th>\n",
              "      <td>925.227856</td>\n",
              "      <td>1580.780978</td>\n",
              "      <td>357.772203</td>\n",
              "      <td>80.097723</td>\n",
              "      <td>29.615099</td>\n",
              "      <td>103.709158</td>\n",
              "      <td>8.854981</td>\n",
              "    </tr>\n",
              "    <tr>\n",
              "      <th>std</th>\n",
              "      <td>631.652918</td>\n",
              "      <td>1327.674057</td>\n",
              "      <td>295.194471</td>\n",
              "      <td>51.824023</td>\n",
              "      <td>58.764766</td>\n",
              "      <td>65.132566</td>\n",
              "      <td>2.394360</td>\n",
              "    </tr>\n",
              "    <tr>\n",
              "      <th>min</th>\n",
              "      <td>0.169000</td>\n",
              "      <td>-8.820000</td>\n",
              "      <td>0.400000</td>\n",
              "      <td>0.750000</td>\n",
              "      <td>0.000000</td>\n",
              "      <td>1.000000</td>\n",
              "      <td>0.084500</td>\n",
              "    </tr>\n",
              "    <tr>\n",
              "      <th>25%</th>\n",
              "      <td>287.857000</td>\n",
              "      <td>270.725000</td>\n",
              "      <td>69.480000</td>\n",
              "      <td>20.040000</td>\n",
              "      <td>0.000000</td>\n",
              "      <td>32.000000</td>\n",
              "      <td>7.329190</td>\n",
              "    </tr>\n",
              "    <tr>\n",
              "      <th>50%</th>\n",
              "      <td>1004.814000</td>\n",
              "      <td>1440.310000</td>\n",
              "      <td>319.145000</td>\n",
              "      <td>92.635000</td>\n",
              "      <td>0.000000</td>\n",
              "      <td>142.000000</td>\n",
              "      <td>8.127311</td>\n",
              "    </tr>\n",
              "    <tr>\n",
              "      <th>75%</th>\n",
              "      <td>1411.478500</td>\n",
              "      <td>2702.480000</td>\n",
              "      <td>564.315000</td>\n",
              "      <td>122.820000</td>\n",
              "      <td>3.000000</td>\n",
              "      <td>151.000000</td>\n",
              "      <td>10.241171</td>\n",
              "    </tr>\n",
              "    <tr>\n",
              "      <th>max</th>\n",
              "      <td>2822.964001</td>\n",
              "      <td>5315.080000</td>\n",
              "      <td>1311.340000</td>\n",
              "      <td>187.440000</td>\n",
              "      <td>284.000000</td>\n",
              "      <td>178.000000</td>\n",
              "      <td>20.778875</td>\n",
              "    </tr>\n",
              "  </tbody>\n",
              "</table>\n",
              "</div>\n",
              "      <button class=\"colab-df-convert\" onclick=\"convertToInteractive('df-c618e332-44c5-4f10-a849-911194bcb674')\"\n",
              "              title=\"Convert this dataframe to an interactive table.\"\n",
              "              style=\"display:none;\">\n",
              "        \n",
              "  <svg xmlns=\"http://www.w3.org/2000/svg\" height=\"24px\"viewBox=\"0 0 24 24\"\n",
              "       width=\"24px\">\n",
              "    <path d=\"M0 0h24v24H0V0z\" fill=\"none\"/>\n",
              "    <path d=\"M18.56 5.44l.94 2.06.94-2.06 2.06-.94-2.06-.94-.94-2.06-.94 2.06-2.06.94zm-11 1L8.5 8.5l.94-2.06 2.06-.94-2.06-.94L8.5 2.5l-.94 2.06-2.06.94zm10 10l.94 2.06.94-2.06 2.06-.94-2.06-.94-.94-2.06-.94 2.06-2.06.94z\"/><path d=\"M17.41 7.96l-1.37-1.37c-.4-.4-.92-.59-1.43-.59-.52 0-1.04.2-1.43.59L10.3 9.45l-7.72 7.72c-.78.78-.78 2.05 0 2.83L4 21.41c.39.39.9.59 1.41.59.51 0 1.02-.2 1.41-.59l7.78-7.78 2.81-2.81c.8-.78.8-2.07 0-2.86zM5.41 20L4 18.59l7.72-7.72 1.47 1.35L5.41 20z\"/>\n",
              "  </svg>\n",
              "      </button>\n",
              "      \n",
              "  <style>\n",
              "    .colab-df-container {\n",
              "      display:flex;\n",
              "      flex-wrap:wrap;\n",
              "      gap: 12px;\n",
              "    }\n",
              "\n",
              "    .colab-df-convert {\n",
              "      background-color: #E8F0FE;\n",
              "      border: none;\n",
              "      border-radius: 50%;\n",
              "      cursor: pointer;\n",
              "      display: none;\n",
              "      fill: #1967D2;\n",
              "      height: 32px;\n",
              "      padding: 0 0 0 0;\n",
              "      width: 32px;\n",
              "    }\n",
              "\n",
              "    .colab-df-convert:hover {\n",
              "      background-color: #E2EBFA;\n",
              "      box-shadow: 0px 1px 2px rgba(60, 64, 67, 0.3), 0px 1px 3px 1px rgba(60, 64, 67, 0.15);\n",
              "      fill: #174EA6;\n",
              "    }\n",
              "\n",
              "    [theme=dark] .colab-df-convert {\n",
              "      background-color: #3B4455;\n",
              "      fill: #D2E3FC;\n",
              "    }\n",
              "\n",
              "    [theme=dark] .colab-df-convert:hover {\n",
              "      background-color: #434B5C;\n",
              "      box-shadow: 0px 1px 3px 1px rgba(0, 0, 0, 0.15);\n",
              "      filter: drop-shadow(0px 1px 2px rgba(0, 0, 0, 0.3));\n",
              "      fill: #FFFFFF;\n",
              "    }\n",
              "  </style>\n",
              "\n",
              "      <script>\n",
              "        const buttonEl =\n",
              "          document.querySelector('#df-c618e332-44c5-4f10-a849-911194bcb674 button.colab-df-convert');\n",
              "        buttonEl.style.display =\n",
              "          google.colab.kernel.accessAllowed ? 'block' : 'none';\n",
              "\n",
              "        async function convertToInteractive(key) {\n",
              "          const element = document.querySelector('#df-c618e332-44c5-4f10-a849-911194bcb674');\n",
              "          const dataTable =\n",
              "            await google.colab.kernel.invokeFunction('convertToInteractive',\n",
              "                                                     [key], {});\n",
              "          if (!dataTable) return;\n",
              "\n",
              "          const docLinkHtml = 'Like what you see? Visit the ' +\n",
              "            '<a target=\"_blank\" href=https://colab.research.google.com/notebooks/data_table.ipynb>data table notebook</a>'\n",
              "            + ' to learn more about interactive tables.';\n",
              "          element.innerHTML = '';\n",
              "          dataTable['output_type'] = 'display_data';\n",
              "          await google.colab.output.renderOutput(dataTable, element);\n",
              "          const docLink = document.createElement('div');\n",
              "          docLink.innerHTML = docLinkHtml;\n",
              "          element.appendChild(docLink);\n",
              "        }\n",
              "      </script>\n",
              "    </div>\n",
              "  </div>\n",
              "  "
            ]
          },
          "metadata": {},
          "execution_count": 13
        }
      ],
      "source": [
        "energy0.describe()"
      ]
    },
    {
      "cell_type": "code",
      "execution_count": 14,
      "metadata": {
        "id": "U6kF1Sc-CdZn"
      },
      "outputs": [],
      "source": [
        "# Weather clusters\n",
        "from sklearn.preprocessing import MinMaxScaler\n",
        "\n",
        "scaler0 = MinMaxScaler()\n",
        "weather_scaled0 = scaler0.fit_transform(energy0[['temperatureMax','humidity','windSpeed']])"
      ]
    },
    {
      "cell_type": "code",
      "execution_count": 15,
      "metadata": {
        "id": "CrsyzGSOCdZo",
        "outputId": "66b87afb-2c6f-47e2-d465-7dfa5973e3e7",
        "colab": {
          "base_uri": "https://localhost:8080/"
        }
      },
      "outputs": [
        {
          "output_type": "execute_result",
          "data": {
            "text/plain": [
              "array([[0.00350119, 0.00048208, 0.00352419],\n",
              "       [0.00392569, 0.        , 0.00537019],\n",
              "       [0.00276865, 0.00021426, 0.00311227],\n",
              "       ...,\n",
              "       [0.00589793, 0.0038031 , 0.00552275],\n",
              "       [0.00552978, 0.00391023, 0.00601095],\n",
              "       [0.00441781, 0.00519578, 0.00311227]])"
            ]
          },
          "metadata": {},
          "execution_count": 15
        }
      ],
      "source": [
        "weather_scaled0"
      ]
    },
    {
      "cell_type": "code",
      "execution_count": 16,
      "metadata": {
        "id": "QHEc0oBWCdZo",
        "outputId": "49cac60a-c1b2-41a6-e893-5d4f6d4b1a5e",
        "colab": {
          "base_uri": "https://localhost:8080/",
          "height": 505
        }
      },
      "outputs": [
        {
          "output_type": "stream",
          "name": "stdout",
          "text": [
            "[KMeans(n_clusters=1, n_init='auto'), KMeans(n_clusters=2, n_init='auto'), KMeans(n_clusters=3, n_init='auto'), KMeans(n_clusters=4, n_init='auto'), KMeans(n_clusters=5, n_init='auto'), KMeans(n_clusters=6, n_init='auto'), KMeans(n_clusters=7, n_init='auto'), KMeans(n_init='auto'), KMeans(n_clusters=9, n_init='auto'), KMeans(n_clusters=10, n_init='auto'), KMeans(n_clusters=11, n_init='auto'), KMeans(n_clusters=12, n_init='auto'), KMeans(n_clusters=13, n_init='auto'), KMeans(n_clusters=14, n_init='auto'), KMeans(n_clusters=15, n_init='auto'), KMeans(n_clusters=16, n_init='auto'), KMeans(n_clusters=17, n_init='auto'), KMeans(n_clusters=18, n_init='auto'), KMeans(n_clusters=19, n_init='auto')]\n",
            "[-153.29271694016202, -56.86023794190129, -41.10475226578461, -30.30417951927636, -25.079791715130725, -21.514573055203492, -19.161391658819845, -17.153794973079407, -15.394766876896004, -14.457013563420002, -12.761091170363127, -12.29565781633743, -11.598727508447912, -10.539982129333719, -10.085630460971302, -9.709371183743205, -9.362438035982453, -9.331726690903926, -8.6198495846464]\n"
          ]
        },
        {
          "output_type": "display_data",
          "data": {
            "text/plain": [
              "<Figure size 640x480 with 1 Axes>"
            ],
            "image/png": "[encoded data removed]"
          },
          "metadata": {}
        }
      ],
      "source": [
        "from sklearn.cluster import KMeans\n",
        "import matplotlib.pyplot as plt\n",
        "\n",
        "\n",
        "Nc0 = range(1,20)\n",
        "kmeans0 = [KMeans(n_clusters=i, n_init='auto') for i in Nc0]\n",
        "print(kmeans0)\n",
        "\n",
        "score0 = [kmeans0[i].fit(weather_scaled0).score(weather_scaled0) for i in range(len(kmeans0))]\n",
        "print(score0)\n",
        "\n",
        "plt.plot(Nc0, score0)\n",
        "plt.xlabel('Number of Clusters')\n",
        "plt.ylabel('Score')\n",
        "plt.show()"
      ]
    },
    {
      "cell_type": "code",
      "execution_count": 17,
      "metadata": {
        "id": "_mpSRnWmCdZo",
        "outputId": "83534bfc-7a2b-4370-c891-53c20e5ed188",
        "colab": {
          "base_uri": "https://localhost:8080/",
          "height": 206
        }
      },
      "outputs": [
        {
          "output_type": "execute_result",
          "data": {
            "text/plain": [
              "          day  energy_sum  temperatureMax  windSpeed  humidity  holiday_ind  \\\n",
              "0  2011-12-12       6.380            9.82       5.02      0.84            0   \n",
              "1  2011-12-13      10.761           12.08       7.44      0.75            0   \n",
              "2  2011-12-14       4.592            5.92       4.48      0.79            0   \n",
              "3  2011-12-15       4.373            7.97       4.71      0.77            0   \n",
              "4  2011-12-16       9.811            9.36       7.42      1.76            0   \n",
              "\n",
              "   LCLid  avg_energy  weather_cluster  \n",
              "0      1      6.3800                2  \n",
              "1      1     10.7610                2  \n",
              "2      1      4.5920                2  \n",
              "3      1      4.3730                2  \n",
              "4      2      4.9055                2  "
            ],
            "text/html": [
              "\n",
              "  <div id=\"df-8108e9e6-4842-45df-9648-e95d7fe6d434\">\n",
              "    <div class=\"colab-df-container\">\n",
              "      <div>\n",
              "<style scoped>\n",
              "    .dataframe tbody tr th:only-of-type {\n",
              "        vertical-align: middle;\n",
              "    }\n",
              "\n",
              "    .dataframe tbody tr th {\n",
              "        vertical-align: top;\n",
              "    }\n",
              "\n",
              "    .dataframe thead th {\n",
              "        text-align: right;\n",
              "    }\n",
              "</style>\n",
              "<table border=\"1\" class=\"dataframe\">\n",
              "  <thead>\n",
              "    <tr style=\"text-align: right;\">\n",
              "      <th></th>\n",
              "      <th>day</th>\n",
              "      <th>energy_sum</th>\n",
              "      <th>temperatureMax</th>\n",
              "      <th>windSpeed</th>\n",
              "      <th>humidity</th>\n",
              "      <th>holiday_ind</th>\n",
              "      <th>LCLid</th>\n",
              "      <th>avg_energy</th>\n",
              "      <th>weather_cluster</th>\n",
              "    </tr>\n",
              "  </thead>\n",
              "  <tbody>\n",
              "    <tr>\n",
              "      <th>0</th>\n",
              "      <td>2011-12-12</td>\n",
              "      <td>6.380</td>\n",
              "      <td>9.82</td>\n",
              "      <td>5.02</td>\n",
              "      <td>0.84</td>\n",
              "      <td>0</td>\n",
              "      <td>1</td>\n",
              "      <td>6.3800</td>\n",
              "      <td>2</td>\n",
              "    </tr>\n",
              "    <tr>\n",
              "      <th>1</th>\n",
              "      <td>2011-12-13</td>\n",
              "      <td>10.761</td>\n",
              "      <td>12.08</td>\n",
              "      <td>7.44</td>\n",
              "      <td>0.75</td>\n",
              "      <td>0</td>\n",
              "      <td>1</td>\n",
              "      <td>10.7610</td>\n",
              "      <td>2</td>\n",
              "    </tr>\n",
              "    <tr>\n",
              "      <th>2</th>\n",
              "      <td>2011-12-14</td>\n",
              "      <td>4.592</td>\n",
              "      <td>5.92</td>\n",
              "      <td>4.48</td>\n",
              "      <td>0.79</td>\n",
              "      <td>0</td>\n",
              "      <td>1</td>\n",
              "      <td>4.5920</td>\n",
              "      <td>2</td>\n",
              "    </tr>\n",
              "    <tr>\n",
              "      <th>3</th>\n",
              "      <td>2011-12-15</td>\n",
              "      <td>4.373</td>\n",
              "      <td>7.97</td>\n",
              "      <td>4.71</td>\n",
              "      <td>0.77</td>\n",
              "      <td>0</td>\n",
              "      <td>1</td>\n",
              "      <td>4.3730</td>\n",
              "      <td>2</td>\n",
              "    </tr>\n",
              "    <tr>\n",
              "      <th>4</th>\n",
              "      <td>2011-12-16</td>\n",
              "      <td>9.811</td>\n",
              "      <td>9.36</td>\n",
              "      <td>7.42</td>\n",
              "      <td>1.76</td>\n",
              "      <td>0</td>\n",
              "      <td>2</td>\n",
              "      <td>4.9055</td>\n",
              "      <td>2</td>\n",
              "    </tr>\n",
              "  </tbody>\n",
              "</table>\n",
              "</div>\n",
              "      <button class=\"colab-df-convert\" onclick=\"convertToInteractive('df-8108e9e6-4842-45df-9648-e95d7fe6d434')\"\n",
              "              title=\"Convert this dataframe to an interactive table.\"\n",
              "              style=\"display:none;\">\n",
              "        \n",
              "  <svg xmlns=\"http://www.w3.org/2000/svg\" height=\"24px\"viewBox=\"0 0 24 24\"\n",
              "       width=\"24px\">\n",
              "    <path d=\"M0 0h24v24H0V0z\" fill=\"none\"/>\n",
              "    <path d=\"M18.56 5.44l.94 2.06.94-2.06 2.06-.94-2.06-.94-.94-2.06-.94 2.06-2.06.94zm-11 1L8.5 8.5l.94-2.06 2.06-.94-2.06-.94L8.5 2.5l-.94 2.06-2.06.94zm10 10l.94 2.06.94-2.06 2.06-.94-2.06-.94-.94-2.06-.94 2.06-2.06.94z\"/><path d=\"M17.41 7.96l-1.37-1.37c-.4-.4-.92-.59-1.43-.59-.52 0-1.04.2-1.43.59L10.3 9.45l-7.72 7.72c-.78.78-.78 2.05 0 2.83L4 21.41c.39.39.9.59 1.41.59.51 0 1.02-.2 1.41-.59l7.78-7.78 2.81-2.81c.8-.78.8-2.07 0-2.86zM5.41 20L4 18.59l7.72-7.72 1.47 1.35L5.41 20z\"/>\n",
              "  </svg>\n",
              "      </button>\n",
              "      \n",
              "  <style>\n",
              "    .colab-df-container {\n",
              "      display:flex;\n",
              "      flex-wrap:wrap;\n",
              "      gap: 12px;\n",
              "    }\n",
              "\n",
              "    .colab-df-convert {\n",
              "      background-color: #E8F0FE;\n",
              "      border: none;\n",
              "      border-radius: 50%;\n",
              "      cursor: pointer;\n",
              "      display: none;\n",
              "      fill: #1967D2;\n",
              "      height: 32px;\n",
              "      padding: 0 0 0 0;\n",
              "      width: 32px;\n",
              "    }\n",
              "\n",
              "    .colab-df-convert:hover {\n",
              "      background-color: #E2EBFA;\n",
              "      box-shadow: 0px 1px 2px rgba(60, 64, 67, 0.3), 0px 1px 3px 1px rgba(60, 64, 67, 0.15);\n",
              "      fill: #174EA6;\n",
              "    }\n",
              "\n",
              "    [theme=dark] .colab-df-convert {\n",
              "      background-color: #3B4455;\n",
              "      fill: #D2E3FC;\n",
              "    }\n",
              "\n",
              "    [theme=dark] .colab-df-convert:hover {\n",
              "      background-color: #434B5C;\n",
              "      box-shadow: 0px 1px 3px 1px rgba(0, 0, 0, 0.15);\n",
              "      filter: drop-shadow(0px 1px 2px rgba(0, 0, 0, 0.3));\n",
              "      fill: #FFFFFF;\n",
              "    }\n",
              "  </style>\n",
              "\n",
              "      <script>\n",
              "        const buttonEl =\n",
              "          document.querySelector('#df-8108e9e6-4842-45df-9648-e95d7fe6d434 button.colab-df-convert');\n",
              "        buttonEl.style.display =\n",
              "          google.colab.kernel.accessAllowed ? 'block' : 'none';\n",
              "\n",
              "        async function convertToInteractive(key) {\n",
              "          const element = document.querySelector('#df-8108e9e6-4842-45df-9648-e95d7fe6d434');\n",
              "          const dataTable =\n",
              "            await google.colab.kernel.invokeFunction('convertToInteractive',\n",
              "                                                     [key], {});\n",
              "          if (!dataTable) return;\n",
              "\n",
              "          const docLinkHtml = 'Like what you see? Visit the ' +\n",
              "            '<a target=\"_blank\" href=https://colab.research.google.com/notebooks/data_table.ipynb>data table notebook</a>'\n",
              "            + ' to learn more about interactive tables.';\n",
              "          element.innerHTML = '';\n",
              "          dataTable['output_type'] = 'display_data';\n",
              "          await google.colab.output.renderOutput(dataTable, element);\n",
              "          const docLink = document.createElement('div');\n",
              "          docLink.innerHTML = docLinkHtml;\n",
              "          element.appendChild(docLink);\n",
              "        }\n",
              "      </script>\n",
              "    </div>\n",
              "  </div>\n",
              "  "
            ]
          },
          "metadata": {},
          "execution_count": 17
        }
      ],
      "source": [
        "kmeans0 = KMeans(n_clusters=3, max_iter=600, algorithm='lloyd', n_init='auto')\n",
        "kmeans0.fit(weather_scaled0)\n",
        "energy0['weather_cluster'] = kmeans0.labels_\n",
        "energy0.head()"
      ]
    },
    {
      "cell_type": "code",
      "execution_count": 18,
      "metadata": {
        "id": "cJhPm3lqCdZp"
      },
      "outputs": [],
      "source": [
        "# Model"
      ]
    },
    {
      "cell_type": "code",
      "execution_count": 19,
      "metadata": {
        "id": "plvyXucoCdZp"
      },
      "outputs": [],
      "source": [
        "import numpy as np\n",
        "\n",
        "np.random.seed(11)\n",
        "dataframe = energy0.loc[:,'avg_energy']\n",
        "dataset = dataframe.values\n",
        "dataset = dataset.astype('float32')"
      ]
    },
    {
      "cell_type": "code",
      "execution_count": 20,
      "metadata": {
        "id": "8MrW1U30CdZp"
      },
      "outputs": [],
      "source": [
        "def series_to_supervised(data, n_in=1, n_out=1, dropnan=True):\n",
        "    n_vars = 1\n",
        "    df = pd.DataFrame(data)\n",
        "    cols, names = list(), list()\n",
        "    # input sequence (t-n, ... t-1)\n",
        "    for i in range(n_in, 0, -1):\n",
        "        cols.append(df.shift(i))\n",
        "        names += [('var%d(t-%d)' % (j+1, i)) for j in range(n_vars)]\n",
        "    # forecast sequence (t, t+1, ... t+n)\n",
        "    for i in range(0, n_out):\n",
        "        cols.append(df.shift(-i))\n",
        "        if i == 0:\n",
        "            names += [('var%d(t)' % (j+1)) for j in range(n_vars)]\n",
        "        else:\n",
        "            names += [('var%d(t+%d)' % (j+1, i)) for j in range(n_vars)]\n",
        "    agg = pd.concat(cols, axis=1)\n",
        "    agg.columns = names\n",
        "    if dropnan:\n",
        "        agg.dropna(inplace=True)\n",
        "    return agg"
      ]
    },
    {
      "cell_type": "code",
      "execution_count": 21,
      "metadata": {
        "id": "OLAypdF8CdZp",
        "outputId": "0664a238-c1b1-45fa-d6a9-098e3b888530",
        "colab": {
          "base_uri": "https://localhost:8080/",
          "height": 206
        }
      },
      "outputs": [
        {
          "output_type": "execute_result",
          "data": {
            "text/plain": [
              "    var1(t-7)  var1(t-6)  var1(t-5)  var1(t-4)  var1(t-3)  var1(t-2)  \\\n",
              "7      6.3800    10.7610     4.5920     4.3730     4.9055     6.0300   \n",
              "8     10.7610     4.5920     4.3730     4.9055     6.0300     6.9315   \n",
              "9      4.5920     4.3730     4.9055     6.0300     6.9315     7.0195   \n",
              "10     4.3730     4.9055     6.0300     6.9315     7.0195    10.5420   \n",
              "11     4.9055     6.0300     6.9315     7.0195    10.5420     8.1860   \n",
              "\n",
              "    var1(t-1)  var1(t)  \n",
              "7      6.9315   7.0195  \n",
              "8      7.0195  10.5420  \n",
              "9     10.5420   8.1860  \n",
              "10     8.1860   4.4725  \n",
              "11     4.4725   6.8710  "
            ],
            "text/html": [
              "\n",
              "  <div id=\"df-fe29997e-b0ab-4c5d-a25a-a068533338ac\">\n",
              "    <div class=\"colab-df-container\">\n",
              "      <div>\n",
              "<style scoped>\n",
              "    .dataframe tbody tr th:only-of-type {\n",
              "        vertical-align: middle;\n",
              "    }\n",
              "\n",
              "    .dataframe tbody tr th {\n",
              "        vertical-align: top;\n",
              "    }\n",
              "\n",
              "    .dataframe thead th {\n",
              "        text-align: right;\n",
              "    }\n",
              "</style>\n",
              "<table border=\"1\" class=\"dataframe\">\n",
              "  <thead>\n",
              "    <tr style=\"text-align: right;\">\n",
              "      <th></th>\n",
              "      <th>var1(t-7)</th>\n",
              "      <th>var1(t-6)</th>\n",
              "      <th>var1(t-5)</th>\n",
              "      <th>var1(t-4)</th>\n",
              "      <th>var1(t-3)</th>\n",
              "      <th>var1(t-2)</th>\n",
              "      <th>var1(t-1)</th>\n",
              "      <th>var1(t)</th>\n",
              "    </tr>\n",
              "  </thead>\n",
              "  <tbody>\n",
              "    <tr>\n",
              "      <th>7</th>\n",
              "      <td>6.3800</td>\n",
              "      <td>10.7610</td>\n",
              "      <td>4.5920</td>\n",
              "      <td>4.3730</td>\n",
              "      <td>4.9055</td>\n",
              "      <td>6.0300</td>\n",
              "      <td>6.9315</td>\n",
              "      <td>7.0195</td>\n",
              "    </tr>\n",
              "    <tr>\n",
              "      <th>8</th>\n",
              "      <td>10.7610</td>\n",
              "      <td>4.5920</td>\n",
              "      <td>4.3730</td>\n",
              "      <td>4.9055</td>\n",
              "      <td>6.0300</td>\n",
              "      <td>6.9315</td>\n",
              "      <td>7.0195</td>\n",
              "      <td>10.5420</td>\n",
              "    </tr>\n",
              "    <tr>\n",
              "      <th>9</th>\n",
              "      <td>4.5920</td>\n",
              "      <td>4.3730</td>\n",
              "      <td>4.9055</td>\n",
              "      <td>6.0300</td>\n",
              "      <td>6.9315</td>\n",
              "      <td>7.0195</td>\n",
              "      <td>10.5420</td>\n",
              "      <td>8.1860</td>\n",
              "    </tr>\n",
              "    <tr>\n",
              "      <th>10</th>\n",
              "      <td>4.3730</td>\n",
              "      <td>4.9055</td>\n",
              "      <td>6.0300</td>\n",
              "      <td>6.9315</td>\n",
              "      <td>7.0195</td>\n",
              "      <td>10.5420</td>\n",
              "      <td>8.1860</td>\n",
              "      <td>4.4725</td>\n",
              "    </tr>\n",
              "    <tr>\n",
              "      <th>11</th>\n",
              "      <td>4.9055</td>\n",
              "      <td>6.0300</td>\n",
              "      <td>6.9315</td>\n",
              "      <td>7.0195</td>\n",
              "      <td>10.5420</td>\n",
              "      <td>8.1860</td>\n",
              "      <td>4.4725</td>\n",
              "      <td>6.8710</td>\n",
              "    </tr>\n",
              "  </tbody>\n",
              "</table>\n",
              "</div>\n",
              "      <button class=\"colab-df-convert\" onclick=\"convertToInteractive('df-fe29997e-b0ab-4c5d-a25a-a068533338ac')\"\n",
              "              title=\"Convert this dataframe to an interactive table.\"\n",
              "              style=\"display:none;\">\n",
              "        \n",
              "  <svg xmlns=\"http://www.w3.org/2000/svg\" height=\"24px\"viewBox=\"0 0 24 24\"\n",
              "       width=\"24px\">\n",
              "    <path d=\"M0 0h24v24H0V0z\" fill=\"none\"/>\n",
              "    <path d=\"M18.56 5.44l.94 2.06.94-2.06 2.06-.94-2.06-.94-.94-2.06-.94 2.06-2.06.94zm-11 1L8.5 8.5l.94-2.06 2.06-.94-2.06-.94L8.5 2.5l-.94 2.06-2.06.94zm10 10l.94 2.06.94-2.06 2.06-.94-2.06-.94-.94-2.06-.94 2.06-2.06.94z\"/><path d=\"M17.41 7.96l-1.37-1.37c-.4-.4-.92-.59-1.43-.59-.52 0-1.04.2-1.43.59L10.3 9.45l-7.72 7.72c-.78.78-.78 2.05 0 2.83L4 21.41c.39.39.9.59 1.41.59.51 0 1.02-.2 1.41-.59l7.78-7.78 2.81-2.81c.8-.78.8-2.07 0-2.86zM5.41 20L4 18.59l7.72-7.72 1.47 1.35L5.41 20z\"/>\n",
              "  </svg>\n",
              "      </button>\n",
              "      \n",
              "  <style>\n",
              "    .colab-df-container {\n",
              "      display:flex;\n",
              "      flex-wrap:wrap;\n",
              "      gap: 12px;\n",
              "    }\n",
              "\n",
              "    .colab-df-convert {\n",
              "      background-color: #E8F0FE;\n",
              "      border: none;\n",
              "      border-radius: 50%;\n",
              "      cursor: pointer;\n",
              "      display: none;\n",
              "      fill: #1967D2;\n",
              "      height: 32px;\n",
              "      padding: 0 0 0 0;\n",
              "      width: 32px;\n",
              "    }\n",
              "\n",
              "    .colab-df-convert:hover {\n",
              "      background-color: #E2EBFA;\n",
              "      box-shadow: 0px 1px 2px rgba(60, 64, 67, 0.3), 0px 1px 3px 1px rgba(60, 64, 67, 0.15);\n",
              "      fill: #174EA6;\n",
              "    }\n",
              "\n",
              "    [theme=dark] .colab-df-convert {\n",
              "      background-color: #3B4455;\n",
              "      fill: #D2E3FC;\n",
              "    }\n",
              "\n",
              "    [theme=dark] .colab-df-convert:hover {\n",
              "      background-color: #434B5C;\n",
              "      box-shadow: 0px 1px 3px 1px rgba(0, 0, 0, 0.15);\n",
              "      filter: drop-shadow(0px 1px 2px rgba(0, 0, 0, 0.3));\n",
              "      fill: #FFFFFF;\n",
              "    }\n",
              "  </style>\n",
              "\n",
              "      <script>\n",
              "        const buttonEl =\n",
              "          document.querySelector('#df-fe29997e-b0ab-4c5d-a25a-a068533338ac button.colab-df-convert');\n",
              "        buttonEl.style.display =\n",
              "          google.colab.kernel.accessAllowed ? 'block' : 'none';\n",
              "\n",
              "        async function convertToInteractive(key) {\n",
              "          const element = document.querySelector('#df-fe29997e-b0ab-4c5d-a25a-a068533338ac');\n",
              "          const dataTable =\n",
              "            await google.colab.kernel.invokeFunction('convertToInteractive',\n",
              "                                                     [key], {});\n",
              "          if (!dataTable) return;\n",
              "\n",
              "          const docLinkHtml = 'Like what you see? Visit the ' +\n",
              "            '<a target=\"_blank\" href=https://colab.research.google.com/notebooks/data_table.ipynb>data table notebook</a>'\n",
              "            + ' to learn more about interactive tables.';\n",
              "          element.innerHTML = '';\n",
              "          dataTable['output_type'] = 'display_data';\n",
              "          await google.colab.output.renderOutput(dataTable, element);\n",
              "          const docLink = document.createElement('div');\n",
              "          docLink.innerHTML = docLinkHtml;\n",
              "          element.appendChild(docLink);\n",
              "        }\n",
              "      </script>\n",
              "    </div>\n",
              "  </div>\n",
              "  "
            ]
          },
          "metadata": {},
          "execution_count": 21
        }
      ],
      "source": [
        "reframed0 = series_to_supervised(dataset, 7,1)\n",
        "reframed0.head()"
      ]
    },
    {
      "cell_type": "code",
      "execution_count": 22,
      "metadata": {
        "id": "Dg7DACjXCdZq"
      },
      "outputs": [],
      "source": [
        "reframed0['weather_cluster'] = energy0['weather_cluster'].values[7:]\n",
        "reframed0['holiday_ind']= energy0['holiday_ind'].values[7:]"
      ]
    },
    {
      "cell_type": "code",
      "execution_count": 23,
      "metadata": {
        "id": "P65RHLvmCdZq"
      },
      "outputs": [],
      "source": [
        "reframed0 = reframed0.reindex(['weather_cluster', 'holiday_ind','var1(t-7)', 'var1(t-6)', 'var1(t-5)', 'var1(t-4)', 'var1(t-3)','var1(t-2)', 'var1(t-1)', 'var1(t)'], axis=1)\n",
        "reframed0 = reframed0.values"
      ]
    },
    {
      "cell_type": "code",
      "execution_count": 24,
      "metadata": {
        "id": "OqUDKPUUCdZq",
        "outputId": "8ecdfef9-0d18-4cf5-e914-af082845f3d2",
        "colab": {
          "base_uri": "https://localhost:8080/"
        }
      },
      "outputs": [
        {
          "output_type": "execute_result",
          "data": {
            "text/plain": [
              "161"
            ]
          },
          "metadata": {},
          "execution_count": 24
        }
      ],
      "source": [
        "n = int(0.2*(len(energy0)))\n",
        "n"
      ]
    },
    {
      "cell_type": "code",
      "execution_count": 25,
      "metadata": {
        "id": "1ScQM4wPCdZq"
      },
      "outputs": [],
      "source": [
        "# Normalisation\n",
        "scaler0 = MinMaxScaler(feature_range=(0, 1))\n",
        "reframed0 = scaler0.fit_transform(reframed0)"
      ]
    },
    {
      "cell_type": "code",
      "execution_count": 26,
      "metadata": {
        "id": "ZfCwjdU8CdZq"
      },
      "outputs": [],
      "source": [
        "train0 = reframed0[:(len(reframed0)-n), :]\n",
        "test0 = reframed0[(len(reframed0)-n):len(reframed0), :]"
      ]
    },
    {
      "cell_type": "code",
      "execution_count": 27,
      "metadata": {
        "id": "WkqqBgOTCdZq"
      },
      "outputs": [],
      "source": [
        "train_X0, train_y0 = train0[:, :-1], train0[:, -1]\n",
        "test_X0, test_y0 = test0[:, :-1], test0[:, -1]"
      ]
    },
    {
      "cell_type": "code",
      "execution_count": 28,
      "metadata": {
        "id": "mhh_d0Y1CdZr",
        "outputId": "de827d4b-b400-4f39-ed0c-6976deaaee0d",
        "colab": {
          "base_uri": "https://localhost:8080/"
        }
      },
      "outputs": [
        {
          "output_type": "stream",
          "name": "stdout",
          "text": [
            "(640, 1, 9) (640,) (161, 1, 9) (161,)\n"
          ]
        }
      ],
      "source": [
        "train_X0 = train_X0.reshape((train_X0.shape[0], 1, train_X0.shape[1]))\n",
        "test_X0 = test_X0.reshape((test_X0.shape[0], 1, test_X0.shape[1]))\n",
        "print(train_X0.shape, train_y0.shape, test_X0.shape, test_y0.shape)"
      ]
    },
    {
      "cell_type": "code",
      "execution_count": 29,
      "metadata": {
        "id": "IikZXKZcCdZr"
      },
      "outputs": [],
      "source": [
        "from keras.models import Sequential\n",
        "from keras.layers import Dense, LSTM, Dropout\n",
        "from keras.regularizers import L2"
      ]
    },
    {
      "cell_type": "code",
      "execution_count": 30,
      "metadata": {
        "id": "Y-zLf4xvCdZr"
      },
      "outputs": [],
      "source": [
        "# # design network\n",
        "# model = Sequential()\n",
        "# model.add(LSTM(50, input_shape=(train_X0.shape[1], train_X0.shape[2]), return_sequences=True))\n",
        "# model.add(LSTM(50, return_sequences=True))\n",
        "# model.add(Dense(32, activation='relu'))\n",
        "# model.add(Dense(1))\n",
        "# model.compile(loss='mae', optimizer='rmsprop')\n",
        "\n",
        "# # fit network\n",
        "# history = model.fit(train_X0, train_y0, epochs=50, batch_size=72, verbose=2, shuffle=False, validation_data=(test_X0, test_y0))\n",
        "\n",
        "# # plot history\n",
        "# plt.plot(history.history['loss'], label='train')\n",
        "# plt.plot(history.history['val_loss'], label='test')\n",
        "# plt.legend()\n",
        "# plt.show()\n"
      ]
    },
    {
      "cell_type": "code",
      "execution_count": 31,
      "metadata": {
        "id": "d16KxSA_CdZr"
      },
      "outputs": [],
      "source": [
        "# # design network\n",
        "# model = Sequential()\n",
        "# model.add(LSTM(50, input_shape=(train_X0.shape[1], train_X0.shape[2]), return_sequences=True))\n",
        "# model.add(Dropout(0.2))\n",
        "# model.add(LSTM(50, return_sequences=True))\n",
        "# model.add(Dropout(0.2))\n",
        "# model.add(Dense(32, activation='relu', kernel_regularizer=L2(0.01)))\n",
        "# model.add(Dense(1))\n",
        "# model.compile(loss='mse', optimizer='adam')\n",
        "\n",
        "# # fit network\n",
        "# history = model.fit(train_X0, train_y0, epochs=100, batch_size=32, verbose=2, shuffle=False, validation_data=(test_X0, test_y0))\n",
        "\n",
        "# # plot history\n",
        "# plt.plot(history.history['loss'], label='train')\n",
        "# plt.plot(history.history['val_loss'], label='test')\n",
        "# plt.legend()\n",
        "# plt.show()"
      ]
    },
    {
      "cell_type": "code",
      "execution_count": 32,
      "metadata": {
        "id": "XkS9g49DCdZr",
        "outputId": "1ce5e023-0b2a-45c4-c1ba-607b7b3c2add",
        "colab": {
          "base_uri": "https://localhost:8080/",
          "height": 1000
        }
      },
      "outputs": [
        {
          "output_type": "stream",
          "name": "stdout",
          "text": [
            "Epoch 1/100\n",
            "20/20 - 6s - loss: 0.1653 - val_loss: 0.0438 - 6s/epoch - 307ms/step\n",
            "Epoch 2/100\n",
            "20/20 - 0s - loss: 0.0562 - val_loss: 0.0058 - 101ms/epoch - 5ms/step\n",
            "Epoch 3/100\n",
            "20/20 - 0s - loss: 0.0051 - val_loss: 0.0158 - 102ms/epoch - 5ms/step\n",
            "Epoch 4/100\n",
            "20/20 - 0s - loss: 0.0073 - val_loss: 0.0058 - 118ms/epoch - 6ms/step\n",
            "Epoch 5/100\n",
            "20/20 - 0s - loss: 0.0045 - val_loss: 0.0072 - 103ms/epoch - 5ms/step\n",
            "Epoch 6/100\n",
            "20/20 - 0s - loss: 0.0042 - val_loss: 0.0055 - 111ms/epoch - 6ms/step\n",
            "Epoch 7/100\n",
            "20/20 - 0s - loss: 0.0040 - val_loss: 0.0048 - 114ms/epoch - 6ms/step\n",
            "Epoch 8/100\n",
            "20/20 - 0s - loss: 0.0036 - val_loss: 0.0042 - 101ms/epoch - 5ms/step\n",
            "Epoch 9/100\n",
            "20/20 - 0s - loss: 0.0037 - val_loss: 0.0039 - 127ms/epoch - 6ms/step\n",
            "Epoch 10/100\n",
            "20/20 - 0s - loss: 0.0036 - val_loss: 0.0034 - 100ms/epoch - 5ms/step\n",
            "Epoch 11/100\n",
            "20/20 - 0s - loss: 0.0033 - val_loss: 0.0033 - 107ms/epoch - 5ms/step\n",
            "Epoch 12/100\n",
            "20/20 - 0s - loss: 0.0032 - val_loss: 0.0032 - 103ms/epoch - 5ms/step\n",
            "Epoch 13/100\n",
            "20/20 - 0s - loss: 0.0031 - val_loss: 0.0031 - 121ms/epoch - 6ms/step\n",
            "Epoch 14/100\n",
            "20/20 - 0s - loss: 0.0034 - val_loss: 0.0030 - 107ms/epoch - 5ms/step\n",
            "Epoch 15/100\n",
            "20/20 - 0s - loss: 0.0031 - val_loss: 0.0030 - 115ms/epoch - 6ms/step\n",
            "Epoch 16/100\n",
            "20/20 - 0s - loss: 0.0032 - val_loss: 0.0031 - 113ms/epoch - 6ms/step\n",
            "Epoch 17/100\n",
            "20/20 - 0s - loss: 0.0033 - val_loss: 0.0029 - 115ms/epoch - 6ms/step\n",
            "Epoch 18/100\n",
            "20/20 - 0s - loss: 0.0030 - val_loss: 0.0031 - 117ms/epoch - 6ms/step\n",
            "Epoch 19/100\n",
            "20/20 - 0s - loss: 0.0032 - val_loss: 0.0030 - 117ms/epoch - 6ms/step\n",
            "Epoch 20/100\n",
            "20/20 - 0s - loss: 0.0031 - val_loss: 0.0030 - 123ms/epoch - 6ms/step\n",
            "Epoch 21/100\n",
            "20/20 - 0s - loss: 0.0029 - val_loss: 0.0029 - 112ms/epoch - 6ms/step\n",
            "Epoch 22/100\n",
            "20/20 - 0s - loss: 0.0032 - val_loss: 0.0031 - 98ms/epoch - 5ms/step\n",
            "Epoch 23/100\n",
            "20/20 - 0s - loss: 0.0030 - val_loss: 0.0030 - 108ms/epoch - 5ms/step\n",
            "Epoch 24/100\n",
            "20/20 - 0s - loss: 0.0029 - val_loss: 0.0029 - 120ms/epoch - 6ms/step\n",
            "Epoch 25/100\n",
            "20/20 - 0s - loss: 0.0030 - val_loss: 0.0029 - 122ms/epoch - 6ms/step\n",
            "Epoch 26/100\n",
            "20/20 - 0s - loss: 0.0029 - val_loss: 0.0029 - 117ms/epoch - 6ms/step\n",
            "Epoch 27/100\n",
            "20/20 - 0s - loss: 0.0030 - val_loss: 0.0029 - 102ms/epoch - 5ms/step\n",
            "Epoch 28/100\n",
            "20/20 - 0s - loss: 0.0031 - val_loss: 0.0029 - 110ms/epoch - 5ms/step\n",
            "Epoch 29/100\n",
            "20/20 - 0s - loss: 0.0027 - val_loss: 0.0030 - 104ms/epoch - 5ms/step\n",
            "Epoch 30/100\n",
            "20/20 - 0s - loss: 0.0031 - val_loss: 0.0029 - 114ms/epoch - 6ms/step\n",
            "Epoch 31/100\n",
            "20/20 - 0s - loss: 0.0029 - val_loss: 0.0027 - 101ms/epoch - 5ms/step\n",
            "Epoch 32/100\n",
            "20/20 - 0s - loss: 0.0032 - val_loss: 0.0029 - 100ms/epoch - 5ms/step\n",
            "Epoch 33/100\n",
            "20/20 - 0s - loss: 0.0030 - val_loss: 0.0030 - 100ms/epoch - 5ms/step\n",
            "Epoch 34/100\n",
            "20/20 - 0s - loss: 0.0030 - val_loss: 0.0028 - 99ms/epoch - 5ms/step\n",
            "Epoch 35/100\n",
            "20/20 - 0s - loss: 0.0028 - val_loss: 0.0028 - 105ms/epoch - 5ms/step\n",
            "Epoch 36/100\n",
            "20/20 - 0s - loss: 0.0030 - val_loss: 0.0028 - 115ms/epoch - 6ms/step\n",
            "Epoch 37/100\n",
            "20/20 - 0s - loss: 0.0029 - val_loss: 0.0029 - 108ms/epoch - 5ms/step\n",
            "Epoch 38/100\n",
            "20/20 - 0s - loss: 0.0026 - val_loss: 0.0029 - 108ms/epoch - 5ms/step\n",
            "Epoch 39/100\n",
            "20/20 - 0s - loss: 0.0028 - val_loss: 0.0028 - 103ms/epoch - 5ms/step\n",
            "Epoch 40/100\n",
            "20/20 - 0s - loss: 0.0029 - val_loss: 0.0028 - 121ms/epoch - 6ms/step\n",
            "Epoch 41/100\n",
            "20/20 - 0s - loss: 0.0030 - val_loss: 0.0027 - 116ms/epoch - 6ms/step\n",
            "Epoch 42/100\n",
            "20/20 - 0s - loss: 0.0030 - val_loss: 0.0028 - 122ms/epoch - 6ms/step\n",
            "Epoch 43/100\n",
            "20/20 - 0s - loss: 0.0029 - val_loss: 0.0029 - 102ms/epoch - 5ms/step\n",
            "Epoch 44/100\n",
            "20/20 - 0s - loss: 0.0031 - val_loss: 0.0027 - 102ms/epoch - 5ms/step\n",
            "Epoch 45/100\n",
            "20/20 - 0s - loss: 0.0030 - val_loss: 0.0027 - 101ms/epoch - 5ms/step\n",
            "Epoch 46/100\n",
            "20/20 - 0s - loss: 0.0030 - val_loss: 0.0027 - 111ms/epoch - 6ms/step\n",
            "Epoch 47/100\n",
            "20/20 - 0s - loss: 0.0030 - val_loss: 0.0029 - 112ms/epoch - 6ms/step\n",
            "Epoch 48/100\n",
            "20/20 - 0s - loss: 0.0027 - val_loss: 0.0031 - 116ms/epoch - 6ms/step\n",
            "Epoch 49/100\n",
            "20/20 - 0s - loss: 0.0028 - val_loss: 0.0027 - 98ms/epoch - 5ms/step\n",
            "Epoch 50/100\n",
            "20/20 - 0s - loss: 0.0028 - val_loss: 0.0026 - 111ms/epoch - 6ms/step\n",
            "Epoch 51/100\n",
            "20/20 - 0s - loss: 0.0029 - val_loss: 0.0026 - 108ms/epoch - 5ms/step\n",
            "Epoch 52/100\n",
            "20/20 - 0s - loss: 0.0029 - val_loss: 0.0027 - 119ms/epoch - 6ms/step\n",
            "Epoch 53/100\n",
            "20/20 - 0s - loss: 0.0027 - val_loss: 0.0027 - 107ms/epoch - 5ms/step\n",
            "Epoch 54/100\n",
            "20/20 - 0s - loss: 0.0028 - val_loss: 0.0027 - 105ms/epoch - 5ms/step\n",
            "Epoch 55/100\n",
            "20/20 - 0s - loss: 0.0026 - val_loss: 0.0027 - 112ms/epoch - 6ms/step\n",
            "Epoch 56/100\n",
            "20/20 - 0s - loss: 0.0026 - val_loss: 0.0027 - 111ms/epoch - 6ms/step\n",
            "Epoch 57/100\n",
            "20/20 - 0s - loss: 0.0026 - val_loss: 0.0028 - 123ms/epoch - 6ms/step\n",
            "Epoch 58/100\n",
            "20/20 - 0s - loss: 0.0028 - val_loss: 0.0027 - 112ms/epoch - 6ms/step\n",
            "Epoch 59/100\n",
            "20/20 - 0s - loss: 0.0028 - val_loss: 0.0026 - 114ms/epoch - 6ms/step\n",
            "Epoch 60/100\n",
            "20/20 - 0s - loss: 0.0028 - val_loss: 0.0025 - 100ms/epoch - 5ms/step\n",
            "Epoch 61/100\n",
            "20/20 - 0s - loss: 0.0030 - val_loss: 0.0026 - 114ms/epoch - 6ms/step\n",
            "Epoch 62/100\n",
            "20/20 - 0s - loss: 0.0027 - val_loss: 0.0027 - 110ms/epoch - 6ms/step\n",
            "Epoch 63/100\n",
            "20/20 - 0s - loss: 0.0025 - val_loss: 0.0029 - 97ms/epoch - 5ms/step\n",
            "Epoch 64/100\n",
            "20/20 - 0s - loss: 0.0028 - val_loss: 0.0028 - 111ms/epoch - 6ms/step\n",
            "Epoch 65/100\n",
            "20/20 - 0s - loss: 0.0027 - val_loss: 0.0027 - 104ms/epoch - 5ms/step\n",
            "Epoch 66/100\n",
            "20/20 - 0s - loss: 0.0026 - val_loss: 0.0025 - 111ms/epoch - 6ms/step\n",
            "Epoch 67/100\n",
            "20/20 - 0s - loss: 0.0027 - val_loss: 0.0025 - 112ms/epoch - 6ms/step\n",
            "Epoch 68/100\n",
            "20/20 - 0s - loss: 0.0029 - val_loss: 0.0027 - 111ms/epoch - 6ms/step\n",
            "Epoch 69/100\n",
            "20/20 - 0s - loss: 0.0028 - val_loss: 0.0031 - 116ms/epoch - 6ms/step\n",
            "Epoch 70/100\n",
            "20/20 - 0s - loss: 0.0027 - val_loss: 0.0029 - 107ms/epoch - 5ms/step\n",
            "Epoch 71/100\n",
            "20/20 - 0s - loss: 0.0027 - val_loss: 0.0025 - 109ms/epoch - 5ms/step\n",
            "Epoch 72/100\n",
            "20/20 - 0s - loss: 0.0025 - val_loss: 0.0025 - 101ms/epoch - 5ms/step\n",
            "Epoch 73/100\n",
            "20/20 - 0s - loss: 0.0028 - val_loss: 0.0025 - 115ms/epoch - 6ms/step\n",
            "Epoch 74/100\n",
            "20/20 - 0s - loss: 0.0028 - val_loss: 0.0026 - 113ms/epoch - 6ms/step\n",
            "Epoch 75/100\n",
            "20/20 - 0s - loss: 0.0027 - val_loss: 0.0030 - 112ms/epoch - 6ms/step\n",
            "Epoch 76/100\n",
            "20/20 - 0s - loss: 0.0026 - val_loss: 0.0028 - 113ms/epoch - 6ms/step\n",
            "Epoch 77/100\n",
            "20/20 - 0s - loss: 0.0026 - val_loss: 0.0026 - 114ms/epoch - 6ms/step\n",
            "Epoch 78/100\n",
            "20/20 - 0s - loss: 0.0027 - val_loss: 0.0025 - 113ms/epoch - 6ms/step\n",
            "Epoch 79/100\n",
            "20/20 - 0s - loss: 0.0026 - val_loss: 0.0025 - 104ms/epoch - 5ms/step\n",
            "Epoch 80/100\n",
            "20/20 - 0s - loss: 0.0028 - val_loss: 0.0025 - 121ms/epoch - 6ms/step\n",
            "Epoch 81/100\n",
            "20/20 - 0s - loss: 0.0026 - val_loss: 0.0027 - 108ms/epoch - 5ms/step\n",
            "Epoch 82/100\n",
            "20/20 - 0s - loss: 0.0024 - val_loss: 0.0029 - 101ms/epoch - 5ms/step\n",
            "Epoch 83/100\n",
            "20/20 - 0s - loss: 0.0024 - val_loss: 0.0028 - 116ms/epoch - 6ms/step\n",
            "Epoch 84/100\n",
            "20/20 - 0s - loss: 0.0025 - val_loss: 0.0025 - 107ms/epoch - 5ms/step\n",
            "Epoch 85/100\n",
            "20/20 - 0s - loss: 0.0026 - val_loss: 0.0024 - 99ms/epoch - 5ms/step\n",
            "Epoch 86/100\n",
            "20/20 - 0s - loss: 0.0026 - val_loss: 0.0025 - 104ms/epoch - 5ms/step\n",
            "Epoch 87/100\n",
            "20/20 - 0s - loss: 0.0028 - val_loss: 0.0026 - 102ms/epoch - 5ms/step\n",
            "Epoch 88/100\n",
            "20/20 - 0s - loss: 0.0025 - val_loss: 0.0028 - 145ms/epoch - 7ms/step\n",
            "Epoch 89/100\n",
            "20/20 - 0s - loss: 0.0027 - val_loss: 0.0030 - 166ms/epoch - 8ms/step\n",
            "Epoch 90/100\n",
            "20/20 - 0s - loss: 0.0029 - val_loss: 0.0028 - 159ms/epoch - 8ms/step\n",
            "Epoch 91/100\n",
            "20/20 - 0s - loss: 0.0026 - val_loss: 0.0024 - 156ms/epoch - 8ms/step\n",
            "Epoch 92/100\n",
            "20/20 - 0s - loss: 0.0026 - val_loss: 0.0024 - 184ms/epoch - 9ms/step\n",
            "Epoch 93/100\n",
            "20/20 - 0s - loss: 0.0025 - val_loss: 0.0025 - 150ms/epoch - 8ms/step\n",
            "Epoch 94/100\n",
            "20/20 - 0s - loss: 0.0028 - val_loss: 0.0026 - 158ms/epoch - 8ms/step\n",
            "Epoch 95/100\n",
            "20/20 - 0s - loss: 0.0026 - val_loss: 0.0028 - 149ms/epoch - 7ms/step\n",
            "Epoch 96/100\n",
            "20/20 - 0s - loss: 0.0028 - val_loss: 0.0030 - 151ms/epoch - 8ms/step\n",
            "Epoch 97/100\n",
            "20/20 - 0s - loss: 0.0026 - val_loss: 0.0026 - 157ms/epoch - 8ms/step\n",
            "Epoch 98/100\n",
            "20/20 - 0s - loss: 0.0025 - val_loss: 0.0024 - 183ms/epoch - 9ms/step\n",
            "Epoch 99/100\n",
            "20/20 - 0s - loss: 0.0027 - val_loss: 0.0025 - 158ms/epoch - 8ms/step\n",
            "Epoch 100/100\n",
            "20/20 - 0s - loss: 0.0028 - val_loss: 0.0025 - 146ms/epoch - 7ms/step\n"
          ]
        },
        {
          "output_type": "display_data",
          "data": {
            "text/plain": [
              "<Figure size 640x480 with 1 Axes>"
            ],
            "image/png": "[encoded data removed]"
          },
          "metadata": {}
        }
      ],
      "source": [
        "# design network\n",
        "model = Sequential()\n",
        "model.add(LSTM(50, input_shape=(train_X0.shape[1], train_X0.shape[2]), return_sequences=True))\n",
        "model.add(Dropout(0.2))\n",
        "model.add(LSTM(50))\n",
        "model.add(Dense(1))\n",
        "model.compile(loss='mse', optimizer='adam')\n",
        "\n",
        "# fit network\n",
        "history = model.fit(train_X0, train_y0, epochs=100, batch_size=32, verbose=2, shuffle=False, validation_data=(test_X0, test_y0))\n",
        "\n",
        "# plot history\n",
        "plt.plot(history.history['loss'], label='train')\n",
        "plt.plot(history.history['val_loss'], label='test')\n",
        "plt.legend()\n",
        "plt.show()"
      ]
    },
    {
      "cell_type": "code",
      "execution_count": 33,
      "metadata": {
        "id": "nzbS6AHRCdZs",
        "outputId": "5133fc9f-c74b-47c3-dbff-cbae4cf15993",
        "colab": {
          "base_uri": "https://localhost:8080/",
          "height": 503
        }
      },
      "outputs": [
        {
          "output_type": "stream",
          "name": "stdout",
          "text": [
            "6/6 [==============================] - 1s 4ms/step\n",
            "(161, 1) (161,)\n",
            "(161,) (161,)\n",
            "Test MAE: 0.033\n"
          ]
        },
        {
          "output_type": "display_data",
          "data": {
            "text/plain": [
              "<Figure size 640x480 with 1 Axes>"
            ],
            "image/png": "[encoded data removed]"
          },
          "metadata": {}
        }
      ],
      "source": [
        "# make predictions on test data\n",
        "from sklearn.metrics import mean_absolute_error\n",
        "\n",
        "\n",
        "y_pred = model.predict(test_X0)\n",
        "print(y_pred.shape, test_y0.shape)\n",
        "y_pred = y_pred.reshape(-1)\n",
        "test_y0 = test_y0.reshape(-1)\n",
        "print(y_pred.shape, test_y0.shape)\n",
        "# calculate MAE\n",
        "mae = mean_absolute_error(test_y0, y_pred)\n",
        "print('Test MAE: %.3f' % mae)\n",
        "\n",
        "# plot actual vs predicted values\n",
        "plt.plot(test_y0)\n",
        "plt.plot(y_pred)\n",
        "plt.legend(['Actual', 'Predicted'])\n",
        "plt.show()"
      ]
    },
    {
      "cell_type": "code",
      "execution_count": 34,
      "metadata": {
        "id": "ySTSIZQ8CdZs",
        "outputId": "1855faed-8af2-4dbe-fdd4-d5d29b857e1f",
        "colab": {
          "base_uri": "https://localhost:8080/"
        }
      },
      "outputs": [
        {
          "output_type": "stream",
          "name": "stdout",
          "text": [
            "Test MSE: 0.003\n",
            "Test RMSE: 0.050\n"
          ]
        }
      ],
      "source": [
        "from sklearn.metrics import mean_squared_error\n",
        "\n",
        "# calculate MSE\n",
        "mse = mean_squared_error(test_y0, y_pred)\n",
        "print('Test MSE: %.3f' % mse)\n",
        "\n",
        "rmse = np.sqrt(mse)\n",
        "print('Test RMSE: %.3f' % rmse)"
      ]
    },
    {
      "cell_type": "code",
      "execution_count": 35,
      "metadata": {
        "id": "FWVU_U0uCdZs",
        "outputId": "f2aa368c-5339-4c51-ba71-40d9d7294bc8",
        "colab": {
          "base_uri": "https://localhost:8080/"
        }
      },
      "outputs": [
        {
          "output_type": "stream",
          "name": "stdout",
          "text": [
            "0.4239289848393454\n"
          ]
        }
      ],
      "source": [
        "from sklearn.metrics import r2_score\n",
        "acc = r2_score(test_y0, y_pred)\n",
        "print(acc)"
      ]
    },
    {
      "cell_type": "markdown",
      "metadata": {
        "id": "kDKBQvzHCdZs"
      },
      "source": [
        "Cross Validation"
      ]
    },
    {
      "cell_type": "code",
      "execution_count": 36,
      "metadata": {
        "id": "BVeHU4JwCdZs",
        "outputId": "e649ea58-3383-4acc-fe8a-f0263c5c2da0",
        "colab": {
          "base_uri": "https://localhost:8080/",
          "height": 423
        }
      },
      "outputs": [
        {
          "output_type": "execute_result",
          "data": {
            "text/plain": [
              "           date  weather_cluster  holiday_ind  var1(t-7)  var1(t-6)  \\\n",
              "0    2011-12-12              1.0          0.0   0.151870   0.409922   \n",
              "1    2011-12-13              1.0          0.0   0.409922   0.046553   \n",
              "2    2011-12-14              1.0          0.0   0.046553   0.033653   \n",
              "3    2011-12-15              1.0          0.0   0.033653   0.065019   \n",
              "4    2011-12-16              1.0          0.0   0.065019   0.131254   \n",
              "..          ...              ...          ...        ...        ...   \n",
              "796  2014-02-17              1.0          0.0   0.104630   0.130754   \n",
              "797  2014-02-18              1.0          0.0   0.130754   0.063399   \n",
              "798  2014-02-19              1.0          0.0   0.063399   0.127278   \n",
              "799  2014-02-20              1.0          0.0   0.127278   0.094794   \n",
              "800  2014-02-21              1.0          0.0   0.094794   0.123715   \n",
              "\n",
              "     var1(t-5)  var1(t-4)  var1(t-3)  var1(t-2)  var1(t-1)   var1(t)  \n",
              "0     0.046553   0.033653   0.065019   0.131254   0.184355  0.335115  \n",
              "1     0.033653   0.065019   0.131254   0.184355   0.189538  0.505331  \n",
              "2     0.065019   0.131254   0.184355   0.189538   0.397022  0.391483  \n",
              "3     0.131254   0.184355   0.189538   0.397022   0.258248  0.212038  \n",
              "4     0.184355   0.189538   0.397022   0.258248   0.039514  0.327939  \n",
              "..         ...        ...        ...        ...        ...       ...  \n",
              "796   0.063399   0.127278   0.094794   0.123715   0.176226  0.292060  \n",
              "797   0.127278   0.094794   0.123715   0.176226   0.137056  0.254973  \n",
              "798   0.094794   0.123715   0.176226   0.137056   0.091849  0.285150  \n",
              "799   0.123715   0.176226   0.137056   0.091849   0.128633  0.243182  \n",
              "800   0.176226   0.137056   0.091849   0.128633   0.077476  0.000000  \n",
              "\n",
              "[801 rows x 11 columns]"
            ],
            "text/html": [
              "\n",
              "  <div id=\"df-4ab48a2c-d938-48a0-a6bb-bf4feb05b4bb\">\n",
              "    <div class=\"colab-df-container\">\n",
              "      <div>\n",
              "<style scoped>\n",
              "    .dataframe tbody tr th:only-of-type {\n",
              "        vertical-align: middle;\n",
              "    }\n",
              "\n",
              "    .dataframe tbody tr th {\n",
              "        vertical-align: top;\n",
              "    }\n",
              "\n",
              "    .dataframe thead th {\n",
              "        text-align: right;\n",
              "    }\n",
              "</style>\n",
              "<table border=\"1\" class=\"dataframe\">\n",
              "  <thead>\n",
              "    <tr style=\"text-align: right;\">\n",
              "      <th></th>\n",
              "      <th>date</th>\n",
              "      <th>weather_cluster</th>\n",
              "      <th>holiday_ind</th>\n",
              "      <th>var1(t-7)</th>\n",
              "      <th>var1(t-6)</th>\n",
              "      <th>var1(t-5)</th>\n",
              "      <th>var1(t-4)</th>\n",
              "      <th>var1(t-3)</th>\n",
              "      <th>var1(t-2)</th>\n",
              "      <th>var1(t-1)</th>\n",
              "      <th>var1(t)</th>\n",
              "    </tr>\n",
              "  </thead>\n",
              "  <tbody>\n",
              "    <tr>\n",
              "      <th>0</th>\n",
              "      <td>2011-12-12</td>\n",
              "      <td>1.0</td>\n",
              "      <td>0.0</td>\n",
              "      <td>0.151870</td>\n",
              "      <td>0.409922</td>\n",
              "      <td>0.046553</td>\n",
              "      <td>0.033653</td>\n",
              "      <td>0.065019</td>\n",
              "      <td>0.131254</td>\n",
              "      <td>0.184355</td>\n",
              "      <td>0.335115</td>\n",
              "    </tr>\n",
              "    <tr>\n",
              "      <th>1</th>\n",
              "      <td>2011-12-13</td>\n",
              "      <td>1.0</td>\n",
              "      <td>0.0</td>\n",
              "      <td>0.409922</td>\n",
              "      <td>0.046553</td>\n",
              "      <td>0.033653</td>\n",
              "      <td>0.065019</td>\n",
              "      <td>0.131254</td>\n",
              "      <td>0.184355</td>\n",
              "      <td>0.189538</td>\n",
              "      <td>0.505331</td>\n",
              "    </tr>\n",
              "    <tr>\n",
              "      <th>2</th>\n",
              "      <td>2011-12-14</td>\n",
              "      <td>1.0</td>\n",
              "      <td>0.0</td>\n",
              "      <td>0.046553</td>\n",
              "      <td>0.033653</td>\n",
              "      <td>0.065019</td>\n",
              "      <td>0.131254</td>\n",
              "      <td>0.184355</td>\n",
              "      <td>0.189538</td>\n",
              "      <td>0.397022</td>\n",
              "      <td>0.391483</td>\n",
              "    </tr>\n",
              "    <tr>\n",
              "      <th>3</th>\n",
              "      <td>2011-12-15</td>\n",
              "      <td>1.0</td>\n",
              "      <td>0.0</td>\n",
              "      <td>0.033653</td>\n",
              "      <td>0.065019</td>\n",
              "      <td>0.131254</td>\n",
              "      <td>0.184355</td>\n",
              "      <td>0.189538</td>\n",
              "      <td>0.397022</td>\n",
              "      <td>0.258248</td>\n",
              "      <td>0.212038</td>\n",
              "    </tr>\n",
              "    <tr>\n",
              "      <th>4</th>\n",
              "      <td>2011-12-16</td>\n",
              "      <td>1.0</td>\n",
              "      <td>0.0</td>\n",
              "      <td>0.065019</td>\n",
              "      <td>0.131254</td>\n",
              "      <td>0.184355</td>\n",
              "      <td>0.189538</td>\n",
              "      <td>0.397022</td>\n",
              "      <td>0.258248</td>\n",
              "      <td>0.039514</td>\n",
              "      <td>0.327939</td>\n",
              "    </tr>\n",
              "    <tr>\n",
              "      <th>...</th>\n",
              "      <td>...</td>\n",
              "      <td>...</td>\n",
              "      <td>...</td>\n",
              "      <td>...</td>\n",
              "      <td>...</td>\n",
              "      <td>...</td>\n",
              "      <td>...</td>\n",
              "      <td>...</td>\n",
              "      <td>...</td>\n",
              "      <td>...</td>\n",
              "      <td>...</td>\n",
              "    </tr>\n",
              "    <tr>\n",
              "      <th>796</th>\n",
              "      <td>2014-02-17</td>\n",
              "      <td>1.0</td>\n",
              "      <td>0.0</td>\n",
              "      <td>0.104630</td>\n",
              "      <td>0.130754</td>\n",
              "      <td>0.063399</td>\n",
              "      <td>0.127278</td>\n",
              "      <td>0.094794</td>\n",
              "      <td>0.123715</td>\n",
              "      <td>0.176226</td>\n",
              "      <td>0.292060</td>\n",
              "    </tr>\n",
              "    <tr>\n",
              "      <th>797</th>\n",
              "      <td>2014-02-18</td>\n",
              "      <td>1.0</td>\n",
              "      <td>0.0</td>\n",
              "      <td>0.130754</td>\n",
              "      <td>0.063399</td>\n",
              "      <td>0.127278</td>\n",
              "      <td>0.094794</td>\n",
              "      <td>0.123715</td>\n",
              "      <td>0.176226</td>\n",
              "      <td>0.137056</td>\n",
              "      <td>0.254973</td>\n",
              "    </tr>\n",
              "    <tr>\n",
              "      <th>798</th>\n",
              "      <td>2014-02-19</td>\n",
              "      <td>1.0</td>\n",
              "      <td>0.0</td>\n",
              "      <td>0.063399</td>\n",
              "      <td>0.127278</td>\n",
              "      <td>0.094794</td>\n",
              "      <td>0.123715</td>\n",
              "      <td>0.176226</td>\n",
              "      <td>0.137056</td>\n",
              "      <td>0.091849</td>\n",
              "      <td>0.285150</td>\n",
              "    </tr>\n",
              "    <tr>\n",
              "      <th>799</th>\n",
              "      <td>2014-02-20</td>\n",
              "      <td>1.0</td>\n",
              "      <td>0.0</td>\n",
              "      <td>0.127278</td>\n",
              "      <td>0.094794</td>\n",
              "      <td>0.123715</td>\n",
              "      <td>0.176226</td>\n",
              "      <td>0.137056</td>\n",
              "      <td>0.091849</td>\n",
              "      <td>0.128633</td>\n",
              "      <td>0.243182</td>\n",
              "    </tr>\n",
              "    <tr>\n",
              "      <th>800</th>\n",
              "      <td>2014-02-21</td>\n",
              "      <td>1.0</td>\n",
              "      <td>0.0</td>\n",
              "      <td>0.094794</td>\n",
              "      <td>0.123715</td>\n",
              "      <td>0.176226</td>\n",
              "      <td>0.137056</td>\n",
              "      <td>0.091849</td>\n",
              "      <td>0.128633</td>\n",
              "      <td>0.077476</td>\n",
              "      <td>0.000000</td>\n",
              "    </tr>\n",
              "  </tbody>\n",
              "</table>\n",
              "<p>801 rows × 11 columns</p>\n",
              "</div>\n",
              "      <button class=\"colab-df-convert\" onclick=\"convertToInteractive('df-4ab48a2c-d938-48a0-a6bb-bf4feb05b4bb')\"\n",
              "              title=\"Convert this dataframe to an interactive table.\"\n",
              "              style=\"display:none;\">\n",
              "        \n",
              "  <svg xmlns=\"http://www.w3.org/2000/svg\" height=\"24px\"viewBox=\"0 0 24 24\"\n",
              "       width=\"24px\">\n",
              "    <path d=\"M0 0h24v24H0V0z\" fill=\"none\"/>\n",
              "    <path d=\"M18.56 5.44l.94 2.06.94-2.06 2.06-.94-2.06-.94-.94-2.06-.94 2.06-2.06.94zm-11 1L8.5 8.5l.94-2.06 2.06-.94-2.06-.94L8.5 2.5l-.94 2.06-2.06.94zm10 10l.94 2.06.94-2.06 2.06-.94-2.06-.94-.94-2.06-.94 2.06-2.06.94z\"/><path d=\"M17.41 7.96l-1.37-1.37c-.4-.4-.92-.59-1.43-.59-.52 0-1.04.2-1.43.59L10.3 9.45l-7.72 7.72c-.78.78-.78 2.05 0 2.83L4 21.41c.39.39.9.59 1.41.59.51 0 1.02-.2 1.41-.59l7.78-7.78 2.81-2.81c.8-.78.8-2.07 0-2.86zM5.41 20L4 18.59l7.72-7.72 1.47 1.35L5.41 20z\"/>\n",
              "  </svg>\n",
              "      </button>\n",
              "      \n",
              "  <style>\n",
              "    .colab-df-container {\n",
              "      display:flex;\n",
              "      flex-wrap:wrap;\n",
              "      gap: 12px;\n",
              "    }\n",
              "\n",
              "    .colab-df-convert {\n",
              "      background-color: #E8F0FE;\n",
              "      border: none;\n",
              "      border-radius: 50%;\n",
              "      cursor: pointer;\n",
              "      display: none;\n",
              "      fill: #1967D2;\n",
              "      height: 32px;\n",
              "      padding: 0 0 0 0;\n",
              "      width: 32px;\n",
              "    }\n",
              "\n",
              "    .colab-df-convert:hover {\n",
              "      background-color: #E2EBFA;\n",
              "      box-shadow: 0px 1px 2px rgba(60, 64, 67, 0.3), 0px 1px 3px 1px rgba(60, 64, 67, 0.15);\n",
              "      fill: #174EA6;\n",
              "    }\n",
              "\n",
              "    [theme=dark] .colab-df-convert {\n",
              "      background-color: #3B4455;\n",
              "      fill: #D2E3FC;\n",
              "    }\n",
              "\n",
              "    [theme=dark] .colab-df-convert:hover {\n",
              "      background-color: #434B5C;\n",
              "      box-shadow: 0px 1px 3px 1px rgba(0, 0, 0, 0.15);\n",
              "      filter: drop-shadow(0px 1px 2px rgba(0, 0, 0, 0.3));\n",
              "      fill: #FFFFFF;\n",
              "    }\n",
              "  </style>\n",
              "\n",
              "      <script>\n",
              "        const buttonEl =\n",
              "          document.querySelector('#df-4ab48a2c-d938-48a0-a6bb-bf4feb05b4bb button.colab-df-convert');\n",
              "        buttonEl.style.display =\n",
              "          google.colab.kernel.accessAllowed ? 'block' : 'none';\n",
              "\n",
              "        async function convertToInteractive(key) {\n",
              "          const element = document.querySelector('#df-4ab48a2c-d938-48a0-a6bb-bf4feb05b4bb');\n",
              "          const dataTable =\n",
              "            await google.colab.kernel.invokeFunction('convertToInteractive',\n",
              "                                                     [key], {});\n",
              "          if (!dataTable) return;\n",
              "\n",
              "          const docLinkHtml = 'Like what you see? Visit the ' +\n",
              "            '<a target=\"_blank\" href=https://colab.research.google.com/notebooks/data_table.ipynb>data table notebook</a>'\n",
              "            + ' to learn more about interactive tables.';\n",
              "          element.innerHTML = '';\n",
              "          dataTable['output_type'] = 'display_data';\n",
              "          await google.colab.output.renderOutput(dataTable, element);\n",
              "          const docLink = document.createElement('div');\n",
              "          docLink.innerHTML = docLinkHtml;\n",
              "          element.appendChild(docLink);\n",
              "        }\n",
              "      </script>\n",
              "    </div>\n",
              "  </div>\n",
              "  "
            ]
          },
          "metadata": {},
          "execution_count": 36
        }
      ],
      "source": [
        "df_temp0 = pd.DataFrame(reframed0, columns = ['weather_cluster', 'holiday_ind','var1(t-7)', 'var1(t-6)', 'var1(t-5)', 'var1(t-4)', 'var1(t-3)','var1(t-2)', 'var1(t-1)', 'var1(t)'])\n",
        "df_temp0['date'] = energy0['day']\n",
        "df_temp0 = df_temp0[['date', 'weather_cluster', 'holiday_ind','var1(t-7)', 'var1(t-6)', 'var1(t-5)', 'var1(t-4)', 'var1(t-3)','var1(t-2)', 'var1(t-1)', 'var1(t)']]\n",
        "df_temp0"
      ]
    },
    {
      "cell_type": "code",
      "execution_count": 37,
      "metadata": {
        "id": "ukznk7eKCdZs"
      },
      "outputs": [],
      "source": [
        "X = df_temp0.iloc[:,:-1]\n",
        "y = df_temp0.iloc[:,-1]"
      ]
    },
    {
      "cell_type": "code",
      "execution_count": 38,
      "metadata": {
        "id": "-k68t8mtCdZt"
      },
      "outputs": [],
      "source": [
        "from sklearn.model_selection import GroupKFold\n",
        "\n",
        "# Assuming you have time series data X and target variable y, as well as a groups variable defining the groups\n",
        "# For example, groups could be the year or month of each data point\n",
        "\n",
        "# Define the number of folds and the groups for each data point\n",
        "n_splits = 5\n",
        "scores = []\n",
        "groups = X['date']\n",
        "\n",
        "# Define the grouped k-fold cross-validation object\n",
        "group_kfold = GroupKFold(n_splits=n_splits)"
      ]
    },
    {
      "cell_type": "code",
      "execution_count": 39,
      "metadata": {
        "id": "42K5MGu1CdZt",
        "outputId": "39a35053-0fc3-4c00-b2c3-2cfc1cd724d2",
        "colab": {
          "base_uri": "https://localhost:8080/",
          "height": 423
        }
      },
      "outputs": [
        {
          "output_type": "execute_result",
          "data": {
            "text/plain": [
              "     weather_cluster  holiday_ind  var1(t-7)  var1(t-6)  var1(t-5)  var1(t-4)  \\\n",
              "0                1.0          0.0   0.151870   0.409922   0.046553   0.033653   \n",
              "1                1.0          0.0   0.409922   0.046553   0.033653   0.065019   \n",
              "2                1.0          0.0   0.046553   0.033653   0.065019   0.131254   \n",
              "3                1.0          0.0   0.033653   0.065019   0.131254   0.184355   \n",
              "4                1.0          0.0   0.065019   0.131254   0.184355   0.189538   \n",
              "..               ...          ...        ...        ...        ...        ...   \n",
              "796              1.0          0.0   0.104630   0.130754   0.063399   0.127278   \n",
              "797              1.0          0.0   0.130754   0.063399   0.127278   0.094794   \n",
              "798              1.0          0.0   0.063399   0.127278   0.094794   0.123715   \n",
              "799              1.0          0.0   0.127278   0.094794   0.123715   0.176226   \n",
              "800              1.0          0.0   0.094794   0.123715   0.176226   0.137056   \n",
              "\n",
              "     var1(t-3)  var1(t-2)  var1(t-1)  \n",
              "0     0.065019   0.131254   0.184355  \n",
              "1     0.131254   0.184355   0.189538  \n",
              "2     0.184355   0.189538   0.397022  \n",
              "3     0.189538   0.397022   0.258248  \n",
              "4     0.397022   0.258248   0.039514  \n",
              "..         ...        ...        ...  \n",
              "796   0.094794   0.123715   0.176226  \n",
              "797   0.123715   0.176226   0.137056  \n",
              "798   0.176226   0.137056   0.091849  \n",
              "799   0.137056   0.091849   0.128633  \n",
              "800   0.091849   0.128633   0.077476  \n",
              "\n",
              "[801 rows x 9 columns]"
            ],
            "text/html": [
              "\n",
              "  <div id=\"df-ed8948a9-efd2-4ef6-8306-e4bd37e54676\">\n",
              "    <div class=\"colab-df-container\">\n",
              "      <div>\n",
              "<style scoped>\n",
              "    .dataframe tbody tr th:only-of-type {\n",
              "        vertical-align: middle;\n",
              "    }\n",
              "\n",
              "    .dataframe tbody tr th {\n",
              "        vertical-align: top;\n",
              "    }\n",
              "\n",
              "    .dataframe thead th {\n",
              "        text-align: right;\n",
              "    }\n",
              "</style>\n",
              "<table border=\"1\" class=\"dataframe\">\n",
              "  <thead>\n",
              "    <tr style=\"text-align: right;\">\n",
              "      <th></th>\n",
              "      <th>weather_cluster</th>\n",
              "      <th>holiday_ind</th>\n",
              "      <th>var1(t-7)</th>\n",
              "      <th>var1(t-6)</th>\n",
              "      <th>var1(t-5)</th>\n",
              "      <th>var1(t-4)</th>\n",
              "      <th>var1(t-3)</th>\n",
              "      <th>var1(t-2)</th>\n",
              "      <th>var1(t-1)</th>\n",
              "    </tr>\n",
              "  </thead>\n",
              "  <tbody>\n",
              "    <tr>\n",
              "      <th>0</th>\n",
              "      <td>1.0</td>\n",
              "      <td>0.0</td>\n",
              "      <td>0.151870</td>\n",
              "      <td>0.409922</td>\n",
              "      <td>0.046553</td>\n",
              "      <td>0.033653</td>\n",
              "      <td>0.065019</td>\n",
              "      <td>0.131254</td>\n",
              "      <td>0.184355</td>\n",
              "    </tr>\n",
              "    <tr>\n",
              "      <th>1</th>\n",
              "      <td>1.0</td>\n",
              "      <td>0.0</td>\n",
              "      <td>0.409922</td>\n",
              "      <td>0.046553</td>\n",
              "      <td>0.033653</td>\n",
              "      <td>0.065019</td>\n",
              "      <td>0.131254</td>\n",
              "      <td>0.184355</td>\n",
              "      <td>0.189538</td>\n",
              "    </tr>\n",
              "    <tr>\n",
              "      <th>2</th>\n",
              "      <td>1.0</td>\n",
              "      <td>0.0</td>\n",
              "      <td>0.046553</td>\n",
              "      <td>0.033653</td>\n",
              "      <td>0.065019</td>\n",
              "      <td>0.131254</td>\n",
              "      <td>0.184355</td>\n",
              "      <td>0.189538</td>\n",
              "      <td>0.397022</td>\n",
              "    </tr>\n",
              "    <tr>\n",
              "      <th>3</th>\n",
              "      <td>1.0</td>\n",
              "      <td>0.0</td>\n",
              "      <td>0.033653</td>\n",
              "      <td>0.065019</td>\n",
              "      <td>0.131254</td>\n",
              "      <td>0.184355</td>\n",
              "      <td>0.189538</td>\n",
              "      <td>0.397022</td>\n",
              "      <td>0.258248</td>\n",
              "    </tr>\n",
              "    <tr>\n",
              "      <th>4</th>\n",
              "      <td>1.0</td>\n",
              "      <td>0.0</td>\n",
              "      <td>0.065019</td>\n",
              "      <td>0.131254</td>\n",
              "      <td>0.184355</td>\n",
              "      <td>0.189538</td>\n",
              "      <td>0.397022</td>\n",
              "      <td>0.258248</td>\n",
              "      <td>0.039514</td>\n",
              "    </tr>\n",
              "    <tr>\n",
              "      <th>...</th>\n",
              "      <td>...</td>\n",
              "      <td>...</td>\n",
              "      <td>...</td>\n",
              "      <td>...</td>\n",
              "      <td>...</td>\n",
              "      <td>...</td>\n",
              "      <td>...</td>\n",
              "      <td>...</td>\n",
              "      <td>...</td>\n",
              "    </tr>\n",
              "    <tr>\n",
              "      <th>796</th>\n",
              "      <td>1.0</td>\n",
              "      <td>0.0</td>\n",
              "      <td>0.104630</td>\n",
              "      <td>0.130754</td>\n",
              "      <td>0.063399</td>\n",
              "      <td>0.127278</td>\n",
              "      <td>0.094794</td>\n",
              "      <td>0.123715</td>\n",
              "      <td>0.176226</td>\n",
              "    </tr>\n",
              "    <tr>\n",
              "      <th>797</th>\n",
              "      <td>1.0</td>\n",
              "      <td>0.0</td>\n",
              "      <td>0.130754</td>\n",
              "      <td>0.063399</td>\n",
              "      <td>0.127278</td>\n",
              "      <td>0.094794</td>\n",
              "      <td>0.123715</td>\n",
              "      <td>0.176226</td>\n",
              "      <td>0.137056</td>\n",
              "    </tr>\n",
              "    <tr>\n",
              "      <th>798</th>\n",
              "      <td>1.0</td>\n",
              "      <td>0.0</td>\n",
              "      <td>0.063399</td>\n",
              "      <td>0.127278</td>\n",
              "      <td>0.094794</td>\n",
              "      <td>0.123715</td>\n",
              "      <td>0.176226</td>\n",
              "      <td>0.137056</td>\n",
              "      <td>0.091849</td>\n",
              "    </tr>\n",
              "    <tr>\n",
              "      <th>799</th>\n",
              "      <td>1.0</td>\n",
              "      <td>0.0</td>\n",
              "      <td>0.127278</td>\n",
              "      <td>0.094794</td>\n",
              "      <td>0.123715</td>\n",
              "      <td>0.176226</td>\n",
              "      <td>0.137056</td>\n",
              "      <td>0.091849</td>\n",
              "      <td>0.128633</td>\n",
              "    </tr>\n",
              "    <tr>\n",
              "      <th>800</th>\n",
              "      <td>1.0</td>\n",
              "      <td>0.0</td>\n",
              "      <td>0.094794</td>\n",
              "      <td>0.123715</td>\n",
              "      <td>0.176226</td>\n",
              "      <td>0.137056</td>\n",
              "      <td>0.091849</td>\n",
              "      <td>0.128633</td>\n",
              "      <td>0.077476</td>\n",
              "    </tr>\n",
              "  </tbody>\n",
              "</table>\n",
              "<p>801 rows × 9 columns</p>\n",
              "</div>\n",
              "      <button class=\"colab-df-convert\" onclick=\"convertToInteractive('df-ed8948a9-efd2-4ef6-8306-e4bd37e54676')\"\n",
              "              title=\"Convert this dataframe to an interactive table.\"\n",
              "              style=\"display:none;\">\n",
              "        \n",
              "  <svg xmlns=\"http://www.w3.org/2000/svg\" height=\"24px\"viewBox=\"0 0 24 24\"\n",
              "       width=\"24px\">\n",
              "    <path d=\"M0 0h24v24H0V0z\" fill=\"none\"/>\n",
              "    <path d=\"M18.56 5.44l.94 2.06.94-2.06 2.06-.94-2.06-.94-.94-2.06-.94 2.06-2.06.94zm-11 1L8.5 8.5l.94-2.06 2.06-.94-2.06-.94L8.5 2.5l-.94 2.06-2.06.94zm10 10l.94 2.06.94-2.06 2.06-.94-2.06-.94-.94-2.06-.94 2.06-2.06.94z\"/><path d=\"M17.41 7.96l-1.37-1.37c-.4-.4-.92-.59-1.43-.59-.52 0-1.04.2-1.43.59L10.3 9.45l-7.72 7.72c-.78.78-.78 2.05 0 2.83L4 21.41c.39.39.9.59 1.41.59.51 0 1.02-.2 1.41-.59l7.78-7.78 2.81-2.81c.8-.78.8-2.07 0-2.86zM5.41 20L4 18.59l7.72-7.72 1.47 1.35L5.41 20z\"/>\n",
              "  </svg>\n",
              "      </button>\n",
              "      \n",
              "  <style>\n",
              "    .colab-df-container {\n",
              "      display:flex;\n",
              "      flex-wrap:wrap;\n",
              "      gap: 12px;\n",
              "    }\n",
              "\n",
              "    .colab-df-convert {\n",
              "      background-color: #E8F0FE;\n",
              "      border: none;\n",
              "      border-radius: 50%;\n",
              "      cursor: pointer;\n",
              "      display: none;\n",
              "      fill: #1967D2;\n",
              "      height: 32px;\n",
              "      padding: 0 0 0 0;\n",
              "      width: 32px;\n",
              "    }\n",
              "\n",
              "    .colab-df-convert:hover {\n",
              "      background-color: #E2EBFA;\n",
              "      box-shadow: 0px 1px 2px rgba(60, 64, 67, 0.3), 0px 1px 3px 1px rgba(60, 64, 67, 0.15);\n",
              "      fill: #174EA6;\n",
              "    }\n",
              "\n",
              "    [theme=dark] .colab-df-convert {\n",
              "      background-color: #3B4455;\n",
              "      fill: #D2E3FC;\n",
              "    }\n",
              "\n",
              "    [theme=dark] .colab-df-convert:hover {\n",
              "      background-color: #434B5C;\n",
              "      box-shadow: 0px 1px 3px 1px rgba(0, 0, 0, 0.15);\n",
              "      filter: drop-shadow(0px 1px 2px rgba(0, 0, 0, 0.3));\n",
              "      fill: #FFFFFF;\n",
              "    }\n",
              "  </style>\n",
              "\n",
              "      <script>\n",
              "        const buttonEl =\n",
              "          document.querySelector('#df-ed8948a9-efd2-4ef6-8306-e4bd37e54676 button.colab-df-convert');\n",
              "        buttonEl.style.display =\n",
              "          google.colab.kernel.accessAllowed ? 'block' : 'none';\n",
              "\n",
              "        async function convertToInteractive(key) {\n",
              "          const element = document.querySelector('#df-ed8948a9-efd2-4ef6-8306-e4bd37e54676');\n",
              "          const dataTable =\n",
              "            await google.colab.kernel.invokeFunction('convertToInteractive',\n",
              "                                                     [key], {});\n",
              "          if (!dataTable) return;\n",
              "\n",
              "          const docLinkHtml = 'Like what you see? Visit the ' +\n",
              "            '<a target=\"_blank\" href=https://colab.research.google.com/notebooks/data_table.ipynb>data table notebook</a>'\n",
              "            + ' to learn more about interactive tables.';\n",
              "          element.innerHTML = '';\n",
              "          dataTable['output_type'] = 'display_data';\n",
              "          await google.colab.output.renderOutput(dataTable, element);\n",
              "          const docLink = document.createElement('div');\n",
              "          docLink.innerHTML = docLinkHtml;\n",
              "          element.appendChild(docLink);\n",
              "        }\n",
              "      </script>\n",
              "    </div>\n",
              "  </div>\n",
              "  "
            ]
          },
          "metadata": {},
          "execution_count": 39
        }
      ],
      "source": [
        "X = X.drop(['date'], axis=1)\n",
        "X"
      ]
    },
    {
      "cell_type": "code",
      "execution_count": 40,
      "metadata": {
        "id": "ul6GZbOjCdZt",
        "outputId": "04f34c21-571b-4ba5-a553-7f6477774281",
        "colab": {
          "base_uri": "https://localhost:8080/"
        }
      },
      "outputs": [
        {
          "output_type": "stream",
          "name": "stdout",
          "text": [
            "20/20 [==============================] - 0s 4ms/step - loss: 0.0027\n",
            "6/6 [==============================] - 0s 3ms/step - loss: 0.0021\n",
            "21/21 [==============================] - 3s 5ms/step - loss: 0.0025\n",
            "5/5 [==============================] - 0s 4ms/step - loss: 0.0021\n",
            "21/21 [==============================] - 0s 5ms/step - loss: 0.0031\n",
            "5/5 [==============================] - 0s 4ms/step - loss: 0.0015\n",
            "21/21 [==============================] - 0s 5ms/step - loss: 0.0026\n",
            "5/5 [==============================] - 0s 4ms/step - loss: 0.0021\n",
            "21/21 [==============================] - 0s 5ms/step - loss: 0.0028\n",
            "5/5 [==============================] - 0s 3ms/step - loss: 0.0041\n"
          ]
        }
      ],
      "source": [
        "# Loop through each fold and split the data into training and testing sets\n",
        "for train_index, test_index in group_kfold.split(X, y, groups):\n",
        "    X_train, X_test = X.iloc[train_index], X.iloc[test_index]\n",
        "    y_train, y_test = y.iloc[train_index], y.iloc[test_index]\n",
        "\n",
        "    # Converting to nparray\n",
        "    X_train = np.asarray(X_train).astype(np.float32)\n",
        "    X_test = np.asarray(X_test).astype(np.float32)\n",
        "    y_train = np.asarray(y_train).astype(np.float32)\n",
        "    y_test = np.asarray(y_test).astype(np.float32)\n",
        "\n",
        "    X_train = X_train.reshape((X_train.shape[0], 1, X_train.shape[1]))\n",
        "    X_test = X_test.reshape((X_test.shape[0], 1, X_test.shape[1]))\n",
        "    \n",
        "    # Train and evaluate the model on the training and testing sets\n",
        "    model.fit(X_train, y_train)\n",
        "    score = model.evaluate(X_test, y_test)\n",
        "    \n",
        "    # Store the performance score for this fold\n",
        "    scores.append(score)\n",
        "\n",
        "# Compute the average performance score over all the folds\n",
        "avg_score = sum(scores) / n_splits"
      ]
    },
    {
      "cell_type": "code",
      "execution_count": 41,
      "metadata": {
        "id": "c9PkycvACdZt",
        "outputId": "e47f2e75-89fc-4fef-8cbe-696ff3ff7a98",
        "colab": {
          "base_uri": "https://localhost:8080/"
        }
      },
      "outputs": [
        {
          "output_type": "execute_result",
          "data": {
            "text/plain": [
              "['loss']"
            ]
          },
          "metadata": {},
          "execution_count": 41
        }
      ],
      "source": [
        "model.metrics_names"
      ]
    },
    {
      "cell_type": "code",
      "execution_count": 42,
      "metadata": {
        "id": "pcqcwjFdCdZt",
        "outputId": "b48adf8e-24f0-410b-89e2-51afb652c2d7",
        "colab": {
          "base_uri": "https://localhost:8080/"
        }
      },
      "outputs": [
        {
          "output_type": "execute_result",
          "data": {
            "text/plain": [
              "[0.0020905304700136185,\n",
              " 0.00211481936275959,\n",
              " 0.0014603905146941543,\n",
              " 0.0020920666866004467,\n",
              " 0.004142689518630505]"
            ]
          },
          "metadata": {},
          "execution_count": 42
        }
      ],
      "source": [
        "scores"
      ]
    },
    {
      "cell_type": "code",
      "execution_count": 43,
      "metadata": {
        "id": "5eYEVmTyCdZu",
        "outputId": "f178750c-50db-4b40-bf35-e0f441b52b27",
        "colab": {
          "base_uri": "https://localhost:8080/"
        }
      },
      "outputs": [
        {
          "output_type": "execute_result",
          "data": {
            "text/plain": [
              "0.0023800993105396627"
            ]
          },
          "metadata": {},
          "execution_count": 43
        }
      ],
      "source": [
        "avg_score"
      ]
    },
    {
      "cell_type": "code",
      "execution_count": 44,
      "metadata": {
        "id": "RMaITWM3CdZu"
      },
      "outputs": [],
      "source": [
        "# Interpretation:\n",
        "# We took 'loss' as the evaluation metric while training our model, so this cross validation score basically means the how well the model is performing on data that it hasn't seen during training. \n",
        "# Here, the less validation score indicates better performance of the model. \n",
        "# Higher validation score would mean overfitting on the training data."
      ]
    },
    {
      "cell_type": "markdown",
      "metadata": {
        "id": "c0Ir1X1aCdZu"
      },
      "source": [
        "Grid Search"
      ]
    },
    {
      "cell_type": "code",
      "execution_count": 45,
      "metadata": {
        "id": "DOjQcwoiCdZu"
      },
      "outputs": [],
      "source": [
        "def create_model(units=50, optimizer='adam'):\n",
        "    model = Sequential()\n",
        "    model.add(LSTM(units, input_shape=(train_X0.shape[1], train_X0.shape[2]), return_sequences=True))\n",
        "    model.add(Dropout(0.2))\n",
        "    model.add(LSTM(units))\n",
        "    model.add(Dense(1))\n",
        "    model.compile(loss='mse', optimizer='adam')\n",
        "    return model"
      ]
    },
    {
      "cell_type": "code",
      "execution_count": 46,
      "metadata": {
        "id": "CJcMvEKYCdZv",
        "outputId": "49dc2164-8315-47b7-8278-e25ea728c12d",
        "colab": {
          "base_uri": "https://localhost:8080/",
          "height": 430
        }
      },
      "outputs": [
        {
          "output_type": "display_data",
          "data": {
            "text/plain": [
              "<Figure size 640x480 with 1 Axes>"
            ],
            "image/png": "[encoded data removed]"
          },
          "metadata": {}
        }
      ],
      "source": [
        "# MODEL update after Grid Search (units = 128,64 and verbose = 0)\n",
        "\n",
        "# design network\n",
        "model = Sequential()\n",
        "model.add(LSTM(128, input_shape=(train_X0.shape[1], train_X0.shape[2]), return_sequences=True))\n",
        "model.add(Dropout(0.2))\n",
        "model.add(LSTM(64))\n",
        "model.add(Dense(1))\n",
        "model.compile(loss='mse', optimizer='adam')\n",
        "\n",
        "# fit network\n",
        "history = model.fit(train_X0, train_y0, epochs=100, batch_size=32, verbose=0, shuffle=False, validation_data=(test_X0, test_y0))\n",
        "\n",
        "# plot history\n",
        "plt.plot(history.history['loss'], label='train')\n",
        "plt.plot(history.history['val_loss'], label='test')\n",
        "plt.legend()\n",
        "plt.show()"
      ]
    },
    {
      "cell_type": "code",
      "execution_count": 47,
      "metadata": {
        "id": "kLSKWhZkCdZv",
        "outputId": "b8c04203-c412-4f7d-88be-5aa5bb6f5d04",
        "colab": {
          "base_uri": "https://localhost:8080/",
          "height": 503
        }
      },
      "outputs": [
        {
          "output_type": "stream",
          "name": "stdout",
          "text": [
            "6/6 [==============================] - 1s 5ms/step\n",
            "(161, 1) (161,)\n",
            "(161,) (161,)\n",
            "Test MAE: 0.031\n"
          ]
        },
        {
          "output_type": "display_data",
          "data": {
            "text/plain": [
              "<Figure size 640x480 with 1 Axes>"
            ],
            "image/png": "[encoded data removed]"
          },
          "metadata": {}
        }
      ],
      "source": [
        "# make predictions on test data\n",
        "from sklearn.metrics import mean_absolute_error\n",
        "\n",
        "\n",
        "y_pred = model.predict(test_X0)\n",
        "print(y_pred.shape, test_y0.shape)\n",
        "y_pred = y_pred.reshape(-1)\n",
        "test_y0 = test_y0.reshape(-1)\n",
        "print(y_pred.shape, test_y0.shape)\n",
        "# calculate MAE\n",
        "mae = mean_absolute_error(test_y0, y_pred)\n",
        "print('Test MAE: %.3f' % mae)\n",
        "\n",
        "# plot actual vs predicted values\n",
        "plt.plot(test_y0)\n",
        "plt.plot(y_pred)\n",
        "plt.legend(['Actual', 'Predicted'])\n",
        "plt.show()"
      ]
    },
    {
      "cell_type": "code",
      "execution_count": 48,
      "metadata": {
        "id": "BzAO-Wv7CdZw",
        "outputId": "bf3c50a7-43d3-4e48-c090-6b4831f2130b",
        "colab": {
          "base_uri": "https://localhost:8080/"
        }
      },
      "outputs": [
        {
          "output_type": "stream",
          "name": "stdout",
          "text": [
            "Test MSE: 0.002\n",
            "Test RMSE: 0.049\n"
          ]
        }
      ],
      "source": [
        "from sklearn.metrics import mean_squared_error\n",
        "\n",
        "# calculate MSE\n",
        "mse = mean_squared_error(test_y0, y_pred)\n",
        "print('Test MSE: %.3f' % mse)\n",
        "\n",
        "rmse = np.sqrt(mse)\n",
        "print('Test RMSE: %.3f' % rmse)"
      ]
    },
    {
      "cell_type": "code",
      "execution_count": 49,
      "metadata": {
        "id": "wm7oh-3iCdZw",
        "outputId": "a09a8e0d-6ed6-4376-9e79-e2a71b402672",
        "colab": {
          "base_uri": "https://localhost:8080/"
        }
      },
      "outputs": [
        {
          "output_type": "stream",
          "name": "stdout",
          "text": [
            "0.45395766881965127\n"
          ]
        }
      ],
      "source": [
        "from sklearn.metrics import r2_score\n",
        "acc = r2_score(test_y0, y_pred)\n",
        "print(acc)"
      ]
    }
  ],
  "metadata": {
    "kernelspec": {
      "display_name": "Python 3 (ipykernel)",
      "language": "python",
      "name": "python3"
    },
    "language_info": {
      "codemirror_mode": {
        "name": "ipython",
        "version": 3
      },
      "file_extension": ".py",
      "mimetype": "text/x-python",
      "name": "python",
      "nbconvert_exporter": "python",
      "pygments_lexer": "ipython3",
      "version": "3.8.10"
    },
    "colab": {
      "provenance": []
    }
  },
  "nbformat": 4,
  "nbformat_minor": 0
}